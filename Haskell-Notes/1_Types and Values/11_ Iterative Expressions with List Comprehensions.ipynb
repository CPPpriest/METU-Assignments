{
 "cells": [
  {
   "cell_type": "markdown",
   "id": "3f121d14-eadb-4b16-96f3-2c4565060357",
   "metadata": {},
   "source": [
    "# List Comprehensions"
   ]
  },
  {
   "cell_type": "markdown",
   "id": "bfd09d77-cf4e-4653-9031-4d865552d04a",
   "metadata": {},
   "source": [
    "List comprehensions provide a concise way to generate lists based on existing lists.   \n",
    "They can be thought of as syntactic sugar for using maps and filters. "
   ]
  },
  {
   "cell_type": "markdown",
   "id": "2ce7b410-1598-4e90-8e8e-91e264c89c91",
   "metadata": {},
   "source": [
    "[ expression | variable <- List , Conditions \\]"
   ]
  },
  {
   "cell_type": "code",
   "execution_count": null,
   "id": "6c722474-91a8-4796-b77f-d0e09e89e494",
   "metadata": {},
   "outputs": [
    {
     "data": {
      "text/html": [
       "<style>/* Styles used for the Hoogle display in the pager */\n",
       ".hoogle-doc {\n",
       "display: block;\n",
       "padding-bottom: 1.3em;\n",
       "padding-left: 0.4em;\n",
       "}\n",
       ".hoogle-code {\n",
       "display: block;\n",
       "font-family: monospace;\n",
       "white-space: pre;\n",
       "}\n",
       ".hoogle-text {\n",
       "display: block;\n",
       "}\n",
       ".hoogle-name {\n",
       "color: green;\n",
       "font-weight: bold;\n",
       "}\n",
       ".hoogle-head {\n",
       "font-weight: bold;\n",
       "}\n",
       ".hoogle-sub {\n",
       "display: block;\n",
       "margin-left: 0.4em;\n",
       "}\n",
       ".hoogle-package {\n",
       "font-weight: bold;\n",
       "font-style: italic;\n",
       "}\n",
       ".hoogle-module {\n",
       "font-weight: bold;\n",
       "}\n",
       ".hoogle-class {\n",
       "font-weight: bold;\n",
       "}\n",
       "\n",
       ".get-type {\n",
       "color: green;\n",
       "font-weight: bold;\n",
       "font-family: monospace;\n",
       "display: block;\n",
       "white-space: pre-wrap;\n",
       "}\n",
       ".show-type {\n",
       "color: green;\n",
       "font-weight: bold;\n",
       "font-family: monospace;\n",
       "margin-left: 1em;\n",
       "}\n",
       ".mono {\n",
       "font-family: monospace;\n",
       "display: block;\n",
       "}\n",
       ".err-msg {\n",
       "color: red;\n",
       "font-style: italic;\n",
       "font-family: monospace;\n",
       "white-space: pre;\n",
       "display: block;\n",
       "}\n",
       "#unshowable {\n",
       "color: red;\n",
       "font-weight: bold;\n",
       "}\n",
       ".err-msg.in.collapse {\n",
       "padding-top: 0.7em;\n",
       "}\n",
       "\n",
       ".highlight-code {\n",
       "white-space: pre;\n",
       "font-family: monospace;\n",
       "}\n",
       "\n",
       ".suggestion-warning { \n",
       "font-weight: bold;\n",
       "color: rgb(200, 130, 0);\n",
       "}\n",
       ".suggestion-error { \n",
       "font-weight: bold;\n",
       "color: red;\n",
       "}\n",
       ".suggestion-name {\n",
       "font-weight: bold;\n",
       "}\n",
       "\n",
       "</style><div class=\"suggestion-name\" style=\"clear:both;\">Redundant list comprehension</div><div class=\"suggestion-row\" style=\"float: left;\"><div class=\"suggestion-warning\">Found:</div><div class=\"highlight-code\" id=\"haskell\">[x | x <- [1 .. 10]]</div></div><div class=\"suggestion-row\" style=\"float: left;\"><div class=\"suggestion-warning\">Why Not:</div><div class=\"highlight-code\" id=\"haskell\">[1 .. 10]</div></div>"
      ],
      "text/plain": [
       "Line 1: Redundant list comprehension\n",
       "Found:\n",
       "[x | x <- [1 .. 10]]\n",
       "Why not:\n",
       "[1 .. 10]"
      ]
     },
     "metadata": {},
     "output_type": "display_data"
    },
    {
     "data": {
      "text/plain": [
       "[1,2,3,4,5,6,7,8,9,10]"
      ]
     },
     "metadata": {},
     "output_type": "display_data"
    }
   ],
   "source": [
    "[ x | x <- [1..10] ]"
   ]
  },
  {
   "cell_type": "code",
   "execution_count": null,
   "id": "98f928c1-0bd0-42ae-bb24-ec4c9c3711ab",
   "metadata": {},
   "outputs": [
    {
     "data": {
      "text/plain": [
       "[1,4,9,16,25,36,49,64,81,100]"
      ]
     },
     "metadata": {},
     "output_type": "display_data"
    }
   ],
   "source": [
    "[ x*x | x <- [1..10] ]"
   ]
  },
  {
   "cell_type": "code",
   "execution_count": null,
   "id": "ab615687-9f5d-4669-b191-393b1d8c46a2",
   "metadata": {},
   "outputs": [
    {
     "data": {
      "text/plain": [
       "[(1,'a'),(1,'b'),(1,'c'),(2,'a'),(2,'b'),(2,'c'),(3,'a'),(3,'b'),(3,'c'),(4,'a'),(4,'b'),(4,'c'),(5,'a'),(5,'b'),(5,'c'),(6,'a'),(6,'b'),(6,'c'),(7,'a'),(7,'b'),(7,'c'),(8,'a'),(8,'b'),(8,'c'),(9,'a'),(9,'b'),(9,'c'),(10,'a'),(10,'b'),(10,'c')]"
      ]
     },
     "metadata": {},
     "output_type": "display_data"
    }
   ],
   "source": [
    "[ (x,y) | x <- [1..10] , y <- ['a','b','c'] ]"
   ]
  },
  {
   "cell_type": "code",
   "execution_count": null,
   "id": "65c4b093-80bd-40b6-bb8d-bfb456a93d52",
   "metadata": {},
   "outputs": [
    {
     "data": {
      "text/plain": [
       "[(1,'a'),(1,'b'),(1,'c'),(2,'a'),(2,'b'),(2,'c'),(3,'a'),(3,'b'),(3,'c'),(4,'a'),(4,'b'),(4,'c'),(5,'a'),(5,'b'),(5,'c'),(6,'a'),(6,'b'),(6,'c'),(7,'a'),(7,'b'),(7,'c'),(8,'a'),(8,'b'),(8,'c'),(9,'a'),(9,'b'),(9,'c'),(10,'a'),(10,'b'),(10,'c')]"
      ]
     },
     "metadata": {},
     "output_type": "display_data"
    }
   ],
   "source": [
    "[ (x,y) | x <- [1..10] , y <- \"abc\" ]"
   ]
  },
  {
   "cell_type": "markdown",
   "id": "3c480715-df12-4fb4-824f-95bc970c0195",
   "metadata": {},
   "source": [
    "This is a Nested Loop: For each element of first list; All elements of second list is iterated over"
   ]
  },
  {
   "cell_type": "code",
   "execution_count": null,
   "id": "17107f12-967d-4835-9076-b1bb1a6eec7a",
   "metadata": {},
   "outputs": [
    {
     "data": {
      "text/plain": [
       "[(1,'a','M'),(1,'a','Z'),(1,'b','M'),(1,'b','Z'),(1,'c','M'),(1,'c','Z'),(2,'a','M'),(2,'a','Z'),(2,'b','M'),(2,'b','Z'),(2,'c','M'),(2,'c','Z'),(3,'a','M'),(3,'a','Z'),(3,'b','M'),(3,'b','Z'),(3,'c','M'),(3,'c','Z'),(4,'a','M'),(4,'a','Z'),(4,'b','M'),(4,'b','Z'),(4,'c','M'),(4,'c','Z'),(5,'a','M'),(5,'a','Z'),(5,'b','M'),(5,'b','Z'),(5,'c','M'),(5,'c','Z'),(6,'a','M'),(6,'a','Z'),(6,'b','M'),(6,'b','Z'),(6,'c','M'),(6,'c','Z'),(7,'a','M'),(7,'a','Z'),(7,'b','M'),(7,'b','Z'),(7,'c','M'),(7,'c','Z'),(8,'a','M'),(8,'a','Z'),(8,'b','M'),(8,'b','Z'),(8,'c','M'),(8,'c','Z'),(9,'a','M'),(9,'a','Z'),(9,'b','M'),(9,'b','Z'),(9,'c','M'),(9,'c','Z'),(10,'a','M'),(10,'a','Z'),(10,'b','M'),(10,'b','Z'),(10,'c','M'),(10,'c','Z')]"
      ]
     },
     "metadata": {},
     "output_type": "display_data"
    }
   ],
   "source": [
    "[ (x,y,z) | x <- [1..10] , y <- ['a','b','c'] , z <- [ 'M','Z'] ]"
   ]
  },
  {
   "cell_type": "markdown",
   "id": "c6b5dda6-2268-4eb0-956d-63f19a642868",
   "metadata": {},
   "source": [
    "for i in [1,2,3,4,5,6,7,8,9,10\\]    \n",
    "__for j in ['a','b','c'\\]    \n",
    "____for k in [ 'M','Z'\\]  "
   ]
  },
  {
   "cell_type": "code",
   "execution_count": null,
   "id": "7bbcb3b2-628a-435d-9fe2-7c423b000fc2",
   "metadata": {},
   "outputs": [
    {
     "data": {
      "text/plain": [
       "[(1,2),(1,3),(1,4),(1,5),(1,6),(1,7),(1,8),(1,9),(1,10),(3,4),(3,5),(3,6),(3,7),(3,8),(3,9),(3,10),(5,6),(5,7),(5,8),(5,9),(5,10),(7,8),(7,9),(7,10),(9,10)]"
      ]
     },
     "metadata": {},
     "output_type": "display_data"
    }
   ],
   "source": [
    "[ (x,y) | x <- [1, 3..22] , y <- [1..10] ,  x < y  ]"
   ]
  },
  {
   "cell_type": "code",
   "execution_count": null,
   "id": "beb31624-83d7-4188-bbea-b9f4bc9e8248",
   "metadata": {},
   "outputs": [
    {
     "data": {
      "text/plain": [
       "[\"'A'\",\"'m'\",\"'a'\",\"'n'\",\"' '\",\"'T'\",\"'a'\",\"'n'\",\"'r'\",\"'\\\\305'\",\"'m'\",\"'!'\"]"
      ]
     },
     "metadata": {},
     "output_type": "display_data"
    }
   ],
   "source": [
    "[ show x | x <- \"Aman Tanrım!\" ]"
   ]
  },
  {
   "cell_type": "markdown",
   "id": "8bbdd8e2-ef32-4b3c-a1f9-413f3426d39c",
   "metadata": {},
   "source": [
    "\"show\" is a function of \"Show typeclass objects\", converts the given obj into String and returns as String"
   ]
  },
  {
   "cell_type": "code",
   "execution_count": null,
   "id": "02c5989b-148c-4e35-95e1-054da3236e4c",
   "metadata": {},
   "outputs": [],
   "source": []
  }
 ],
 "metadata": {
  "kernelspec": {
   "display_name": "Haskell",
   "language": "haskell",
   "name": "haskell"
  },
  "language_info": {
   "codemirror_mode": "ihaskell",
   "file_extension": ".hs",
   "mimetype": "text/x-haskell",
   "name": "haskell",
   "pygments_lexer": "Haskell",
   "version": "9.6.4"
  }
 },
 "nbformat": 4,
 "nbformat_minor": 5
}
