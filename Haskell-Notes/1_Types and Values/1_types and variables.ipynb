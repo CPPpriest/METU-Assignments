{
 "cells": [
  {
   "cell_type": "markdown",
   "id": "d9ee040f-671e-4020-aa4c-a497c8e7326b",
   "metadata": {},
   "source": [
    "# Cartesian Product"
   ]
  },
  {
   "cell_type": "markdown",
   "id": "fe27d6db-9e88-451c-b077-689ec9606c09",
   "metadata": {},
   "source": [
    "#### Tuple \n",
    "Cartesian Product composite type in Haskell"
   ]
  },
  {
   "cell_type": "code",
   "execution_count": 1,
   "id": "46b73575-42b8-4ee5-b762-b75c60d6ddf1",
   "metadata": {},
   "outputs": [
    {
     "data": {
      "text/html": [
       "<style>/* Styles used for the Hoogle display in the pager */\n",
       ".hoogle-doc {\n",
       "display: block;\n",
       "padding-bottom: 1.3em;\n",
       "padding-left: 0.4em;\n",
       "}\n",
       ".hoogle-code {\n",
       "display: block;\n",
       "font-family: monospace;\n",
       "white-space: pre;\n",
       "}\n",
       ".hoogle-text {\n",
       "display: block;\n",
       "}\n",
       ".hoogle-name {\n",
       "color: green;\n",
       "font-weight: bold;\n",
       "}\n",
       ".hoogle-head {\n",
       "font-weight: bold;\n",
       "}\n",
       ".hoogle-sub {\n",
       "display: block;\n",
       "margin-left: 0.4em;\n",
       "}\n",
       ".hoogle-package {\n",
       "font-weight: bold;\n",
       "font-style: italic;\n",
       "}\n",
       ".hoogle-module {\n",
       "font-weight: bold;\n",
       "}\n",
       ".hoogle-class {\n",
       "font-weight: bold;\n",
       "}\n",
       "\n",
       ".get-type {\n",
       "color: green;\n",
       "font-weight: bold;\n",
       "font-family: monospace;\n",
       "display: block;\n",
       "white-space: pre-wrap;\n",
       "}\n",
       ".show-type {\n",
       "color: green;\n",
       "font-weight: bold;\n",
       "font-family: monospace;\n",
       "margin-left: 1em;\n",
       "}\n",
       ".mono {\n",
       "font-family: monospace;\n",
       "display: block;\n",
       "}\n",
       ".err-msg {\n",
       "color: red;\n",
       "font-style: italic;\n",
       "font-family: monospace;\n",
       "white-space: pre;\n",
       "display: block;\n",
       "}\n",
       "#unshowable {\n",
       "color: red;\n",
       "font-weight: bold;\n",
       "}\n",
       ".err-msg.in.collapse {\n",
       "padding-top: 0.7em;\n",
       "}\n",
       "\n",
       ".highlight-code {\n",
       "white-space: pre;\n",
       "font-family: monospace;\n",
       "}\n",
       "\n",
       ".suggestion-warning { \n",
       "font-weight: bold;\n",
       "color: rgb(200, 130, 0);\n",
       "}\n",
       ".suggestion-error { \n",
       "font-weight: bold;\n",
       "color: red;\n",
       "}\n",
       ".suggestion-name {\n",
       "font-weight: bold;\n",
       "}\n",
       "\n",
       "</style><span class='get-type'>x :: forall {b}. Num b => (String, b)</span>"
      ],
      "text/plain": [
       "x :: forall {b}. Num b => (String, b)"
      ]
     },
     "metadata": {},
     "output_type": "display_data"
    }
   ],
   "source": [
    "x = (\"Omer\",24)\n",
    ":t x"
   ]
  },
  {
   "cell_type": "markdown",
   "id": "10ec2736-45c8-4e7b-9325-29af366fcd27",
   "metadata": {},
   "source": [
    "#### 'type' keyword\n",
    "To create ALIAS for existing data types"
   ]
  },
  {
   "cell_type": "code",
   "execution_count": 4,
   "id": "b14e3ad5-7a5d-4a00-a136-89459fe2ef59",
   "metadata": {},
   "outputs": [
    {
     "data": {
      "text/html": [
       "<style>/* Styles used for the Hoogle display in the pager */\n",
       ".hoogle-doc {\n",
       "display: block;\n",
       "padding-bottom: 1.3em;\n",
       "padding-left: 0.4em;\n",
       "}\n",
       ".hoogle-code {\n",
       "display: block;\n",
       "font-family: monospace;\n",
       "white-space: pre;\n",
       "}\n",
       ".hoogle-text {\n",
       "display: block;\n",
       "}\n",
       ".hoogle-name {\n",
       "color: green;\n",
       "font-weight: bold;\n",
       "}\n",
       ".hoogle-head {\n",
       "font-weight: bold;\n",
       "}\n",
       ".hoogle-sub {\n",
       "display: block;\n",
       "margin-left: 0.4em;\n",
       "}\n",
       ".hoogle-package {\n",
       "font-weight: bold;\n",
       "font-style: italic;\n",
       "}\n",
       ".hoogle-module {\n",
       "font-weight: bold;\n",
       "}\n",
       ".hoogle-class {\n",
       "font-weight: bold;\n",
       "}\n",
       "\n",
       ".get-type {\n",
       "color: green;\n",
       "font-weight: bold;\n",
       "font-family: monospace;\n",
       "display: block;\n",
       "white-space: pre-wrap;\n",
       "}\n",
       ".show-type {\n",
       "color: green;\n",
       "font-weight: bold;\n",
       "font-family: monospace;\n",
       "margin-left: 1em;\n",
       "}\n",
       ".mono {\n",
       "font-family: monospace;\n",
       "display: block;\n",
       "}\n",
       ".err-msg {\n",
       "color: red;\n",
       "font-style: italic;\n",
       "font-family: monospace;\n",
       "white-space: pre;\n",
       "display: block;\n",
       "}\n",
       "#unshowable {\n",
       "color: red;\n",
       "font-weight: bold;\n",
       "}\n",
       ".err-msg.in.collapse {\n",
       "padding-top: 0.7em;\n",
       "}\n",
       "\n",
       ".highlight-code {\n",
       "white-space: pre;\n",
       "font-family: monospace;\n",
       "}\n",
       "\n",
       ".suggestion-warning { \n",
       "font-weight: bold;\n",
       "color: rgb(200, 130, 0);\n",
       "}\n",
       ".suggestion-error { \n",
       "font-weight: bold;\n",
       "color: red;\n",
       "}\n",
       ".suggestion-name {\n",
       "font-weight: bold;\n",
       "}\n",
       "\n",
       "</style><span class='get-type'>x :: People</span>"
      ],
      "text/plain": [
       "x :: People"
      ]
     },
     "metadata": {},
     "output_type": "display_data"
    }
   ],
   "source": [
    "type People = (String, Int, String)\n",
    "x = (\"john\",24,\"Student\")::People\n",
    ":t x"
   ]
  },
  {
   "cell_type": "markdown",
   "id": "b7b51379-80e7-4797-94a7-f6eb1512b98d",
   "metadata": {},
   "source": [
    "#### '::' operator \n",
    "to specify the type of expressions, variables, and functions explicitly.  \n",
    "makes the code more readable and help catch type errors early in the development process"
   ]
  },
  {
   "cell_type": "code",
   "execution_count": 6,
   "id": "c9602ec9-f47c-468b-8b64-de882179c211",
   "metadata": {},
   "outputs": [
    {
     "data": {
      "text/html": [
       "<style>/* Styles used for the Hoogle display in the pager */\n",
       ".hoogle-doc {\n",
       "display: block;\n",
       "padding-bottom: 1.3em;\n",
       "padding-left: 0.4em;\n",
       "}\n",
       ".hoogle-code {\n",
       "display: block;\n",
       "font-family: monospace;\n",
       "white-space: pre;\n",
       "}\n",
       ".hoogle-text {\n",
       "display: block;\n",
       "}\n",
       ".hoogle-name {\n",
       "color: green;\n",
       "font-weight: bold;\n",
       "}\n",
       ".hoogle-head {\n",
       "font-weight: bold;\n",
       "}\n",
       ".hoogle-sub {\n",
       "display: block;\n",
       "margin-left: 0.4em;\n",
       "}\n",
       ".hoogle-package {\n",
       "font-weight: bold;\n",
       "font-style: italic;\n",
       "}\n",
       ".hoogle-module {\n",
       "font-weight: bold;\n",
       "}\n",
       ".hoogle-class {\n",
       "font-weight: bold;\n",
       "}\n",
       "\n",
       ".get-type {\n",
       "color: green;\n",
       "font-weight: bold;\n",
       "font-family: monospace;\n",
       "display: block;\n",
       "white-space: pre-wrap;\n",
       "}\n",
       ".show-type {\n",
       "color: green;\n",
       "font-weight: bold;\n",
       "font-family: monospace;\n",
       "margin-left: 1em;\n",
       "}\n",
       ".mono {\n",
       "font-family: monospace;\n",
       "display: block;\n",
       "}\n",
       ".err-msg {\n",
       "color: red;\n",
       "font-style: italic;\n",
       "font-family: monospace;\n",
       "white-space: pre;\n",
       "display: block;\n",
       "}\n",
       "#unshowable {\n",
       "color: red;\n",
       "font-weight: bold;\n",
       "}\n",
       ".err-msg.in.collapse {\n",
       "padding-top: 0.7em;\n",
       "}\n",
       "\n",
       ".highlight-code {\n",
       "white-space: pre;\n",
       "font-family: monospace;\n",
       "}\n",
       "\n",
       ".suggestion-warning { \n",
       "font-weight: bold;\n",
       "color: rgb(200, 130, 0);\n",
       "}\n",
       ".suggestion-error { \n",
       "font-weight: bold;\n",
       "color: red;\n",
       "}\n",
       ".suggestion-name {\n",
       "font-weight: bold;\n",
       "}\n",
       "\n",
       "</style><span class='get-type'>myIdentity :: People</span>"
      ],
      "text/plain": [
       "myIdentity :: People"
      ]
     },
     "metadata": {},
     "output_type": "display_data"
    }
   ],
   "source": [
    "myIdentity :: People\n",
    "myIdentity = (\"john\",24,\"Student\")\n",
    ":t myIdentity"
   ]
  },
  {
   "cell_type": "markdown",
   "id": "2302f5a0-21eb-4936-93f6-5f8d04007604",
   "metadata": {},
   "source": [
    "# Disjoint Union"
   ]
  },
  {
   "cell_type": "markdown",
   "id": "4b6fde41-95b5-4136-8869-43a8e05a6518",
   "metadata": {},
   "source": [
    "#### 'data' keyword\n",
    "data keyword\n",
    "\n",
    "name of the new type\n",
    "\n",
    "potentially a list of type parameters  \n",
    " \n",
    "one or more constructors \n",
    " "
   ]
  },
  {
   "cell_type": "markdown",
   "id": "4435197b-8de5-4821-98ed-e678fc32df8b",
   "metadata": {},
   "source": [
    "Constructors (TAGs) can have zero or more arguments,  \n",
    "which define the values the type can hold"
   ]
  },
  {
   "cell_type": "code",
   "execution_count": 11,
   "id": "092549e9-8d24-4fd3-b163-63f9a9af536b",
   "metadata": {},
   "outputs": [
    {
     "data": {
      "text/html": [
       "<style>/* Styles used for the Hoogle display in the pager */\n",
       ".hoogle-doc {\n",
       "display: block;\n",
       "padding-bottom: 1.3em;\n",
       "padding-left: 0.4em;\n",
       "}\n",
       ".hoogle-code {\n",
       "display: block;\n",
       "font-family: monospace;\n",
       "white-space: pre;\n",
       "}\n",
       ".hoogle-text {\n",
       "display: block;\n",
       "}\n",
       ".hoogle-name {\n",
       "color: green;\n",
       "font-weight: bold;\n",
       "}\n",
       ".hoogle-head {\n",
       "font-weight: bold;\n",
       "}\n",
       ".hoogle-sub {\n",
       "display: block;\n",
       "margin-left: 0.4em;\n",
       "}\n",
       ".hoogle-package {\n",
       "font-weight: bold;\n",
       "font-style: italic;\n",
       "}\n",
       ".hoogle-module {\n",
       "font-weight: bold;\n",
       "}\n",
       ".hoogle-class {\n",
       "font-weight: bold;\n",
       "}\n",
       "\n",
       ".get-type {\n",
       "color: green;\n",
       "font-weight: bold;\n",
       "font-family: monospace;\n",
       "display: block;\n",
       "white-space: pre-wrap;\n",
       "}\n",
       ".show-type {\n",
       "color: green;\n",
       "font-weight: bold;\n",
       "font-family: monospace;\n",
       "margin-left: 1em;\n",
       "}\n",
       ".mono {\n",
       "font-family: monospace;\n",
       "display: block;\n",
       "}\n",
       ".err-msg {\n",
       "color: red;\n",
       "font-style: italic;\n",
       "font-family: monospace;\n",
       "white-space: pre;\n",
       "display: block;\n",
       "}\n",
       "#unshowable {\n",
       "color: red;\n",
       "font-weight: bold;\n",
       "}\n",
       ".err-msg.in.collapse {\n",
       "padding-top: 0.7em;\n",
       "}\n",
       "\n",
       ".highlight-code {\n",
       "white-space: pre;\n",
       "font-family: monospace;\n",
       "}\n",
       "\n",
       ".suggestion-warning { \n",
       "font-weight: bold;\n",
       "color: rgb(200, 130, 0);\n",
       "}\n",
       ".suggestion-error { \n",
       "font-weight: bold;\n",
       "color: red;\n",
       "}\n",
       ".suggestion-name {\n",
       "font-weight: bold;\n",
       "}\n",
       "\n",
       "</style><span class='get-type'>RealVal 3.14 :: Number</span>"
      ],
      "text/plain": [
       "RealVal 3.14 :: Number"
      ]
     },
     "metadata": {},
     "output_type": "display_data"
    }
   ],
   "source": [
    "data Number = RealVal Float | IntVal Int | Rational (Int,Int)\n",
    ":t RealVal 3.14"
   ]
  },
  {
   "cell_type": "markdown",
   "id": "a0b0f56a-ae45-4abb-8b76-f3c42f6d25ae",
   "metadata": {},
   "source": [
    "#### | symbol: \n",
    "seperates the constructors from each other  \n",
    "a value from the type Number can be either one of: RealVal, IntVal or Rational\n"
   ]
  },
  {
   "cell_type": "markdown",
   "id": "9f8688e2-b067-4b96-94fc-87d6ffe5aff5",
   "metadata": {},
   "source": [
    "Each constructor starts with and uppercase letter\n"
   ]
  },
  {
   "cell_type": "markdown",
   "id": "c20bd144-8a9a-41fe-a66a-e4449e972252",
   "metadata": {},
   "source": [
    "\n",
    "#### Number = Float + Integer + (Int x Int)"
   ]
  },
  {
   "cell_type": "markdown",
   "id": "e83b80a9-2224-4c9c-a1d2-69698cd89eb2",
   "metadata": {},
   "source": [
    "# Mapping"
   ]
  },
  {
   "cell_type": "markdown",
   "id": "3139c674-67b0-4cef-8424-7d1bc4f7dbdb",
   "metadata": {},
   "source": [
    "Haskell mappings are Functions"
   ]
  },
  {
   "cell_type": "code",
   "execution_count": 15,
   "id": "534488af-7240-4ac2-acc4-f1264c730be1",
   "metadata": {},
   "outputs": [
    {
     "data": {
      "text/html": [
       "<style>/* Styles used for the Hoogle display in the pager */\n",
       ".hoogle-doc {\n",
       "display: block;\n",
       "padding-bottom: 1.3em;\n",
       "padding-left: 0.4em;\n",
       "}\n",
       ".hoogle-code {\n",
       "display: block;\n",
       "font-family: monospace;\n",
       "white-space: pre;\n",
       "}\n",
       ".hoogle-text {\n",
       "display: block;\n",
       "}\n",
       ".hoogle-name {\n",
       "color: green;\n",
       "font-weight: bold;\n",
       "}\n",
       ".hoogle-head {\n",
       "font-weight: bold;\n",
       "}\n",
       ".hoogle-sub {\n",
       "display: block;\n",
       "margin-left: 0.4em;\n",
       "}\n",
       ".hoogle-package {\n",
       "font-weight: bold;\n",
       "font-style: italic;\n",
       "}\n",
       ".hoogle-module {\n",
       "font-weight: bold;\n",
       "}\n",
       ".hoogle-class {\n",
       "font-weight: bold;\n",
       "}\n",
       "\n",
       ".get-type {\n",
       "color: green;\n",
       "font-weight: bold;\n",
       "font-family: monospace;\n",
       "display: block;\n",
       "white-space: pre-wrap;\n",
       "}\n",
       ".show-type {\n",
       "color: green;\n",
       "font-weight: bold;\n",
       "font-family: monospace;\n",
       "margin-left: 1em;\n",
       "}\n",
       ".mono {\n",
       "font-family: monospace;\n",
       "display: block;\n",
       "}\n",
       ".err-msg {\n",
       "color: red;\n",
       "font-style: italic;\n",
       "font-family: monospace;\n",
       "white-space: pre;\n",
       "display: block;\n",
       "}\n",
       "#unshowable {\n",
       "color: red;\n",
       "font-weight: bold;\n",
       "}\n",
       ".err-msg.in.collapse {\n",
       "padding-top: 0.7em;\n",
       "}\n",
       "\n",
       ".highlight-code {\n",
       "white-space: pre;\n",
       "font-family: monospace;\n",
       "}\n",
       "\n",
       ".suggestion-warning { \n",
       "font-weight: bold;\n",
       "color: rgb(200, 130, 0);\n",
       "}\n",
       ".suggestion-error { \n",
       "font-weight: bold;\n",
       "color: red;\n",
       "}\n",
       ".suggestion-name {\n",
       "font-weight: bold;\n",
       "}\n",
       "\n",
       "</style><div class=\"suggestion-name\" style=\"clear:both;\">Use even</div><div class=\"suggestion-row\" style=\"float: left;\"><div class=\"suggestion-warning\">Found:</div><div class=\"highlight-code\" id=\"haskell\">mod a 2 == 0</div></div><div class=\"suggestion-row\" style=\"float: left;\"><div class=\"suggestion-warning\">Why Not:</div><div class=\"highlight-code\" id=\"haskell\">even a</div></div>"
      ],
      "text/plain": [
       "Line 1: Use even\n",
       "Found:\n",
       "mod a 2 == 0\n",
       "Why not:\n",
       "even a"
      ]
     },
     "metadata": {},
     "output_type": "display_data"
    }
   ],
   "source": [
    "f a =  if mod a 2 == 0 then 0 else 1 "
   ]
  },
  {
   "cell_type": "markdown",
   "id": "cda58a80-29f3-4e38-8063-753801a57974",
   "metadata": {},
   "source": [
    "# Lists"
   ]
  },
  {
   "cell_type": "markdown",
   "id": "d7619d5d-0117-4f3a-b5fb-85db6f62284e",
   "metadata": {},
   "source": [
    "Lists in haskell are defined via 'data' keyword."
   ]
  },
  {
   "cell_type": "code",
   "execution_count": 18,
   "id": "9cd416e7-03b1-4a59-b494-b29b713256bf",
   "metadata": {},
   "outputs": [],
   "source": [
    "data List = Node (Int, List)   |  Empty "
   ]
  },
  {
   "cell_type": "markdown",
   "id": "53a4292f-986a-4aa7-b119-3922c193646e",
   "metadata": {},
   "source": [
    "Node constructor is for (Int x List) cartesian product.  \n",
    "List can be either a Node or Empty.\n"
   ]
  },
  {
   "cell_type": "code",
   "execution_count": 26,
   "id": "c8bc7c4c-c9d8-4dc1-9322-bb83c4afe63e",
   "metadata": {},
   "outputs": [
    {
     "data": {
      "text/html": [
       "<style>/* Styles used for the Hoogle display in the pager */\n",
       ".hoogle-doc {\n",
       "display: block;\n",
       "padding-bottom: 1.3em;\n",
       "padding-left: 0.4em;\n",
       "}\n",
       ".hoogle-code {\n",
       "display: block;\n",
       "font-family: monospace;\n",
       "white-space: pre;\n",
       "}\n",
       ".hoogle-text {\n",
       "display: block;\n",
       "}\n",
       ".hoogle-name {\n",
       "color: green;\n",
       "font-weight: bold;\n",
       "}\n",
       ".hoogle-head {\n",
       "font-weight: bold;\n",
       "}\n",
       ".hoogle-sub {\n",
       "display: block;\n",
       "margin-left: 0.4em;\n",
       "}\n",
       ".hoogle-package {\n",
       "font-weight: bold;\n",
       "font-style: italic;\n",
       "}\n",
       ".hoogle-module {\n",
       "font-weight: bold;\n",
       "}\n",
       ".hoogle-class {\n",
       "font-weight: bold;\n",
       "}\n",
       "\n",
       ".get-type {\n",
       "color: green;\n",
       "font-weight: bold;\n",
       "font-family: monospace;\n",
       "display: block;\n",
       "white-space: pre-wrap;\n",
       "}\n",
       ".show-type {\n",
       "color: green;\n",
       "font-weight: bold;\n",
       "font-family: monospace;\n",
       "margin-left: 1em;\n",
       "}\n",
       ".mono {\n",
       "font-family: monospace;\n",
       "display: block;\n",
       "}\n",
       ".err-msg {\n",
       "color: red;\n",
       "font-style: italic;\n",
       "font-family: monospace;\n",
       "white-space: pre;\n",
       "display: block;\n",
       "}\n",
       "#unshowable {\n",
       "color: red;\n",
       "font-weight: bold;\n",
       "}\n",
       ".err-msg.in.collapse {\n",
       "padding-top: 0.7em;\n",
       "}\n",
       "\n",
       ".highlight-code {\n",
       "white-space: pre;\n",
       "font-family: monospace;\n",
       "}\n",
       "\n",
       ".suggestion-warning { \n",
       "font-weight: bold;\n",
       "color: rgb(200, 130, 0);\n",
       "}\n",
       ".suggestion-error { \n",
       "font-weight: bold;\n",
       "color: red;\n",
       "}\n",
       ".suggestion-name {\n",
       "font-weight: bold;\n",
       "}\n",
       "\n",
       "</style><span class='get-type'>chains :: List</span>"
      ],
      "text/plain": [
       "chains :: List"
      ]
     },
     "metadata": {},
     "output_type": "display_data"
    }
   ],
   "source": [
    "chains = Node (1, Node (2, Node (3,Empty) ) ) \n",
    ":t chains"
   ]
  },
  {
   "cell_type": "markdown",
   "id": "a43b98ca-4017-4d6f-b100-1616e2817257",
   "metadata": {},
   "source": [
    "##### 1 -> 2 -> 3 -> Empty"
   ]
  },
  {
   "cell_type": "markdown",
   "id": "c174d4a5-bc31-4bbe-9f89-8fe8bd2ffacd",
   "metadata": {},
   "source": [
    "An example function for list length "
   ]
  },
  {
   "cell_type": "code",
   "execution_count": null,
   "id": "8958a5b4-92fc-4b2c-b64e-85a0bf7b1c7d",
   "metadata": {},
   "outputs": [],
   "source": [
    "llen Empty = 0\n",
    "llen ( Node (first, remainingList) ) = 1 + llen remainingList\n",
    ":t llen\n",
    "llen chains"
   ]
  },
  {
   "cell_type": "markdown",
   "id": "2c757f83-5d41-4e45-825b-b6ce159bf475",
   "metadata": {},
   "source": [
    "### Function calls are Left Associative !!!\n",
    "Following example returns an error due to this property.  \n",
    "head and Node are interpreted as functions: without the paranthesis; head gets 2 parameters rather than 1 "
   ]
  },
  {
   "cell_type": "code",
   "execution_count": 9,
   "id": "24c0f75a-4334-4a2a-99d2-4844ea18e310",
   "metadata": {},
   "outputs": [
    {
     "data": {
      "text/plain": [
       "1"
      ]
     },
     "metadata": {},
     "output_type": "display_data"
    }
   ],
   "source": [
    "data List = Node (Int, List)   |  Empty \n",
    "head Empty = 0\n",
    "head (Node(a,rest)) = a\n",
    "\n",
    "--correct version\n",
    "head (Node(1, Node (2, Node (3,Empty) ) ) )\n"
   ]
  },
  {
   "cell_type": "code",
   "execution_count": 10,
   "id": "bb2e1a0b-baec-4399-beba-38574362f54e",
   "metadata": {},
   "outputs": [
    {
     "ename": "",
     "evalue": "",
     "output_type": "error",
     "traceback": [
      "<interactive>:1:6: error: [GHC-83865]\n    • Couldn't match expected type ‘List’ with actual type ‘(Int, List) -> List’\n    • Probable cause: ‘Node’ is applied to too few arguments\n      In the first argument of ‘head’, namely ‘Node’\n      In the expression: head Node (1, Node (2, Node (3, Empty)))\n      In an equation for ‘it’: it = head Node (1, Node (2, Node (3, Empty)))\n<interactive>:1:1: error: [GHC-83865]\n    • Couldn't match expected type ‘(a0, List) -> t’ with actual type ‘Int’\n    • The function ‘head’ is applied to two value arguments, but its type ‘List -> Int’ has only one\n      In the expression: head Node (1, Node (2, Node (3, Empty)))\n      In an equation for ‘it’: it = head Node (1, Node (2, Node (3, Empty)))\n    • Relevant bindings include it :: t (bound at <interactive>:1:1)"
     ]
    }
   ],
   "source": [
    "--error\n",
    "head Node(1, Node (2, Node (3,Empty) ) ) "
   ]
  },
  {
   "cell_type": "markdown",
   "id": "f7020806-6989-419c-b6d4-e250215d2927",
   "metadata": {},
   "source": [
    "### Examples"
   ]
  },
  {
   "cell_type": "code",
   "execution_count": 18,
   "id": "d7997bfe-fede-4fa0-a475-37449bcc82af",
   "metadata": {},
   "outputs": [
    {
     "data": {
      "text/plain": [
       "Node (1,Node (2,Node (3,Node (4,Node (5,Empty)))))"
      ]
     },
     "metadata": {},
     "output_type": "display_data"
    }
   ],
   "source": [
    "data List = Node (Int, List)   |  Empty deriving Show\n",
    "concat Empty list2 = list2\n",
    "concat (Node(a,remainingList)) list2 = Node(a, concat remainingList list2)\n",
    "concList = concat (Node(1,Node(2,Empty))) (Node(3,Node(4,Node(5,Empty) )))\n",
    "concList"
   ]
  }
 ],
 "metadata": {
  "kernelspec": {
   "display_name": "Haskell",
   "language": "haskell",
   "name": "haskell"
  },
  "language_info": {
   "codemirror_mode": "ihaskell",
   "file_extension": ".hs",
   "mimetype": "text/x-haskell",
   "name": "haskell",
   "pygments_lexer": "Haskell",
   "version": "9.6.4"
  }
 },
 "nbformat": 4,
 "nbformat_minor": 5
}
