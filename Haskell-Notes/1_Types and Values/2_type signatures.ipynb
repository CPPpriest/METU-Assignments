{
 "cells": [
  {
   "cell_type": "markdown",
   "id": "8e8d7f06-1d05-433d-b68a-6344670a1fb2",
   "metadata": {},
   "source": [
    "# Haskell Type Signatures"
   ]
  },
  {
   "cell_type": "markdown",
   "id": "f8e762c9-535c-4765-82d1-1dfa8d28f7f0",
   "metadata": {},
   "source": [
    "Haskell, as a statically typed programming language, uses type signatures to specify the types of expressions, such as functions or variables. These type signatures are an explicit way to denote what kind of data a function expects as input and what it will return as output. "
   ]
  },
  {
   "cell_type": "markdown",
   "id": "a72315eb-ee75-40fd-ad09-cc1403c845dc",
   "metadata": {},
   "source": [
    "## Basic Type Signatures \n",
    "A type signature is written using the :: symbol, followed by the type description. "
   ]
  },
  {
   "cell_type": "code",
   "execution_count": null,
   "id": "fdce6bb3-90a4-4efc-9031-425ea4261361",
   "metadata": {},
   "outputs": [],
   "source": [
    "myFunction :: Int -> Int"
   ]
  },
  {
   "cell_type": "markdown",
   "id": "cc440645-1757-43df-951c-c0b9659adcfc",
   "metadata": {},
   "source": [
    "In this example, myFunction is a function that takes an Int as an argument and returns an Int."
   ]
  },
  {
   "cell_type": "markdown",
   "id": "3c22e0dc-3a2b-465c-a028-da1ca941c7f2",
   "metadata": {},
   "source": [
    "## Function Type Signatures\n",
    "For functions with multiple parameters, the type signature includes each parameter type, \n",
    "separated by ->, with the last type being the return type:"
   ]
  },
  {
   "cell_type": "code",
   "execution_count": 1,
   "id": "952410f7-b134-4c07-9afa-94106907b140",
   "metadata": {},
   "outputs": [],
   "source": [
    "add :: Int -> Int -> Int\n",
    "add x y = x + y"
   ]
  },
  {
   "cell_type": "markdown",
   "id": "dd9d029a-bf90-4fff-ab9b-6b7c245f396b",
   "metadata": {},
   "source": [
    "add function takes two Int values and returns an Int which is the sum of the two inputs.\n",
    "\n"
   ]
  },
  {
   "cell_type": "markdown",
   "id": "0c32593a-e6d2-4001-bf01-738f44171a2a",
   "metadata": {},
   "source": [
    "## Polymorphic Type Signatures\n",
    "Functions can also be polymorphic, meaning they can work with any type.  \n",
    "This is expressed using type variables (usually lowercase letters):\n"
   ]
  },
  {
   "cell_type": "code",
   "execution_count": 6,
   "id": "d545fc0d-0d88-4e2a-b0d4-4eb50dc02430",
   "metadata": {},
   "outputs": [],
   "source": [
    "identity :: a -> a\n",
    "identity x = x"
   ]
  },
  {
   "cell_type": "markdown",
   "id": "341013e0-ce39-4bee-843b-4b9ecfdae563",
   "metadata": {},
   "source": [
    "Here, identity is a function that takes a value of any type a and returns a value of the same type a.\n",
    "\n"
   ]
  },
  {
   "cell_type": "markdown",
   "id": "261d87a1-25a5-4299-9e85-82a132a0b4a8",
   "metadata": {},
   "source": [
    "## Type Classes\n",
    "Type signatures can also specify that a type variable belongs to a type class using the => symbol:"
   ]
  },
  {
   "cell_type": "code",
   "execution_count": 13,
   "id": "2fe5c346-4f6b-42f7-8a81-307fe845df5f",
   "metadata": {},
   "outputs": [
    {
     "data": {
      "text/html": [
       "<style>/* Styles used for the Hoogle display in the pager */\n",
       ".hoogle-doc {\n",
       "display: block;\n",
       "padding-bottom: 1.3em;\n",
       "padding-left: 0.4em;\n",
       "}\n",
       ".hoogle-code {\n",
       "display: block;\n",
       "font-family: monospace;\n",
       "white-space: pre;\n",
       "}\n",
       ".hoogle-text {\n",
       "display: block;\n",
       "}\n",
       ".hoogle-name {\n",
       "color: green;\n",
       "font-weight: bold;\n",
       "}\n",
       ".hoogle-head {\n",
       "font-weight: bold;\n",
       "}\n",
       ".hoogle-sub {\n",
       "display: block;\n",
       "margin-left: 0.4em;\n",
       "}\n",
       ".hoogle-package {\n",
       "font-weight: bold;\n",
       "font-style: italic;\n",
       "}\n",
       ".hoogle-module {\n",
       "font-weight: bold;\n",
       "}\n",
       ".hoogle-class {\n",
       "font-weight: bold;\n",
       "}\n",
       "\n",
       ".get-type {\n",
       "color: green;\n",
       "font-weight: bold;\n",
       "font-family: monospace;\n",
       "display: block;\n",
       "white-space: pre-wrap;\n",
       "}\n",
       ".show-type {\n",
       "color: green;\n",
       "font-weight: bold;\n",
       "font-family: monospace;\n",
       "margin-left: 1em;\n",
       "}\n",
       ".mono {\n",
       "font-family: monospace;\n",
       "display: block;\n",
       "}\n",
       ".err-msg {\n",
       "color: red;\n",
       "font-style: italic;\n",
       "font-family: monospace;\n",
       "white-space: pre;\n",
       "display: block;\n",
       "}\n",
       "#unshowable {\n",
       "color: red;\n",
       "font-weight: bold;\n",
       "}\n",
       ".err-msg.in.collapse {\n",
       "padding-top: 0.7em;\n",
       "}\n",
       "\n",
       ".highlight-code {\n",
       "white-space: pre;\n",
       "font-family: monospace;\n",
       "}\n",
       "\n",
       ".suggestion-warning { \n",
       "font-weight: bold;\n",
       "color: rgb(200, 130, 0);\n",
       "}\n",
       ".suggestion-error { \n",
       "font-weight: bold;\n",
       "color: red;\n",
       "}\n",
       ".suggestion-name {\n",
       "font-weight: bold;\n",
       "}\n",
       "\n",
       "</style><div class=\"suggestion-name\" style=\"clear:both;\">Eta reduce</div><div class=\"suggestion-row\" style=\"float: left;\"><div class=\"suggestion-warning\">Found:</div><div class=\"highlight-code\" id=\"haskell\">showResult x = show x</div></div><div class=\"suggestion-row\" style=\"float: left;\"><div class=\"suggestion-warning\">Why Not:</div><div class=\"highlight-code\" id=\"haskell\">showResult = show</div></div>"
      ],
      "text/plain": [
       "Line 2: Eta reduce\n",
       "Found:\n",
       "showResult x = show x\n",
       "Why not:\n",
       "showResult = show"
      ]
     },
     "metadata": {},
     "output_type": "display_data"
    }
   ],
   "source": [
    "showResult :: Show a => a -> String\n",
    "showResult x = show x"
   ]
  },
  {
   "cell_type": "markdown",
   "id": "8140c137-78c1-401e-b882-e0bfe2bba050",
   "metadata": {},
   "source": [
    "This function takes any type a that is an instance of the Show type class (meaning it can be converted to a string) and returns a String."
   ]
  },
  {
   "cell_type": "markdown",
   "id": "db875e52-dd3c-490c-ae87-1cb2cadef9ce",
   "metadata": {},
   "source": [
    "## List, Tuple, and Higher-order Functions"
   ]
  },
  {
   "cell_type": "markdown",
   "id": "6c5e2712-5b05-48b8-8837-0f855e63e487",
   "metadata": {},
   "source": [
    "### Lists:\n",
    "Type signatures can indicate a list of items of a particular type using [Type]:"
   ]
  },
  {
   "cell_type": "code",
   "execution_count": null,
   "id": "68d43cfb-9876-429e-887e-eff2f61f551a",
   "metadata": {},
   "outputs": [],
   "source": [
    "sumList :: [Int] -> Int\n",
    "sumList xs = sum xs"
   ]
  },
  {
   "cell_type": "markdown",
   "id": "5a9c45a1-4415-40fa-bc0a-7632ed2d5868",
   "metadata": {},
   "source": [
    "### Tuples:\n",
    "Tuples are indicated by parentheses and commas:"
   ]
  },
  {
   "cell_type": "code",
   "execution_count": 14,
   "id": "fea7a635-0c37-42f2-98e3-b86f618d6a02",
   "metadata": {},
   "outputs": [],
   "source": [
    "swap :: (a, b) -> (b, a)\n",
    "swap (x, y) = (y, x)"
   ]
  },
  {
   "cell_type": "markdown",
   "id": "030f1bda-ccf1-485d-8a5f-4d3d4b47a6d3",
   "metadata": {},
   "source": [
    "### Higher-order Functions: \n",
    "Functions that take other functions as parameters or return functions have type signatures reflecting this:"
   ]
  },
  {
   "cell_type": "code",
   "execution_count": 15,
   "id": "d7070cb1-e99c-459d-9be9-02a03678a821",
   "metadata": {},
   "outputs": [],
   "source": [
    "applyTwice :: (a -> a) -> a -> a\n",
    "applyTwice f x = f (f x)"
   ]
  },
  {
   "cell_type": "markdown",
   "id": "95701410-9238-4de8-8a0f-5f39a50abcc0",
   "metadata": {},
   "source": [
    "### Additional Notes"
   ]
  },
  {
   "cell_type": "markdown",
   "id": "6fbbe103-2268-4bbd-b8e9-6733777594b1",
   "metadata": {},
   "source": [
    "#### Functions are primitive types in Haskell\n",
    "Function is a primitive type in Haskell. As a result, Type parameters also apply for function arguments "
   ]
  },
  {
   "cell_type": "code",
   "execution_count": 7,
   "id": "72ec24ba-4070-45d6-bb85-aa6ed1981ad4",
   "metadata": {},
   "outputs": [
    {
     "data": {
      "text/plain": [
       "17"
      ]
     },
     "metadata": {},
     "output_type": "display_data"
    }
   ],
   "source": [
    "identity add 5 12"
   ]
  },
  {
   "cell_type": "markdown",
   "id": "f6df0ddc-1c99-4673-8113-1c21e55477d4",
   "metadata": {},
   "source": [
    "Here, identity function takes the add function as its parameter which is returned as add.\n",
    "Then add operates on 5 and 17"
   ]
  },
  {
   "cell_type": "markdown",
   "id": "502f39fc-b2dd-4ec5-8426-0670fe3bd661",
   "metadata": {},
   "source": [
    "#### LEFT ASSOCIATIVE\n",
    "Functions take parameters one-by-one from left to right"
   ]
  },
  {
   "cell_type": "code",
   "execution_count": 13,
   "id": "7c2a0e71-ba58-47cd-9e6a-eb0560f2e2ed",
   "metadata": {},
   "outputs": [
    {
     "data": {
      "text/plain": [
       "20"
      ]
     },
     "metadata": {},
     "output_type": "display_data"
    }
   ],
   "source": [
    "notIdentity f = f 8\n",
    "notIdentity add 12"
   ]
  },
  {
   "cell_type": "markdown",
   "id": "2329ef53-e984-4b61-aa2d-c64bf316f43c",
   "metadata": {},
   "source": [
    "Here, notIdentity function takes (add) as parameter and returns (add 5).  \n",
    "add function takes first parameter (which is 5)  \n",
    "then takes the second parameter (which is 12)"
   ]
  },
  {
   "cell_type": "markdown",
   "id": "5145b955-a730-4055-bc02-2d95f32ef60c",
   "metadata": {},
   "source": [
    "#### Number of Parameters Matter"
   ]
  },
  {
   "cell_type": "code",
   "execution_count": 7,
   "id": "4818d74a-0d78-4cec-a3b4-909a6c959cf4",
   "metadata": {},
   "outputs": [],
   "source": [
    "double x = x * 2\n",
    "increment x = x + 1"
   ]
  },
  {
   "cell_type": "markdown",
   "id": "ef93c6ef-3765-4a01-a417-a53afe1e43f1",
   "metadata": {},
   "source": [
    "In this example, each functions take single parameter"
   ]
  },
  {
   "cell_type": "code",
   "execution_count": 8,
   "id": "bac0c740-e93c-4a5b-b854-a6863c6392c6",
   "metadata": {},
   "outputs": [
    {
     "data": {
      "text/plain": [
       "11"
      ]
     },
     "metadata": {},
     "output_type": "display_data"
    }
   ],
   "source": [
    "increment (double 5)\n"
   ]
  },
  {
   "cell_type": "code",
   "execution_count": 9,
   "id": "cd246a29-e04e-4a8e-b047-226c8a8fa349",
   "metadata": {},
   "outputs": [
    {
     "ename": "",
     "evalue": "",
     "output_type": "error",
     "traceback": [
      "<interactive>:1:1: error: [GHC-39999]\n    • No instance for ‘Num (Integer -> Integer)’ arising from a use of ‘it’\n        (maybe you haven't applied a function to enough arguments?)\n    • In the first argument of ‘print’, namely ‘it’\n      In a stmt of an interactive GHCi command: print it"
     ]
    }
   ],
   "source": [
    "increment double 5"
   ]
  },
  {
   "cell_type": "markdown",
   "id": "1a3e848c-d429-43a8-9503-1d2c966d2fb8",
   "metadata": {},
   "source": [
    "This error occures due to the number of parameters: increment function takes only one parameters yet 2 is given in the example"
   ]
  }
 ],
 "metadata": {
  "kernelspec": {
   "display_name": "Haskell",
   "language": "haskell",
   "name": "haskell"
  },
  "language_info": {
   "codemirror_mode": "ihaskell",
   "file_extension": ".hs",
   "mimetype": "text/x-haskell",
   "name": "haskell",
   "pygments_lexer": "Haskell",
   "version": "9.6.4"
  }
 },
 "nbformat": 4,
 "nbformat_minor": 5
}
