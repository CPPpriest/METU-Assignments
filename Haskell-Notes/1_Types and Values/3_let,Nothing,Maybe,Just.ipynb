{
 "cells": [
  {
   "cell_type": "markdown",
   "id": "4a3ba4bf-730a-4161-9855-410b9d6fd16f",
   "metadata": {},
   "source": [
    "# let\n",
    "\n",
    "The let keyword is used to bind variables to expressions within a local scope. It allows you to declare local variables and functions. The syntax for let bindings is let <bindings> in <expression>, where <bindings> is a list of variable names and their corresponding expressions, and <expression> is where these bindings can be used."
   ]
  },
  {
   "cell_type": "code",
   "execution_count": 9,
   "id": "9c82b151-c166-415a-a779-61bd2393d653",
   "metadata": {},
   "outputs": [
    {
     "data": {
      "text/plain": [
       "40"
      ]
     },
     "metadata": {},
     "output_type": "display_data"
    },
    {
     "data": {
      "text/plain": [
       "12"
      ]
     },
     "metadata": {},
     "output_type": "display_data"
    }
   ],
   "source": [
    "area = 12\n",
    "getVolume a b h = let area = a*b in area * h\n",
    "getVolume 4 5 2\n",
    "area"
   ]
  },
  {
   "cell_type": "markdown",
   "id": "1fe3ff71-c6b8-434e-8e61-719b582dbe2b",
   "metadata": {},
   "source": [
    "The scope of variables 'area' is limited to the expression following the in keyword."
   ]
  },
  {
   "cell_type": "markdown",
   "id": "ffd32820-bbb1-478d-ba6b-e403fc45ea91",
   "metadata": {},
   "source": [
    "#### Using {}\n",
    "You can also use braces to explicitly delineate the scope of let bindings   \n",
    "when multiple expressions or bindings are involved:\n",
    "\n"
   ]
  },
  {
   "cell_type": "code",
   "execution_count": 1,
   "id": "e0554e81-bb74-483f-9e8c-df0981fc747c",
   "metadata": {},
   "outputs": [
    {
     "data": {
      "text/plain": [
       "200"
      ]
     },
     "metadata": {},
     "output_type": "display_data"
    }
   ],
   "source": [
    "let { x = 10; y = 20 } in x * y"
   ]
  },
  {
   "cell_type": "markdown",
   "id": "147ddadf-7916-4c6f-9304-3f4e11891836",
   "metadata": {},
   "source": [
    "#### Using \"let\" with \"do\" Blocks ( in GHCI ) "
   ]
  },
  {
   "cell_type": "markdown",
   "id": "92c8c36f-022c-4f1e-aba2-602e31a07d33",
   "metadata": {},
   "source": [
    "When using let inside a do block (e.g., in an IO action or a monadic context) :   \n",
    "- you do not need the \"in\" part  \n",
    "- you can use let without braces or parentheses:"
   ]
  },
  {
   "cell_type": "code",
   "execution_count": 4,
   "id": "cb5dd25a-38fa-416c-877f-d2557100aa4b",
   "metadata": {},
   "outputs": [],
   "source": [
    "main = do\n",
    "    let x = 10\n",
    "        y = 20\n",
    "    print (x + y)"
   ]
  },
  {
   "cell_type": "markdown",
   "id": "42dbf7c0-e36f-4700-b255-8e68f3dce9a3",
   "metadata": {},
   "source": [
    "However, you can also use braces and semicolons to organize multiple bindings on a single line   \n",
    "or to clearly delineate the scope within the do block:\n"
   ]
  },
  {
   "cell_type": "code",
   "execution_count": 1,
   "id": "0d08fdd8-c9d6-43f2-9ca0-ddd964be1998",
   "metadata": {},
   "outputs": [],
   "source": [
    "main = do\n",
    "    let { x = 10; y = 20 }\n",
    "    print (x + y)"
   ]
  },
  {
   "cell_type": "markdown",
   "id": "5abae94a-688e-45a8-bf64-e359ae31934f",
   "metadata": {},
   "source": [
    "### Summary  \n",
    "- {} Braces are used to explicitly group multiple declarations  \n",
    "  or to define a scope clearly within a single line, especially in scripts or do blocks.\n",
    "    \n",
    "- () Parentheses are more about controlling the evaluation order and grouping within larger expressions  \n",
    "  rather than structuring the let itself."
   ]
  },
  {
   "cell_type": "markdown",
   "id": "7692153d-2bcf-4c28-bd4a-e3f6dffe5781",
   "metadata": {},
   "source": [
    "# Maybe\n",
    "\n",
    "Maybe is a type constructor that is used to encapsulate an optional value.   \n",
    "It is defined as Maybe a where a can be any type.   \n",
    "The Maybe type can either be:\n",
    "    \"Just a\", representing a value of type a \n",
    "or \n",
    "    \"Nothing\", representing the absence of a value"
   ]
  },
  {
   "cell_type": "code",
   "execution_count": 11,
   "id": "28ea7023-7e10-453f-ba32-a84b88a10ff2",
   "metadata": {},
   "outputs": [],
   "source": [
    "safeHead :: [a] -> Maybe a\n",
    "safeHead [] = Nothing\n",
    "safeHead (x:_) = Just x"
   ]
  },
  {
   "cell_type": "markdown",
   "id": "0cf62214-3ee9-494a-aac4-4b015878eea6",
   "metadata": {},
   "source": [
    "Here, safeHead returns Nothing for an empty list and Just x for a non-empty list, where x is the head of the list."
   ]
  },
  {
   "cell_type": "code",
   "execution_count": null,
   "id": "53ff159a-a8d5-4b1d-966f-a3af8f1680a8",
   "metadata": {},
   "outputs": [],
   "source": []
  }
 ],
 "metadata": {
  "kernelspec": {
   "display_name": "Haskell",
   "language": "haskell",
   "name": "haskell"
  },
  "language_info": {
   "codemirror_mode": "ihaskell",
   "file_extension": ".hs",
   "mimetype": "text/x-haskell",
   "name": "haskell",
   "pygments_lexer": "Haskell",
   "version": "9.6.4"
  }
 },
 "nbformat": 4,
 "nbformat_minor": 5
}
