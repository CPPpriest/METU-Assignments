{
  "cells": [
    {
      "cell_type": "markdown",
      "id": "c3dec1dd-9073-4017-84fb-5edfd9705000",
      "metadata": {
        "id": "c3dec1dd-9073-4017-84fb-5edfd9705000"
      },
      "source": [
        "## Polymorphic List\n",
        "\n",
        "List definition with parameter variables  \n",
        "Allowing to make list of any data type with a single definition"
      ]
    },
    {
      "cell_type": "markdown",
      "id": "63adb421-2b5a-4805-8c40-b6dc0ef0d453",
      "metadata": {
        "id": "63adb421-2b5a-4805-8c40-b6dc0ef0d453"
      },
      "source": [
        "### Homogeneous List\n",
        "\n",
        "All members have the same data type"
      ]
    },
    {
      "cell_type": "code",
      "execution_count": null,
      "id": "33b51eef-7531-4c85-b633-0eb381ce6bc5",
      "metadata": {
        "id": "33b51eef-7531-4c85-b633-0eb381ce6bc5",
        "outputId": "bd9e72b3-b0e6-44eb-aac4-dc29da956138"
      },
      "outputs": [
        {
          "data": {
            "text/plain": [
              "Nod (1,Nod (2,Nod (3,EmptyList)))"
            ]
          },
          "metadata": {},
          "output_type": "display_data"
        }
      ],
      "source": [
        "data HomoList alpha = Nod(alpha,HomoList alpha) | EmptyList  deriving Show\n"
      ]
    },
    {
      "cell_type": "markdown",
      "id": "4a0786a9-93cd-4445-b1f2-5392bed1bcec",
      "metadata": {
        "id": "4a0786a9-93cd-4445-b1f2-5392bed1bcec"
      },
      "source": [
        "In this example, type parameter is 'alpha' and so does the remaining list's data type."
      ]
    },
    {
      "cell_type": "code",
      "execution_count": null,
      "id": "23b86097-4752-4767-b08d-ffd7f9b087cc",
      "metadata": {
        "id": "23b86097-4752-4767-b08d-ffd7f9b087cc",
        "outputId": "3854db49-d4da-45f2-948a-e2dcd1d52b43"
      },
      "outputs": [
        {
          "data": {
            "text/plain": [
              "Nod (1,Nod (2,Nod (3,EmptyList)))"
            ]
          },
          "metadata": {},
          "output_type": "display_data"
        },
        {
          "data": {
            "text/html": [
              "<style>/* Styles used for the Hoogle display in the pager */\n",
              ".hoogle-doc {\n",
              "display: block;\n",
              "padding-bottom: 1.3em;\n",
              "padding-left: 0.4em;\n",
              "}\n",
              ".hoogle-code {\n",
              "display: block;\n",
              "font-family: monospace;\n",
              "white-space: pre;\n",
              "}\n",
              ".hoogle-text {\n",
              "display: block;\n",
              "}\n",
              ".hoogle-name {\n",
              "color: green;\n",
              "font-weight: bold;\n",
              "}\n",
              ".hoogle-head {\n",
              "font-weight: bold;\n",
              "}\n",
              ".hoogle-sub {\n",
              "display: block;\n",
              "margin-left: 0.4em;\n",
              "}\n",
              ".hoogle-package {\n",
              "font-weight: bold;\n",
              "font-style: italic;\n",
              "}\n",
              ".hoogle-module {\n",
              "font-weight: bold;\n",
              "}\n",
              ".hoogle-class {\n",
              "font-weight: bold;\n",
              "}\n",
              "\n",
              ".get-type {\n",
              "color: green;\n",
              "font-weight: bold;\n",
              "font-family: monospace;\n",
              "display: block;\n",
              "white-space: pre-wrap;\n",
              "}\n",
              ".show-type {\n",
              "color: green;\n",
              "font-weight: bold;\n",
              "font-family: monospace;\n",
              "margin-left: 1em;\n",
              "}\n",
              ".mono {\n",
              "font-family: monospace;\n",
              "display: block;\n",
              "}\n",
              ".err-msg {\n",
              "color: red;\n",
              "font-style: italic;\n",
              "font-family: monospace;\n",
              "white-space: pre;\n",
              "display: block;\n",
              "}\n",
              "#unshowable {\n",
              "color: red;\n",
              "font-weight: bold;\n",
              "}\n",
              ".err-msg.in.collapse {\n",
              "padding-top: 0.7em;\n",
              "}\n",
              "\n",
              ".highlight-code {\n",
              "white-space: pre;\n",
              "font-family: monospace;\n",
              "}\n",
              "\n",
              ".suggestion-warning { \n",
              "font-weight: bold;\n",
              "color: rgb(200, 130, 0);\n",
              "}\n",
              ".suggestion-error { \n",
              "font-weight: bold;\n",
              "color: red;\n",
              "}\n",
              ".suggestion-name {\n",
              "font-weight: bold;\n",
              "}\n",
              "\n",
              "</style><span class='get-type'>list1 :: forall {alpha}. Num alpha => HomoList alpha</span>"
            ],
            "text/plain": [
              "list1 :: forall {alpha}. Num alpha => HomoList alpha"
            ]
          },
          "metadata": {},
          "output_type": "display_data"
        },
        {
          "data": {
            "text/plain": [
              "Nod (\"John\",Nod (\"Henry\",Nod (\"Lopez\",EmptyList)))"
            ]
          },
          "metadata": {},
          "output_type": "display_data"
        },
        {
          "data": {
            "text/html": [
              "<style>/* Styles used for the Hoogle display in the pager */\n",
              ".hoogle-doc {\n",
              "display: block;\n",
              "padding-bottom: 1.3em;\n",
              "padding-left: 0.4em;\n",
              "}\n",
              ".hoogle-code {\n",
              "display: block;\n",
              "font-family: monospace;\n",
              "white-space: pre;\n",
              "}\n",
              ".hoogle-text {\n",
              "display: block;\n",
              "}\n",
              ".hoogle-name {\n",
              "color: green;\n",
              "font-weight: bold;\n",
              "}\n",
              ".hoogle-head {\n",
              "font-weight: bold;\n",
              "}\n",
              ".hoogle-sub {\n",
              "display: block;\n",
              "margin-left: 0.4em;\n",
              "}\n",
              ".hoogle-package {\n",
              "font-weight: bold;\n",
              "font-style: italic;\n",
              "}\n",
              ".hoogle-module {\n",
              "font-weight: bold;\n",
              "}\n",
              ".hoogle-class {\n",
              "font-weight: bold;\n",
              "}\n",
              "\n",
              ".get-type {\n",
              "color: green;\n",
              "font-weight: bold;\n",
              "font-family: monospace;\n",
              "display: block;\n",
              "white-space: pre-wrap;\n",
              "}\n",
              ".show-type {\n",
              "color: green;\n",
              "font-weight: bold;\n",
              "font-family: monospace;\n",
              "margin-left: 1em;\n",
              "}\n",
              ".mono {\n",
              "font-family: monospace;\n",
              "display: block;\n",
              "}\n",
              ".err-msg {\n",
              "color: red;\n",
              "font-style: italic;\n",
              "font-family: monospace;\n",
              "white-space: pre;\n",
              "display: block;\n",
              "}\n",
              "#unshowable {\n",
              "color: red;\n",
              "font-weight: bold;\n",
              "}\n",
              ".err-msg.in.collapse {\n",
              "padding-top: 0.7em;\n",
              "}\n",
              "\n",
              ".highlight-code {\n",
              "white-space: pre;\n",
              "font-family: monospace;\n",
              "}\n",
              "\n",
              ".suggestion-warning { \n",
              "font-weight: bold;\n",
              "color: rgb(200, 130, 0);\n",
              "}\n",
              ".suggestion-error { \n",
              "font-weight: bold;\n",
              "color: red;\n",
              "}\n",
              ".suggestion-name {\n",
              "font-weight: bold;\n",
              "}\n",
              "\n",
              "</style><span class='get-type'>list2 :: HomoList String</span>"
            ],
            "text/plain": [
              "list2 :: HomoList String"
            ]
          },
          "metadata": {},
          "output_type": "display_data"
        }
      ],
      "source": [
        "--integer list\n",
        "list1 = Nod(1, Nod(2,Nod(3,EmptyList) ) )\n",
        "list1\n",
        ":t list1\n",
        "\n",
        "--string list\n",
        "list2 = Nod( \"John\", Nod( \"Henry\" ,Nod( \"Lopez\",EmptyList) ) )\n",
        "list2\n",
        ":t list2"
      ]
    },
    {
      "cell_type": "markdown",
      "id": "f7b7bf06-d27b-4900-b4ca-9adadef7c9fc",
      "metadata": {
        "id": "f7b7bf06-d27b-4900-b4ca-9adadef7c9fc"
      },
      "source": [
        "#### Haskell does NOT allow HETEROGENEOUS Lists !!!"
      ]
    },
    {
      "cell_type": "markdown",
      "id": "1445fe7f-fd46-49fd-b79e-2354cf0d6f01",
      "metadata": {
        "id": "1445fe7f-fd46-49fd-b79e-2354cf0d6f01"
      },
      "source": [
        "## Haskell Lists (Syntactic Sugar)"
      ]
    },
    {
      "cell_type": "markdown",
      "id": "fb26308d-5a84-4d39-bc9a-a7b988c79921",
      "metadata": {
        "id": "fb26308d-5a84-4d39-bc9a-a7b988c79921"
      },
      "source": [
        "Following expressions are equivalent:\n",
        "\n",
        "#### Node(1, Node(2, Node,(3, Empty ) ) )  \n",
        "#### (1: (2: (3: [] ) ) )     \n",
        "#### [1, 2, 3]  "
      ]
    },
    {
      "cell_type": "code",
      "execution_count": null,
      "id": "e9660b2f-164e-41d5-b037-22e3f3987597",
      "metadata": {
        "id": "e9660b2f-164e-41d5-b037-22e3f3987597",
        "outputId": "a20be73c-8863-458b-85cc-403b35b8bb95"
      },
      "outputs": [
        {
          "data": {
            "text/plain": [
              "[1,47,64,23,33]"
            ]
          },
          "metadata": {},
          "output_type": "display_data"
        }
      ],
      "source": [
        "hlconcat [] list2 = list2\n",
        "hlconcat (first : remainingList) list2 = first : list2\n",
        "\n",
        "x = hlconcat [1,3,5,11,90] [47,64,23,33]\n",
        "x"
      ]
    },
    {
      "cell_type": "markdown",
      "id": "83d50054-d4c0-4385-a648-f81e9af8d8b0",
      "metadata": {
        "id": "83d50054-d4c0-4385-a648-f81e9af8d8b0"
      },
      "source": [
        "### (:) operator\n",
        "\n",
        "It is used to construct lists by prefixing an element to the front of a list or to another element with a list. The (:) operator takes two arguments: an element of any type a, and a list of elements of the same type [a], producing a new list [a].\n"
      ]
    },
    {
      "cell_type": "markdown",
      "id": "c9e27531-8483-4aca-ab21-7d114a716ba4",
      "metadata": {
        "id": "c9e27531-8483-4aca-ab21-7d114a716ba4"
      },
      "source": [
        "The basic syntax for using the (:) operator is element : list.  "
      ]
    },
    {
      "cell_type": "code",
      "execution_count": null,
      "id": "e82d42bb-6564-4d1b-bf7b-4dc471d58b51",
      "metadata": {
        "id": "e82d42bb-6564-4d1b-bf7b-4dc471d58b51",
        "outputId": "be24d391-e085-4ff4-fdd4-456af21e7be4"
      },
      "outputs": [
        {
          "data": {
            "text/plain": [
              "[1,2,3]"
            ]
          },
          "metadata": {},
          "output_type": "display_data"
        }
      ],
      "source": [
        "1 : [2,3]"
      ]
    },
    {
      "cell_type": "markdown",
      "id": "bac167c5-3d77-4852-b3f5-2698ca480326",
      "metadata": {
        "id": "bac167c5-3d77-4852-b3f5-2698ca480326"
      },
      "source": [
        "1 : 2 : 3 : []"
      ]
    },
    {
      "cell_type": "code",
      "execution_count": null,
      "id": "ec090d03-6810-4caf-a47d-e28c9d317d16",
      "metadata": {
        "id": "ec090d03-6810-4caf-a47d-e28c9d317d16",
        "outputId": "b1ed3daa-0fe4-485f-d700-dcced0db99fa"
      },
      "outputs": [
        {
          "data": {
            "text/plain": [
              "[1,2,3,4]"
            ]
          },
          "metadata": {},
          "output_type": "display_data"
        }
      ],
      "source": [
        "nums = [2, 3, 4]\n",
        "moreNums = 1 : nums\n",
        "moreNums"
      ]
    },
    {
      "cell_type": "code",
      "execution_count": null,
      "id": "2f2cb232-7a09-44cf-8a5c-94d6b8fb6507",
      "metadata": {
        "id": "2f2cb232-7a09-44cf-8a5c-94d6b8fb6507"
      },
      "outputs": [],
      "source": [
        "headAndTail :: [a] -> (a, [a])\n",
        "headAndTail (x:xs) = (x, xs)"
      ]
    },
    {
      "cell_type": "markdown",
      "id": "1ba8c402-b5fe-43c3-8948-fd729da48379",
      "metadata": {
        "id": "1ba8c402-b5fe-43c3-8948-fd729da48379"
      },
      "source": [
        "This function returns a tuple where the first element is the head of the list, and the second element is the tail. It uses pattern matching to split the list into its head (x) and tail (xs)."
      ]
    },
    {
      "cell_type": "markdown",
      "id": "bb0e51d6-b788-4a3a-8fb5-2d4fe6f399ac",
      "metadata": {
        "id": "bb0e51d6-b788-4a3a-8fb5-2d4fe6f399ac"
      },
      "source": [
        "### Example: hlselect"
      ]
    },
    {
      "cell_type": "code",
      "execution_count": null,
      "id": "88e0e7b9-17db-45cf-99d5-e2516e95e865",
      "metadata": {
        "id": "88e0e7b9-17db-45cf-99d5-e2516e95e865",
        "outputId": "815833f8-bb94-4a1e-c926-3fd6b3dcab54"
      },
      "outputs": [
        {
          "data": {
            "text/plain": [
              "44"
            ]
          },
          "metadata": {},
          "output_type": "display_data"
        },
        {
          "data": {
            "text/plain": [
              "11"
            ]
          },
          "metadata": {},
          "output_type": "display_data"
        }
      ],
      "source": [
        "hlselect n [] = error \"Empty list, not found.\"  --Haskell exception\n",
        "hlselect 0 (first : rem) = first                --select 0\n",
        "hlselect n (first : rem) = hlselect (n-1) rem\n",
        "\n",
        "hlselect 2 [11,22,44,77]\n",
        "hlselect 0 [11,22,44,77]\n"
      ]
    },
    {
      "cell_type": "code",
      "execution_count": null,
      "id": "b97cbff8-c6da-4eea-9dc8-eb8d9027b2e4",
      "metadata": {
        "id": "b97cbff8-c6da-4eea-9dc8-eb8d9027b2e4",
        "outputId": "d3bd5b2b-250d-49c6-81a4-1aaab7c3b20c"
      },
      "outputs": [
        {
          "ename": "",
          "evalue": "",
          "output_type": "error",
          "traceback": [
            "Empty list, not found.\nCallStack (from HasCallStack):\n  error, called at <interactive>:1:17 in interactive:Ghci1416"
          ]
        }
      ],
      "source": [
        "hlselect 7 [11,22,44,77]"
      ]
    },
    {
      "cell_type": "markdown",
      "id": "0102641f-b618-4e83-9089-084b4509af81",
      "metadata": {
        "id": "0102641f-b618-4e83-9089-084b4509af81"
      },
      "source": [
        "#### Anonymous Variable '_'\n",
        "when parameter is not a part of the definition"
      ]
    },
    {
      "cell_type": "code",
      "execution_count": null,
      "id": "74afa57d-c43e-4665-8527-b29e39694f61",
      "metadata": {
        "id": "74afa57d-c43e-4665-8527-b29e39694f61",
        "outputId": "08faafd4-9be0-423d-d44b-6a21f90296ee"
      },
      "outputs": [
        {
          "data": {
            "text/plain": [
              "44"
            ]
          },
          "metadata": {},
          "output_type": "display_data"
        },
        {
          "data": {
            "text/plain": [
              "11"
            ]
          },
          "metadata": {},
          "output_type": "display_data"
        }
      ],
      "source": [
        "hlselect2 _ [] = error \"Empty list, not found.\"\n",
        "hlselect2 0 (first : _ ) = first\n",
        "hlselect2 n ( _ : rem) = hlselect (n-1) rem\n",
        "\n",
        "hlselect2 2 [11,22,44,77]\n",
        "hlselect2 0 [11,22,44,77]"
      ]
    },
    {
      "cell_type": "code",
      "execution_count": null,
      "id": "384d21a4-e1e7-442b-a545-101fd556541b",
      "metadata": {
        "id": "384d21a4-e1e7-442b-a545-101fd556541b"
      },
      "outputs": [],
      "source": []
    }
  ],
  "metadata": {
    "kernelspec": {
      "display_name": "Haskell",
      "language": "haskell",
      "name": "haskell"
    },
    "language_info": {
      "codemirror_mode": "ihaskell",
      "file_extension": ".hs",
      "mimetype": "text/x-haskell",
      "name": "haskell",
      "pygments_lexer": "Haskell",
      "version": "9.6.4"
    },
    "colab": {
      "provenance": []
    }
  },
  "nbformat": 4,
  "nbformat_minor": 5
}