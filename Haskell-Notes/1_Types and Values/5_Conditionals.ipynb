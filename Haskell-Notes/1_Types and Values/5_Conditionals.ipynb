{
 "cells": [
  {
   "cell_type": "markdown",
   "id": "2030a248-0912-4b21-b312-60e481d5e123",
   "metadata": {},
   "source": [
    "# Guard Conditionals"
   ]
  },
  {
   "cell_type": "markdown",
   "id": "4754605d-95ba-4841-9dca-4fd7d85cc85c",
   "metadata": {},
   "source": [
    " Guards are essentially a series of boolean expressions that,  \n",
    " when evaluated to True, will cause the corresponding expression to be executed."
   ]
  },
  {
   "cell_type": "code",
   "execution_count": 10,
   "id": "89b86030-de7d-4f44-85d3-f01ac3e4b0e3",
   "metadata": {},
   "outputs": [],
   "source": [
    "functionName :: Int -> String\n",
    "functionName x\n",
    "    | x < 0     = \"Negative\"\n",
    "    | x == 0    = \"Zero\"\n",
    "    | x < 10    = \"Small\"\n",
    "    | otherwise = \"Large\""
   ]
  },
  {
   "cell_type": "markdown",
   "id": "b69a17a9-a204-42d4-8af6-68108cf0ed02",
   "metadata": {},
   "source": [
    "Guards are evaluated from top to bottom;   \n",
    "the first guard that evaluates to True determines the result of the function.   \n"
   ]
  },
  {
   "cell_type": "code",
   "execution_count": 1,
   "id": "26462614-3b7b-42b3-be9e-a8cb76e4a675",
   "metadata": {},
   "outputs": [
    {
     "ename": "",
     "evalue": "",
     "output_type": "error",
     "traceback": [
      "<interactive>:1:1: error: [GHC-88464] Variable not in scope: functionName :: t0 -> t"
     ]
    }
   ],
   "source": [
    "functionName 11\n",
    "functionName (-4)\n",
    "functionName 0\n",
    "functionName 7"
   ]
  },
  {
   "cell_type": "markdown",
   "id": "eeb49d89-f0a8-4ef1-ba86-ae6b7c39ac96",
   "metadata": {},
   "source": [
    "If none of the guards are True, and there is no otherwise condition,   \n",
    "ERROR: \"Non-exhaustive patterns in function\" will occur. "
   ]
  },
  {
   "cell_type": "code",
   "execution_count": 3,
   "id": "5f42b9bf-d6f9-4963-904d-8d2f629c3050",
   "metadata": {},
   "outputs": [],
   "source": [
    "function2 :: Int -> String\n",
    "function2 x\n",
    "    | x < 0     = \"Negative\"\n",
    "    | x == 0    = \"Zero\"\n",
    "    | x < 10    = \"Small\"\n",
    "\n",
    "--No otherwise condition"
   ]
  },
  {
   "cell_type": "markdown",
   "id": "0f9fbf4e-c03a-4655-9ca7-352e2afc8c99",
   "metadata": {},
   "source": [
    "# if Expressions"
   ]
  },
  {
   "cell_type": "markdown",
   "id": "d1714a73-77a8-4907-8bc5-4588d9144ded",
   "metadata": {},
   "source": [
    "if condition then expression1 else expression2"
   ]
  },
  {
   "cell_type": "code",
   "execution_count": 2,
   "id": "cd4f44dd-7ce5-41f2-9f6e-0b810aa9b6a5",
   "metadata": {},
   "outputs": [
    {
     "data": {
      "text/html": [
       "<style>/* Styles used for the Hoogle display in the pager */\n",
       ".hoogle-doc {\n",
       "display: block;\n",
       "padding-bottom: 1.3em;\n",
       "padding-left: 0.4em;\n",
       "}\n",
       ".hoogle-code {\n",
       "display: block;\n",
       "font-family: monospace;\n",
       "white-space: pre;\n",
       "}\n",
       ".hoogle-text {\n",
       "display: block;\n",
       "}\n",
       ".hoogle-name {\n",
       "color: green;\n",
       "font-weight: bold;\n",
       "}\n",
       ".hoogle-head {\n",
       "font-weight: bold;\n",
       "}\n",
       ".hoogle-sub {\n",
       "display: block;\n",
       "margin-left: 0.4em;\n",
       "}\n",
       ".hoogle-package {\n",
       "font-weight: bold;\n",
       "font-style: italic;\n",
       "}\n",
       ".hoogle-module {\n",
       "font-weight: bold;\n",
       "}\n",
       ".hoogle-class {\n",
       "font-weight: bold;\n",
       "}\n",
       "\n",
       ".get-type {\n",
       "color: green;\n",
       "font-weight: bold;\n",
       "font-family: monospace;\n",
       "display: block;\n",
       "white-space: pre-wrap;\n",
       "}\n",
       ".show-type {\n",
       "color: green;\n",
       "font-weight: bold;\n",
       "font-family: monospace;\n",
       "margin-left: 1em;\n",
       "}\n",
       ".mono {\n",
       "font-family: monospace;\n",
       "display: block;\n",
       "}\n",
       ".err-msg {\n",
       "color: red;\n",
       "font-style: italic;\n",
       "font-family: monospace;\n",
       "white-space: pre;\n",
       "display: block;\n",
       "}\n",
       "#unshowable {\n",
       "color: red;\n",
       "font-weight: bold;\n",
       "}\n",
       ".err-msg.in.collapse {\n",
       "padding-top: 0.7em;\n",
       "}\n",
       "\n",
       ".highlight-code {\n",
       "white-space: pre;\n",
       "font-family: monospace;\n",
       "}\n",
       "\n",
       ".suggestion-warning { \n",
       "font-weight: bold;\n",
       "color: rgb(200, 130, 0);\n",
       "}\n",
       ".suggestion-error { \n",
       "font-weight: bold;\n",
       "color: red;\n",
       "}\n",
       ".suggestion-name {\n",
       "font-weight: bold;\n",
       "}\n",
       "\n",
       "</style><span class='get-type'>absVal :: forall {a}. (Ord a, Num a) => a -> a</span>"
      ],
      "text/plain": [
       "absVal :: forall {a}. (Ord a, Num a) => a -> a"
      ]
     },
     "metadata": {},
     "output_type": "display_data"
    }
   ],
   "source": [
    "absVal x = if x < 0 then -x else x\n",
    ":t absVal"
   ]
  },
  {
   "cell_type": "markdown",
   "id": "4c082754-b8b6-40e7-86ad-9b1e25e7d98d",
   "metadata": {},
   "source": [
    "In this example, if expression returns an integer"
   ]
  },
  {
   "cell_type": "markdown",
   "id": "72a59217-2336-401d-805b-ca830686d996",
   "metadata": {},
   "source": [
    "Example:"
   ]
  },
  {
   "cell_type": "code",
   "execution_count": 19,
   "id": "bebd97f5-2a56-4d75-a78c-b2a427365775",
   "metadata": {},
   "outputs": [
    {
     "data": {
      "text/html": [
       "<style>/* Styles used for the Hoogle display in the pager */\n",
       ".hoogle-doc {\n",
       "display: block;\n",
       "padding-bottom: 1.3em;\n",
       "padding-left: 0.4em;\n",
       "}\n",
       ".hoogle-code {\n",
       "display: block;\n",
       "font-family: monospace;\n",
       "white-space: pre;\n",
       "}\n",
       ".hoogle-text {\n",
       "display: block;\n",
       "}\n",
       ".hoogle-name {\n",
       "color: green;\n",
       "font-weight: bold;\n",
       "}\n",
       ".hoogle-head {\n",
       "font-weight: bold;\n",
       "}\n",
       ".hoogle-sub {\n",
       "display: block;\n",
       "margin-left: 0.4em;\n",
       "}\n",
       ".hoogle-package {\n",
       "font-weight: bold;\n",
       "font-style: italic;\n",
       "}\n",
       ".hoogle-module {\n",
       "font-weight: bold;\n",
       "}\n",
       ".hoogle-class {\n",
       "font-weight: bold;\n",
       "}\n",
       "\n",
       ".get-type {\n",
       "color: green;\n",
       "font-weight: bold;\n",
       "font-family: monospace;\n",
       "display: block;\n",
       "white-space: pre-wrap;\n",
       "}\n",
       ".show-type {\n",
       "color: green;\n",
       "font-weight: bold;\n",
       "font-family: monospace;\n",
       "margin-left: 1em;\n",
       "}\n",
       ".mono {\n",
       "font-family: monospace;\n",
       "display: block;\n",
       "}\n",
       ".err-msg {\n",
       "color: red;\n",
       "font-style: italic;\n",
       "font-family: monospace;\n",
       "white-space: pre;\n",
       "display: block;\n",
       "}\n",
       "#unshowable {\n",
       "color: red;\n",
       "font-weight: bold;\n",
       "}\n",
       ".err-msg.in.collapse {\n",
       "padding-top: 0.7em;\n",
       "}\n",
       "\n",
       ".highlight-code {\n",
       "white-space: pre;\n",
       "font-family: monospace;\n",
       "}\n",
       "\n",
       ".suggestion-warning { \n",
       "font-weight: bold;\n",
       "color: rgb(200, 130, 0);\n",
       "}\n",
       ".suggestion-error { \n",
       "font-weight: bold;\n",
       "color: red;\n",
       "}\n",
       ".suggestion-name {\n",
       "font-weight: bold;\n",
       "}\n",
       "\n",
       "</style><div class=\"suggestion-name\" style=\"clear:both;\">Redundant bracket</div><div class=\"suggestion-row\" style=\"float: left;\"><div class=\"suggestion-warning\">Found:</div><div class=\"highlight-code\" id=\"haskell\">if (a > b) then (+) else (*)</div></div><div class=\"suggestion-row\" style=\"float: left;\"><div class=\"suggestion-warning\">Why Not:</div><div class=\"highlight-code\" id=\"haskell\">if a > b then (+) else (*)</div></div>"
      ],
      "text/plain": [
       "Line 1: Redundant bracket\n",
       "Found:\n",
       "if (a > b) then (+) else (*)\n",
       "Why not:\n",
       "if a > b then (+) else (*)"
      ]
     },
     "metadata": {},
     "output_type": "display_data"
    }
   ],
   "source": [
    "y a b =  ( if (a>b) then (+) else (*) ) a b"
   ]
  },
  {
   "cell_type": "code",
   "execution_count": 21,
   "id": "55fc30e9-1b55-4334-ab38-5731a726c003",
   "metadata": {},
   "outputs": [
    {
     "data": {
      "text/plain": [
       "36"
      ]
     },
     "metadata": {},
     "output_type": "display_data"
    },
    {
     "data": {
      "text/plain": [
       "13"
      ]
     },
     "metadata": {},
     "output_type": "display_data"
    }
   ],
   "source": [
    "y 4 9\n",
    "y 9 4"
   ]
  },
  {
   "cell_type": "markdown",
   "id": "b155b7c2-2b5f-4110-b9c2-0f67283e5450",
   "metadata": {},
   "source": [
    "# case Expressions"
   ]
  },
  {
   "cell_type": "code",
   "execution_count": 3,
   "id": "9b3915ba-e8b6-4e75-b5e9-646210ca31a0",
   "metadata": {},
   "outputs": [],
   "source": [
    "describeList xs = case xs of\n",
    "  []     -> \"Empty list\"\n",
    "  [x]    -> \"Single-element list\"\n",
    "  xs     -> \"Longer list\"\n"
   ]
  },
  {
   "cell_type": "code",
   "execution_count": 10,
   "id": "c32ee03b-7a31-438e-aa08-8539f0614d06",
   "metadata": {},
   "outputs": [
    {
     "data": {
      "text/plain": [
       "\"Longer list\""
      ]
     },
     "metadata": {},
     "output_type": "display_data"
    },
    {
     "data": {
      "text/plain": [
       "\"Empty list\""
      ]
     },
     "metadata": {},
     "output_type": "display_data"
    },
    {
     "data": {
      "text/plain": [
       "\"Single-element list\""
      ]
     },
     "metadata": {},
     "output_type": "display_data"
    }
   ],
   "source": [
    "describeList [1,2..]\n",
    "describeList []\n",
    "describeList [3]"
   ]
  },
  {
   "cell_type": "code",
   "execution_count": 5,
   "id": "14be7855-aa93-4600-b7c5-a74c55fc3007",
   "metadata": {},
   "outputs": [
    {
     "data": {
      "text/html": [
       "<style>/* Styles used for the Hoogle display in the pager */\n",
       ".hoogle-doc {\n",
       "display: block;\n",
       "padding-bottom: 1.3em;\n",
       "padding-left: 0.4em;\n",
       "}\n",
       ".hoogle-code {\n",
       "display: block;\n",
       "font-family: monospace;\n",
       "white-space: pre;\n",
       "}\n",
       ".hoogle-text {\n",
       "display: block;\n",
       "}\n",
       ".hoogle-name {\n",
       "color: green;\n",
       "font-weight: bold;\n",
       "}\n",
       ".hoogle-head {\n",
       "font-weight: bold;\n",
       "}\n",
       ".hoogle-sub {\n",
       "display: block;\n",
       "margin-left: 0.4em;\n",
       "}\n",
       ".hoogle-package {\n",
       "font-weight: bold;\n",
       "font-style: italic;\n",
       "}\n",
       ".hoogle-module {\n",
       "font-weight: bold;\n",
       "}\n",
       ".hoogle-class {\n",
       "font-weight: bold;\n",
       "}\n",
       "\n",
       ".get-type {\n",
       "color: green;\n",
       "font-weight: bold;\n",
       "font-family: monospace;\n",
       "display: block;\n",
       "white-space: pre-wrap;\n",
       "}\n",
       ".show-type {\n",
       "color: green;\n",
       "font-weight: bold;\n",
       "font-family: monospace;\n",
       "margin-left: 1em;\n",
       "}\n",
       ".mono {\n",
       "font-family: monospace;\n",
       "display: block;\n",
       "}\n",
       ".err-msg {\n",
       "color: red;\n",
       "font-style: italic;\n",
       "font-family: monospace;\n",
       "white-space: pre;\n",
       "display: block;\n",
       "}\n",
       "#unshowable {\n",
       "color: red;\n",
       "font-weight: bold;\n",
       "}\n",
       ".err-msg.in.collapse {\n",
       "padding-top: 0.7em;\n",
       "}\n",
       "\n",
       ".highlight-code {\n",
       "white-space: pre;\n",
       "font-family: monospace;\n",
       "}\n",
       "\n",
       ".suggestion-warning { \n",
       "font-weight: bold;\n",
       "color: rgb(200, 130, 0);\n",
       "}\n",
       ".suggestion-error { \n",
       "font-weight: bold;\n",
       "color: red;\n",
       "}\n",
       ".suggestion-name {\n",
       "font-weight: bold;\n",
       "}\n",
       "\n",
       "</style><span class='get-type'>describeList :: forall {a}. [a] -> String</span>"
      ],
      "text/plain": [
       "describeList :: forall {a}. [a] -> String"
      ]
     },
     "metadata": {},
     "output_type": "display_data"
    }
   ],
   "source": [
    ":t describeList"
   ]
  },
  {
   "cell_type": "markdown",
   "id": "8c924f69-f4ee-4115-8d3d-facc1c224db0",
   "metadata": {},
   "source": [
    "\"case\" expressions in Haskell are often used to pattern match and make decisions based on the structure of data"
   ]
  },
  {
   "cell_type": "markdown",
   "id": "8f8e49e8-cda9-4325-9f92-2bce6e70950f",
   "metadata": {},
   "source": [
    "Similar to C switch statement. But it pattern matches (Not value equality checks)"
   ]
  },
  {
   "cell_type": "code",
   "execution_count": null,
   "id": "9fe7e070-2956-4bc4-9bb8-100cc39e7766",
   "metadata": {},
   "outputs": [],
   "source": []
  }
 ],
 "metadata": {
  "kernelspec": {
   "display_name": "Haskell",
   "language": "haskell",
   "name": "haskell"
  },
  "language_info": {
   "codemirror_mode": "ihaskell",
   "file_extension": ".hs",
   "mimetype": "text/x-haskell",
   "name": "haskell",
   "pygments_lexer": "Haskell",
   "version": "9.6.4"
  }
 },
 "nbformat": 4,
 "nbformat_minor": 5
}
