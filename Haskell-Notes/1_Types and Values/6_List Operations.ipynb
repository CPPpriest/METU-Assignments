{
 "cells": [
  {
   "cell_type": "markdown",
   "id": "a8bfb3d5-0833-421a-877c-9ba17bd3600b",
   "metadata": {},
   "source": [
    "## Basic Operations"
   ]
  },
  {
   "cell_type": "markdown",
   "id": "37ae4e73-0f77-44c2-b06b-591417c5fae4",
   "metadata": {},
   "source": [
    "#### - head     \n",
    "Returns the first element of a list.\n",
    "#### - tail  \n",
    "Returns the list without the first element.\n"
   ]
  },
  {
   "cell_type": "code",
   "execution_count": 13,
   "id": "e1523994-70e6-4923-ae95-6c48c8105c07",
   "metadata": {},
   "outputs": [
    {
     "data": {
      "text/plain": [
       "11"
      ]
     },
     "metadata": {},
     "output_type": "display_data"
    },
    {
     "data": {
      "text/plain": [
       "[22,33,44,55]"
      ]
     },
     "metadata": {},
     "output_type": "display_data"
    }
   ],
   "source": [
    "head [11,22,33,44,55]\n",
    "tail [11,22,33,44,55]"
   ]
  },
  {
   "cell_type": "markdown",
   "id": "3a63dadf-d573-4a2e-a275-9192792e37f8",
   "metadata": {},
   "source": [
    " #### - last \n",
    "Returns the last element of a list\n",
    "#### - init\n",
    "Returns the list without its last element."
   ]
  },
  {
   "cell_type": "code",
   "execution_count": 14,
   "id": "5a51e2c3-f48e-4500-bd51-7c677946fffb",
   "metadata": {},
   "outputs": [
    {
     "data": {
      "text/plain": [
       "55"
      ]
     },
     "metadata": {},
     "output_type": "display_data"
    },
    {
     "data": {
      "text/plain": [
       "[11,22,33,44]"
      ]
     },
     "metadata": {},
     "output_type": "display_data"
    }
   ],
   "source": [
    "last [11,22,33,44,55]\n",
    "init [11,22,33,44,55]"
   ]
  },
  {
   "cell_type": "markdown",
   "id": "e61d79fa-05aa-4b35-bc86-f85be184a49c",
   "metadata": {},
   "source": [
    "#### - length  \n",
    "Returns the number of elements in a list."
   ]
  },
  {
   "cell_type": "code",
   "execution_count": 15,
   "id": "976fcb49-fbbf-495e-9f59-1419af9c2e72",
   "metadata": {},
   "outputs": [
    {
     "data": {
      "text/plain": [
       "5"
      ]
     },
     "metadata": {},
     "output_type": "display_data"
    }
   ],
   "source": [
    "length [11,22,33,44,55]"
   ]
  },
  {
   "cell_type": "markdown",
   "id": "ad8f6ecf-2af5-421a-8c83-85f9e55483e1",
   "metadata": {},
   "source": [
    "## Basic List Manipulations"
   ]
  },
  {
   "cell_type": "markdown",
   "id": "20cdcc46-e317-480b-b4ac-32d01c516b8b",
   "metadata": {},
   "source": [
    "### - take  \n",
    "Takes the first n elements from a list.take 3 [5,4,3,2,1]"
   ]
  },
  {
   "cell_type": "code",
   "execution_count": 26,
   "id": "746dbf9c-2347-4fa5-8d3b-f63a0e64480b",
   "metadata": {},
   "outputs": [
    {
     "data": {
      "text/plain": [
       "[12,88,76]"
      ]
     },
     "metadata": {},
     "output_type": "display_data"
    }
   ],
   "source": [
    "take 3 [12,88,76,5,2]"
   ]
  },
  {
   "cell_type": "markdown",
   "id": "c4f7da8f-889e-488b-8094-afa8cf0228f9",
   "metadata": {},
   "source": [
    "### - drop  \n",
    "Drops the first n elements from a list, returning the rest."
   ]
  },
  {
   "cell_type": "code",
   "execution_count": 27,
   "id": "071f18ac-08ff-45f0-be39-6cbc69227283",
   "metadata": {},
   "outputs": [
    {
     "data": {
      "text/plain": [
       "[5,2]"
      ]
     },
     "metadata": {},
     "output_type": "display_data"
    }
   ],
   "source": [
    "drop 3 [12,88,76,5,2]"
   ]
  },
  {
   "cell_type": "markdown",
   "id": "6c943300-aebd-4041-b908-42a6fa2c6374",
   "metadata": {},
   "source": [
    "### - splitAt   \n",
    "Splits a list at a specific position into a tuple of two lists."
   ]
  },
  {
   "cell_type": "code",
   "execution_count": 28,
   "id": "e645d8fd-8790-4d46-8239-df090e475bd1",
   "metadata": {},
   "outputs": [
    {
     "data": {
      "text/plain": [
       "([5,4,3],[2,1])"
      ]
     },
     "metadata": {},
     "output_type": "display_data"
    }
   ],
   "source": [
    "splitAt 3 [5,4,3,2,1]"
   ]
  },
  {
   "cell_type": "markdown",
   "id": "8461e89e-1b47-4333-a24b-5102d4947a71",
   "metadata": {},
   "source": [
    "### (!!) Operation \n",
    "List Indexing    \n",
    "Retrieves an element from a list at a specific index."
   ]
  },
  {
   "cell_type": "code",
   "execution_count": 32,
   "id": "9515098e-d686-468e-b85f-d6b584858c9f",
   "metadata": {},
   "outputs": [
    {
     "data": {
      "text/html": [
       "<style>/* Styles used for the Hoogle display in the pager */\n",
       ".hoogle-doc {\n",
       "display: block;\n",
       "padding-bottom: 1.3em;\n",
       "padding-left: 0.4em;\n",
       "}\n",
       ".hoogle-code {\n",
       "display: block;\n",
       "font-family: monospace;\n",
       "white-space: pre;\n",
       "}\n",
       ".hoogle-text {\n",
       "display: block;\n",
       "}\n",
       ".hoogle-name {\n",
       "color: green;\n",
       "font-weight: bold;\n",
       "}\n",
       ".hoogle-head {\n",
       "font-weight: bold;\n",
       "}\n",
       ".hoogle-sub {\n",
       "display: block;\n",
       "margin-left: 0.4em;\n",
       "}\n",
       ".hoogle-package {\n",
       "font-weight: bold;\n",
       "font-style: italic;\n",
       "}\n",
       ".hoogle-module {\n",
       "font-weight: bold;\n",
       "}\n",
       ".hoogle-class {\n",
       "font-weight: bold;\n",
       "}\n",
       "\n",
       ".get-type {\n",
       "color: green;\n",
       "font-weight: bold;\n",
       "font-family: monospace;\n",
       "display: block;\n",
       "white-space: pre-wrap;\n",
       "}\n",
       ".show-type {\n",
       "color: green;\n",
       "font-weight: bold;\n",
       "font-family: monospace;\n",
       "margin-left: 1em;\n",
       "}\n",
       ".mono {\n",
       "font-family: monospace;\n",
       "display: block;\n",
       "}\n",
       ".err-msg {\n",
       "color: red;\n",
       "font-style: italic;\n",
       "font-family: monospace;\n",
       "white-space: pre;\n",
       "display: block;\n",
       "}\n",
       "#unshowable {\n",
       "color: red;\n",
       "font-weight: bold;\n",
       "}\n",
       ".err-msg.in.collapse {\n",
       "padding-top: 0.7em;\n",
       "}\n",
       "\n",
       ".highlight-code {\n",
       "white-space: pre;\n",
       "font-family: monospace;\n",
       "}\n",
       "\n",
       ".suggestion-warning { \n",
       "font-weight: bold;\n",
       "color: rgb(200, 130, 0);\n",
       "}\n",
       ".suggestion-error { \n",
       "font-weight: bold;\n",
       "color: red;\n",
       "}\n",
       ".suggestion-name {\n",
       "font-weight: bold;\n",
       "}\n",
       "\n",
       "</style><div class=\"suggestion-name\" style=\"clear:both;\">Use head</div><div class=\"suggestion-row\" style=\"float: left;\"><div class=\"suggestion-warning\">Found:</div><div class=\"highlight-code\" id=\"haskell\">[12, 88, 76, 5, 2] !! 0</div></div><div class=\"suggestion-row\" style=\"float: left;\"><div class=\"suggestion-warning\">Why Not:</div><div class=\"highlight-code\" id=\"haskell\">head [12, 88, 76, 5, 2]</div></div>"
      ],
      "text/plain": [
       "Line 3: Use head\n",
       "Found:\n",
       "[12, 88, 76, 5, 2] !! 0\n",
       "Why not:\n",
       "head [12, 88, 76, 5, 2]"
      ]
     },
     "metadata": {},
     "output_type": "display_data"
    },
    {
     "data": {
      "text/plain": [
       "76"
      ]
     },
     "metadata": {},
     "output_type": "display_data"
    },
    {
     "data": {
      "text/plain": [
       "88"
      ]
     },
     "metadata": {},
     "output_type": "display_data"
    },
    {
     "data": {
      "text/plain": [
       "12"
      ]
     },
     "metadata": {},
     "output_type": "display_data"
    }
   ],
   "source": [
    "[12,88,76,5,2] !! 2\n",
    "[12,88,76,5,2] !! 1\n",
    "[12,88,76,5,2] !! 0"
   ]
  },
  {
   "cell_type": "markdown",
   "id": "b3a590bb-659f-4adb-941f-3f0f263c73f2",
   "metadata": {},
   "source": [
    "### - elem   \n",
    "Checks if an element is present in a list."
   ]
  },
  {
   "cell_type": "code",
   "execution_count": 34,
   "id": "ec0c5725-e770-49d0-98f2-160c985b901a",
   "metadata": {},
   "outputs": [
    {
     "data": {
      "text/html": [
       "<style>/* Styles used for the Hoogle display in the pager */\n",
       ".hoogle-doc {\n",
       "display: block;\n",
       "padding-bottom: 1.3em;\n",
       "padding-left: 0.4em;\n",
       "}\n",
       ".hoogle-code {\n",
       "display: block;\n",
       "font-family: monospace;\n",
       "white-space: pre;\n",
       "}\n",
       ".hoogle-text {\n",
       "display: block;\n",
       "}\n",
       ".hoogle-name {\n",
       "color: green;\n",
       "font-weight: bold;\n",
       "}\n",
       ".hoogle-head {\n",
       "font-weight: bold;\n",
       "}\n",
       ".hoogle-sub {\n",
       "display: block;\n",
       "margin-left: 0.4em;\n",
       "}\n",
       ".hoogle-package {\n",
       "font-weight: bold;\n",
       "font-style: italic;\n",
       "}\n",
       ".hoogle-module {\n",
       "font-weight: bold;\n",
       "}\n",
       ".hoogle-class {\n",
       "font-weight: bold;\n",
       "}\n",
       "\n",
       ".get-type {\n",
       "color: green;\n",
       "font-weight: bold;\n",
       "font-family: monospace;\n",
       "display: block;\n",
       "white-space: pre-wrap;\n",
       "}\n",
       ".show-type {\n",
       "color: green;\n",
       "font-weight: bold;\n",
       "font-family: monospace;\n",
       "margin-left: 1em;\n",
       "}\n",
       ".mono {\n",
       "font-family: monospace;\n",
       "display: block;\n",
       "}\n",
       ".err-msg {\n",
       "color: red;\n",
       "font-style: italic;\n",
       "font-family: monospace;\n",
       "white-space: pre;\n",
       "display: block;\n",
       "}\n",
       "#unshowable {\n",
       "color: red;\n",
       "font-weight: bold;\n",
       "}\n",
       ".err-msg.in.collapse {\n",
       "padding-top: 0.7em;\n",
       "}\n",
       "\n",
       ".highlight-code {\n",
       "white-space: pre;\n",
       "font-family: monospace;\n",
       "}\n",
       "\n",
       ".suggestion-warning { \n",
       "font-weight: bold;\n",
       "color: rgb(200, 130, 0);\n",
       "}\n",
       ".suggestion-error { \n",
       "font-weight: bold;\n",
       "color: red;\n",
       "}\n",
       ".suggestion-name {\n",
       "font-weight: bold;\n",
       "}\n",
       "\n",
       "</style><div class=\"suggestion-name\" style=\"clear:both;\">Use infix</div><div class=\"suggestion-row\" style=\"float: left;\"><div class=\"suggestion-warning\">Found:</div><div class=\"highlight-code\" id=\"haskell\">elem 12 [12, 88, 76, 5, 2]</div></div><div class=\"suggestion-row\" style=\"float: left;\"><div class=\"suggestion-warning\">Why Not:</div><div class=\"highlight-code\" id=\"haskell\">12 `elem` [12, 88, 76, 5, 2]</div></div><div class=\"suggestion-name\" style=\"clear:both;\">Use infix</div><div class=\"suggestion-row\" style=\"float: left;\"><div class=\"suggestion-warning\">Found:</div><div class=\"highlight-code\" id=\"haskell\">elem 5 [12, 88, 76, 5, 2]</div></div><div class=\"suggestion-row\" style=\"float: left;\"><div class=\"suggestion-warning\">Why Not:</div><div class=\"highlight-code\" id=\"haskell\">5 `elem` [12, 88, 76, 5, 2]</div></div><div class=\"suggestion-name\" style=\"clear:both;\">Use infix</div><div class=\"suggestion-row\" style=\"float: left;\"><div class=\"suggestion-warning\">Found:</div><div class=\"highlight-code\" id=\"haskell\">elem 33 [12, 88, 76, 5, 2]</div></div><div class=\"suggestion-row\" style=\"float: left;\"><div class=\"suggestion-warning\">Why Not:</div><div class=\"highlight-code\" id=\"haskell\">33 `elem` [12, 88, 76, 5, 2]</div></div>"
      ],
      "text/plain": [
       "Line 1: Use infix\n",
       "Found:\n",
       "elem 12 [12, 88, 76, 5, 2]\n",
       "Why not:\n",
       "12 `elem` [12, 88, 76, 5, 2]Line 3: Use infix\n",
       "Found:\n",
       "elem 5 [12, 88, 76, 5, 2]\n",
       "Why not:\n",
       "5 `elem` [12, 88, 76, 5, 2]Line 5: Use infix\n",
       "Found:\n",
       "elem 33 [12, 88, 76, 5, 2]\n",
       "Why not:\n",
       "33 `elem` [12, 88, 76, 5, 2]"
      ]
     },
     "metadata": {},
     "output_type": "display_data"
    },
    {
     "data": {
      "text/plain": [
       "True"
      ]
     },
     "metadata": {},
     "output_type": "display_data"
    },
    {
     "data": {
      "text/plain": [
       "True"
      ]
     },
     "metadata": {},
     "output_type": "display_data"
    },
    {
     "data": {
      "text/plain": [
       "False"
      ]
     },
     "metadata": {},
     "output_type": "display_data"
    }
   ],
   "source": [
    "elem 12 [12,88,76,5,2]\n",
    "\n",
    "elem 5 [12,88,76,5,2]\n",
    "\n",
    "elem 33 [12,88,76,5,2]"
   ]
  },
  {
   "cell_type": "markdown",
   "id": "d83af626-06a0-4444-912b-2fbb096fefd4",
   "metadata": {},
   "source": [
    "## List Reductions"
   ]
  },
  {
   "cell_type": "markdown",
   "id": "67c5a786-94a6-49de-860e-4956233aee11",
   "metadata": {},
   "source": [
    "### - sum and product   \n",
    "Compute the sum and product of elements in a list."
   ]
  },
  {
   "cell_type": "code",
   "execution_count": 35,
   "id": "7d7e5443-89f1-48e5-8370-86660e3992dc",
   "metadata": {},
   "outputs": [
    {
     "data": {
      "text/plain": [
       "183"
      ]
     },
     "metadata": {},
     "output_type": "display_data"
    },
    {
     "data": {
      "text/plain": [
       "360"
      ]
     },
     "metadata": {},
     "output_type": "display_data"
    }
   ],
   "source": [
    "sum [12,88,76,5,2]\n",
    "product [12,3,1,5,2]"
   ]
  },
  {
   "cell_type": "markdown",
   "id": "a009a11c-1e32-44c0-a368-be33f5099b44",
   "metadata": {},
   "source": [
    "### - minimum and maximum  \n",
    "Find the smallest and largest element in a list."
   ]
  },
  {
   "cell_type": "code",
   "execution_count": 36,
   "id": "a9c84126-799c-4742-971d-ea3e3b9ca1dc",
   "metadata": {},
   "outputs": [
    {
     "data": {
      "text/plain": [
       "2"
      ]
     },
     "metadata": {},
     "output_type": "display_data"
    },
    {
     "data": {
      "text/plain": [
       "88"
      ]
     },
     "metadata": {},
     "output_type": "display_data"
    }
   ],
   "source": [
    "minimum [12,88,76,5,2]\n",
    "maximum [12,88,76,5,2]"
   ]
  },
  {
   "cell_type": "markdown",
   "id": "c71e15df-d73c-4c94-b62a-e0138c773c22",
   "metadata": {},
   "source": [
    "## List Transformations"
   ]
  },
  {
   "cell_type": "markdown",
   "id": "aaef6074-8f69-4ae1-92fd-7b33e2f89915",
   "metadata": {},
   "source": [
    "### - map  \n",
    "Applies a function to each element of a list."
   ]
  },
  {
   "cell_type": "code",
   "execution_count": 17,
   "id": "5b5d299c-1c80-4b7c-8265-e5dcaced4dec",
   "metadata": {},
   "outputs": [
    {
     "data": {
      "text/plain": [
       "[14,30,44]"
      ]
     },
     "metadata": {},
     "output_type": "display_data"
    }
   ],
   "source": [
    "map (*2) [7, 15, 22]"
   ]
  },
  {
   "cell_type": "code",
   "execution_count": 20,
   "id": "147e64b1-c238-4a7d-8a0d-6636d4e1f3dc",
   "metadata": {},
   "outputs": [
    {
     "data": {
      "text/plain": [
       "[7.5,11.5,15.0]"
      ]
     },
     "metadata": {},
     "output_type": "display_data"
    }
   ],
   "source": [
    "myFunc a = a/2 + 4\n",
    "map myFunc [7, 15, 22]"
   ]
  },
  {
   "cell_type": "markdown",
   "id": "a1b07b99-366f-49ec-97ab-f130fc92fa03",
   "metadata": {},
   "source": [
    "### - Filter  \n",
    "Selects elements from a list that satisfy a predicate."
   ]
  },
  {
   "cell_type": "code",
   "execution_count": 21,
   "id": "02fdad2f-f5b1-400c-91b1-987c5be92a1e",
   "metadata": {},
   "outputs": [
    {
     "data": {
      "text/plain": [
       "[1,3,5]"
      ]
     },
     "metadata": {},
     "output_type": "display_data"
    }
   ],
   "source": [
    "filter odd [1, 2, 3, 4, 5]"
   ]
  },
  {
   "cell_type": "code",
   "execution_count": 22,
   "id": "9fb209c0-1f90-4278-9c43-bdbe3dfdb8a6",
   "metadata": {},
   "outputs": [
    {
     "ename": "",
     "evalue": "",
     "output_type": "error",
     "traceback": [
      "<interactive>:1:16: error: [GHC-39999]\n    • No instance for ‘Num Bool’ arising from the literal ‘7’\n    • In the expression: 7\n      In the second argument of ‘filter’, namely ‘[7, 15, 22]’\n      In the expression: filter myFunc [7, 15, 22]\n<interactive>:1:8: error: [GHC-39999]\n    • No instance for ‘Fractional Bool’ arising from a use of ‘myFunc’\n    • In the first argument of ‘filter’, namely ‘myFunc’\n      In the expression: filter myFunc [7, 15, 22]\n      In an equation for ‘it’: it = filter myFunc [7, 15, 22]"
     ]
    }
   ],
   "source": [
    "myFunc a = a/2 + 4\n",
    "filter myFunc [7, 15, 22]"
   ]
  },
  {
   "cell_type": "markdown",
   "id": "0421e3bc-f353-466f-b76f-e5787823481d",
   "metadata": {},
   "source": [
    "type signature for the filter function:  \n",
    "filter :: (a -> Bool) -> [a] -> [a]  \n",
    "  \n",
    "A function from a to Bool (the predicate).  \n",
    "A list of elements of type a."
   ]
  },
  {
   "cell_type": "markdown",
   "id": "3c68e5ad-985b-4513-8673-547899fac546",
   "metadata": {},
   "source": [
    "Simply, the predicate function must return a Bool"
   ]
  },
  {
   "cell_type": "code",
   "execution_count": 27,
   "id": "e0db5f92-dd25-4234-bed2-2f52bd660807",
   "metadata": {},
   "outputs": [
    {
     "data": {
      "text/plain": [
       "[2,2]"
      ]
     },
     "metadata": {},
     "output_type": "display_data"
    }
   ],
   "source": [
    "bFunc a | a == 2 = True\n",
    "        | otherwise = False\n",
    "filter bFunc [2,7, 2,15, 22]"
   ]
  },
  {
   "cell_type": "markdown",
   "id": "a683b54a-c596-4575-860d-7eef347cec0e",
   "metadata": {},
   "source": [
    "### - reverse  \n",
    "Reverses the list."
   ]
  },
  {
   "cell_type": "code",
   "execution_count": 28,
   "id": "355f3a74-9f5e-4982-80da-f5948b9ac230",
   "metadata": {},
   "outputs": [
    {
     "data": {
      "text/plain": [
       "[88,7,5,4,1]"
      ]
     },
     "metadata": {},
     "output_type": "display_data"
    }
   ],
   "source": [
    "reverse [1,4,5,7,88]"
   ]
  },
  {
   "cell_type": "markdown",
   "id": "1e57e953-ddbe-46f8-aba2-c359b8922bc9",
   "metadata": {},
   "source": [
    "## Folding and Reduction"
   ]
  },
  {
   "cell_type": "markdown",
   "id": "51a6ebe9-062b-4925-8fc8-bb637629a29b",
   "metadata": {},
   "source": [
    "### - foldl (fold left)  \n",
    "Reduces the list from the left using a binary operator."
   ]
  },
  {
   "cell_type": "code",
   "execution_count": 2,
   "id": "c049d54a-7853-44b5-a9e5-676f676c5d33",
   "metadata": {},
   "outputs": [
    {
     "data": {
      "text/html": [
       "<style>/* Styles used for the Hoogle display in the pager */\n",
       ".hoogle-doc {\n",
       "display: block;\n",
       "padding-bottom: 1.3em;\n",
       "padding-left: 0.4em;\n",
       "}\n",
       ".hoogle-code {\n",
       "display: block;\n",
       "font-family: monospace;\n",
       "white-space: pre;\n",
       "}\n",
       ".hoogle-text {\n",
       "display: block;\n",
       "}\n",
       ".hoogle-name {\n",
       "color: green;\n",
       "font-weight: bold;\n",
       "}\n",
       ".hoogle-head {\n",
       "font-weight: bold;\n",
       "}\n",
       ".hoogle-sub {\n",
       "display: block;\n",
       "margin-left: 0.4em;\n",
       "}\n",
       ".hoogle-package {\n",
       "font-weight: bold;\n",
       "font-style: italic;\n",
       "}\n",
       ".hoogle-module {\n",
       "font-weight: bold;\n",
       "}\n",
       ".hoogle-class {\n",
       "font-weight: bold;\n",
       "}\n",
       "\n",
       ".get-type {\n",
       "color: green;\n",
       "font-weight: bold;\n",
       "font-family: monospace;\n",
       "display: block;\n",
       "white-space: pre-wrap;\n",
       "}\n",
       ".show-type {\n",
       "color: green;\n",
       "font-weight: bold;\n",
       "font-family: monospace;\n",
       "margin-left: 1em;\n",
       "}\n",
       ".mono {\n",
       "font-family: monospace;\n",
       "display: block;\n",
       "}\n",
       ".err-msg {\n",
       "color: red;\n",
       "font-style: italic;\n",
       "font-family: monospace;\n",
       "white-space: pre;\n",
       "display: block;\n",
       "}\n",
       "#unshowable {\n",
       "color: red;\n",
       "font-weight: bold;\n",
       "}\n",
       ".err-msg.in.collapse {\n",
       "padding-top: 0.7em;\n",
       "}\n",
       "\n",
       ".highlight-code {\n",
       "white-space: pre;\n",
       "font-family: monospace;\n",
       "}\n",
       "\n",
       ".suggestion-warning { \n",
       "font-weight: bold;\n",
       "color: rgb(200, 130, 0);\n",
       "}\n",
       ".suggestion-error { \n",
       "font-weight: bold;\n",
       "color: red;\n",
       "}\n",
       ".suggestion-name {\n",
       "font-weight: bold;\n",
       "}\n",
       "\n",
       "</style><div class=\"suggestion-name\" style=\"clear:both;\">Use sum</div><div class=\"suggestion-row\" style=\"float: left;\"><div class=\"suggestion-warning\">Found:</div><div class=\"highlight-code\" id=\"haskell\">foldl (+) 0</div></div><div class=\"suggestion-row\" style=\"float: left;\"><div class=\"suggestion-warning\">Why Not:</div><div class=\"highlight-code\" id=\"haskell\">sum</div></div>"
      ],
      "text/plain": [
       "Line 1: Use sum\n",
       "Found:\n",
       "foldl (+) 0\n",
       "Why not:\n",
       "sum"
      ]
     },
     "metadata": {},
     "output_type": "display_data"
    },
    {
     "data": {
      "text/plain": [
       "15"
      ]
     },
     "metadata": {},
     "output_type": "display_data"
    }
   ],
   "source": [
    "foldl (+) 0 [1, 2, 3, 4, 5]"
   ]
  },
  {
   "cell_type": "markdown",
   "id": "642b8349-492e-4e54-8642-e445c0253971",
   "metadata": {},
   "source": [
    "foldl customFunction a [b1,b2...,bi,... \\]   \n",
    "customFunction:: a -> bi -> c  \n",
    "custom function takes a as its first parameter and bi as second.  "
   ]
  },
  {
   "cell_type": "markdown",
   "id": "edaf260e-74a4-4d08-be7f-bb176f4c35fa",
   "metadata": {},
   "source": [
    "Starts applying the function from left to right.     \n",
    "Found return value is used as new \"a\" parameter"
   ]
  },
  {
   "cell_type": "code",
   "execution_count": 12,
   "id": "190fb277-74bd-47bc-be90-8663a4ff41ca",
   "metadata": {},
   "outputs": [
    {
     "data": {
      "text/plain": [
       "8.333333333333333e-3"
      ]
     },
     "metadata": {},
     "output_type": "display_data"
    }
   ],
   "source": [
    "fFunc a b = a/b\n",
    "foldl fFunc 1 [1,2,3,4,5]"
   ]
  },
  {
   "cell_type": "markdown",
   "id": "10d8d75e-de12-41cc-951f-13ff704ed239",
   "metadata": {},
   "source": [
    "##### Step 1:\n",
    "c = a/1 = 1/1 = 1\n",
    "##### Step 2:\n",
    "c = a/2 = 1/2 = 0.5\n",
    "##### Step 3:\n",
    "c = a/3 = (0.5)/3 = 0.1667\n",
    "##### Step 4:\n",
    "c = a/4 = (0.1667)/4 = 0.041675\n",
    "##### Step 5:\n",
    "c = a/5 = (0.041675)/5 = 0.008335"
   ]
  },
  {
   "cell_type": "markdown",
   "id": "9b88ad67-19fc-4ceb-9e0b-7fef51e54fa5",
   "metadata": {},
   "source": [
    "### - foldr (fold right)\n",
    "\n",
    "Reduces the list from the right using a binary operator.\n"
   ]
  },
  {
   "cell_type": "code",
   "execution_count": 8,
   "id": "32d815cc-901f-43fb-9fee-18884b1e5fe7",
   "metadata": {},
   "outputs": [
    {
     "data": {
      "text/html": [
       "<style>/* Styles used for the Hoogle display in the pager */\n",
       ".hoogle-doc {\n",
       "display: block;\n",
       "padding-bottom: 1.3em;\n",
       "padding-left: 0.4em;\n",
       "}\n",
       ".hoogle-code {\n",
       "display: block;\n",
       "font-family: monospace;\n",
       "white-space: pre;\n",
       "}\n",
       ".hoogle-text {\n",
       "display: block;\n",
       "}\n",
       ".hoogle-name {\n",
       "color: green;\n",
       "font-weight: bold;\n",
       "}\n",
       ".hoogle-head {\n",
       "font-weight: bold;\n",
       "}\n",
       ".hoogle-sub {\n",
       "display: block;\n",
       "margin-left: 0.4em;\n",
       "}\n",
       ".hoogle-package {\n",
       "font-weight: bold;\n",
       "font-style: italic;\n",
       "}\n",
       ".hoogle-module {\n",
       "font-weight: bold;\n",
       "}\n",
       ".hoogle-class {\n",
       "font-weight: bold;\n",
       "}\n",
       "\n",
       ".get-type {\n",
       "color: green;\n",
       "font-weight: bold;\n",
       "font-family: monospace;\n",
       "display: block;\n",
       "white-space: pre-wrap;\n",
       "}\n",
       ".show-type {\n",
       "color: green;\n",
       "font-weight: bold;\n",
       "font-family: monospace;\n",
       "margin-left: 1em;\n",
       "}\n",
       ".mono {\n",
       "font-family: monospace;\n",
       "display: block;\n",
       "}\n",
       ".err-msg {\n",
       "color: red;\n",
       "font-style: italic;\n",
       "font-family: monospace;\n",
       "white-space: pre;\n",
       "display: block;\n",
       "}\n",
       "#unshowable {\n",
       "color: red;\n",
       "font-weight: bold;\n",
       "}\n",
       ".err-msg.in.collapse {\n",
       "padding-top: 0.7em;\n",
       "}\n",
       "\n",
       ".highlight-code {\n",
       "white-space: pre;\n",
       "font-family: monospace;\n",
       "}\n",
       "\n",
       ".suggestion-warning { \n",
       "font-weight: bold;\n",
       "color: rgb(200, 130, 0);\n",
       "}\n",
       ".suggestion-error { \n",
       "font-weight: bold;\n",
       "color: red;\n",
       "}\n",
       ".suggestion-name {\n",
       "font-weight: bold;\n",
       "}\n",
       "\n",
       "</style><div class=\"suggestion-name\" style=\"clear:both;\">Use sum</div><div class=\"suggestion-row\" style=\"float: left;\"><div class=\"suggestion-warning\">Found:</div><div class=\"highlight-code\" id=\"haskell\">foldr (+) 0</div></div><div class=\"suggestion-row\" style=\"float: left;\"><div class=\"suggestion-warning\">Why Not:</div><div class=\"highlight-code\" id=\"haskell\">sum</div></div>"
      ],
      "text/plain": [
       "Line 1: Use sum\n",
       "Found:\n",
       "foldr (+) 0\n",
       "Why not:\n",
       "sum"
      ]
     },
     "metadata": {},
     "output_type": "display_data"
    },
    {
     "data": {
      "text/plain": [
       "15"
      ]
     },
     "metadata": {},
     "output_type": "display_data"
    }
   ],
   "source": [
    "foldr (+) 0 [1, 2, 3, 4, 5]"
   ]
  },
  {
   "cell_type": "code",
   "execution_count": 14,
   "id": "48a91076-fdfc-4d1d-920f-6d26053b2ae9",
   "metadata": {},
   "outputs": [
    {
     "data": {
      "text/plain": [
       "1.875"
      ]
     },
     "metadata": {},
     "output_type": "display_data"
    }
   ],
   "source": [
    "fFunc a b = a/b\n",
    "foldr fFunc 1 [1,2,3,4,5]"
   ]
  },
  {
   "cell_type": "markdown",
   "id": "4362b2e4-0b9c-4495-a0bd-a7fcfb610620",
   "metadata": {},
   "source": [
    "## Special Fold Operations"
   ]
  },
  {
   "cell_type": "markdown",
   "id": "41845172-3ec1-4ee2-8c7c-8e1775f5f93d",
   "metadata": {},
   "source": [
    "### -any and all  \n",
    "Check if any or all elements of a list satisfy a predicate."
   ]
  },
  {
   "cell_type": "code",
   "execution_count": 41,
   "id": "ece3df2e-5506-46e0-b113-19ff28ebbcb4",
   "metadata": {},
   "outputs": [
    {
     "data": {
      "text/plain": [
       "True"
      ]
     },
     "metadata": {},
     "output_type": "display_data"
    }
   ],
   "source": [
    "any (> 3) [1, 2, 3, 4]"
   ]
  },
  {
   "cell_type": "code",
   "execution_count": 40,
   "id": "741e9dab-45ae-4c16-866b-722f624c9570",
   "metadata": {},
   "outputs": [
    {
     "data": {
      "text/plain": [
       "False"
      ]
     },
     "metadata": {},
     "output_type": "display_data"
    }
   ],
   "source": [
    "all (> 1) [1, 2, 3, 4]"
   ]
  },
  {
   "cell_type": "markdown",
   "id": "2d152787-e550-4dc4-a23b-2586467d95d2",
   "metadata": {},
   "source": [
    "### - null   \n",
    "Checks if a list is empty."
   ]
  },
  {
   "cell_type": "code",
   "execution_count": 46,
   "id": "0eeb3d63-73e2-426c-922c-27a2cf644448",
   "metadata": {},
   "outputs": [
    {
     "data": {
      "text/html": [
       "<style>/* Styles used for the Hoogle display in the pager */\n",
       ".hoogle-doc {\n",
       "display: block;\n",
       "padding-bottom: 1.3em;\n",
       "padding-left: 0.4em;\n",
       "}\n",
       ".hoogle-code {\n",
       "display: block;\n",
       "font-family: monospace;\n",
       "white-space: pre;\n",
       "}\n",
       ".hoogle-text {\n",
       "display: block;\n",
       "}\n",
       ".hoogle-name {\n",
       "color: green;\n",
       "font-weight: bold;\n",
       "}\n",
       ".hoogle-head {\n",
       "font-weight: bold;\n",
       "}\n",
       ".hoogle-sub {\n",
       "display: block;\n",
       "margin-left: 0.4em;\n",
       "}\n",
       ".hoogle-package {\n",
       "font-weight: bold;\n",
       "font-style: italic;\n",
       "}\n",
       ".hoogle-module {\n",
       "font-weight: bold;\n",
       "}\n",
       ".hoogle-class {\n",
       "font-weight: bold;\n",
       "}\n",
       "\n",
       ".get-type {\n",
       "color: green;\n",
       "font-weight: bold;\n",
       "font-family: monospace;\n",
       "display: block;\n",
       "white-space: pre-wrap;\n",
       "}\n",
       ".show-type {\n",
       "color: green;\n",
       "font-weight: bold;\n",
       "font-family: monospace;\n",
       "margin-left: 1em;\n",
       "}\n",
       ".mono {\n",
       "font-family: monospace;\n",
       "display: block;\n",
       "}\n",
       ".err-msg {\n",
       "color: red;\n",
       "font-style: italic;\n",
       "font-family: monospace;\n",
       "white-space: pre;\n",
       "display: block;\n",
       "}\n",
       "#unshowable {\n",
       "color: red;\n",
       "font-weight: bold;\n",
       "}\n",
       ".err-msg.in.collapse {\n",
       "padding-top: 0.7em;\n",
       "}\n",
       "\n",
       ".highlight-code {\n",
       "white-space: pre;\n",
       "font-family: monospace;\n",
       "}\n",
       "\n",
       ".suggestion-warning { \n",
       "font-weight: bold;\n",
       "color: rgb(200, 130, 0);\n",
       "}\n",
       ".suggestion-error { \n",
       "font-weight: bold;\n",
       "color: red;\n",
       "}\n",
       ".suggestion-name {\n",
       "font-weight: bold;\n",
       "}\n",
       "\n",
       "</style><div class=\"suggestion-name\" style=\"clear:both;\">Evaluate</div><div class=\"suggestion-row\" style=\"float: left;\"><div class=\"suggestion-warning\">Found:</div><div class=\"highlight-code\" id=\"haskell\">null []</div></div><div class=\"suggestion-row\" style=\"float: left;\"><div class=\"suggestion-warning\">Why Not:</div><div class=\"highlight-code\" id=\"haskell\">True</div></div>"
      ],
      "text/plain": [
       "Line 2: Evaluate\n",
       "Found:\n",
       "null []\n",
       "Why not:\n",
       "True"
      ]
     },
     "metadata": {},
     "output_type": "display_data"
    },
    {
     "data": {
      "text/plain": [
       "False"
      ]
     },
     "metadata": {},
     "output_type": "display_data"
    },
    {
     "data": {
      "text/plain": [
       "True"
      ]
     },
     "metadata": {},
     "output_type": "display_data"
    }
   ],
   "source": [
    "null [1,2]\n",
    "null []"
   ]
  },
  {
   "cell_type": "markdown",
   "id": "c6d4c6f5-d688-4e2c-815e-29569c5523a8",
   "metadata": {},
   "source": [
    "## Concatenation and Combining Lists"
   ]
  },
  {
   "cell_type": "markdown",
   "id": "db5091ba-c21f-4bd8-914f-6a863c82ebe5",
   "metadata": {},
   "source": [
    "### Concatenation (++) Operator      \n",
    "Combines two or more lists."
   ]
  },
  {
   "cell_type": "code",
   "execution_count": 47,
   "id": "9701baec-e8ca-4b31-94b9-163207e10370",
   "metadata": {},
   "outputs": [
    {
     "data": {
      "text/plain": [
       "[1,2,3,4,5]"
      ]
     },
     "metadata": {},
     "output_type": "display_data"
    }
   ],
   "source": [
    "[1, 2, 3] ++ [4, 5]"
   ]
  },
  {
   "cell_type": "markdown",
   "id": "6414838b-8677-4fda-a1da-3bdac93c9255",
   "metadata": {},
   "source": [
    "### - concat   \n",
    "Flattens a list of lists."
   ]
  },
  {
   "cell_type": "code",
   "execution_count": 48,
   "id": "6ec0a078-c519-42d6-a8bb-6a699ae3c5fe",
   "metadata": {},
   "outputs": [
    {
     "data": {
      "text/plain": [
       "[84,72,32,90,700]"
      ]
     },
     "metadata": {},
     "output_type": "display_data"
    }
   ],
   "source": [
    "concat [ [84, 72] , [32, 90] , [700] ]"
   ]
  },
  {
   "cell_type": "markdown",
   "id": "76555d3d-9a32-45e7-a742-8843c1e1a58e",
   "metadata": {},
   "source": [
    "## List Comprehensions"
   ]
  },
  {
   "cell_type": "markdown",
   "id": "88f10d87-c1d3-4cdf-9356-567618696b61",
   "metadata": {},
   "source": [
    "List comprehensions provide a way to build lists.   \n",
    "Consists of an expression followed by one or more qualifiers:\n",
    "\n",
    "[ expression | x <- [b1,b2,...,bi,... \\] , {Qualifiers for x} \\]"
   ]
  },
  {
   "cell_type": "code",
   "execution_count": 49,
   "id": "b1ab6e4f-9dd8-4135-a584-a5dfc1f260f8",
   "metadata": {},
   "outputs": [
    {
     "data": {
      "text/plain": [
       "[2,4,6,8,10]"
      ]
     },
     "metadata": {},
     "output_type": "display_data"
    },
    {
     "data": {
      "text/plain": [
       "[1,3,5]"
      ]
     },
     "metadata": {},
     "output_type": "display_data"
    },
    {
     "data": {
      "text/plain": [
       "[3]"
      ]
     },
     "metadata": {},
     "output_type": "display_data"
    }
   ],
   "source": [
    "[ x*2 | x <- [1..5] ]\n",
    "\n",
    "[ x | x <- [1..5] , mod x 2 == 1 ] \n",
    "\n",
    "[ x | x <- [1..5] , mod x 2 == 1 , x + 1 == 4] "
   ]
  },
  {
   "cell_type": "markdown",
   "id": "b6330c15-22d1-46da-85d0-68778d97d780",
   "metadata": {},
   "source": [
    "## Advanced Operations"
   ]
  },
  {
   "cell_type": "markdown",
   "id": "47c07882-dbce-4997-a3c9-19412177871f",
   "metadata": {},
   "source": [
    "### - zip   \n",
    "Combines two lists into a list of tuples."
   ]
  },
  {
   "cell_type": "code",
   "execution_count": 50,
   "id": "c4801725-872c-4f74-b621-d23463ef7c2a",
   "metadata": {},
   "outputs": [
    {
     "data": {
      "text/plain": [
       "[(1,'a'),(2,'b'),(3,'c')]"
      ]
     },
     "metadata": {},
     "output_type": "display_data"
    }
   ],
   "source": [
    "zip [1, 2, 3] ['a', 'b', 'c']"
   ]
  },
  {
   "cell_type": "markdown",
   "id": "e69859d3-59cf-4bb7-9f27-d105232014d8",
   "metadata": {},
   "source": [
    "### - zipWith    \n",
    "Takes a binary function and two lists  \n",
    "Applies the function to each pair of elements."
   ]
  },
  {
   "cell_type": "code",
   "execution_count": 53,
   "id": "b80dc2d7-a2ca-4c72-9e8f-1edf9d906b07",
   "metadata": {},
   "outputs": [
    {
     "data": {
      "text/plain": [
       "[4,50,600]"
      ]
     },
     "metadata": {},
     "output_type": "display_data"
    }
   ],
   "source": [
    "zipWith (*) [1, 10, 100] [4, 5, 6]"
   ]
  },
  {
   "cell_type": "code",
   "execution_count": null,
   "id": "f4820e35-cad2-4e3e-9e70-541c226356e5",
   "metadata": {},
   "outputs": [],
   "source": []
  }
 ],
 "metadata": {
  "kernelspec": {
   "display_name": "Haskell",
   "language": "haskell",
   "name": "haskell"
  },
  "language_info": {
   "codemirror_mode": "ihaskell",
   "file_extension": ".hs",
   "mimetype": "text/x-haskell",
   "name": "haskell",
   "pygments_lexer": "Haskell",
   "version": "9.6.4"
  }
 },
 "nbformat": 4,
 "nbformat_minor": 5
}
