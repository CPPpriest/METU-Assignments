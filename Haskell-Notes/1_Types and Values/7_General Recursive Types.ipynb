{
 "cells": [
  {
   "cell_type": "code",
   "execution_count": null,
   "id": "3ff5d2e3-916c-47e0-b79b-25322ddac6e8",
   "metadata": {},
   "outputs": [
    {
     "data": {
      "text/html": [
       "<style>/* Styles used for the Hoogle display in the pager */\n",
       ".hoogle-doc {\n",
       "display: block;\n",
       "padding-bottom: 1.3em;\n",
       "padding-left: 0.4em;\n",
       "}\n",
       ".hoogle-code {\n",
       "display: block;\n",
       "font-family: monospace;\n",
       "white-space: pre;\n",
       "}\n",
       ".hoogle-text {\n",
       "display: block;\n",
       "}\n",
       ".hoogle-name {\n",
       "color: green;\n",
       "font-weight: bold;\n",
       "}\n",
       ".hoogle-head {\n",
       "font-weight: bold;\n",
       "}\n",
       ".hoogle-sub {\n",
       "display: block;\n",
       "margin-left: 0.4em;\n",
       "}\n",
       ".hoogle-package {\n",
       "font-weight: bold;\n",
       "font-style: italic;\n",
       "}\n",
       ".hoogle-module {\n",
       "font-weight: bold;\n",
       "}\n",
       ".hoogle-class {\n",
       "font-weight: bold;\n",
       "}\n",
       "\n",
       ".get-type {\n",
       "color: green;\n",
       "font-weight: bold;\n",
       "font-family: monospace;\n",
       "display: block;\n",
       "white-space: pre-wrap;\n",
       "}\n",
       ".show-type {\n",
       "color: green;\n",
       "font-weight: bold;\n",
       "font-family: monospace;\n",
       "margin-left: 1em;\n",
       "}\n",
       ".mono {\n",
       "font-family: monospace;\n",
       "display: block;\n",
       "}\n",
       ".err-msg {\n",
       "color: red;\n",
       "font-style: italic;\n",
       "font-family: monospace;\n",
       "white-space: pre;\n",
       "display: block;\n",
       "}\n",
       "#unshowable {\n",
       "color: red;\n",
       "font-weight: bold;\n",
       "}\n",
       ".err-msg.in.collapse {\n",
       "padding-top: 0.7em;\n",
       "}\n",
       "\n",
       ".highlight-code {\n",
       "white-space: pre;\n",
       "font-family: monospace;\n",
       "}\n",
       "\n",
       ".suggestion-warning { \n",
       "font-weight: bold;\n",
       "color: rgb(200, 130, 0);\n",
       "}\n",
       ".suggestion-error { \n",
       "font-weight: bold;\n",
       "color: red;\n",
       "}\n",
       ".suggestion-name {\n",
       "font-weight: bold;\n",
       "}\n",
       "\n",
       "</style><div class=\"suggestion-name\" style=\"clear:both;\">Use newtype instead of data</div><div class=\"suggestion-row\" style=\"float: left;\"><div class=\"suggestion-warning\">Found:</div><div class=\"highlight-code\" id=\"haskell\">data Hlist a\n",
       "  = Cons (a, Hlist a)\n",
       "  deriving Show</div></div><div class=\"suggestion-row\" style=\"float: left;\"><div class=\"suggestion-warning\">Why Not:</div><div class=\"highlight-code\" id=\"haskell\">newtype Hlist a\n",
       "  = Cons (a, Hlist a)\n",
       "  deriving Show</div></div>"
      ],
      "text/plain": [
       "Line 1: Use newtype instead of data\n",
       "Found:\n",
       "data Hlist a\n",
       "  = Cons (a, Hlist a)\n",
       "  deriving Show\n",
       "Why not:\n",
       "newtype Hlist a\n",
       "  = Cons (a, Hlist a)\n",
       "  deriving Show"
      ]
     },
     "metadata": {},
     "output_type": "display_data"
    }
   ],
   "source": [
    "data Hlist a = Cons( a , Hlist a) deriving Show"
   ]
  },
  {
   "cell_type": "markdown",
   "id": "d40068ed-5910-43cd-9d2e-3e493d1a897c",
   "metadata": {},
   "source": [
    "In this definition, Hlist data type is NOT a DISJOINT UNION  \n",
    "It is simply a CARTESIAN PRODUCT  \n",
    "Meaning that there is no TERMINATION POINT"
   ]
  },
  {
   "cell_type": "code",
   "execution_count": null,
   "id": "bbb987a6-a63b-458f-86d2-b6c31b0784fd",
   "metadata": {},
   "outputs": [
    {
     "data": {
      "text/plain": [
       "Cons (1,Cons (2,Cons (1,Cons (2,Cons (1,Cons (2,Cons (1,Cons (2,Cons (1,Cons (2,Cons (1,Cons (2,Cons (1,Cons (2,Cons (1,Cons (2,Cons (1,Cons (2,Cons (1,Cons (2,Cons (1,Cons (2,Cons (1,Cons (2,Cons (1,Cons (2,Cons (1,Cons (2,Cons (1,Cons (2,Cons (1,Cons (2,Cons (1,Cons (2,Cons (1,Cons (2,Cons (1,Cons (2,Cons (1,Cons (2,Cons (1,Cons (2,Cons (1,Cons (2,Cons (1,Cons (2,Cons (1,Cons (2,Cons (1,Cons (2,Cons (1,Cons (2,Cons (1,Cons (2,Cons (1,Cons (2,Cons (1,Cons (2,Cons (1,Cons (2,Cons (1,Cons (2,Cons (1,Cons (2,Cons (1,Cons (2,Cons (1,Cons (2,Cons (1,Cons (2,Cons (1,Cons (2,Cons (1,Cons (2,Cons (1,Cons (2,Cons (1,Cons (2,Cons (1,Cons (2,Cons (1,Cons (2,Cons (1,Cons (2,Cons (1,Cons (2,Cons (1,Cons (2,Cons (1,Cons (2,Cons (1,Cons (2,Cons (1,Cons (2,Cons (1,Cons (2,Cons (1,Cons (2,Cons (1,Cons (2,Cons (1,Cons (2,Cons (1,Cons (2,Cons (1,Cons (2,Cons (1,Cons (2,Cons (1,Cons (2,Cons (1,Cons (2,Cons (1,Cons (2,Cons (1,Cons (2,Cons (1,Cons (2,Cons (1,Cons (2,Cons (1,Cons (2,Cons (1,Cons (2,Cons (1,Cons (2,Cons (1,Cons (2,Cons (1,Cons (2,Cons (1,Cons (2,Cons (1,Cons (2,Cons (1,Cons (2,Cons (1,Cons (2,Cons (1,Cons (2,Cons (1,Cons (2,Cons (1,Cons (2,Cons (1,Cons (2,Cons (1,Cons (2,Cons (1,Cons (2,Cons (1,Cons (2,Cons (1,Cons (2,Cons (1,Cons (2,Cons (1,Cons (2,Cons (1,Cons (2,Cons (1,Cons (2,Cons (1,Cons (2,Cons (1,Cons (2,Cons (1,Cons (2,Cons (1,Cons (2,Cons (1,Cons (2,Cons (1,Cons (2,Cons (1,Cons (2,Cons (1,Cons (2,Cons (1,Cons (2,Cons (1,Cons (2,Cons (1,Cons (2,Cons (1,Cons (2,Cons (1,Cons (2,Cons (1,Cons (2,Cons (1,Cons (2,Cons (1,Cons (2,Cons (1,Cons (2,Cons (1,Cons (2,Cons (1,Cons (2,Cons (1,Cons (2,Cons (1,Cons (2,Cons (1,Cons (2,Cons (1,Cons (2,Cons (1,Cons (2,Cons (1,Cons (2,Cons (1,Cons (2,Cons (1,Cons (2,Cons (1,Cons (2,Cons (1,Cons (2,Cons (1,Cons (2,Cons (1,Cons (2,Cons (1,Cons (2,Cons (1,Cons (2,Cons (1,Cons (2,Cons (1,Cons (2,Cons (1,Cons (2,Cons (1,Cons (2,Cons (1,Cons (2,Cons (1,Cons (2,Cons (1,Cons (2,Cons (1,Cons (2,Cons (1,Cons (2,Cons (1,Cons (2,Cons (1,Cons (2,"
      ]
     },
     "metadata": {},
     "output_type": "display_data"
    }
   ],
   "source": [
    "let x = Cons( 1 , Cons( 2 , x )  ) in x"
   ]
  },
  {
   "cell_type": "markdown",
   "id": "b16af2b7-9533-4003-b273-37c90eb390ee",
   "metadata": {},
   "source": [
    "Result is an Infinite data type"
   ]
  },
  {
   "cell_type": "code",
   "execution_count": 8,
   "id": "f6e08621-bf18-4d9a-867f-188f5922ade1",
   "metadata": {},
   "outputs": [
    {
     "data": {
      "text/html": [
       "<style>/* Styles used for the Hoogle display in the pager */\n",
       ".hoogle-doc {\n",
       "display: block;\n",
       "padding-bottom: 1.3em;\n",
       "padding-left: 0.4em;\n",
       "}\n",
       ".hoogle-code {\n",
       "display: block;\n",
       "font-family: monospace;\n",
       "white-space: pre;\n",
       "}\n",
       ".hoogle-text {\n",
       "display: block;\n",
       "}\n",
       ".hoogle-name {\n",
       "color: green;\n",
       "font-weight: bold;\n",
       "}\n",
       ".hoogle-head {\n",
       "font-weight: bold;\n",
       "}\n",
       ".hoogle-sub {\n",
       "display: block;\n",
       "margin-left: 0.4em;\n",
       "}\n",
       ".hoogle-package {\n",
       "font-weight: bold;\n",
       "font-style: italic;\n",
       "}\n",
       ".hoogle-module {\n",
       "font-weight: bold;\n",
       "}\n",
       ".hoogle-class {\n",
       "font-weight: bold;\n",
       "}\n",
       "\n",
       ".get-type {\n",
       "color: green;\n",
       "font-weight: bold;\n",
       "font-family: monospace;\n",
       "display: block;\n",
       "white-space: pre-wrap;\n",
       "}\n",
       ".show-type {\n",
       "color: green;\n",
       "font-weight: bold;\n",
       "font-family: monospace;\n",
       "margin-left: 1em;\n",
       "}\n",
       ".mono {\n",
       "font-family: monospace;\n",
       "display: block;\n",
       "}\n",
       ".err-msg {\n",
       "color: red;\n",
       "font-style: italic;\n",
       "font-family: monospace;\n",
       "white-space: pre;\n",
       "display: block;\n",
       "}\n",
       "#unshowable {\n",
       "color: red;\n",
       "font-weight: bold;\n",
       "}\n",
       ".err-msg.in.collapse {\n",
       "padding-top: 0.7em;\n",
       "}\n",
       "\n",
       ".highlight-code {\n",
       "white-space: pre;\n",
       "font-family: monospace;\n",
       "}\n",
       "\n",
       ".suggestion-warning { \n",
       "font-weight: bold;\n",
       "color: rgb(200, 130, 0);\n",
       "}\n",
       ".suggestion-error { \n",
       "font-weight: bold;\n",
       "color: red;\n",
       "}\n",
       ".suggestion-name {\n",
       "font-weight: bold;\n",
       "}\n",
       "\n",
       "</style><div class=\"suggestion-name\" style=\"clear:both;\">Use newtype instead of data</div><div class=\"suggestion-row\" style=\"float: left;\"><div class=\"suggestion-warning\">Found:</div><div class=\"highlight-code\" id=\"haskell\">data Hlist a\n",
       "  = HLeft (a, Hlist a)\n",
       "  deriving Show</div></div><div class=\"suggestion-row\" style=\"float: left;\"><div class=\"suggestion-warning\">Why Not:</div><div class=\"highlight-code\" id=\"haskell\">newtype Hlist a\n",
       "  = HLeft (a, Hlist a)\n",
       "  deriving Show</div></div>"
      ],
      "text/plain": [
       "Line 1: Use newtype instead of data\n",
       "Found:\n",
       "data Hlist a\n",
       "  = HLeft (a, Hlist a)\n",
       "  deriving Show\n",
       "Why not:\n",
       "newtype Hlist a\n",
       "  = HLeft (a, Hlist a)\n",
       "  deriving Show"
      ]
     },
     "metadata": {},
     "output_type": "display_data"
    },
    {
     "data": {
      "text/plain": [
       "[1,2,1,2,1,2,1,2,1,2]"
      ]
     },
     "metadata": {},
     "output_type": "display_data"
    }
   ],
   "source": [
    "data Hlist a = HLeft( a , Hlist a) deriving Show\n",
    "\n",
    "htake 0 _ = []\n",
    "htake n ( HLeft(a, rest) ) = a : htake (n-1) rest   \n",
    "\n",
    "let { x = HLeft( 1 , HLeft( 2 , x )  ) } in htake 10 x"
   ]
  },
  {
   "cell_type": "markdown",
   "id": "144fffd3-a330-4f1d-bbd6-942f8a53e5f0",
   "metadata": {},
   "source": [
    "Remark: \"take\" built-in function expects Haskell list and NOT a user defined list type\n",
    "  \n",
    "In this example, htake takes the first 10 elements of user-defined recursive data type  \n",
    "    \n",
    "Due to Lazy Evaluation, Interpreter spans only the first 10 recursions  \n"
   ]
  },
  {
   "cell_type": "code",
   "execution_count": null,
   "id": "6efc41cd-7bf8-4871-a41a-989477335506",
   "metadata": {},
   "outputs": [
    {
     "data": {
      "text/plain": [
       "2"
      ]
     },
     "metadata": {},
     "output_type": "display_data"
    }
   ],
   "source": [
    "let x = ( 1 : ( 2 : ( 3 : x) ) ) in x !! 13432"
   ]
  },
  {
   "cell_type": "markdown",
   "id": "2f02a2f2-da0c-4426-a4c3-d94faa02163d",
   "metadata": {},
   "source": [
    "In this example, we use the vanilla haskell list definition and get 13432th value"
   ]
  },
  {
   "cell_type": "code",
   "execution_count": null,
   "id": "70286a22-4967-44be-ad39-038dbc4428bb",
   "metadata": {},
   "outputs": [],
   "source": []
  }
 ],
 "metadata": {
  "kernelspec": {
   "display_name": "Haskell",
   "language": "haskell",
   "name": "haskell"
  },
  "language_info": {
   "codemirror_mode": "ihaskell",
   "file_extension": ".hs",
   "mimetype": "text/x-haskell",
   "name": "haskell",
   "pygments_lexer": "Haskell",
   "version": "9.6.4"
  }
 },
 "nbformat": 4,
 "nbformat_minor": 5
}
