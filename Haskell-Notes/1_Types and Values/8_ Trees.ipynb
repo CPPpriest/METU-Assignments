{
 "cells": [
  {
   "cell_type": "markdown",
   "id": "6f0c5a7e-0143-45b7-94c8-6c54371968e6",
   "metadata": {},
   "source": [
    "# Binary Search Tree"
   ]
  },
  {
   "cell_type": "code",
   "execution_count": 4,
   "id": "a93e3731-1537-4841-af43-5ccb852e76b5",
   "metadata": {},
   "outputs": [],
   "source": [
    "data Tree a = ETree | Node( a , Tree a , Tree a) deriving Show"
   ]
  },
  {
   "cell_type": "code",
   "execution_count": null,
   "id": "89c2ee95-3bbf-4134-a6e8-77f65df8bec9",
   "metadata": {},
   "outputs": [
    {
     "data": {
      "text/plain": [
       "Node (7,ETree,ETree)"
      ]
     },
     "metadata": {},
     "output_type": "display_data"
    },
    {
     "data": {
      "text/plain": [
       "Node (7,ETree,Node (12,ETree,ETree))"
      ]
     },
     "metadata": {},
     "output_type": "display_data"
    },
    {
     "data": {
      "text/plain": [
       "Node (7,ETree,Node (12,ETree,Node (14,ETree,ETree)))"
      ]
     },
     "metadata": {},
     "output_type": "display_data"
    }
   ],
   "source": [
    "insert ETree v = Node( v , ETree , ETree )\n",
    "\n",
    "insert ( Node( tv , ltree , rtree) )  nv    | tv < nv =  Node( tv , ltree , insert rtree nv ) \n",
    "                                            | tv > nv =  Node( tv , insert ltree nv , rtree ) \n",
    "                                            | tv == nv = Node(tv, ltree, rtree)\n",
    "\n",
    "tree1 = insert ETree 7\n",
    "tree1\n",
    "tree2 = insert tree1 12\n",
    "tree2\n",
    "tree3 = insert tree2 14\n",
    "tree3\n"
   ]
  },
  {
   "cell_type": "code",
   "execution_count": null,
   "id": "56d680da-46d2-4082-96ac-be8b4105de85",
   "metadata": {},
   "outputs": [],
   "source": []
  }
 ],
 "metadata": {
  "kernelspec": {
   "display_name": "Haskell",
   "language": "haskell",
   "name": "haskell"
  },
  "language_info": {
   "codemirror_mode": "ihaskell",
   "file_extension": ".hs",
   "mimetype": "text/x-haskell",
   "name": "haskell",
   "pygments_lexer": "Haskell",
   "version": "9.6.4"
  }
 },
 "nbformat": 4,
 "nbformat_minor": 5
}
