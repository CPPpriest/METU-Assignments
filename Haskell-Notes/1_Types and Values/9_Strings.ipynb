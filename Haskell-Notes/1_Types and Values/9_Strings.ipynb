{
 "cells": [
  {
   "cell_type": "markdown",
   "id": "2da25f83-8354-4f89-a017-3b2fc7842369",
   "metadata": {},
   "source": [
    "# String as Character List"
   ]
  },
  {
   "cell_type": "markdown",
   "id": "dc664d12-c936-4f44-98ab-2ef19c8ad99b",
   "metadata": {},
   "source": [
    "\n",
    "In Haskell, strings are implemented as lists of characters: [Char\\].   \n",
    "  \n",
    "This allows all the list operations in Haskell to be applicable to strings as well.   \n",
    "    \n",
    "However, there are several specific operations and functions tailored for string manipulation,   \n",
    "using either the standard Prelude or libraries like Data.List for enhanced string processing."
   ]
  },
  {
   "cell_type": "markdown",
   "id": "3c84be5d-4128-4cc9-8f29-955693105168",
   "metadata": {},
   "source": [
    "### Concatenation  \n",
    "Using the ++ operator, just like lists.\n"
   ]
  },
  {
   "cell_type": "code",
   "execution_count": null,
   "id": "0ee777be-e8e3-41a5-9c9c-52833aaa71f8",
   "metadata": {},
   "outputs": [],
   "source": [
    "\"Hello, \" ++ \"world!\"  -- \"Hello, world!\""
   ]
  },
  {
   "cell_type": "markdown",
   "id": "7ffe9422-b676-489f-b1df-d458ca49ff6a",
   "metadata": {},
   "source": [
    "### length\n",
    "Returns the number of characters in a string."
   ]
  },
  {
   "cell_type": "code",
   "execution_count": null,
   "id": "648160eb-b3a2-4055-bd90-f2b186b2e77a",
   "metadata": {},
   "outputs": [],
   "source": [
    "length \"Hello\"  -- 5"
   ]
  },
  {
   "cell_type": "markdown",
   "id": "9ef5f877-4f1e-44eb-966c-65024756eadc",
   "metadata": {},
   "source": [
    "### Accessing Characters  \n",
    "Using list indexing"
   ]
  },
  {
   "cell_type": "code",
   "execution_count": null,
   "id": "97d8164c-abc6-46cc-8e74-8990e0cdb735",
   "metadata": {},
   "outputs": [],
   "source": [
    "\"Hello\" !! 1  -- 'e'"
   ]
  },
  {
   "cell_type": "markdown",
   "id": "e3e22889-5fb4-46dc-9f8f-5e718bec28e8",
   "metadata": {},
   "source": [
    "### Comparison\n",
    "Strings can be compared LEXICOGRAPHICALLY using standard comparison operators"
   ]
  },
  {
   "cell_type": "code",
   "execution_count": null,
   "id": "1a846f15-cbaf-4757-aebb-c130f2ba96ce",
   "metadata": {},
   "outputs": [],
   "source": [
    "\"abc\" < \"bca\"  -- True\n",
    "\"abc\" == \"abc\" -- True"
   ]
  },
  {
   "cell_type": "code",
   "execution_count": null,
   "id": "0a149850-3ef8-4127-bf3a-14a94f0dc5ea",
   "metadata": {},
   "outputs": [],
   "source": []
  }
 ],
 "metadata": {
  "kernelspec": {
   "display_name": "Haskell",
   "language": "haskell",
   "name": "haskell"
  },
  "language_info": {
   "codemirror_mode": "ihaskell",
   "file_extension": ".hs",
   "mimetype": "text/x-haskell",
   "name": "haskell",
   "pygments_lexer": "Haskell",
   "version": "9.6.4"
  }
 },
 "nbformat": 4,
 "nbformat_minor": 5
}
