{
 "cells": [
  {
   "cell_type": "markdown",
   "id": "b6921e86-83d2-4e0f-b38f-5499073e1c73",
   "metadata": {},
   "source": [
    "# List Reverse Implementations"
   ]
  },
  {
   "cell_type": "code",
   "execution_count": 6,
   "id": "1f676558-7086-49b9-bd20-a108aa74c9be",
   "metadata": {},
   "outputs": [
    {
     "data": {
      "text/plain": [
       "1"
      ]
     },
     "metadata": {},
     "output_type": "display_data"
    }
   ],
   "source": [
    "newreverse [] = []\n",
    "newreverse (a : rest) = newreverse rest ++ [a]\n",
    "\n",
    "reverse [1..30000] !! 29999  --- takes way too much time"
   ]
  },
  {
   "cell_type": "markdown",
   "id": "2e179944-08fe-4e45-97ec-1a28cc65c56f",
   "metadata": {},
   "source": [
    "Implements the whole list and adds the element to the end at each step."
   ]
  },
  {
   "cell_type": "markdown",
   "id": "9b2d85c1-18a5-445c-bf83-9d184c061428",
   "metadata": {},
   "source": [
    "### Using an Accumulator List \n",
    "Basically Keep a stack and return it without any pop operation\n",
    "- Keep an additional list to be returned\n",
    "- Take the first element of the input list \n"
   ]
  },
  {
   "cell_type": "code",
   "execution_count": 9,
   "id": "78240fbc-a673-4587-9452-37ea733dc277",
   "metadata": {},
   "outputs": [
    {
     "data": {
      "text/html": [
       "<style>/* Styles used for the Hoogle display in the pager */\n",
       ".hoogle-doc {\n",
       "display: block;\n",
       "padding-bottom: 1.3em;\n",
       "padding-left: 0.4em;\n",
       "}\n",
       ".hoogle-code {\n",
       "display: block;\n",
       "font-family: monospace;\n",
       "white-space: pre;\n",
       "}\n",
       ".hoogle-text {\n",
       "display: block;\n",
       "}\n",
       ".hoogle-name {\n",
       "color: green;\n",
       "font-weight: bold;\n",
       "}\n",
       ".hoogle-head {\n",
       "font-weight: bold;\n",
       "}\n",
       ".hoogle-sub {\n",
       "display: block;\n",
       "margin-left: 0.4em;\n",
       "}\n",
       ".hoogle-package {\n",
       "font-weight: bold;\n",
       "font-style: italic;\n",
       "}\n",
       ".hoogle-module {\n",
       "font-weight: bold;\n",
       "}\n",
       ".hoogle-class {\n",
       "font-weight: bold;\n",
       "}\n",
       "\n",
       ".get-type {\n",
       "color: green;\n",
       "font-weight: bold;\n",
       "font-family: monospace;\n",
       "display: block;\n",
       "white-space: pre-wrap;\n",
       "}\n",
       ".show-type {\n",
       "color: green;\n",
       "font-weight: bold;\n",
       "font-family: monospace;\n",
       "margin-left: 1em;\n",
       "}\n",
       ".mono {\n",
       "font-family: monospace;\n",
       "display: block;\n",
       "}\n",
       ".err-msg {\n",
       "color: red;\n",
       "font-style: italic;\n",
       "font-family: monospace;\n",
       "white-space: pre;\n",
       "display: block;\n",
       "}\n",
       "#unshowable {\n",
       "color: red;\n",
       "font-weight: bold;\n",
       "}\n",
       ".err-msg.in.collapse {\n",
       "padding-top: 0.7em;\n",
       "}\n",
       "\n",
       ".highlight-code {\n",
       "white-space: pre;\n",
       "font-family: monospace;\n",
       "}\n",
       "\n",
       ".suggestion-warning { \n",
       "font-weight: bold;\n",
       "color: rgb(200, 130, 0);\n",
       "}\n",
       ".suggestion-error { \n",
       "font-weight: bold;\n",
       "color: red;\n",
       "}\n",
       ".suggestion-name {\n",
       "font-weight: bold;\n",
       "}\n",
       "\n",
       "</style><div class=\"suggestion-name\" style=\"clear:both;\">Use foldl</div><div class=\"suggestion-row\" style=\"float: left;\"><div class=\"suggestion-warning\">Found:</div><div class=\"highlight-code\" id=\"haskell\">reverse' [] accList = accList\n",
       "reverse' (v : rest) accList = reverse' rest (v : accList)</div></div><div class=\"suggestion-row\" style=\"float: left;\"><div class=\"suggestion-warning\">Why Not:</div><div class=\"highlight-code\" id=\"haskell\">reverse' rest accList = foldl (flip (:)) accList rest</div></div>"
      ],
      "text/plain": [
       "Line 1: Use foldl\n",
       "Found:\n",
       "reverse' [] accList = accList\n",
       "reverse' (v : rest) accList = reverse' rest (v : accList)\n",
       "Why not:\n",
       "reverse' rest accList = foldl (flip (:)) accList rest"
      ]
     },
     "metadata": {},
     "output_type": "display_data"
    },
    {
     "data": {
      "text/plain": [
       "1"
      ]
     },
     "metadata": {},
     "output_type": "display_data"
    }
   ],
   "source": [
    "reverse' [] accList = accList                           -- insert empty list into second list is the second\n",
    "reverse' (v:rest) accList = reverse' rest (v:accList)   -- insert into second and call recursively\n",
    "\n",
    "reverse lst = reverse' lst []                           -- reverse using an empty accumulator\n",
    "\n",
    "reverse [1..30000] !! 29999"
   ]
  },
  {
   "cell_type": "code",
   "execution_count": null,
   "id": "0073c57f-a448-4bff-b8a6-04c8153af649",
   "metadata": {},
   "outputs": [],
   "source": []
  }
 ],
 "metadata": {
  "kernelspec": {
   "display_name": "Haskell",
   "language": "haskell",
   "name": "haskell"
  },
  "language_info": {
   "codemirror_mode": "ihaskell",
   "file_extension": ".hs",
   "mimetype": "text/x-haskell",
   "name": "haskell",
   "pygments_lexer": "Haskell",
   "version": "9.6.4"
  }
 },
 "nbformat": 4,
 "nbformat_minor": 5
}
