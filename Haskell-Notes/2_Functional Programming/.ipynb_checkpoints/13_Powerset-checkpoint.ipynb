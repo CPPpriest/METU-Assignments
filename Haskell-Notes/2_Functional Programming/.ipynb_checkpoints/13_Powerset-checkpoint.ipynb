{
 "cells": [
  {
   "cell_type": "markdown",
   "id": "7c6b0f04-a8c2-4373-a55f-b8dd91f1fdc7",
   "metadata": {},
   "source": [
    "## Powerset\n",
    "\n",
    "Given list (instead of set), powerset of it should return a list of lists. In order to find all such values, we need to make a recursive definition. If we take `v` out of a list and construct a powerset on remainder list, all members of this list will be natural member of powerset too. In addition, powerset will contain a version with all members also have `v` added:\n",
    "\n",
    "$P(\\{v\\} \\cup R) \\; = \\; P(R) \\; \\cup \\; \\left\\{ \\{v\\} \\cup M \\mid M \\in P(R) \\right\\}$"
   ]
  },
  {
   "cell_type": "code",
   "execution_count": 28,
   "id": "0e173e9b-12b9-4012-b845-0b043478fb5e",
   "metadata": {},
   "outputs": [],
   "source": [
    "pset [] = [[]]\n",
    "pset (v:rest) = let \n",
    "                    nset = pset rest\n",
    "                    \n",
    "                    iall _ [] = []\n",
    "                    iall a (m:r) = (v:m) : iall a r   \n",
    "                    \n",
    "                    in \n",
    "                        nset ++ iall v nset\n",
    "                 \n"
   ]
  },
  {
   "cell_type": "markdown",
   "id": "57d9c324-48be-4fbc-b3d1-c97011ce1ef6",
   "metadata": {},
   "source": [
    "`iall` takes one element and one list of lists,    \n",
    "returns a `list of lists`    \n",
    "`m`: is a list, `a subset of rest`,  \n",
    "iall unions each subset m with v and returns the resulting list of lists:  $ \\left\\{ \\{v\\} \\cup M \\mid M \\in P(R) \\right\\}$"
   ]
  },
  {
   "cell_type": "markdown",
   "id": "6fa05e22-0b15-42d5-a2a4-a3da2fbc8c13",
   "metadata": {},
   "source": [
    "`nset = pset rest` => $P( R) \\; $  \n",
    "`iall a (m:r) = (v:m) : iall a r` =>  $ \\left\\{ \\{v\\} \\cup M \\mid M \\in P(R) \\right\\}$  \n",
    "`nset ++ iall v nset` => $P(\\{v\\} \\cup R) \\; = \\; P(R) \\; \\cup \\; \\left\\{ \\{v\\} \\cup M \\mid M \\in P(R) \\right\\}$"
   ]
  },
  {
   "cell_type": "code",
   "execution_count": 29,
   "id": "f930727a-396f-4444-ab61-e42b0860bddd",
   "metadata": {},
   "outputs": [
    {
     "data": {
      "text/html": [
       "<style>/* Styles used for the Hoogle display in the pager */\n",
       ".hoogle-doc {\n",
       "display: block;\n",
       "padding-bottom: 1.3em;\n",
       "padding-left: 0.4em;\n",
       "}\n",
       ".hoogle-code {\n",
       "display: block;\n",
       "font-family: monospace;\n",
       "white-space: pre;\n",
       "}\n",
       ".hoogle-text {\n",
       "display: block;\n",
       "}\n",
       ".hoogle-name {\n",
       "color: green;\n",
       "font-weight: bold;\n",
       "}\n",
       ".hoogle-head {\n",
       "font-weight: bold;\n",
       "}\n",
       ".hoogle-sub {\n",
       "display: block;\n",
       "margin-left: 0.4em;\n",
       "}\n",
       ".hoogle-package {\n",
       "font-weight: bold;\n",
       "font-style: italic;\n",
       "}\n",
       ".hoogle-module {\n",
       "font-weight: bold;\n",
       "}\n",
       ".hoogle-class {\n",
       "font-weight: bold;\n",
       "}\n",
       "\n",
       ".get-type {\n",
       "color: green;\n",
       "font-weight: bold;\n",
       "font-family: monospace;\n",
       "display: block;\n",
       "white-space: pre-wrap;\n",
       "}\n",
       ".show-type {\n",
       "color: green;\n",
       "font-weight: bold;\n",
       "font-family: monospace;\n",
       "margin-left: 1em;\n",
       "}\n",
       ".mono {\n",
       "font-family: monospace;\n",
       "display: block;\n",
       "}\n",
       ".err-msg {\n",
       "color: red;\n",
       "font-style: italic;\n",
       "font-family: monospace;\n",
       "white-space: pre;\n",
       "display: block;\n",
       "}\n",
       "#unshowable {\n",
       "color: red;\n",
       "font-weight: bold;\n",
       "}\n",
       ".err-msg.in.collapse {\n",
       "padding-top: 0.7em;\n",
       "}\n",
       "\n",
       ".highlight-code {\n",
       "white-space: pre;\n",
       "font-family: monospace;\n",
       "}\n",
       "\n",
       ".suggestion-warning { \n",
       "font-weight: bold;\n",
       "color: rgb(200, 130, 0);\n",
       "}\n",
       ".suggestion-error { \n",
       "font-weight: bold;\n",
       "color: red;\n",
       "}\n",
       ".suggestion-name {\n",
       "font-weight: bold;\n",
       "}\n",
       "\n",
       "</style><span class='get-type'>pset :: forall {t}. [t] -> [[t]]</span>"
      ],
      "text/plain": [
       "pset :: forall {t}. [t] -> [[t]]"
      ]
     },
     "metadata": {},
     "output_type": "display_data"
    },
    {
     "data": {
      "text/plain": [
       "[[],[4],[3],[3,4],[2],[2,4],[2,3],[2,3,4],[1],[1,4],[1,3],[1,3,4],[1,2],[1,2,4],[1,2,3],[1,2,3,4]]"
      ]
     },
     "metadata": {},
     "output_type": "display_data"
    }
   ],
   "source": [
    ":t pset\n",
    "\n",
    "pset [1,2,3,4]"
   ]
  },
  {
   "cell_type": "code",
   "execution_count": 30,
   "id": "3a853069-31c8-425f-95de-77c147233f85",
   "metadata": {},
   "outputs": [
    {
     "data": {
      "text/plain": [
       "[[]]"
      ]
     },
     "metadata": {},
     "output_type": "display_data"
    },
    {
     "data": {
      "text/plain": [
       "[[],[1]]"
      ]
     },
     "metadata": {},
     "output_type": "display_data"
    },
    {
     "data": {
      "text/plain": [
       "[[],[0],[2],[2,0],[1],[1,0],[1,2],[1,2,0]]"
      ]
     },
     "metadata": {},
     "output_type": "display_data"
    }
   ],
   "source": [
    "pset []\n",
    "pset [1]\n",
    "pset[1,2,0]"
   ]
  },
  {
   "cell_type": "markdown",
   "id": "6f032fbe-522e-4ea1-b91c-6e5b96c30527",
   "metadata": {},
   "source": [
    "**Step 1:**  \n",
    "`[],[0]` -> powerset of [0\\] without and with 0  \n",
    "  \n",
    "**Step 2:**  \n",
    "`[],[0]`  \n",
    "`[2],[2,0]` -> powerset of [0\\] union [2\\] inserted to each powerset  \n",
    "  \n",
    "**Step 3:**   \n",
    "`[],[0]`  \n",
    "`[2],[2,0]`  \n",
    "`[1],[1,0],[1,2],[1,2,0]`  -> (powerset of [0,2\\]) union ( [1\\] inserted to each powerset)  \n"
   ]
  },
  {
   "cell_type": "markdown",
   "id": "b52c7cbd-318a-427d-a5b9-e2657972220b",
   "metadata": {},
   "source": [
    "### or same function shorter using `list comprehension`"
   ]
  },
  {
   "cell_type": "code",
   "execution_count": 31,
   "id": "d9d8f086-6139-4766-9cd0-75187cbb8d1b",
   "metadata": {},
   "outputs": [
    {
     "data": {
      "text/plain": [
       "[[],[4],[3],[3,4],[2],[2,4],[2,3],[2,3,4],[1],[1,4],[1,3],[1,3,4],[1,2],[1,2,4],[1,2,3],[1,2,3,4]]"
      ]
     },
     "metadata": {},
     "output_type": "display_data"
    }
   ],
   "source": [
    "pset2 [] = [[]]\n",
    "pset2 (v:rest) = let nset = pset2 rest\n",
    "                 in nset ++ [ v : m | m <- nset]\n",
    "\n",
    "pset2 [1,2,3,4]"
   ]
  },
  {
   "cell_type": "code",
   "execution_count": null,
   "id": "f4680e44-a29c-47e4-8beb-342691d95284",
   "metadata": {},
   "outputs": [],
   "source": []
  }
 ],
 "metadata": {
  "kernelspec": {
   "display_name": "Haskell",
   "language": "haskell",
   "name": "haskell"
  },
  "language_info": {
   "codemirror_mode": "ihaskell",
   "file_extension": ".hs",
   "mimetype": "text/x-haskell",
   "name": "haskell",
   "pygments_lexer": "Haskell",
   "version": "9.6.4"
  }
 },
 "nbformat": 4,
 "nbformat_minor": 5
}
