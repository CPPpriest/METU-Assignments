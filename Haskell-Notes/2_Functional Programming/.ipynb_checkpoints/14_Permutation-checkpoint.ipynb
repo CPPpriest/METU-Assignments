{
 "cells": [
  {
   "cell_type": "markdown",
   "id": "ab2cdca4-bbd8-4855-9a88-86dedb89074c",
   "metadata": {},
   "source": [
    "# Permutation\n",
    "\n",
    "Producing all permutation of a list will be similar to permutation. \n",
    "1) Find the permutation of the smaller\n",
    "2) Then the missing value should be inserted all possible locations of each of the smaller permutations"
   ]
  },
  {
   "cell_type": "markdown",
   "id": "d0b435cb-dc9c-4fdf-829a-3fa949310900",
   "metadata": {},
   "source": [
    "#### Helper function `insertAll`\n",
    "Inserts given element v to each location of the input list"
   ]
  },
  {
   "cell_type": "code",
   "execution_count": 7,
   "id": "d7db30aa-27d4-4d73-be26-db93da86300d",
   "metadata": {},
   "outputs": [],
   "source": [
    "insertAll v [] = [[v]]\n",
    "insertAll v (a:rest) = let \n",
    "                            insertedToRest = insertAll v rest\n",
    "                            insertedToBeg = v:a:rest\n",
    "                            with_a = [a:m | m <- insertedToRest ]   -- \"a\",the first element, is missing in these subsets, \n",
    "                                                                    --  so insert it back to each one of them \n",
    "                            in\n",
    "                                insertedToBeg : with_a\n"
   ]
  },
  {
   "cell_type": "code",
   "execution_count": 8,
   "id": "5afa417f-93d7-4ebb-b4af-03254766dca9",
   "metadata": {},
   "outputs": [
    {
     "data": {
      "text/plain": [
       "[[5,1,2,3,4],[1,5,2,3,4],[1,2,5,3,4],[1,2,3,5,4],[1,2,3,4,5]]"
      ]
     },
     "metadata": {},
     "output_type": "display_data"
    }
   ],
   "source": [
    "insertAll 5 [1,2,3,4]"
   ]
  },
  {
   "cell_type": "code",
   "execution_count": 9,
   "id": "665f47b0-f661-4b42-b72e-766d3496255a",
   "metadata": {},
   "outputs": [
    {
     "data": {
      "text/plain": [
       "[\"_abcd\",\"a_bcd\",\"ab_cd\",\"abc_d\",\"abcd_\"]"
      ]
     },
     "metadata": {},
     "output_type": "display_data"
    }
   ],
   "source": [
    "insertAll '_' \"abcd\""
   ]
  },
  {
   "cell_type": "markdown",
   "id": "96659e84-24f8-4dfd-85a7-67045e2935b8",
   "metadata": {},
   "source": [
    "#### Main function `perm`"
   ]
  },
  {
   "cell_type": "code",
   "execution_count": 12,
   "id": "cb763485-3cb5-4c07-9331-d375d4d67f61",
   "metadata": {},
   "outputs": [],
   "source": [
    "perm [] = [[]]    -- only one member, empty permutation\n",
    "perm (v:rest) = let restperm = perm rest          \n",
    "                    in concat [ insertAll v p | p <- restperm ]"
   ]
  },
  {
   "cell_type": "markdown",
   "id": "0145c5b5-8ae1-43bb-8e22-283d9a432e69",
   "metadata": {},
   "source": [
    "`restperm` => permutation of list without v (list of lists)"
   ]
  },
  {
   "cell_type": "code",
   "execution_count": 15,
   "id": "1a3177b0-81f9-4fae-b3d0-ff18f7a101eb",
   "metadata": {},
   "outputs": [
    {
     "data": {
      "text/plain": [
       "[[1]]"
      ]
     },
     "metadata": {},
     "output_type": "display_data"
    }
   ],
   "source": [
    "perm [1]"
   ]
  },
  {
   "cell_type": "code",
   "execution_count": 16,
   "id": "0c6c14a6-f21b-4295-866b-eacfd362c50f",
   "metadata": {},
   "outputs": [
    {
     "data": {
      "text/plain": [
       "[[1,2],[2,1]]"
      ]
     },
     "metadata": {},
     "output_type": "display_data"
    }
   ],
   "source": [
    "perm [1,2]"
   ]
  },
  {
   "cell_type": "code",
   "execution_count": 18,
   "id": "71ff5828-ca11-40bd-b538-b4dc51b77404",
   "metadata": {},
   "outputs": [
    {
     "data": {
      "text/plain": [
       "[[1,2,3],[2,1,3],[2,3,1],[1,3,2],[3,1,2],[3,2,1]]"
      ]
     },
     "metadata": {},
     "output_type": "display_data"
    }
   ],
   "source": [
    "perm [1,2,3]"
   ]
  },
  {
   "cell_type": "code",
   "execution_count": 19,
   "id": "788a2805-1750-4e51-969a-7729f833b9a4",
   "metadata": {},
   "outputs": [
    {
     "data": {
      "text/plain": [
       "[\"abcd\",\"bacd\",\"bcad\",\"bcda\",\"acbd\",\"cabd\",\"cbad\",\"cbda\",\"acdb\",\"cadb\",\"cdab\",\"cdba\",\"abdc\",\"badc\",\"bdac\",\"bdca\",\"adbc\",\"dabc\",\"dbac\",\"dbca\",\"adcb\",\"dacb\",\"dcab\",\"dcba\"]"
      ]
     },
     "metadata": {},
     "output_type": "display_data"
    }
   ],
   "source": [
    "perm \"abcd\""
   ]
  },
  {
   "cell_type": "code",
   "execution_count": null,
   "id": "9165f122-3e54-4509-b9a3-c66b9169409f",
   "metadata": {},
   "outputs": [],
   "source": []
  }
 ],
 "metadata": {
  "kernelspec": {
   "display_name": "Haskell",
   "language": "haskell",
   "name": "haskell"
  },
  "language_info": {
   "codemirror_mode": "ihaskell",
   "file_extension": ".hs",
   "mimetype": "text/x-haskell",
   "name": "haskell",
   "pygments_lexer": "Haskell",
   "version": "9.6.4"
  }
 },
 "nbformat": 4,
 "nbformat_minor": 5
}
