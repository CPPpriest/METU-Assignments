{
 "cells": [
  {
   "cell_type": "markdown",
   "id": "0069c00d-398d-4bfe-8b23-f1f0f5031c29",
   "metadata": {},
   "source": [
    "## Trees\n",
    "  \n",
    "Trees can be defined in Haskell with data definitions with disjoint union like:  \n",
    "  \n",
    "`data Tree a = ETree | Node a (Tree a) (Tree a)`  \n",
    "  \n",
    "or  \n",
    "  \n",
    "`data Tree a = Leaf a | Node a (Tree a) (Tree a)`  \n",
    "  \n",
    "The second version does not allow empty leaves (i.e. left empty, right has a value).\n",
    "  "
   ]
  },
  {
   "cell_type": "code",
   "execution_count": null,
   "id": "b1f92704-4fb3-47ec-8369-354e1344b98a",
   "metadata": {},
   "outputs": [],
   "source": []
  },
  {
   "cell_type": "markdown",
   "id": "c9d6ab52-03db-4904-ac14-8266db338587",
   "metadata": {},
   "source": [
    "#### Adding ETree to the second definition\n",
    "  \n",
    "`data Tree a = ETree | Leaf a | Node a (Tree a) (Tree a)`  \n",
    "  \n",
    "In this version, `Leaf v` and `Node v ETree ETree` will be semantically equivalent,   \n",
    "you need to repeat the pattern in your functions.   \n",
    "**So this one is not a good choice.**"
   ]
  },
  {
   "cell_type": "code",
   "execution_count": null,
   "id": "25e2add1-796f-4989-ac94-9144d9263165",
   "metadata": {},
   "outputs": [],
   "source": []
  },
  {
   "cell_type": "markdown",
   "id": "4e21fb52-4ee9-4f01-82f5-04700dfc11df",
   "metadata": {},
   "source": [
    "## n_ary Tree\n",
    "\n",
    "**n-ary** tree can be defined with combination of trees and lists as:\n",
    "\n",
    "`data NTree a = Node a [NTree a]`"
   ]
  },
  {
   "cell_type": "code",
   "execution_count": null,
   "id": "b93ab470-e8c3-445b-b91a-61afbf0d76a8",
   "metadata": {},
   "outputs": [],
   "source": []
  }
 ],
 "metadata": {
  "kernelspec": {
   "display_name": "Haskell",
   "language": "haskell",
   "name": "haskell"
  },
  "language_info": {
   "codemirror_mode": "ihaskell",
   "file_extension": ".hs",
   "mimetype": "text/x-haskell",
   "name": "haskell",
   "pygments_lexer": "Haskell",
   "version": "9.6.4"
  }
 },
 "nbformat": 4,
 "nbformat_minor": 5
}
