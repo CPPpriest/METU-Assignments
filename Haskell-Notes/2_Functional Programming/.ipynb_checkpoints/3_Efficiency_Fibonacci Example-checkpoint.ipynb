{
 "cells": [
  {
   "cell_type": "markdown",
   "id": "db1e6afe-dd77-4fd7-a9cc-1836a10a7d97",
   "metadata": {},
   "source": [
    "# Fibonacci\n",
    "  \n",
    "*fib(n) = fib(n-1) + fib(n-2)*"
   ]
  },
  {
   "cell_type": "markdown",
   "id": "f2d19c6a-45d8-40c6-a631-81607fd3e1a6",
   "metadata": {},
   "source": [
    "### Brute Force"
   ]
  },
  {
   "cell_type": "code",
   "execution_count": 2,
   "id": "b5981ae3-d670-445f-a360-a11606a7b8f5",
   "metadata": {},
   "outputs": [],
   "source": [
    "fib 0 = 1\n",
    "fib 1 = 1\n",
    "fib n = fib (n-1) + fib(n-2)"
   ]
  },
  {
   "cell_type": "code",
   "execution_count": 5,
   "id": "07b2a453-57db-4702-81c7-183550f17b27",
   "metadata": {},
   "outputs": [
    {
     "data": {
      "text/plain": [
       "13"
      ]
     },
     "metadata": {},
     "output_type": "display_data"
    }
   ],
   "source": [
    "fib 6"
   ]
  },
  {
   "cell_type": "code",
   "execution_count": 6,
   "id": "1b990c8c-e7c2-414a-a6e0-01a553d82aaa",
   "metadata": {},
   "outputs": [
    {
     "data": {
      "text/plain": [
       "[1,2,3,5,8,13,21,34,55,89]"
      ]
     },
     "metadata": {},
     "output_type": "display_data"
    }
   ],
   "source": [
    "map fib [1..10]"
   ]
  },
  {
   "cell_type": "markdown",
   "id": "1d4e2e25-7c39-4574-b655-77a28c926db3",
   "metadata": {},
   "source": [
    "- This definition calculates the same values multiple times:  \n",
    "  \n",
    "fib 5   = fib 4 + fib 3   \n",
    "        = (fib 3 + fib 2)  +  (fib 2 + fib 1)  \n",
    "        = ( (fib 2 + fib 1) + (fib 1 + fib 1) ) + ( (fib 1 + fib 0) + 1 )  \n",
    "        = ( ( (fib 1 + fib 0) + 1 ) + ( 1 + 1 ) ) + ( ( 1 + 1 ) + 1 )  \n",
    "        = ( ( (1 + 1) + 1 ) + ( 1 + 1 ) ) + ( ( 1 + 1 ) + 1 )  \n",
    "        "
   ]
  },
  {
   "cell_type": "markdown",
   "id": "2ee407cc-b494-4c0c-bbc3-ab5ecdedcf4d",
   "metadata": {},
   "source": [
    "Realize that the complexity is EXPONENTIAL!!!  "
   ]
  },
  {
   "cell_type": "markdown",
   "id": "a6d36804-3c7a-4644-8448-3180df566d98",
   "metadata": {},
   "source": [
    "### Using Accumulator and Tail Recursion"
   ]
  },
  {
   "cell_type": "markdown",
   "id": "d31683bd-d4c4-4ea0-869d-fe2099051381",
   "metadata": {},
   "source": [
    "##### To avoid repetitive computations:  \n",
    "Function should memorize the result of former calculations  \n",
    "Use an ACCUMULATOR and define as a Tail Recursion"
   ]
  },
  {
   "cell_type": "markdown",
   "id": "3d91f9ed-643b-4dcd-bb1f-2d4712d1603c",
   "metadata": {},
   "source": [
    "#### Key idea:  \n",
    "  \n",
    "In order to calculate the n'th value, keep last 2 calculated values: Two STATES"
   ]
  },
  {
   "cell_type": "markdown",
   "id": "e10121da-d047-49eb-b27e-e44083ef46c7",
   "metadata": {},
   "source": [
    "**fib n i a b**\n",
    "  \n",
    "**n: desired index**  \n",
    "**i: index of last calculated value**  \n",
    "**a: i'th value**  \n",
    "**b: (i-1)'th value**  \n",
    "  \n",
    "**Step 1: Calculate (i+1)'th value**  \n",
    "**(i+1)'th value = a + b**  \n",
    "  \n",
    "**Step 2: Update a and b**  \n",
    "**b = a (i'th value)**  \n",
    "**a = (i+1)'th value**  \n",
    "  \n",
    "**Step 3: Iterate i**  \n",
    "**i = i+1**  \n",
    "  \n",
    "**When i==n, function returns \"a\"**"
   ]
  },
  {
   "cell_type": "code",
   "execution_count": 11,
   "id": "c1a0b68e-ae5b-49b3-a828-31f175a08bee",
   "metadata": {},
   "outputs": [
    {
     "data": {
      "text/plain": [
       "8"
      ]
     },
     "metadata": {},
     "output_type": "display_data"
    }
   ],
   "source": [
    "fib 0 _ _ _ = 1\n",
    "fib 1 _ _ _ = 1\n",
    "\n",
    "fib n i a b | n == i = a\n",
    "            | otherwise = fib n (i+1) (a+b) a\n",
    "\n",
    "fib 5 1 1 1"
   ]
  },
  {
   "cell_type": "markdown",
   "id": "11e8f92e-dfe8-4688-9438-b09cabb73078",
   "metadata": {},
   "source": [
    "Fib2 hides the implementation details:"
   ]
  },
  {
   "cell_type": "code",
   "execution_count": 13,
   "id": "43cd108b-94d1-4c6e-ac76-0bc74baa2c4b",
   "metadata": {},
   "outputs": [
    {
     "data": {
      "text/plain": [
       "8"
      ]
     },
     "metadata": {},
     "output_type": "display_data"
    }
   ],
   "source": [
    "fib2 n = fib n 1 1 1\n",
    "\n",
    "fib2 5"
   ]
  },
  {
   "cell_type": "code",
   "execution_count": null,
   "id": "22b0a2a8-a80b-4710-9cbf-4a0b80ed1687",
   "metadata": {},
   "outputs": [],
   "source": []
  }
 ],
 "metadata": {
  "kernelspec": {
   "display_name": "Haskell",
   "language": "haskell",
   "name": "haskell"
  },
  "language_info": {
   "codemirror_mode": "ihaskell",
   "file_extension": ".hs",
   "mimetype": "text/x-haskell",
   "name": "haskell",
   "pygments_lexer": "Haskell",
   "version": "9.6.4"
  }
 },
 "nbformat": 4,
 "nbformat_minor": 5
}
