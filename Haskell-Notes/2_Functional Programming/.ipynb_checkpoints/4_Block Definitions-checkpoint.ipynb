{
 "cells": [
  {
   "cell_type": "markdown",
   "id": "54e6d41d-6901-453a-8fd2-2e016cc96646",
   "metadata": {},
   "source": [
    "# \"Let ... in ...\"  Block"
   ]
  },
  {
   "cell_type": "markdown",
   "id": "ba3235c1-4a15-4925-b387-e86fbdd01b9a",
   "metadata": {},
   "source": [
    "After \"Let\", any number of local definitions: variable, function, data type  \n",
    "can be added."
   ]
  },
  {
   "cell_type": "markdown",
   "id": "4b454ba1-0382-4c68-bf39-902f9d8b9d83",
   "metadata": {},
   "source": [
    "### Indentation:  \n",
    "All definitions in let must be at the same ident,  \n",
    "otherwise they are out of the block"
   ]
  },
  {
   "cell_type": "code",
   "execution_count": 16,
   "id": "585ed931-592b-4189-9f59-381b88643f63",
   "metadata": {},
   "outputs": [
    {
     "data": {
      "text/plain": [
       "30"
      ]
     },
     "metadata": {},
     "output_type": "display_data"
    }
   ],
   "source": [
    "let x=10\n",
    "    y=20\n",
    "    in x+y"
   ]
  },
  {
   "cell_type": "code",
   "execution_count": 17,
   "id": "30d55174-3b1d-41b6-a764-98d016b5a79f",
   "metadata": {},
   "outputs": [
    {
     "data": {
      "text/plain": [
       "30"
      ]
     },
     "metadata": {},
     "output_type": "display_data"
    }
   ],
   "source": [
    "let \n",
    "    x=10\n",
    "    y=20\n",
    "    in x+y"
   ]
  },
  {
   "cell_type": "markdown",
   "id": "72a62d59-dbc7-43e3-9370-ed1ee198a04f",
   "metadata": {},
   "source": [
    "In this example, definitions and \"in\" is one more indented to right,  \n",
    "which is inside of the \"let\" block"
   ]
  },
  {
   "cell_type": "code",
   "execution_count": 18,
   "id": "d0252065-5614-4293-928c-5fd732be84fd",
   "metadata": {},
   "outputs": [
    {
     "ename": "",
     "evalue": "",
     "output_type": "error",
     "traceback": [
      "Parse error (line 1, column 11): parse error on input `='"
     ]
    }
   ],
   "source": [
    "let x=10 y=20\n",
    "    in x+y"
   ]
  },
  {
   "cell_type": "code",
   "execution_count": 19,
   "id": "9979f756-3cf9-435f-822e-272af2b4ffb2",
   "metadata": {},
   "outputs": [
    {
     "ename": "",
     "evalue": "",
     "output_type": "error",
     "traceback": [
      "Parse error (line 1, column 11): parse error on input `='"
     ]
    }
   ],
   "source": [
    "let x=10 y=20 in x+y"
   ]
  },
  {
   "cell_type": "code",
   "execution_count": 20,
   "id": "b5335446-fedf-44ce-97a1-b69f866ccc23",
   "metadata": {},
   "outputs": [
    {
     "ename": "",
     "evalue": "",
     "output_type": "error",
     "traceback": [
      "Parse error (line 3, column 5): parse error on input `in'"
     ]
    }
   ],
   "source": [
    "let x=10 \n",
    "y=20\n",
    "    in x+y"
   ]
  },
  {
   "cell_type": "code",
   "execution_count": 21,
   "id": "93aa2ea2-ddb1-46e0-a937-25abd3060a41",
   "metadata": {},
   "outputs": [
    {
     "data": {
      "text/plain": [
       "30"
      ]
     },
     "metadata": {},
     "output_type": "display_data"
    }
   ],
   "source": [
    "let \n",
    "    x=10 \n",
    "    y=20\n",
    "        in x+y"
   ]
  },
  {
   "cell_type": "markdown",
   "id": "7099927b-22c7-4849-b976-6e925c5d2b81",
   "metadata": {},
   "source": [
    "In this example, \"in\" has one more indent than the body of \"let\"  \n",
    "which makes it still inside the block."
   ]
  },
  {
   "cell_type": "code",
   "execution_count": 22,
   "id": "b1d796cb-d5d0-41fd-ab6d-a9363cff674f",
   "metadata": {},
   "outputs": [
    {
     "ename": "",
     "evalue": "",
     "output_type": "error",
     "traceback": [
      "Parse error (line 4, column 1): parse error on input `in'"
     ]
    }
   ],
   "source": [
    "let \n",
    "    x=10 \n",
    "    y=20\n",
    "in x+y"
   ]
  },
  {
   "cell_type": "markdown",
   "id": "f72f2122-54ad-4a68-848c-b3bfea133e14",
   "metadata": {},
   "source": [
    "### Using { .. ; .. ; ...}  \n",
    "Just use {} instead of indentation,  \n",
    "put (;) after each definition"
   ]
  },
  {
   "cell_type": "code",
   "execution_count": 28,
   "id": "47b40ce5-339c-40b3-85e4-9c38bc194bb6",
   "metadata": {},
   "outputs": [
    {
     "data": {
      "text/plain": [
       "30"
      ]
     },
     "metadata": {},
     "output_type": "display_data"
    }
   ],
   "source": [
    "let {x=10; y=20}  in x+y"
   ]
  },
  {
   "cell_type": "code",
   "execution_count": null,
   "id": "68bf6e52-a2d6-48c6-9b9f-040817418b49",
   "metadata": {},
   "outputs": [
    {
     "data": {
      "text/plain": [
       "30"
      ]
     },
     "metadata": {},
     "output_type": "display_data"
    }
   ],
   "source": [
    "let {\n",
    "        x=10; y=20} \n",
    "    in x+y"
   ]
  },
  {
   "cell_type": "code",
   "execution_count": null,
   "id": "50dac470-dd77-4792-b3d6-edf96934717f",
   "metadata": {},
   "outputs": [
    {
     "ename": "",
     "evalue": "",
     "output_type": "error",
     "traceback": [
      "Parse error (line 2, column 19): parse error (possibly incorrect indentation or mismatched brackets)"
     ]
    },
    {
     "ename": "",
     "evalue": "",
     "output_type": "error",
     "traceback": [
      "Parse error (line 3, column 1): parse error on input `}'"
     ]
    }
   ],
   "source": [
    "let {\n",
    "        x=10; y=20\n",
    "} \n",
    "    in x+y"
   ]
  },
  {
   "cell_type": "code",
   "execution_count": null,
   "id": "ca2e4363-076d-4d17-8693-01cf7e83cbb7",
   "metadata": {},
   "outputs": [
    {
     "data": {
      "text/plain": [
       "30"
      ]
     },
     "metadata": {},
     "output_type": "display_data"
    }
   ],
   "source": [
    "let {\n",
    "        x=10; y=20\n",
    "    } \n",
    "    in x+y"
   ]
  },
  {
   "cell_type": "code",
   "execution_count": null,
   "id": "9427c57e-dc02-432c-98af-94dc68797640",
   "metadata": {},
   "outputs": [
    {
     "ename": "",
     "evalue": "",
     "output_type": "error",
     "traceback": [
      "Parse error (line 4, column 1): parse error on input `in'"
     ]
    }
   ],
   "source": [
    "let {\n",
    "        x=10; y=20\n",
    "    } \n",
    "in x+y"
   ]
  },
  {
   "cell_type": "markdown",
   "id": "7972d7a4-5a82-4572-a2c7-36ef5399acf3",
   "metadata": {},
   "source": [
    "Haskell Indentation is still valid.  \n",
    "The expressions after \"let\" in this case are:  \n",
    "- {} block  \n",
    "- \"in\" part  \n",
    "They must be on the same or left indented with respect to \"let\"  \n",
    "  \n",
    "BUT: Expressions inside of the braces are flexible.  "
   ]
  },
  {
   "cell_type": "code",
   "execution_count": null,
   "id": "c2c16a1e-9c42-4824-9c01-ba6def225b42",
   "metadata": {},
   "outputs": [],
   "source": []
  }
 ],
 "metadata": {
  "kernelspec": {
   "display_name": "Haskell",
   "language": "haskell",
   "name": "haskell"
  },
  "language_info": {
   "codemirror_mode": "ihaskell",
   "file_extension": ".hs",
   "mimetype": "text/x-haskell",
   "name": "haskell",
   "pygments_lexer": "Haskell",
   "version": "9.6.4"
  }
 },
 "nbformat": 4,
 "nbformat_minor": 5
}
