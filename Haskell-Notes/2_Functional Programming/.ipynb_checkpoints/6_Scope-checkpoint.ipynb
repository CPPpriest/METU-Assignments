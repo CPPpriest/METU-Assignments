{
 "cells": [
  {
   "cell_type": "code",
   "execution_count": null,
   "id": "b5635a04-2a17-4b3b-99d0-9d357ac19656",
   "metadata": {},
   "outputs": [
    {
     "data": {
      "text/plain": [
       "49"
      ]
     },
     "metadata": {},
     "output_type": "display_data"
    }
   ],
   "source": [
    "let f x = x*x\n",
    "    y = 4\n",
    " in (let f x = x+1\n",
    "         z = 3\n",
    "         x = 10\n",
    "      in (let y = 2\n",
    "           in f x * y + z) + f y + z) + f y"
   ]
  },
  {
   "cell_type": "code",
   "execution_count": null,
   "id": "e1d26067-8879-4798-ab90-63d01e708007",
   "metadata": {},
   "outputs": [
    {
     "ename": "",
     "evalue": "",
     "output_type": "error",
     "traceback": [
      "<interactive>:7:18: error: [GHC-88464] Variable not in scope: x"
     ]
    }
   ],
   "source": [
    "let f1 x = x*x\n",
    "    y1 = 4\n",
    " in (let f2 x = x+1\n",
    "         z1 = 3\n",
    "         x1 = 10\n",
    "      in (let y2 = 2\n",
    "           in f2 x * y2 + z1) + f2 y1 + z1) + f1 y1\n"
   ]
  },
  {
   "cell_type": "code",
   "execution_count": null,
   "id": "851ba311-9c00-4485-93de-6fc814253b78",
   "metadata": {},
   "outputs": [],
   "source": []
  }
 ],
 "metadata": {
  "kernelspec": {
   "display_name": "Haskell",
   "language": "haskell",
   "name": "haskell"
  },
  "language_info": {
   "codemirror_mode": "ihaskell",
   "file_extension": ".hs",
   "mimetype": "text/x-haskell",
   "name": "haskell",
   "pygments_lexer": "Haskell",
   "version": "9.6.4"
  }
 },
 "nbformat": 4,
 "nbformat_minor": 5
}
