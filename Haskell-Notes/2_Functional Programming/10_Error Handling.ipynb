{
 "cells": [
  {
   "cell_type": "markdown",
   "id": "349df283-57e0-486d-96c1-948e660f4541",
   "metadata": {},
   "source": [
    "# Faulty Recursive Definition\n",
    "In some edge cases, Trivial recursive call might result in an error."
   ]
  },
  {
   "cell_type": "markdown",
   "id": "894d8dfb-9290-418a-ac4f-7d52636141a1",
   "metadata": {},
   "source": [
    "### Faulty Definition"
   ]
  },
  {
   "cell_type": "code",
   "execution_count": null,
   "id": "876162ac-c4a0-41c0-a326-c306f5052b5b",
   "metadata": {},
   "outputs": [
    {
     "data": {
      "text/plain": [
       "7"
      ]
     },
     "metadata": {},
     "output_type": "display_data"
    }
   ],
   "source": [
    "index _ [] = -1\n",
    "index k (v:rest)    | k == v = 0\n",
    "                    | otherwise = index k rest + 1\n",
    "\n",
    "index 'a' \"ömer Kramazov\""
   ]
  },
  {
   "cell_type": "markdown",
   "id": "016be6e1-bd77-48be-bb8d-f02d157b9f15",
   "metadata": {},
   "source": [
    "Realize that, this trivial call will return `length of the list + 1 + (-1) = length` if the element is NOT in the list:"
   ]
  },
  {
   "cell_type": "code",
   "execution_count": null,
   "id": "4415da1f-1e6a-41bd-bd2b-821c6cd1c863",
   "metadata": {},
   "outputs": [
    {
     "data": {
      "text/plain": [
       "12"
      ]
     },
     "metadata": {},
     "output_type": "display_data"
    }
   ],
   "source": [
    "index 'j' \"ömer Kramazov\""
   ]
  },
  {
   "cell_type": "markdown",
   "id": "b292a78a-64d3-40a1-902d-e3ec579aad61",
   "metadata": {},
   "source": [
    "### Proper Definition\n",
    "Modify the recursion instead of this trivial call:"
   ]
  },
  {
   "cell_type": "code",
   "execution_count": null,
   "id": "62a49801-0718-4b3a-9705-4fbe6d1c65ad",
   "metadata": {},
   "outputs": [
    {
     "data": {
      "text/plain": [
       "7"
      ]
     },
     "metadata": {},
     "output_type": "display_data"
    },
    {
     "data": {
      "text/plain": [
       "-1"
      ]
     },
     "metadata": {},
     "output_type": "display_data"
    }
   ],
   "source": [
    "index _ [] = -1\n",
    "index k (v:rest)    | k == v = 0\n",
    "                    | otherwise = let res = index k rest\n",
    "                                    in \n",
    "                                        if res == -1 then -1\n",
    "                                        else 1 + res \n",
    "\n",
    "index 'a' \"ömer Kramazov\"\n",
    "index 'j' \"ömer Kramazov\""
   ]
  },
  {
   "cell_type": "markdown",
   "id": "ed3da456-4f80-4ba2-912e-bc5d45354531",
   "metadata": {},
   "source": [
    "# Carry Error Information"
   ]
  },
  {
   "cell_type": "markdown",
   "id": "159efedb-c5f5-4cfc-8b85-d70a0518cc16",
   "metadata": {},
   "source": [
    "Another option is to carry error information on a special data type. Haskell `Maybe a` can be used for that purpose.\n",
    "```Haskell\n",
    "-- either an a valued type or nothing\n",
    "data Maybe a = Just a | Nothing     -- Nothing is the error case, Just a is the success\n",
    "\n",
    "```\n",
    "Data constructors cannot be compared but `case` expression can match them. Case matches the data constructors (see next section) and returns the corresponding expression. Match can contain variables as in function definition."
   ]
  },
  {
   "cell_type": "code",
   "execution_count": null,
   "id": "66c653c6-b0a3-4054-8a58-a2d9790391c0",
   "metadata": {},
   "outputs": [
    {
     "data": {
      "text/html": [
       "<style>/* Styles used for the Hoogle display in the pager */\n",
       ".hoogle-doc {\n",
       "display: block;\n",
       "padding-bottom: 1.3em;\n",
       "padding-left: 0.4em;\n",
       "}\n",
       ".hoogle-code {\n",
       "display: block;\n",
       "font-family: monospace;\n",
       "white-space: pre;\n",
       "}\n",
       ".hoogle-text {\n",
       "display: block;\n",
       "}\n",
       ".hoogle-name {\n",
       "color: green;\n",
       "font-weight: bold;\n",
       "}\n",
       ".hoogle-head {\n",
       "font-weight: bold;\n",
       "}\n",
       ".hoogle-sub {\n",
       "display: block;\n",
       "margin-left: 0.4em;\n",
       "}\n",
       ".hoogle-package {\n",
       "font-weight: bold;\n",
       "font-style: italic;\n",
       "}\n",
       ".hoogle-module {\n",
       "font-weight: bold;\n",
       "}\n",
       ".hoogle-class {\n",
       "font-weight: bold;\n",
       "}\n",
       "\n",
       ".get-type {\n",
       "color: green;\n",
       "font-weight: bold;\n",
       "font-family: monospace;\n",
       "display: block;\n",
       "white-space: pre-wrap;\n",
       "}\n",
       ".show-type {\n",
       "color: green;\n",
       "font-weight: bold;\n",
       "font-family: monospace;\n",
       "margin-left: 1em;\n",
       "}\n",
       ".mono {\n",
       "font-family: monospace;\n",
       "display: block;\n",
       "}\n",
       ".err-msg {\n",
       "color: red;\n",
       "font-style: italic;\n",
       "font-family: monospace;\n",
       "white-space: pre;\n",
       "display: block;\n",
       "}\n",
       "#unshowable {\n",
       "color: red;\n",
       "font-weight: bold;\n",
       "}\n",
       ".err-msg.in.collapse {\n",
       "padding-top: 0.7em;\n",
       "}\n",
       "\n",
       ".highlight-code {\n",
       "white-space: pre;\n",
       "font-family: monospace;\n",
       "}\n",
       "\n",
       ".suggestion-warning { \n",
       "font-weight: bold;\n",
       "color: rgb(200, 130, 0);\n",
       "}\n",
       ".suggestion-error { \n",
       "font-weight: bold;\n",
       "color: red;\n",
       "}\n",
       ".suggestion-name {\n",
       "font-weight: bold;\n",
       "}\n",
       "\n",
       "</style><span class='get-type'>index' :: forall {t} {a}. (Eq t, Num a) => t -> [t] -> Maybe a</span>"
      ],
      "text/plain": [
       "index' :: forall {t} {a}. (Eq t, Num a) => t -> [t] -> Maybe a"
      ]
     },
     "metadata": {},
     "output_type": "display_data"
    },
    {
     "data": {
      "text/plain": [
       "Just 24"
      ]
     },
     "metadata": {},
     "output_type": "display_data"
    },
    {
     "data": {
      "text/plain": [
       "Nothing"
      ]
     },
     "metadata": {},
     "output_type": "display_data"
    }
   ],
   "source": [
    "index' _ [] = Nothing\n",
    "index' k (v:rest) | k == v  = Just 0\n",
    "                  | otherwise   =  case index' k rest of\n",
    "                                            Nothing -> Nothing\n",
    "                                            Just inrest -> Just (1 + inrest)\n",
    "\n",
    "\n",
    ":t index'\n",
    "\n",
    "index' 'c' \"Programming Language Concepts\"\n",
    "index' 'z' \"Programming Language Concepts\""
   ]
  },
  {
   "cell_type": "code",
   "execution_count": null,
   "id": "97409442-bce3-4cc5-a9df-a1817762c0bf",
   "metadata": {},
   "outputs": [],
   "source": []
  }
 ],
 "metadata": {
  "kernelspec": {
   "display_name": "Haskell",
   "language": "haskell",
   "name": "haskell"
  },
  "language_info": {
   "codemirror_mode": "ihaskell",
   "file_extension": ".hs",
   "mimetype": "text/x-haskell",
   "name": "haskell",
   "pygments_lexer": "Haskell",
   "version": "9.6.4"
  }
 },
 "nbformat": 4,
 "nbformat_minor": 5
}
