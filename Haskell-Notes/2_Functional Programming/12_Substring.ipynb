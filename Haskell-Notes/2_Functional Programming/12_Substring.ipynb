{
 "cells": [
  {
   "cell_type": "markdown",
   "id": "a71d73f4-5aad-4b96-b7d9-c54644544a7f",
   "metadata": {},
   "source": [
    "# Substring Matching\n",
    "```hasekell\n",
    "isprefix a mStr  -- check if a is the prefix of mStr\n",
    "substr a mStr    -- iterate over mStr and check isPrefix, till it is true or end of string\n",
    "```"
   ]
  },
  {
   "cell_type": "code",
   "execution_count": 18,
   "id": "dced287e-81c2-4d6f-b6ec-4eaec0d72ad3",
   "metadata": {},
   "outputs": [
    {
     "data": {
      "text/plain": [
       "True"
      ]
     },
     "metadata": {},
     "output_type": "display_data"
    },
    {
     "data": {
      "text/plain": [
       "False"
      ]
     },
     "metadata": {},
     "output_type": "display_data"
    },
    {
     "data": {
      "text/plain": [
       "Just 1"
      ]
     },
     "metadata": {},
     "output_type": "display_data"
    },
    {
     "data": {
      "text/plain": [
       "Just 2"
      ]
     },
     "metadata": {},
     "output_type": "display_data"
    },
    {
     "data": {
      "text/plain": [
       "Just 3"
      ]
     },
     "metadata": {},
     "output_type": "display_data"
    },
    {
     "data": {
      "text/plain": [
       "Just 7"
      ]
     },
     "metadata": {},
     "output_type": "display_data"
    }
   ],
   "source": [
    "isprefix [] _ = True                                 -- empty list is prefix of anything\n",
    "isprefix _ [] = False                                -- if above does not match, first list is not empty, empty list has no non-empty prefix\n",
    "isprefix (a:ra) (b:rb) | a == b = isprefix ra rb\n",
    "                       | otherwise = False\n",
    "                       \n",
    "substr [] [] = Just 0                                -- empty string is a substr of empty string is a special case\n",
    "substr _ [] = Nothing                                -- no other string can be a substr of empty string\n",
    "substr sub sec@(a:rest) | isprefix sub sec = Just 0                  -- iterate over string and check isprefix at each step\n",
    "                        | otherwise  = case substr sub rest of\n",
    "                                        Nothing -> Nothing\n",
    "                                        Just n -> Just (1 + n)\n",
    "\n",
    "isprefix \"hell\" \"hello world\"\n",
    "isprefix \"hell\" \"ahello world\"\n",
    "\n",
    "substr \"hell\" \"ahello world\"\n",
    "substr \"hell\" \"aahello world hell\"\n",
    "\n",
    "substr [4,5] [1..20]\n",
    "substr [8,9] [1..20]"
   ]
  },
  {
   "cell_type": "markdown",
   "id": "7bc4eb60-680e-4b12-bb6d-1094569947f8",
   "metadata": {},
   "source": [
    "## \"as-pattern\" Operator\n",
    "@ symbol is used to create what's known as an \"as-pattern.\"   \n",
    "This allows you to simultaneously bind a variable to a value and deconstruct the value according to a pattern.   \n",
    "  \n",
    "It's a way to keep a reference to the whole structure you are pattern matching,   \n",
    "while still being able to work with parts of it directly."
   ]
  },
  {
   "cell_type": "markdown",
   "id": "f7165b68-ef40-4dc1-83ff-ff4e7f363b7d",
   "metadata": {},
   "source": [
    "```haskell\n",
    "sec@(a:rest)\n",
    "```\n",
    "`sec` refers to the whole list (a:rest)  \n",
    "`a` head of the list  \n",
    "`rest` tail of the list  "
   ]
  },
  {
   "cell_type": "code",
   "execution_count": null,
   "id": "5ff7338e-4554-421a-b652-0d419de907d3",
   "metadata": {},
   "outputs": [],
   "source": []
  }
 ],
 "metadata": {
  "kernelspec": {
   "display_name": "Haskell",
   "language": "haskell",
   "name": "haskell"
  },
  "language_info": {
   "codemirror_mode": "ihaskell",
   "file_extension": ".hs",
   "mimetype": "text/x-haskell",
   "name": "haskell",
   "pygments_lexer": "Haskell",
   "version": "9.6.4"
  }
 },
 "nbformat": 4,
 "nbformat_minor": 5
}
