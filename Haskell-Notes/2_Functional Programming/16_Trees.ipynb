{
 "cells": [
  {
   "cell_type": "markdown",
   "id": "8bd0d3aa-1b9f-40c5-8c24-186a03c8460e",
   "metadata": {},
   "source": [
    "## Tree Definition"
   ]
  },
  {
   "cell_type": "markdown",
   "id": "55fc1954-12b4-4d4a-bcf0-71de020a919f",
   "metadata": {},
   "source": [
    "Binary Tree with (value) Nodes"
   ]
  },
  {
   "cell_type": "code",
   "execution_count": 1,
   "id": "fabfe205-d7fd-405b-9a8b-7e9133492fb6",
   "metadata": {},
   "outputs": [],
   "source": [
    "data Tree a = ETree | Node a (Tree a) (Tree a) deriving Show"
   ]
  },
  {
   "cell_type": "markdown",
   "id": "84ad6022-3843-42c4-82de-5960f241724d",
   "metadata": {},
   "source": [
    "### insert"
   ]
  },
  {
   "cell_type": "code",
   "execution_count": 2,
   "id": "95ce9d40-14fa-4225-a99f-c39b650afd86",
   "metadata": {},
   "outputs": [
    {
     "data": {
      "text/html": [
       "<style>/* Styles used for the Hoogle display in the pager */\n",
       ".hoogle-doc {\n",
       "display: block;\n",
       "padding-bottom: 1.3em;\n",
       "padding-left: 0.4em;\n",
       "}\n",
       ".hoogle-code {\n",
       "display: block;\n",
       "font-family: monospace;\n",
       "white-space: pre;\n",
       "}\n",
       ".hoogle-text {\n",
       "display: block;\n",
       "}\n",
       ".hoogle-name {\n",
       "color: green;\n",
       "font-weight: bold;\n",
       "}\n",
       ".hoogle-head {\n",
       "font-weight: bold;\n",
       "}\n",
       ".hoogle-sub {\n",
       "display: block;\n",
       "margin-left: 0.4em;\n",
       "}\n",
       ".hoogle-package {\n",
       "font-weight: bold;\n",
       "font-style: italic;\n",
       "}\n",
       ".hoogle-module {\n",
       "font-weight: bold;\n",
       "}\n",
       ".hoogle-class {\n",
       "font-weight: bold;\n",
       "}\n",
       "\n",
       ".get-type {\n",
       "color: green;\n",
       "font-weight: bold;\n",
       "font-family: monospace;\n",
       "display: block;\n",
       "white-space: pre-wrap;\n",
       "}\n",
       ".show-type {\n",
       "color: green;\n",
       "font-weight: bold;\n",
       "font-family: monospace;\n",
       "margin-left: 1em;\n",
       "}\n",
       ".mono {\n",
       "font-family: monospace;\n",
       "display: block;\n",
       "}\n",
       ".err-msg {\n",
       "color: red;\n",
       "font-style: italic;\n",
       "font-family: monospace;\n",
       "white-space: pre;\n",
       "display: block;\n",
       "}\n",
       "#unshowable {\n",
       "color: red;\n",
       "font-weight: bold;\n",
       "}\n",
       ".err-msg.in.collapse {\n",
       "padding-top: 0.7em;\n",
       "}\n",
       "\n",
       ".highlight-code {\n",
       "white-space: pre;\n",
       "font-family: monospace;\n",
       "}\n",
       "\n",
       ".suggestion-warning { \n",
       "font-weight: bold;\n",
       "color: rgb(200, 130, 0);\n",
       "}\n",
       ".suggestion-error { \n",
       "font-weight: bold;\n",
       "color: red;\n",
       "}\n",
       ".suggestion-name {\n",
       "font-weight: bold;\n",
       "}\n",
       "\n",
       "</style><span class='get-type'>insert :: forall {t}. Ord t => Tree t -> t -> Tree t</span>"
      ],
      "text/plain": [
       "insert :: forall {t}. Ord t => Tree t -> t -> Tree t"
      ]
     },
     "metadata": {},
     "output_type": "display_data"
    },
    {
     "data": {
      "text/plain": [
       "Node 3 (Node 2 ETree ETree) (Node 5 (Node 4 ETree ETree) (Node 6 ETree ETree))"
      ]
     },
     "metadata": {},
     "output_type": "display_data"
    }
   ],
   "source": [
    "insert ETree v = Node v ETree ETree       -- inserting a value to an empty tree\n",
    "insert (Node a left right) v  | a == v  = (Node v left right)\n",
    "                              | v < a  = Node a (insert left v) right\n",
    "                              | otherwise = Node a left (insert right v)\n",
    "\n",
    ":t insert\n",
    "\n",
    "insert (insert (insert (insert (insert ETree 3) 5) 2) 6) 4"
   ]
  },
  {
   "cell_type": "markdown",
   "id": "5ef54044-92de-40d5-b64d-b6ffe88f135f",
   "metadata": {},
   "source": [
    "### traverse\n",
    "Traverse the tree, convert it to a list "
   ]
  },
  {
   "cell_type": "code",
   "execution_count": 5,
   "id": "d7301e02-4196-4bdc-a913-ac10f82d5b55",
   "metadata": {},
   "outputs": [
    {
     "data": {
      "text/html": [
       "<style>/* Styles used for the Hoogle display in the pager */\n",
       ".hoogle-doc {\n",
       "display: block;\n",
       "padding-bottom: 1.3em;\n",
       "padding-left: 0.4em;\n",
       "}\n",
       ".hoogle-code {\n",
       "display: block;\n",
       "font-family: monospace;\n",
       "white-space: pre;\n",
       "}\n",
       ".hoogle-text {\n",
       "display: block;\n",
       "}\n",
       ".hoogle-name {\n",
       "color: green;\n",
       "font-weight: bold;\n",
       "}\n",
       ".hoogle-head {\n",
       "font-weight: bold;\n",
       "}\n",
       ".hoogle-sub {\n",
       "display: block;\n",
       "margin-left: 0.4em;\n",
       "}\n",
       ".hoogle-package {\n",
       "font-weight: bold;\n",
       "font-style: italic;\n",
       "}\n",
       ".hoogle-module {\n",
       "font-weight: bold;\n",
       "}\n",
       ".hoogle-class {\n",
       "font-weight: bold;\n",
       "}\n",
       "\n",
       ".get-type {\n",
       "color: green;\n",
       "font-weight: bold;\n",
       "font-family: monospace;\n",
       "display: block;\n",
       "white-space: pre-wrap;\n",
       "}\n",
       ".show-type {\n",
       "color: green;\n",
       "font-weight: bold;\n",
       "font-family: monospace;\n",
       "margin-left: 1em;\n",
       "}\n",
       ".mono {\n",
       "font-family: monospace;\n",
       "display: block;\n",
       "}\n",
       ".err-msg {\n",
       "color: red;\n",
       "font-style: italic;\n",
       "font-family: monospace;\n",
       "white-space: pre;\n",
       "display: block;\n",
       "}\n",
       "#unshowable {\n",
       "color: red;\n",
       "font-weight: bold;\n",
       "}\n",
       ".err-msg.in.collapse {\n",
       "padding-top: 0.7em;\n",
       "}\n",
       "\n",
       ".highlight-code {\n",
       "white-space: pre;\n",
       "font-family: monospace;\n",
       "}\n",
       "\n",
       ".suggestion-warning { \n",
       "font-weight: bold;\n",
       "color: rgb(200, 130, 0);\n",
       "}\n",
       ".suggestion-error { \n",
       "font-weight: bold;\n",
       "color: red;\n",
       "}\n",
       ".suggestion-name {\n",
       "font-weight: bold;\n",
       "}\n",
       "\n",
       "</style><span class='get-type'>traverse :: forall {a}. Tree a -> [a]</span>"
      ],
      "text/plain": [
       "traverse :: forall {a}. Tree a -> [a]"
      ]
     },
     "metadata": {},
     "output_type": "display_data"
    },
    {
     "data": {
      "text/plain": [
       "[2,3,4,5,6]"
      ]
     },
     "metadata": {},
     "output_type": "display_data"
    }
   ],
   "source": [
    "traverse ETree = []\n",
    "traverse (Node a left right) = traverse left ++ a : traverse right\n",
    "\n",
    ":t traverse\n",
    "\n",
    "traverse ( insert (insert (insert (insert (insert ETree 3) 5) 2) 6) 4 )"
   ]
  },
  {
   "cell_type": "markdown",
   "id": "70cdd620-5cb0-492c-952e-cd021f49434c",
   "metadata": {},
   "source": [
    "### leaves\n",
    "Get all leaves of the tree in a list"
   ]
  },
  {
   "cell_type": "code",
   "execution_count": 4,
   "id": "b90042b5-05c7-460f-9897-fdb61c685c72",
   "metadata": {},
   "outputs": [
    {
     "data": {
      "text/html": [
       "<style>/* Styles used for the Hoogle display in the pager */\n",
       ".hoogle-doc {\n",
       "display: block;\n",
       "padding-bottom: 1.3em;\n",
       "padding-left: 0.4em;\n",
       "}\n",
       ".hoogle-code {\n",
       "display: block;\n",
       "font-family: monospace;\n",
       "white-space: pre;\n",
       "}\n",
       ".hoogle-text {\n",
       "display: block;\n",
       "}\n",
       ".hoogle-name {\n",
       "color: green;\n",
       "font-weight: bold;\n",
       "}\n",
       ".hoogle-head {\n",
       "font-weight: bold;\n",
       "}\n",
       ".hoogle-sub {\n",
       "display: block;\n",
       "margin-left: 0.4em;\n",
       "}\n",
       ".hoogle-package {\n",
       "font-weight: bold;\n",
       "font-style: italic;\n",
       "}\n",
       ".hoogle-module {\n",
       "font-weight: bold;\n",
       "}\n",
       ".hoogle-class {\n",
       "font-weight: bold;\n",
       "}\n",
       "\n",
       ".get-type {\n",
       "color: green;\n",
       "font-weight: bold;\n",
       "font-family: monospace;\n",
       "display: block;\n",
       "white-space: pre-wrap;\n",
       "}\n",
       ".show-type {\n",
       "color: green;\n",
       "font-weight: bold;\n",
       "font-family: monospace;\n",
       "margin-left: 1em;\n",
       "}\n",
       ".mono {\n",
       "font-family: monospace;\n",
       "display: block;\n",
       "}\n",
       ".err-msg {\n",
       "color: red;\n",
       "font-style: italic;\n",
       "font-family: monospace;\n",
       "white-space: pre;\n",
       "display: block;\n",
       "}\n",
       "#unshowable {\n",
       "color: red;\n",
       "font-weight: bold;\n",
       "}\n",
       ".err-msg.in.collapse {\n",
       "padding-top: 0.7em;\n",
       "}\n",
       "\n",
       ".highlight-code {\n",
       "white-space: pre;\n",
       "font-family: monospace;\n",
       "}\n",
       "\n",
       ".suggestion-warning { \n",
       "font-weight: bold;\n",
       "color: rgb(200, 130, 0);\n",
       "}\n",
       ".suggestion-error { \n",
       "font-weight: bold;\n",
       "color: red;\n",
       "}\n",
       ".suggestion-name {\n",
       "font-weight: bold;\n",
       "}\n",
       "\n",
       "</style><span class='get-type'>leaves :: forall {a}. Tree a -> [a]</span>"
      ],
      "text/plain": [
       "leaves :: forall {a}. Tree a -> [a]"
      ]
     },
     "metadata": {},
     "output_type": "display_data"
    },
    {
     "data": {
      "text/plain": [
       "[2,4,6]"
      ]
     },
     "metadata": {},
     "output_type": "display_data"
    }
   ],
   "source": [
    "leaves ETree = []\n",
    "leaves (Node a ETree ETree) = [a]\n",
    "leaves (Node a left right) = leaves left ++ leaves right\n",
    "\n",
    ":t leaves\n",
    "\n",
    "leaves ( insert (insert (insert (insert (insert ETree 3) 5) 2) 6) 4 )"
   ]
  },
  {
   "cell_type": "markdown",
   "id": "676b2107-f033-4483-894e-1ed64632313b",
   "metadata": {},
   "source": [
    "## Tree with (k,v) pairs (Dictionary Tree)"
   ]
  },
  {
   "cell_type": "markdown",
   "id": "0c150cc9-5f96-41d7-b2ec-818f61060559",
   "metadata": {},
   "source": [
    "Define `set` function to make the tree a Dictionary Tree"
   ]
  },
  {
   "cell_type": "markdown",
   "id": "7983befa-a0a4-415b-8f77-ff1fb79b5ab9",
   "metadata": {},
   "source": [
    "# set"
   ]
  },
  {
   "cell_type": "code",
   "execution_count": null,
   "id": "a8487ad3-4e09-4e38-82b5-3b4a90e7aba5",
   "metadata": {},
   "outputs": [
    {
     "data": {
      "text/html": [
       "<style>/* Styles used for the Hoogle display in the pager */\n",
       ".hoogle-doc {\n",
       "display: block;\n",
       "padding-bottom: 1.3em;\n",
       "padding-left: 0.4em;\n",
       "}\n",
       ".hoogle-code {\n",
       "display: block;\n",
       "font-family: monospace;\n",
       "white-space: pre;\n",
       "}\n",
       ".hoogle-text {\n",
       "display: block;\n",
       "}\n",
       ".hoogle-name {\n",
       "color: green;\n",
       "font-weight: bold;\n",
       "}\n",
       ".hoogle-head {\n",
       "font-weight: bold;\n",
       "}\n",
       ".hoogle-sub {\n",
       "display: block;\n",
       "margin-left: 0.4em;\n",
       "}\n",
       ".hoogle-package {\n",
       "font-weight: bold;\n",
       "font-style: italic;\n",
       "}\n",
       ".hoogle-module {\n",
       "font-weight: bold;\n",
       "}\n",
       ".hoogle-class {\n",
       "font-weight: bold;\n",
       "}\n",
       "\n",
       ".get-type {\n",
       "color: green;\n",
       "font-weight: bold;\n",
       "font-family: monospace;\n",
       "display: block;\n",
       "white-space: pre-wrap;\n",
       "}\n",
       ".show-type {\n",
       "color: green;\n",
       "font-weight: bold;\n",
       "font-family: monospace;\n",
       "margin-left: 1em;\n",
       "}\n",
       ".mono {\n",
       "font-family: monospace;\n",
       "display: block;\n",
       "}\n",
       ".err-msg {\n",
       "color: red;\n",
       "font-style: italic;\n",
       "font-family: monospace;\n",
       "white-space: pre;\n",
       "display: block;\n",
       "}\n",
       "#unshowable {\n",
       "color: red;\n",
       "font-weight: bold;\n",
       "}\n",
       ".err-msg.in.collapse {\n",
       "padding-top: 0.7em;\n",
       "}\n",
       "\n",
       ".highlight-code {\n",
       "white-space: pre;\n",
       "font-family: monospace;\n",
       "}\n",
       "\n",
       ".suggestion-warning { \n",
       "font-weight: bold;\n",
       "color: rgb(200, 130, 0);\n",
       "}\n",
       ".suggestion-error { \n",
       "font-weight: bold;\n",
       "color: red;\n",
       "}\n",
       ".suggestion-name {\n",
       "font-weight: bold;\n",
       "}\n",
       "\n",
       "</style><span class='get-type'>set :: forall {t1} {t2}. Ord t1 => Tree (t1, t2) -> t1 -> t2 -> Tree (t1, t2)</span>"
      ],
      "text/plain": [
       "set :: forall {t1} {t2}. Ord t1 => Tree (t1, t2) -> t1 -> t2 -> Tree (t1, t2)"
      ]
     },
     "metadata": {},
     "output_type": "display_data"
    }
   ],
   "source": [
    "data Tree a = ETree | Node a (Tree a) (Tree a) deriving Show\n",
    "\n",
    "-- set :: Tree (a,b) -> a -> b -> Tree (a,b)\n",
    "-- return the new tree with k,v added to a BST \n",
    "\n",
    "\n",
    "set ETree k v = Node (k,v) ETree ETree       -- inserting a (k,v) pair to an empty tree\n",
    "set (Node (ak,av) left right) k v  | ak == k  = Node (k,v) left right\n",
    "                                   | k < ak   = Node (ak,av) (set left k v) right\n",
    "                                   | otherwise = Node (ak,av) left (set right k v)\n",
    "\n",
    "\n",
    "-- set :: Tree (a,b) -> a -> Maybe b\n",
    "\n",
    "\n",
    ":t set"
   ]
  },
  {
   "cell_type": "markdown",
   "id": "81189bee-c172-4888-9bc9-38ae60d40f9d",
   "metadata": {},
   "source": [
    "# get\n",
    "get value for the given search key"
   ]
  },
  {
   "cell_type": "code",
   "execution_count": null,
   "id": "6e29d8e2-2078-4e6d-ab44-b72448648adb",
   "metadata": {},
   "outputs": [
    {
     "data": {
      "text/html": [
       "<style>/* Styles used for the Hoogle display in the pager */\n",
       ".hoogle-doc {\n",
       "display: block;\n",
       "padding-bottom: 1.3em;\n",
       "padding-left: 0.4em;\n",
       "}\n",
       ".hoogle-code {\n",
       "display: block;\n",
       "font-family: monospace;\n",
       "white-space: pre;\n",
       "}\n",
       ".hoogle-text {\n",
       "display: block;\n",
       "}\n",
       ".hoogle-name {\n",
       "color: green;\n",
       "font-weight: bold;\n",
       "}\n",
       ".hoogle-head {\n",
       "font-weight: bold;\n",
       "}\n",
       ".hoogle-sub {\n",
       "display: block;\n",
       "margin-left: 0.4em;\n",
       "}\n",
       ".hoogle-package {\n",
       "font-weight: bold;\n",
       "font-style: italic;\n",
       "}\n",
       ".hoogle-module {\n",
       "font-weight: bold;\n",
       "}\n",
       ".hoogle-class {\n",
       "font-weight: bold;\n",
       "}\n",
       "\n",
       ".get-type {\n",
       "color: green;\n",
       "font-weight: bold;\n",
       "font-family: monospace;\n",
       "display: block;\n",
       "white-space: pre-wrap;\n",
       "}\n",
       ".show-type {\n",
       "color: green;\n",
       "font-weight: bold;\n",
       "font-family: monospace;\n",
       "margin-left: 1em;\n",
       "}\n",
       ".mono {\n",
       "font-family: monospace;\n",
       "display: block;\n",
       "}\n",
       ".err-msg {\n",
       "color: red;\n",
       "font-style: italic;\n",
       "font-family: monospace;\n",
       "white-space: pre;\n",
       "display: block;\n",
       "}\n",
       "#unshowable {\n",
       "color: red;\n",
       "font-weight: bold;\n",
       "}\n",
       ".err-msg.in.collapse {\n",
       "padding-top: 0.7em;\n",
       "}\n",
       "\n",
       ".highlight-code {\n",
       "white-space: pre;\n",
       "font-family: monospace;\n",
       "}\n",
       "\n",
       ".suggestion-warning { \n",
       "font-weight: bold;\n",
       "color: rgb(200, 130, 0);\n",
       "}\n",
       ".suggestion-error { \n",
       "font-weight: bold;\n",
       "color: red;\n",
       "}\n",
       ".suggestion-name {\n",
       "font-weight: bold;\n",
       "}\n",
       "\n",
       "</style><span class='get-type'>get :: forall {t} {a}. Ord t => Tree (t, a) -> t -> Maybe a</span>"
      ],
      "text/plain": [
       "get :: forall {t} {a}. Ord t => Tree (t, a) -> t -> Maybe a"
      ]
     },
     "metadata": {},
     "output_type": "display_data"
    }
   ],
   "source": [
    "-- search key in BST and return value if found, else Nothing\n",
    "\n",
    "get ETree _ = Nothing\n",
    "get (Node (k,v) left right) sk  | sk == k = Just v\n",
    "                                | sk < k  = get left sk\n",
    "                                | otherwise = get right sk\n",
    "                                \n",
    "\n",
    ":t get"
   ]
  },
  {
   "cell_type": "code",
   "execution_count": null,
   "id": "e86bad31-f250-4b79-95d2-abdf0ebe9a6f",
   "metadata": {},
   "outputs": [
    {
     "data": {
      "text/plain": [
       "Node (\"martian\",3) (Node (\"daffy\",2) (Node (\"bugs\",66) ETree ETree) (Node (\"elmer\",6) ETree ETree)) (Node (\"tweety\",5) (Node (\"sylvester\",123) ETree ETree) ETree)"
      ]
     },
     "metadata": {},
     "output_type": "display_data"
    },
    {
     "data": {
      "text/plain": [
       "Just 66"
      ]
     },
     "metadata": {},
     "output_type": "display_data"
    },
    {
     "data": {
      "text/plain": [
       "Nothing"
      ]
     },
     "metadata": {},
     "output_type": "display_data"
    }
   ],
   "source": [
    "\n",
    "tre = set (set (set (set (set (set (set ETree \"martian\" 3) \"tweety\" 5) \"daffy\" 2) \"elmer\" 6) \"bugs\" 4) \n",
    "          \"sylvester\" 123) \"bugs\" 66\n",
    "\n",
    "tre\n",
    "\n",
    "get tre \"bugs\"\n",
    "get tre \"onur\"\n"
   ]
  },
  {
   "cell_type": "markdown",
   "id": "16fd961f-d155-43a1-b144-76e4e2051d8d",
   "metadata": {},
   "source": [
    "# path\n",
    "Write the path through searching for key"
   ]
  },
  {
   "cell_type": "code",
   "execution_count": null,
   "id": "afbe5728-66a8-4e30-a2d4-4bb084a1ff17",
   "metadata": {},
   "outputs": [
    {
     "data": {
      "text/plain": [
       "[(\"martian\",3),(\"daffy\",2),(\"bugs\",66)]"
      ]
     },
     "metadata": {},
     "output_type": "display_data"
    },
    {
     "data": {
      "text/plain": [
       "[(\"martian\",3),(\"tweety\",5),(\"sylvester\",123)]"
      ]
     },
     "metadata": {},
     "output_type": "display_data"
    },
    {
     "data": {
      "text/plain": [
       "[(\"martian\",3)]"
      ]
     },
     "metadata": {},
     "output_type": "display_data"
    }
   ],
   "source": [
    "-- path :: Node (a,b) -> a -> [(a,b)]\n",
    "-- like get but returns all intermediate values in the path\n",
    "\n",
    "path ETree _ = []\n",
    "path (Node (k,v) left right) sk  | sk == k = [(k,v)]\n",
    "                                 | sk < k  = (k,v) : path left sk \n",
    "                                 | otherwise = (k,v) : path right sk\n",
    "\n",
    "\n",
    "path tre \"bugs\"\n",
    "path tre \"sylvester\"\n",
    "path tre \"martian\""
   ]
  },
  {
   "cell_type": "code",
   "execution_count": null,
   "id": "07356259-5eab-4b3a-af3c-569eeb1d45f7",
   "metadata": {},
   "outputs": [],
   "source": []
  },
  {
   "cell_type": "code",
   "execution_count": null,
   "id": "f5ce5545-5b39-4ca2-a40d-c0679d7f120f",
   "metadata": {},
   "outputs": [],
   "source": []
  }
 ],
 "metadata": {
  "kernelspec": {
   "display_name": "Haskell",
   "language": "haskell",
   "name": "haskell"
  },
  "language_info": {
   "codemirror_mode": "ihaskell",
   "file_extension": ".hs",
   "mimetype": "text/x-haskell",
   "name": "haskell",
   "pygments_lexer": "Haskell",
   "version": "9.6.4"
  }
 },
 "nbformat": 4,
 "nbformat_minor": 5
}
