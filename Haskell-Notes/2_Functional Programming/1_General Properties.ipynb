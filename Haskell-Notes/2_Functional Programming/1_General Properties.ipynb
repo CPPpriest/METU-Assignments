{
 "cells": [
  {
   "cell_type": "markdown",
   "id": "c20ecd4b-01f4-4555-8361-3f1151084b6d",
   "metadata": {},
   "source": [
    "# Function Notations"
   ]
  },
  {
   "cell_type": "markdown",
   "id": "fa2ba7af-9de8-46ee-a042-74b277f9d3b4",
   "metadata": {},
   "source": [
    "### Cartesian Product Form"
   ]
  },
  {
   "cell_type": "code",
   "execution_count": 7,
   "id": "808ffe65-5d58-498a-9b3e-3d077611ccdc",
   "metadata": {},
   "outputs": [
    {
     "data": {
      "text/html": [
       "<style>/* Styles used for the Hoogle display in the pager */\n",
       ".hoogle-doc {\n",
       "display: block;\n",
       "padding-bottom: 1.3em;\n",
       "padding-left: 0.4em;\n",
       "}\n",
       ".hoogle-code {\n",
       "display: block;\n",
       "font-family: monospace;\n",
       "white-space: pre;\n",
       "}\n",
       ".hoogle-text {\n",
       "display: block;\n",
       "}\n",
       ".hoogle-name {\n",
       "color: green;\n",
       "font-weight: bold;\n",
       "}\n",
       ".hoogle-head {\n",
       "font-weight: bold;\n",
       "}\n",
       ".hoogle-sub {\n",
       "display: block;\n",
       "margin-left: 0.4em;\n",
       "}\n",
       ".hoogle-package {\n",
       "font-weight: bold;\n",
       "font-style: italic;\n",
       "}\n",
       ".hoogle-module {\n",
       "font-weight: bold;\n",
       "}\n",
       ".hoogle-class {\n",
       "font-weight: bold;\n",
       "}\n",
       "\n",
       ".get-type {\n",
       "color: green;\n",
       "font-weight: bold;\n",
       "font-family: monospace;\n",
       "display: block;\n",
       "white-space: pre-wrap;\n",
       "}\n",
       ".show-type {\n",
       "color: green;\n",
       "font-weight: bold;\n",
       "font-family: monospace;\n",
       "margin-left: 1em;\n",
       "}\n",
       ".mono {\n",
       "font-family: monospace;\n",
       "display: block;\n",
       "}\n",
       ".err-msg {\n",
       "color: red;\n",
       "font-style: italic;\n",
       "font-family: monospace;\n",
       "white-space: pre;\n",
       "display: block;\n",
       "}\n",
       "#unshowable {\n",
       "color: red;\n",
       "font-weight: bold;\n",
       "}\n",
       ".err-msg.in.collapse {\n",
       "padding-top: 0.7em;\n",
       "}\n",
       "\n",
       ".highlight-code {\n",
       "white-space: pre;\n",
       "font-family: monospace;\n",
       "}\n",
       "\n",
       ".suggestion-warning { \n",
       "font-weight: bold;\n",
       "color: rgb(200, 130, 0);\n",
       "}\n",
       ".suggestion-error { \n",
       "font-weight: bold;\n",
       "color: red;\n",
       "}\n",
       ".suggestion-name {\n",
       "font-weight: bold;\n",
       "}\n",
       "\n",
       "</style><span class='get-type'>funcName :: forall {a1} {a2} {b} {c}. Num a1 => (a2, b, c) -> a1</span>"
      ],
      "text/plain": [
       "funcName :: forall {a1} {a2} {b} {c}. Num a1 => (a2, b, c) -> a1"
      ]
     },
     "metadata": {},
     "output_type": "display_data"
    }
   ],
   "source": [
    "funcName (par1, par2, par3) = 1 \n",
    ":t funcName"
   ]
  },
  {
   "cell_type": "markdown",
   "id": "483bfb48-fc0f-49fe-a827-7e189bbe53c5",
   "metadata": {},
   "source": [
    "Here, function takes a single parameter (3_tuple)"
   ]
  },
  {
   "cell_type": "markdown",
   "id": "c8c675dd-4559-4cc3-bdbf-97e72e85c4f7",
   "metadata": {},
   "source": [
    "### Curried Form"
   ]
  },
  {
   "cell_type": "code",
   "execution_count": 8,
   "id": "033f7260-f50c-4083-99db-75b3dae56080",
   "metadata": {},
   "outputs": [
    {
     "data": {
      "text/html": [
       "<style>/* Styles used for the Hoogle display in the pager */\n",
       ".hoogle-doc {\n",
       "display: block;\n",
       "padding-bottom: 1.3em;\n",
       "padding-left: 0.4em;\n",
       "}\n",
       ".hoogle-code {\n",
       "display: block;\n",
       "font-family: monospace;\n",
       "white-space: pre;\n",
       "}\n",
       ".hoogle-text {\n",
       "display: block;\n",
       "}\n",
       ".hoogle-name {\n",
       "color: green;\n",
       "font-weight: bold;\n",
       "}\n",
       ".hoogle-head {\n",
       "font-weight: bold;\n",
       "}\n",
       ".hoogle-sub {\n",
       "display: block;\n",
       "margin-left: 0.4em;\n",
       "}\n",
       ".hoogle-package {\n",
       "font-weight: bold;\n",
       "font-style: italic;\n",
       "}\n",
       ".hoogle-module {\n",
       "font-weight: bold;\n",
       "}\n",
       ".hoogle-class {\n",
       "font-weight: bold;\n",
       "}\n",
       "\n",
       ".get-type {\n",
       "color: green;\n",
       "font-weight: bold;\n",
       "font-family: monospace;\n",
       "display: block;\n",
       "white-space: pre-wrap;\n",
       "}\n",
       ".show-type {\n",
       "color: green;\n",
       "font-weight: bold;\n",
       "font-family: monospace;\n",
       "margin-left: 1em;\n",
       "}\n",
       ".mono {\n",
       "font-family: monospace;\n",
       "display: block;\n",
       "}\n",
       ".err-msg {\n",
       "color: red;\n",
       "font-style: italic;\n",
       "font-family: monospace;\n",
       "white-space: pre;\n",
       "display: block;\n",
       "}\n",
       "#unshowable {\n",
       "color: red;\n",
       "font-weight: bold;\n",
       "}\n",
       ".err-msg.in.collapse {\n",
       "padding-top: 0.7em;\n",
       "}\n",
       "\n",
       ".highlight-code {\n",
       "white-space: pre;\n",
       "font-family: monospace;\n",
       "}\n",
       "\n",
       ".suggestion-warning { \n",
       "font-weight: bold;\n",
       "color: rgb(200, 130, 0);\n",
       "}\n",
       ".suggestion-error { \n",
       "font-weight: bold;\n",
       "color: red;\n",
       "}\n",
       ".suggestion-name {\n",
       "font-weight: bold;\n",
       "}\n",
       "\n",
       "</style><span class='get-type'>funcName :: forall {a} {p1} {p2} {p3}. Num a => p1 -> p2 -> p3 -> a</span>"
      ],
      "text/plain": [
       "funcName :: forall {a} {p1} {p2} {p3}. Num a => p1 -> p2 -> p3 -> a"
      ]
     },
     "metadata": {},
     "output_type": "display_data"
    }
   ],
   "source": [
    "funcName par1 par2 par3 = 1 \n",
    ":t funcName"
   ]
  },
  {
   "cell_type": "markdown",
   "id": "06388073-97e0-42f0-8090-efd22340922d",
   "metadata": {},
   "source": [
    "Here, function takes three int parameters"
   ]
  },
  {
   "cell_type": "markdown",
   "id": "112a9ef5-b594-460a-9523-751fce412c5b",
   "metadata": {},
   "source": [
    "# Type Signiture"
   ]
  },
  {
   "cell_type": "code",
   "execution_count": 16,
   "id": "83abc667-443e-45a0-b7b1-1888da7934dc",
   "metadata": {},
   "outputs": [
    {
     "data": {
      "text/html": [
       "<style>/* Styles used for the Hoogle display in the pager */\n",
       ".hoogle-doc {\n",
       "display: block;\n",
       "padding-bottom: 1.3em;\n",
       "padding-left: 0.4em;\n",
       "}\n",
       ".hoogle-code {\n",
       "display: block;\n",
       "font-family: monospace;\n",
       "white-space: pre;\n",
       "}\n",
       ".hoogle-text {\n",
       "display: block;\n",
       "}\n",
       ".hoogle-name {\n",
       "color: green;\n",
       "font-weight: bold;\n",
       "}\n",
       ".hoogle-head {\n",
       "font-weight: bold;\n",
       "}\n",
       ".hoogle-sub {\n",
       "display: block;\n",
       "margin-left: 0.4em;\n",
       "}\n",
       ".hoogle-package {\n",
       "font-weight: bold;\n",
       "font-style: italic;\n",
       "}\n",
       ".hoogle-module {\n",
       "font-weight: bold;\n",
       "}\n",
       ".hoogle-class {\n",
       "font-weight: bold;\n",
       "}\n",
       "\n",
       ".get-type {\n",
       "color: green;\n",
       "font-weight: bold;\n",
       "font-family: monospace;\n",
       "display: block;\n",
       "white-space: pre-wrap;\n",
       "}\n",
       ".show-type {\n",
       "color: green;\n",
       "font-weight: bold;\n",
       "font-family: monospace;\n",
       "margin-left: 1em;\n",
       "}\n",
       ".mono {\n",
       "font-family: monospace;\n",
       "display: block;\n",
       "}\n",
       ".err-msg {\n",
       "color: red;\n",
       "font-style: italic;\n",
       "font-family: monospace;\n",
       "white-space: pre;\n",
       "display: block;\n",
       "}\n",
       "#unshowable {\n",
       "color: red;\n",
       "font-weight: bold;\n",
       "}\n",
       ".err-msg.in.collapse {\n",
       "padding-top: 0.7em;\n",
       "}\n",
       "\n",
       ".highlight-code {\n",
       "white-space: pre;\n",
       "font-family: monospace;\n",
       "}\n",
       "\n",
       ".suggestion-warning { \n",
       "font-weight: bold;\n",
       "color: rgb(200, 130, 0);\n",
       "}\n",
       ".suggestion-error { \n",
       "font-weight: bold;\n",
       "color: red;\n",
       "}\n",
       ".suggestion-name {\n",
       "font-weight: bold;\n",
       "}\n",
       "\n",
       "</style><span class='get-type'>square1 :: Integer -> Integer</span>"
      ],
      "text/plain": [
       "square1 :: Integer -> Integer"
      ]
     },
     "metadata": {},
     "output_type": "display_data"
    }
   ],
   "source": [
    "square1::Integer -> Integer\n",
    "square1 x = x*x\n",
    ":t square1"
   ]
  },
  {
   "cell_type": "code",
   "execution_count": 17,
   "id": "c78f8252-3ec2-4f64-ac1d-0050b63a6709",
   "metadata": {},
   "outputs": [
    {
     "data": {
      "text/html": [
       "<style>/* Styles used for the Hoogle display in the pager */\n",
       ".hoogle-doc {\n",
       "display: block;\n",
       "padding-bottom: 1.3em;\n",
       "padding-left: 0.4em;\n",
       "}\n",
       ".hoogle-code {\n",
       "display: block;\n",
       "font-family: monospace;\n",
       "white-space: pre;\n",
       "}\n",
       ".hoogle-text {\n",
       "display: block;\n",
       "}\n",
       ".hoogle-name {\n",
       "color: green;\n",
       "font-weight: bold;\n",
       "}\n",
       ".hoogle-head {\n",
       "font-weight: bold;\n",
       "}\n",
       ".hoogle-sub {\n",
       "display: block;\n",
       "margin-left: 0.4em;\n",
       "}\n",
       ".hoogle-package {\n",
       "font-weight: bold;\n",
       "font-style: italic;\n",
       "}\n",
       ".hoogle-module {\n",
       "font-weight: bold;\n",
       "}\n",
       ".hoogle-class {\n",
       "font-weight: bold;\n",
       "}\n",
       "\n",
       ".get-type {\n",
       "color: green;\n",
       "font-weight: bold;\n",
       "font-family: monospace;\n",
       "display: block;\n",
       "white-space: pre-wrap;\n",
       "}\n",
       ".show-type {\n",
       "color: green;\n",
       "font-weight: bold;\n",
       "font-family: monospace;\n",
       "margin-left: 1em;\n",
       "}\n",
       ".mono {\n",
       "font-family: monospace;\n",
       "display: block;\n",
       "}\n",
       ".err-msg {\n",
       "color: red;\n",
       "font-style: italic;\n",
       "font-family: monospace;\n",
       "white-space: pre;\n",
       "display: block;\n",
       "}\n",
       "#unshowable {\n",
       "color: red;\n",
       "font-weight: bold;\n",
       "}\n",
       ".err-msg.in.collapse {\n",
       "padding-top: 0.7em;\n",
       "}\n",
       "\n",
       ".highlight-code {\n",
       "white-space: pre;\n",
       "font-family: monospace;\n",
       "}\n",
       "\n",
       ".suggestion-warning { \n",
       "font-weight: bold;\n",
       "color: rgb(200, 130, 0);\n",
       "}\n",
       ".suggestion-error { \n",
       "font-weight: bold;\n",
       "color: red;\n",
       "}\n",
       ".suggestion-name {\n",
       "font-weight: bold;\n",
       "}\n",
       "\n",
       "</style><span class='get-type'>square2 :: forall {a}. Num a => a -> a</span>"
      ],
      "text/plain": [
       "square2 :: forall {a}. Num a => a -> a"
      ]
     },
     "metadata": {},
     "output_type": "display_data"
    }
   ],
   "source": [
    "--square2::Integer -> Integer\n",
    "square2 x = x*x\n",
    ":t square2"
   ]
  },
  {
   "cell_type": "markdown",
   "id": "e5061650-3946-4d63-9d49-fd659fbf57d8",
   "metadata": {},
   "source": [
    "Explicit type signiture avoids potential bugs:"
   ]
  },
  {
   "cell_type": "code",
   "execution_count": 23,
   "id": "bce9f535-5156-404b-8f36-422123cce780",
   "metadata": {},
   "outputs": [
    {
     "data": {
      "text/plain": [
       "144"
      ]
     },
     "metadata": {},
     "output_type": "display_data"
    },
    {
     "data": {
      "text/plain": [
       "144"
      ]
     },
     "metadata": {},
     "output_type": "display_data"
    }
   ],
   "source": [
    "square2 12\n",
    "square1 12"
   ]
  },
  {
   "cell_type": "code",
   "execution_count": 24,
   "id": "09086ce7-3966-4e76-a953-d26264f40ccb",
   "metadata": {},
   "outputs": [
    {
     "data": {
      "text/plain": [
       "151.29000000000002"
      ]
     },
     "metadata": {},
     "output_type": "display_data"
    },
    {
     "ename": "",
     "evalue": "",
     "output_type": "error",
     "traceback": [
      "<interactive>:1:9: error: [GHC-39999]\n    • No instance for ‘Fractional Integer’ arising from the literal ‘12.3’\n    • In the first argument of ‘square1’, namely ‘12.3’\n      In the expression: square1 12.3\n      In an equation for ‘it’: it = square1 12.3"
     ]
    }
   ],
   "source": [
    "square2 12.3\n",
    "square1 12.3"
   ]
  },
  {
   "cell_type": "markdown",
   "id": "7ca482c9-432b-42c5-a3a1-7123fd97b8be",
   "metadata": {},
   "source": [
    "Mismatched type (Argument is NOT of an Integer type)"
   ]
  },
  {
   "cell_type": "markdown",
   "id": "320d936e-8c26-4ccf-94fe-5208b159570e",
   "metadata": {},
   "source": [
    "#### Remark: Auto conversion may avoid this error"
   ]
  },
  {
   "cell_type": "code",
   "execution_count": 26,
   "id": "de17fc1c-1dc6-48d7-a68d-a8b541865af4",
   "metadata": {},
   "outputs": [
    {
     "data": {
      "text/plain": [
       "127.69"
      ]
     },
     "metadata": {},
     "output_type": "display_data"
    }
   ],
   "source": [
    "square3::Float -> Float\n",
    "square3 x = x*x\n",
    "square3 11.3"
   ]
  },
  {
   "cell_type": "code",
   "execution_count": 27,
   "id": "1e9fe464-10b9-4e5d-8f28-2df0743fa0b7",
   "metadata": {},
   "outputs": [
    {
     "data": {
      "text/plain": [
       "121.0"
      ]
     },
     "metadata": {},
     "output_type": "display_data"
    }
   ],
   "source": [
    "square3 11"
   ]
  },
  {
   "cell_type": "markdown",
   "id": "8cc61d86-a5d1-47fe-a0b4-67c5b89b51d9",
   "metadata": {},
   "source": [
    "Integer value is auto-converted to a Float Value"
   ]
  },
  {
   "cell_type": "markdown",
   "id": "c6139e75-baf1-450a-9989-105861ddcd41",
   "metadata": {},
   "source": [
    "# Currying"
   ]
  },
  {
   "cell_type": "markdown",
   "id": "d30acf82-12d6-4d50-b679-7b94d15aea13",
   "metadata": {},
   "source": [
    "In Haskell, functions are typically defined using a syntax and behavior that embodies the concept of currying.  \n",
    "Haskell functions accept arguments from left to right."
   ]
  },
  {
   "cell_type": "markdown",
   "id": "0645a344-b5f2-4501-8b9d-166f74bd65b6",
   "metadata": {},
   "source": [
    "In Haskell, function application (the process of providing a function with an argument) is accomplished by   \n",
    "simply placing the argument after the function name, separated by a space.   \n",
    "Haskell applies functions to arguments one at a time, from left to right."
   ]
  },
  {
   "cell_type": "code",
   "execution_count": 29,
   "id": "f8d1d6c7-0220-4ae0-a1d7-c48340f25b4b",
   "metadata": {},
   "outputs": [],
   "source": [
    "add :: Int -> Int -> Int\n",
    "add x y = x + y"
   ]
  },
  {
   "cell_type": "markdown",
   "id": "b2e21139-a6c5-4a50-89ee-0c53910fbab4",
   "metadata": {},
   "source": [
    "This function can be thought of as:\n",
    "- Taking one integer x and returning a new function 'add x'.\n",
    "- This new function then takes another integer y and returns their sum."
   ]
  },
  {
   "cell_type": "code",
   "execution_count": 33,
   "id": "5d2a580d-a9e5-4b0d-b9d2-bc55e6d4d738",
   "metadata": {},
   "outputs": [],
   "source": [
    "step1 = add 5     -- step1 is now a function: Int -> Int\n",
    "result = step1 3  -- result is 8"
   ]
  },
  {
   "cell_type": "code",
   "execution_count": 34,
   "id": "d376b421-0939-4571-be55-cb9ba1757a71",
   "metadata": {},
   "outputs": [
    {
     "data": {
      "text/html": [
       "<style>/* Styles used for the Hoogle display in the pager */\n",
       ".hoogle-doc {\n",
       "display: block;\n",
       "padding-bottom: 1.3em;\n",
       "padding-left: 0.4em;\n",
       "}\n",
       ".hoogle-code {\n",
       "display: block;\n",
       "font-family: monospace;\n",
       "white-space: pre;\n",
       "}\n",
       ".hoogle-text {\n",
       "display: block;\n",
       "}\n",
       ".hoogle-name {\n",
       "color: green;\n",
       "font-weight: bold;\n",
       "}\n",
       ".hoogle-head {\n",
       "font-weight: bold;\n",
       "}\n",
       ".hoogle-sub {\n",
       "display: block;\n",
       "margin-left: 0.4em;\n",
       "}\n",
       ".hoogle-package {\n",
       "font-weight: bold;\n",
       "font-style: italic;\n",
       "}\n",
       ".hoogle-module {\n",
       "font-weight: bold;\n",
       "}\n",
       ".hoogle-class {\n",
       "font-weight: bold;\n",
       "}\n",
       "\n",
       ".get-type {\n",
       "color: green;\n",
       "font-weight: bold;\n",
       "font-family: monospace;\n",
       "display: block;\n",
       "white-space: pre-wrap;\n",
       "}\n",
       ".show-type {\n",
       "color: green;\n",
       "font-weight: bold;\n",
       "font-family: monospace;\n",
       "margin-left: 1em;\n",
       "}\n",
       ".mono {\n",
       "font-family: monospace;\n",
       "display: block;\n",
       "}\n",
       ".err-msg {\n",
       "color: red;\n",
       "font-style: italic;\n",
       "font-family: monospace;\n",
       "white-space: pre;\n",
       "display: block;\n",
       "}\n",
       "#unshowable {\n",
       "color: red;\n",
       "font-weight: bold;\n",
       "}\n",
       ".err-msg.in.collapse {\n",
       "padding-top: 0.7em;\n",
       "}\n",
       "\n",
       ".highlight-code {\n",
       "white-space: pre;\n",
       "font-family: monospace;\n",
       "}\n",
       "\n",
       ".suggestion-warning { \n",
       "font-weight: bold;\n",
       "color: rgb(200, 130, 0);\n",
       "}\n",
       ".suggestion-error { \n",
       "font-weight: bold;\n",
       "color: red;\n",
       "}\n",
       ".suggestion-name {\n",
       "font-weight: bold;\n",
       "}\n",
       "\n",
       "</style><div class=\"suggestion-name\" style=\"clear:both;\">Redundant bracket</div><div class=\"suggestion-row\" style=\"float: left;\"><div class=\"suggestion-warning\">Found:</div><div class=\"highlight-code\" id=\"haskell\">(add 3) 5</div></div><div class=\"suggestion-row\" style=\"float: left;\"><div class=\"suggestion-warning\">Why Not:</div><div class=\"highlight-code\" id=\"haskell\">add 3 5</div></div>"
      ],
      "text/plain": [
       "Line 1: Redundant bracket\n",
       "Found:\n",
       "(add 3) 5\n",
       "Why not:\n",
       "add 3 5"
      ]
     },
     "metadata": {},
     "output_type": "display_data"
    },
    {
     "data": {
      "text/plain": [
       "8"
      ]
     },
     "metadata": {},
     "output_type": "display_data"
    }
   ],
   "source": [
    "(add 3) 5"
   ]
  },
  {
   "cell_type": "markdown",
   "id": "57bf5d8c-d776-47ab-b794-c01feb62209f",
   "metadata": {},
   "source": [
    "As clear from the result, returned value is indeed a function which takes 5 as its argument."
   ]
  },
  {
   "cell_type": "markdown",
   "id": "ff836715-0700-4cb1-bfba-f28795f22502",
   "metadata": {},
   "source": [
    "#### Example"
   ]
  },
  {
   "cell_type": "code",
   "execution_count": null,
   "id": "e5ca99ea-a729-4ec4-a2f0-23ffee0dceb8",
   "metadata": {},
   "outputs": [],
   "source": [
    "f x y = x*y  --Two arguments\n",
    "sqr x = x*x  --One argument"
   ]
  },
  {
   "cell_type": "code",
   "execution_count": null,
   "id": "a904ab34-3b77-4de1-affb-218e82bbef94",
   "metadata": {},
   "outputs": [
    {
     "ename": "",
     "evalue": "",
     "output_type": "error",
     "traceback": [
      "<interactive>:1:1: error: [GHC-39999]\n    • No instance for ‘Num (Integer -> Integer)’ arising from a use of ‘it’\n        (maybe you haven't applied a function to enough arguments?)\n    • In the first argument of ‘print’, namely ‘it’\n      In a stmt of an interactive GHCi command: print it"
     ]
    }
   ],
   "source": [
    "f 11 sqr 11"
   ]
  },
  {
   "cell_type": "code",
   "execution_count": null,
   "id": "7def9f80-28b3-4abc-ab4d-e307bd5b3f36",
   "metadata": {},
   "outputs": [
    {
     "ename": "",
     "evalue": "",
     "output_type": "error",
     "traceback": [
      "<interactive>:1:1: error: [GHC-39999]\n    • No instance for ‘Num (Integer -> Integer)’ arising from a use of ‘it’\n        (maybe you haven't applied a function to enough arguments?)\n    • In the first argument of ‘print’, namely ‘it’\n      In a stmt of an interactive GHCi command: print it"
     ]
    }
   ],
   "source": [
    "f sqr 11 11"
   ]
  },
  {
   "cell_type": "code",
   "execution_count": null,
   "id": "72c0d34c-03de-4fbb-a87b-a35b482addb0",
   "metadata": {},
   "outputs": [
    {
     "data": {
      "text/plain": [
       "1331"
      ]
     },
     "metadata": {},
     "output_type": "display_data"
    }
   ],
   "source": [
    "f (sqr 11) 11"
   ]
  },
  {
   "cell_type": "markdown",
   "id": "75ce4bd4-4359-4011-b9c6-8b67da19c793",
   "metadata": {},
   "source": [
    "In this example, (sqr 11) returns an Integer and NOT a function.    \n",
    "f takes the whole expression in the paranthesis as first argument ( which is executed to an Integer)    \n",
    "The resulting function: 'res1 = f (sqr 11)' is the return value    \n",
    "Which takes the argument 11: res2 = res1 11   "
   ]
  },
  {
   "cell_type": "code",
   "execution_count": null,
   "id": "c0440497-077b-4b19-8dc5-30678cec2b78",
   "metadata": {},
   "outputs": [],
   "source": []
  }
 ],
 "metadata": {
  "kernelspec": {
   "display_name": "Haskell",
   "language": "haskell",
   "name": "haskell"
  },
  "language_info": {
   "codemirror_mode": "ihaskell",
   "file_extension": ".hs",
   "mimetype": "text/x-haskell",
   "name": "haskell",
   "pygments_lexer": "Haskell",
   "version": "9.6.4"
  }
 },
 "nbformat": 4,
 "nbformat_minor": 5
}
