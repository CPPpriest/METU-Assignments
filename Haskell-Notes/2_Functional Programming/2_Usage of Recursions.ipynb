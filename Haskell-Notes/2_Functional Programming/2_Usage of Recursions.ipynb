{
 "cells": [
  {
   "cell_type": "markdown",
   "id": "69f05f02-310d-4975-8081-e9cbf54f0e21",
   "metadata": {},
   "source": [
    "# Recursion  \n",
    "By using Recursion and Conditionals, any calculation is possible.   \n",
    "Usually used instead of Iteration-Based calculations  "
   ]
  },
  {
   "cell_type": "code",
   "execution_count": 4,
   "id": "34928f93-33cf-4ce6-a54e-8496cf1b3439",
   "metadata": {},
   "outputs": [
    {
     "data": {
      "text/html": [
       "<style>/* Styles used for the Hoogle display in the pager */\n",
       ".hoogle-doc {\n",
       "display: block;\n",
       "padding-bottom: 1.3em;\n",
       "padding-left: 0.4em;\n",
       "}\n",
       ".hoogle-code {\n",
       "display: block;\n",
       "font-family: monospace;\n",
       "white-space: pre;\n",
       "}\n",
       ".hoogle-text {\n",
       "display: block;\n",
       "}\n",
       ".hoogle-name {\n",
       "color: green;\n",
       "font-weight: bold;\n",
       "}\n",
       ".hoogle-head {\n",
       "font-weight: bold;\n",
       "}\n",
       ".hoogle-sub {\n",
       "display: block;\n",
       "margin-left: 0.4em;\n",
       "}\n",
       ".hoogle-package {\n",
       "font-weight: bold;\n",
       "font-style: italic;\n",
       "}\n",
       ".hoogle-module {\n",
       "font-weight: bold;\n",
       "}\n",
       ".hoogle-class {\n",
       "font-weight: bold;\n",
       "}\n",
       "\n",
       ".get-type {\n",
       "color: green;\n",
       "font-weight: bold;\n",
       "font-family: monospace;\n",
       "display: block;\n",
       "white-space: pre-wrap;\n",
       "}\n",
       ".show-type {\n",
       "color: green;\n",
       "font-weight: bold;\n",
       "font-family: monospace;\n",
       "margin-left: 1em;\n",
       "}\n",
       ".mono {\n",
       "font-family: monospace;\n",
       "display: block;\n",
       "}\n",
       ".err-msg {\n",
       "color: red;\n",
       "font-style: italic;\n",
       "font-family: monospace;\n",
       "white-space: pre;\n",
       "display: block;\n",
       "}\n",
       "#unshowable {\n",
       "color: red;\n",
       "font-weight: bold;\n",
       "}\n",
       ".err-msg.in.collapse {\n",
       "padding-top: 0.7em;\n",
       "}\n",
       "\n",
       ".highlight-code {\n",
       "white-space: pre;\n",
       "font-family: monospace;\n",
       "}\n",
       "\n",
       ".suggestion-warning { \n",
       "font-weight: bold;\n",
       "color: rgb(200, 130, 0);\n",
       "}\n",
       ".suggestion-error { \n",
       "font-weight: bold;\n",
       "color: red;\n",
       "}\n",
       ".suggestion-name {\n",
       "font-weight: bold;\n",
       "}\n",
       "\n",
       "</style><span class='get-type'>ssum :: forall {t}. (Ord t, Num t) => t -> t</span>"
      ],
      "text/plain": [
       "ssum :: forall {t}. (Ord t, Num t) => t -> t"
      ]
     },
     "metadata": {},
     "output_type": "display_data"
    },
    {
     "data": {
      "text/plain": [
       "153"
      ]
     },
     "metadata": {},
     "output_type": "display_data"
    }
   ],
   "source": [
    "ssum n = if n <= 0\n",
    "        then \n",
    "            0\n",
    "        else\n",
    "            n + ssum (n-1)\n",
    "\n",
    "\n",
    ":t ssum\n",
    "\n",
    "ssum 17"
   ]
  },
  {
   "cell_type": "markdown",
   "id": "40e68db5-8525-4ca4-a877-dce34ab4417f",
   "metadata": {},
   "source": [
    "### PATTERNS: Conditions on Definitions"
   ]
  },
  {
   "cell_type": "markdown",
   "id": "37dd6c60-8e9f-4a88-b863-33c1e532e623",
   "metadata": {},
   "source": [
    "Instead of if-else expressions or Guard Clauses,   \n",
    "Define several definitions for a function on different arguments "
   ]
  },
  {
   "cell_type": "code",
   "execution_count": 14,
   "id": "4de17fc9-0219-4273-8cf3-4f13274acd41",
   "metadata": {},
   "outputs": [],
   "source": [
    "func x 0 = -0\n",
    "func x 1 = x\n",
    "func x y = x/y"
   ]
  },
  {
   "cell_type": "code",
   "execution_count": null,
   "id": "9928448b-eb27-4521-976e-b9c2b506b732",
   "metadata": {},
   "outputs": [
    {
     "data": {
      "text/plain": [
       "-0.0"
      ]
     },
     "metadata": {},
     "output_type": "display_data"
    },
    {
     "data": {
      "text/plain": [
       "12.0"
      ]
     },
     "metadata": {},
     "output_type": "display_data"
    },
    {
     "data": {
      "text/plain": [
       "3.0"
      ]
     },
     "metadata": {},
     "output_type": "display_data"
    }
   ],
   "source": [
    "func 10 0\n",
    "func 12 1\n",
    "func 12 4"
   ]
  },
  {
   "cell_type": "markdown",
   "id": "aa46af6a-4122-48b8-a209-622fd2bdf5f1",
   "metadata": {},
   "source": [
    "## Tail Recursion"
   ]
  },
  {
   "cell_type": "markdown",
   "id": "1ebaad14-7f6a-4d84-9d26-9281b3ffa0bf",
   "metadata": {},
   "source": [
    "Tail recursion occurs when a recursive function call is the last action in the function.   \n",
    "That is, the function returns the result of the recursive call directly, without modifying it or doing any further computation after the call returns.   \n",
    "  \n",
    "In such cases, the current frame of the function can be discarded before performing the recursive call,   \n",
    "thereby maintaining a constant stack depth.   \n",
    "  \n",
    "It allows certain functions to be executed in constant stack space."
   ]
  },
  {
   "cell_type": "markdown",
   "id": "def22fe7-aa89-4b05-b920-0abca8f21837",
   "metadata": {},
   "source": [
    "#### Tail-Recursion Compilar Optimization       \n",
    "Some coompilars recognize the tail recursions and implement them as LOOP.  \n",
    "  \n",
    "This optimization is known as tail call optimization (TCO). "
   ]
  },
  {
   "cell_type": "markdown",
   "id": "0b2078a8-1c92-4c84-98d4-c0d88da3be7c",
   "metadata": {},
   "source": [
    "### Example"
   ]
  },
  {
   "cell_type": "code",
   "execution_count": null,
   "id": "00c5095c-6628-4000-8ad8-ab53702db457",
   "metadata": {},
   "outputs": [
    {
     "data": {
      "text/plain": [
       "55"
      ]
     },
     "metadata": {},
     "output_type": "display_data"
    }
   ],
   "source": [
    "ssum n  | n <= 0 = 0\n",
    "        | otherwise = n + ssum (n-1)\n",
    "\n",
    "ssum 10"
   ]
  },
  {
   "cell_type": "markdown",
   "id": "0531035f-8e12-46cc-b662-60cab71b7427",
   "metadata": {},
   "source": [
    "\"ssum n\" : Sum of all values from 0 to n"
   ]
  },
  {
   "cell_type": "code",
   "execution_count": null,
   "id": "1f256ed1-c25d-4d31-8245-726866c98606",
   "metadata": {},
   "outputs": [
    {
     "data": {
      "text/plain": [
       "55"
      ]
     },
     "metadata": {},
     "output_type": "display_data"
    }
   ],
   "source": [
    "ssum' n s   | n <= 0 = s\n",
    "            | otherwise = ssum' (n-1) (s+n)\n",
    "\n",
    "ssum' 10 0"
   ]
  },
  {
   "cell_type": "markdown",
   "id": "700ed514-3aff-4e2c-b6e1-f1f3d3f9e97c",
   "metadata": {},
   "source": [
    "\"ssum' n s\" : Sum of all valus 0 to n are cumulated on s  \n",
    "- s (accumulator): Initial value where sums are cumulated on  \n",
    "- n : Roof value for this sigma operation  "
   ]
  },
  {
   "cell_type": "markdown",
   "id": "9d8fadbc-49f2-440a-816f-d43a74733f89",
   "metadata": {},
   "source": [
    "The difference between ssum and ssum' is that ssum' gets   \n",
    "and initial value and adds the ssum result to it"
   ]
  },
  {
   "cell_type": "code",
   "execution_count": null,
   "id": "a92627fe-ab06-4e9c-ae67-cc3264f92ea7",
   "metadata": {},
   "outputs": [
    {
     "data": {
      "text/plain": [
       "55"
      ]
     },
     "metadata": {},
     "output_type": "display_data"
    },
    {
     "data": {
      "text/plain": [
       "155"
      ]
     },
     "metadata": {},
     "output_type": "display_data"
    }
   ],
   "source": [
    "ssum' 10 0  -- ssum 10\n",
    "ssum' 10 100  -- (ssum 10) + 10"
   ]
  },
  {
   "cell_type": "markdown",
   "id": "95d71c37-4806-4203-8a6e-efcc77c030e7",
   "metadata": {},
   "source": [
    "ssum' is similar to declerative for loops, one parameter to keep the status and one accumulator."
   ]
  },
  {
   "cell_type": "markdown",
   "id": "5bc8341c-2cd8-47fe-b8c0-688a79a8a913",
   "metadata": {},
   "source": [
    "### Remark: Difference between ssum and ssum'  \n",
    "  \n",
    "- ssum is NOT a Tail-Recursion:  \n",
    "It returns an expression of the form: n + ssum (n-1)\n",
    "  \n",
    "- ssum' is a Tail-Recursion:  \n",
    "It returns a call to itself   \n",
    "  \n",
    "##### if a function is a Tail Recursion:  \n",
    "Recursive call is the only return,  \n",
    "NOT a Part of the returned expression!\n"
   ]
  },
  {
   "cell_type": "code",
   "execution_count": null,
   "id": "2dc774a6-1cf7-425f-9c52-d5aa80e3cc1c",
   "metadata": {},
   "outputs": [],
   "source": []
  }
 ],
 "metadata": {
  "kernelspec": {
   "display_name": "Haskell",
   "language": "haskell",
   "name": "haskell"
  },
  "language_info": {
   "codemirror_mode": "ihaskell",
   "file_extension": ".hs",
   "mimetype": "text/x-haskell",
   "name": "haskell",
   "pygments_lexer": "Haskell",
   "version": "9.6.4"
  }
 },
 "nbformat": 4,
 "nbformat_minor": 5
}
