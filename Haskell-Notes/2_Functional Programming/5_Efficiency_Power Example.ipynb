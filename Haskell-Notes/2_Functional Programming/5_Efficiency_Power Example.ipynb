{
 "cells": [
  {
   "cell_type": "markdown",
   "id": "1608156a-a144-43e9-b807-a5ba3ee3260b",
   "metadata": {},
   "source": [
    "# Halving Recursions  \n",
    "Recursions can be halved in some scenarios (Due to Multiplication in this case)"
   ]
  },
  {
   "cell_type": "code",
   "execution_count": 3,
   "id": "aed7042e-af13-44b7-a87c-6fd27428ed41",
   "metadata": {},
   "outputs": [
    {
     "data": {
      "text/plain": [
       "1000"
      ]
     },
     "metadata": {},
     "output_type": "display_data"
    }
   ],
   "source": [
    "pow x 0 = 1\n",
    "pow x 1 = x\n",
    "pow x n = x *  pow x (n-1) \n",
    "\n",
    "pow 10 3"
   ]
  },
  {
   "cell_type": "markdown",
   "id": "1e283bc3-44b2-4857-b57d-02393f5480ae",
   "metadata": {},
   "source": [
    "Here, pow function is called n times.  \n",
    "  \n",
    "Instead we can multiply pow * pow and call it log(n) times. "
   ]
  },
  {
   "cell_type": "code",
   "execution_count": 11,
   "id": "e77e8c94-1569-4ac6-ab62-5239d7f0eaaa",
   "metadata": {},
   "outputs": [
    {
     "data": {
      "text/html": [
       "<style>/* Styles used for the Hoogle display in the pager */\n",
       ".hoogle-doc {\n",
       "display: block;\n",
       "padding-bottom: 1.3em;\n",
       "padding-left: 0.4em;\n",
       "}\n",
       ".hoogle-code {\n",
       "display: block;\n",
       "font-family: monospace;\n",
       "white-space: pre;\n",
       "}\n",
       ".hoogle-text {\n",
       "display: block;\n",
       "}\n",
       ".hoogle-name {\n",
       "color: green;\n",
       "font-weight: bold;\n",
       "}\n",
       ".hoogle-head {\n",
       "font-weight: bold;\n",
       "}\n",
       ".hoogle-sub {\n",
       "display: block;\n",
       "margin-left: 0.4em;\n",
       "}\n",
       ".hoogle-package {\n",
       "font-weight: bold;\n",
       "font-style: italic;\n",
       "}\n",
       ".hoogle-module {\n",
       "font-weight: bold;\n",
       "}\n",
       ".hoogle-class {\n",
       "font-weight: bold;\n",
       "}\n",
       "\n",
       ".get-type {\n",
       "color: green;\n",
       "font-weight: bold;\n",
       "font-family: monospace;\n",
       "display: block;\n",
       "white-space: pre-wrap;\n",
       "}\n",
       ".show-type {\n",
       "color: green;\n",
       "font-weight: bold;\n",
       "font-family: monospace;\n",
       "margin-left: 1em;\n",
       "}\n",
       ".mono {\n",
       "font-family: monospace;\n",
       "display: block;\n",
       "}\n",
       ".err-msg {\n",
       "color: red;\n",
       "font-style: italic;\n",
       "font-family: monospace;\n",
       "white-space: pre;\n",
       "display: block;\n",
       "}\n",
       "#unshowable {\n",
       "color: red;\n",
       "font-weight: bold;\n",
       "}\n",
       ".err-msg.in.collapse {\n",
       "padding-top: 0.7em;\n",
       "}\n",
       "\n",
       ".highlight-code {\n",
       "white-space: pre;\n",
       "font-family: monospace;\n",
       "}\n",
       "\n",
       ".suggestion-warning { \n",
       "font-weight: bold;\n",
       "color: rgb(200, 130, 0);\n",
       "}\n",
       ".suggestion-error { \n",
       "font-weight: bold;\n",
       "color: red;\n",
       "}\n",
       ".suggestion-name {\n",
       "font-weight: bold;\n",
       "}\n",
       "\n",
       "</style><div class=\"suggestion-name\" style=\"clear:both;\">Use even</div><div class=\"suggestion-row\" style=\"float: left;\"><div class=\"suggestion-warning\">Found:</div><div class=\"highlight-code\" id=\"haskell\">n `mod` 2 == 0</div></div><div class=\"suggestion-row\" style=\"float: left;\"><div class=\"suggestion-warning\">Why Not:</div><div class=\"highlight-code\" id=\"haskell\">even n</div></div><div class=\"suggestion-name\" style=\"clear:both;\">Redundant bracket</div><div class=\"suggestion-row\" style=\"float: left;\"><div class=\"suggestion-warning\">Found:</div><div class=\"highlight-code\" id=\"haskell\">(pow2 x (n `div` 2)) * (pow2 x (n `div` 2))</div></div><div class=\"suggestion-row\" style=\"float: left;\"><div class=\"suggestion-warning\">Why Not:</div><div class=\"highlight-code\" id=\"haskell\">pow2 x (n `div` 2) * (pow2 x (n `div` 2))</div></div><div class=\"suggestion-name\" style=\"clear:both;\">Redundant bracket</div><div class=\"suggestion-row\" style=\"float: left;\"><div class=\"suggestion-warning\">Found:</div><div class=\"highlight-code\" id=\"haskell\">(pow2 x (n `div` 2)) * (pow2 x (n `div` 2))</div></div><div class=\"suggestion-row\" style=\"float: left;\"><div class=\"suggestion-warning\">Why Not:</div><div class=\"highlight-code\" id=\"haskell\">(pow2 x (n `div` 2)) * pow2 x (n `div` 2)</div></div><div class=\"suggestion-name\" style=\"clear:both;\">Redundant bracket</div><div class=\"suggestion-row\" style=\"float: left;\"><div class=\"suggestion-warning\">Found:</div><div class=\"highlight-code\" id=\"haskell\">x * (pow2 x (n `div` 2))</div></div><div class=\"suggestion-row\" style=\"float: left;\"><div class=\"suggestion-warning\">Why Not:</div><div class=\"highlight-code\" id=\"haskell\">x * pow2 x (n `div` 2)</div></div><div class=\"suggestion-name\" style=\"clear:both;\">Redundant bracket</div><div class=\"suggestion-row\" style=\"float: left;\"><div class=\"suggestion-warning\">Found:</div><div class=\"highlight-code\" id=\"haskell\">x * (pow2 x (n `div` 2)) * (pow2 x (n `div` 2))</div></div><div class=\"suggestion-row\" style=\"float: left;\"><div class=\"suggestion-warning\">Why Not:</div><div class=\"highlight-code\" id=\"haskell\">x * (pow2 x (n `div` 2)) * pow2 x (n `div` 2)</div></div>"
      ],
      "text/plain": [
       "Line 3: Use even\n",
       "Found:\n",
       "n `mod` 2 == 0\n",
       "Why not:\n",
       "even nLine 3: Redundant bracket\n",
       "Found:\n",
       "(pow2 x (n `div` 2)) * (pow2 x (n `div` 2))\n",
       "Why not:\n",
       "pow2 x (n `div` 2) * (pow2 x (n `div` 2))Line 3: Redundant bracket\n",
       "Found:\n",
       "(pow2 x (n `div` 2)) * (pow2 x (n `div` 2))\n",
       "Why not:\n",
       "(pow2 x (n `div` 2)) * pow2 x (n `div` 2)Line 4: Redundant bracket\n",
       "Found:\n",
       "x * (pow2 x (n `div` 2))\n",
       "Why not:\n",
       "x * pow2 x (n `div` 2)Line 4: Redundant bracket\n",
       "Found:\n",
       "x * (pow2 x (n `div` 2)) * (pow2 x (n `div` 2))\n",
       "Why not:\n",
       "x * (pow2 x (n `div` 2)) * pow2 x (n `div` 2)"
      ]
     },
     "metadata": {},
     "output_type": "display_data"
    },
    {
     "data": {
      "text/plain": [
       "1000"
      ]
     },
     "metadata": {},
     "output_type": "display_data"
    },
    {
     "data": {
      "text/plain": [
       "10000"
      ]
     },
     "metadata": {},
     "output_type": "display_data"
    }
   ],
   "source": [
    "pow2 x 0 = 1\n",
    "pow2 x 1 = x\n",
    "pow2 x n  | n `mod` 2 == 0 = ( pow2 x (n `div` 2) ) * ( pow2 x (n `div` 2) )\n",
    "          | otherwise = x * ( pow2 x (n `div` 2) ) * ( pow2 x (n `div` 2) )     \n",
    "\n",
    "pow2 10 3\n",
    "pow2 10 4"
   ]
  },
  {
   "cell_type": "markdown",
   "id": "9597db55-af9d-4e25-ad61-9e7916a7a33a",
   "metadata": {},
   "source": [
    "Realize that in this form, it is not more efficient than raw version.  \n",
    "  \n",
    "To optimize further, use local definitions to avoid repetitive calculations\n",
    "  \n",
    "c*log(n) -> decreases the constant c"
   ]
  },
  {
   "cell_type": "code",
   "execution_count": null,
   "id": "3b473a32-2eca-4a2d-8a9d-962e75262d41",
   "metadata": {},
   "outputs": [
    {
     "data": {
      "text/html": [
       "<style>/* Styles used for the Hoogle display in the pager */\n",
       ".hoogle-doc {\n",
       "display: block;\n",
       "padding-bottom: 1.3em;\n",
       "padding-left: 0.4em;\n",
       "}\n",
       ".hoogle-code {\n",
       "display: block;\n",
       "font-family: monospace;\n",
       "white-space: pre;\n",
       "}\n",
       ".hoogle-text {\n",
       "display: block;\n",
       "}\n",
       ".hoogle-name {\n",
       "color: green;\n",
       "font-weight: bold;\n",
       "}\n",
       ".hoogle-head {\n",
       "font-weight: bold;\n",
       "}\n",
       ".hoogle-sub {\n",
       "display: block;\n",
       "margin-left: 0.4em;\n",
       "}\n",
       ".hoogle-package {\n",
       "font-weight: bold;\n",
       "font-style: italic;\n",
       "}\n",
       ".hoogle-module {\n",
       "font-weight: bold;\n",
       "}\n",
       ".hoogle-class {\n",
       "font-weight: bold;\n",
       "}\n",
       "\n",
       ".get-type {\n",
       "color: green;\n",
       "font-weight: bold;\n",
       "font-family: monospace;\n",
       "display: block;\n",
       "white-space: pre-wrap;\n",
       "}\n",
       ".show-type {\n",
       "color: green;\n",
       "font-weight: bold;\n",
       "font-family: monospace;\n",
       "margin-left: 1em;\n",
       "}\n",
       ".mono {\n",
       "font-family: monospace;\n",
       "display: block;\n",
       "}\n",
       ".err-msg {\n",
       "color: red;\n",
       "font-style: italic;\n",
       "font-family: monospace;\n",
       "white-space: pre;\n",
       "display: block;\n",
       "}\n",
       "#unshowable {\n",
       "color: red;\n",
       "font-weight: bold;\n",
       "}\n",
       ".err-msg.in.collapse {\n",
       "padding-top: 0.7em;\n",
       "}\n",
       "\n",
       ".highlight-code {\n",
       "white-space: pre;\n",
       "font-family: monospace;\n",
       "}\n",
       "\n",
       ".suggestion-warning { \n",
       "font-weight: bold;\n",
       "color: rgb(200, 130, 0);\n",
       "}\n",
       ".suggestion-error { \n",
       "font-weight: bold;\n",
       "color: red;\n",
       "}\n",
       ".suggestion-name {\n",
       "font-weight: bold;\n",
       "}\n",
       "\n",
       "</style><div class=\"suggestion-name\" style=\"clear:both;\">Redundant bracket</div><div class=\"suggestion-row\" style=\"float: left;\"><div class=\"suggestion-warning\">Found:</div><div class=\"highlight-code\" id=\"haskell\">if (even n) then b else x * b</div></div><div class=\"suggestion-row\" style=\"float: left;\"><div class=\"suggestion-warning\">Why Not:</div><div class=\"highlight-code\" id=\"haskell\">if even n then b else x * b</div></div>"
      ],
      "text/plain": [
       "Line 7: Redundant bracket\n",
       "Found:\n",
       "if (even n) then b else x * b\n",
       "Why not:\n",
       "if even n then b else x * b"
      ]
     },
     "metadata": {},
     "output_type": "display_data"
    },
    {
     "data": {
      "text/plain": [
       "1000"
      ]
     },
     "metadata": {},
     "output_type": "display_data"
    },
    {
     "data": {
      "text/plain": [
       "10000"
      ]
     },
     "metadata": {},
     "output_type": "display_data"
    }
   ],
   "source": [
    "pow2 x 0 = 1\n",
    "pow2 x 1 = x\n",
    "pow2 x n  = let {\n",
    "                a = pow2 x (n `div` 2) ;\n",
    "                b = a * a \n",
    "                }\n",
    "                in  if (even n) then b\n",
    "                    else x*b\n",
    "\n",
    "\n",
    "\n",
    "pow2 10 3\n",
    "pow2 10 4"
   ]
  },
  {
   "cell_type": "code",
   "execution_count": null,
   "id": "0d6a0a6d-58e1-4cfe-8faa-38c418786979",
   "metadata": {},
   "outputs": [],
   "source": []
  }
 ],
 "metadata": {
  "kernelspec": {
   "display_name": "Haskell",
   "language": "haskell",
   "name": "haskell"
  },
  "language_info": {
   "codemirror_mode": "ihaskell",
   "file_extension": ".hs",
   "mimetype": "text/x-haskell",
   "name": "haskell",
   "pygments_lexer": "Haskell",
   "version": "9.6.4"
  }
 },
 "nbformat": 4,
 "nbformat_minor": 5
}
