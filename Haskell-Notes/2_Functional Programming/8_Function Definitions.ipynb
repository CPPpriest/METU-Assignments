{
 "cells": [
  {
   "cell_type": "markdown",
   "id": "6a411b4c-8a2a-4af1-b746-91472c9559d0",
   "metadata": {},
   "source": [
    "# A) Pattern Match\n",
    "\n",
    "Multiple occurrences of the same function for different cases:\n",
    "\n"
   ]
  },
  {
   "cell_type": "markdown",
   "id": "bd554855-8a7c-44bd-9447-4bec2be1098c",
   "metadata": {},
   "source": [
    "```Haskell\n",
    "f pa pb = exp1\n",
    "f pc pd = exp2\n",
    "f pe pf = exp3\n",
    "```"
   ]
  },
  {
   "cell_type": "markdown",
   "id": "3ff206df-9892-43b8-bda7-a8d198204067",
   "metadata": {},
   "source": [
    "# B) `case .. of` Expressions\n",
    "\n",
    "Generic Pattern"
   ]
  },
  {
   "cell_type": "markdown",
   "id": "9be24c0a-c905-4e55-a6bd-ad03848c7d5b",
   "metadata": {},
   "source": [
    "```Haskell\n",
    "f a b = case a,b of\n",
    "            pa,pb -> exp1\n",
    "            pc,pd -> exp2\n",
    "            pe,pf -> exp3\n",
    "\n",
    "```"
   ]
  },
  {
   "cell_type": "code",
   "execution_count": null,
   "id": "5d23f946-8847-440b-bb9d-1c15988cfbc3",
   "metadata": {},
   "outputs": [],
   "source": []
  }
 ],
 "metadata": {
  "kernelspec": {
   "display_name": "Haskell",
   "language": "haskell",
   "name": "haskell"
  },
  "language_info": {
   "codemirror_mode": "ihaskell",
   "file_extension": ".hs",
   "mimetype": "text/x-haskell",
   "name": "haskell",
   "pygments_lexer": "Haskell",
   "version": "9.6.4"
  }
 },
 "nbformat": 4,
 "nbformat_minor": 5
}
