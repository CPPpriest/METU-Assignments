{
 "cells": [
  {
   "cell_type": "markdown",
   "id": "479336df-047e-4413-a9a2-104210b7d5d0",
   "metadata": {},
   "source": [
    "## Definition\n",
    "**boolFunc:** `a -> Bool`  \n",
    "**sqrtFunc:** `a -> b`"
   ]
  },
  {
   "cell_type": "code",
   "execution_count": 16,
   "id": "df51c951-c608-44b8-b024-bb2e9f540e70",
   "metadata": {},
   "outputs": [
    {
     "data": {
      "text/html": [
       "<style>/* Styles used for the Hoogle display in the pager */\n",
       ".hoogle-doc {\n",
       "display: block;\n",
       "padding-bottom: 1.3em;\n",
       "padding-left: 0.4em;\n",
       "}\n",
       ".hoogle-code {\n",
       "display: block;\n",
       "font-family: monospace;\n",
       "white-space: pre;\n",
       "}\n",
       ".hoogle-text {\n",
       "display: block;\n",
       "}\n",
       ".hoogle-name {\n",
       "color: green;\n",
       "font-weight: bold;\n",
       "}\n",
       ".hoogle-head {\n",
       "font-weight: bold;\n",
       "}\n",
       ".hoogle-sub {\n",
       "display: block;\n",
       "margin-left: 0.4em;\n",
       "}\n",
       ".hoogle-package {\n",
       "font-weight: bold;\n",
       "font-style: italic;\n",
       "}\n",
       ".hoogle-module {\n",
       "font-weight: bold;\n",
       "}\n",
       ".hoogle-class {\n",
       "font-weight: bold;\n",
       "}\n",
       "\n",
       ".get-type {\n",
       "color: green;\n",
       "font-weight: bold;\n",
       "font-family: monospace;\n",
       "display: block;\n",
       "white-space: pre-wrap;\n",
       "}\n",
       ".show-type {\n",
       "color: green;\n",
       "font-weight: bold;\n",
       "font-family: monospace;\n",
       "margin-left: 1em;\n",
       "}\n",
       ".mono {\n",
       "font-family: monospace;\n",
       "display: block;\n",
       "}\n",
       ".err-msg {\n",
       "color: red;\n",
       "font-style: italic;\n",
       "font-family: monospace;\n",
       "white-space: pre;\n",
       "display: block;\n",
       "}\n",
       "#unshowable {\n",
       "color: red;\n",
       "font-weight: bold;\n",
       "}\n",
       ".err-msg.in.collapse {\n",
       "padding-top: 0.7em;\n",
       "}\n",
       "\n",
       ".highlight-code {\n",
       "white-space: pre;\n",
       "font-family: monospace;\n",
       "}\n",
       "\n",
       ".suggestion-warning { \n",
       "font-weight: bold;\n",
       "color: rgb(200, 130, 0);\n",
       "}\n",
       ".suggestion-error { \n",
       "font-weight: bold;\n",
       "color: red;\n",
       "}\n",
       ".suggestion-name {\n",
       "font-weight: bold;\n",
       "}\n",
       "\n",
       "</style><div class=\"suggestion-name\" style=\"clear:both;\">Eta reduce</div><div class=\"suggestion-row\" style=\"float: left;\"><div class=\"suggestion-warning\">Found:</div><div class=\"highlight-code\" id=\"haskell\">boolFunc x = even x</div></div><div class=\"suggestion-row\" style=\"float: left;\"><div class=\"suggestion-warning\">Why Not:</div><div class=\"highlight-code\" id=\"haskell\">boolFunc = even</div></div>"
      ],
      "text/plain": [
       "Line 1: Eta reduce\n",
       "Found:\n",
       "boolFunc x = even x\n",
       "Why not:\n",
       "boolFunc = even"
      ]
     },
     "metadata": {},
     "output_type": "display_data"
    }
   ],
   "source": [
    "boolFunc x = even x\n",
    "sqrtFunc x = x*x\n"
   ]
  },
  {
   "cell_type": "markdown",
   "id": "b588509d-0cf5-495c-a66d-981c02ef3807",
   "metadata": {},
   "source": [
    "### Raw method"
   ]
  },
  {
   "cell_type": "code",
   "execution_count": 17,
   "id": "ce173359-5748-4b25-b1fd-34c8b574b47b",
   "metadata": {},
   "outputs": [
    {
     "data": {
      "text/plain": [
       "\"[4,16,36,64,100,144,196,256,324,400]\""
      ]
     },
     "metadata": {},
     "output_type": "display_data"
    }
   ],
   "source": [
    "list1 = filter boolFunc [1..20]\n",
    "list2 = map sqrtFunc list1\n",
    "show list2"
   ]
  },
  {
   "cell_type": "markdown",
   "id": "8ca8a646-898a-4efd-97b0-c094db388bb8",
   "metadata": {},
   "source": [
    "### Nested"
   ]
  },
  {
   "cell_type": "code",
   "execution_count": 12,
   "id": "ff4f1527-7646-4733-a728-b2663e1219cc",
   "metadata": {},
   "outputs": [
    {
     "data": {
      "text/plain": [
       "\"[4,16,36,64,100,144,196,256,324,400]\""
      ]
     },
     "metadata": {},
     "output_type": "display_data"
    }
   ],
   "source": [
    "list3 = map sqrtFunc (filter boolFunc [1..20] )\n",
    "show list3\n"
   ]
  },
  {
   "cell_type": "markdown",
   "id": "bfa8de51-8dd6-44ba-998d-c896f18e883f",
   "metadata": {},
   "source": [
    "### List Comprehension"
   ]
  },
  {
   "cell_type": "code",
   "execution_count": 15,
   "id": "cae303f7-8c05-4403-85b4-e84e32ab8387",
   "metadata": {},
   "outputs": [
    {
     "data": {
      "text/plain": [
       "\"[4,16,36,64,100,144,196,256,324,400]\""
      ]
     },
     "metadata": {},
     "output_type": "display_data"
    }
   ],
   "source": [
    "list4 = [ sqrtFunc x | x <- [1..20] , boolFunc x ]\n",
    "show list4"
   ]
  },
  {
   "cell_type": "code",
   "execution_count": null,
   "id": "533c4600-aade-4a23-8a00-d1bc9cdd81ee",
   "metadata": {},
   "outputs": [],
   "source": []
  }
 ],
 "metadata": {
  "kernelspec": {
   "display_name": "Haskell",
   "language": "haskell",
   "name": "haskell"
  },
  "language_info": {
   "codemirror_mode": "ihaskell",
   "file_extension": ".hs",
   "mimetype": "text/x-haskell",
   "name": "haskell",
   "pygments_lexer": "Haskell",
   "version": "9.6.4"
  }
 },
 "nbformat": 4,
 "nbformat_minor": 5
}
