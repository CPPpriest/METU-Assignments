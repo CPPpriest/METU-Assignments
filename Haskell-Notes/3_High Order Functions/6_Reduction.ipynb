{
 "cells": [
  {
   "cell_type": "markdown",
   "id": "82386d06-7cd6-48a4-aba3-d22758ffa7bf",
   "metadata": {},
   "source": [
    "# Reduction functions\n",
    "\n",
    "1) Gets a **Binary** function, and accumulator and a list\n",
    "2) Applies the function to accumulator and the first element\n",
    "3) Stores the result as new accumulator and continues\n",
    "4) Returns the resulting accumulator\n",
    "\n",
    "```haskell\n",
    "\n",
    "reduce :: (a -> b -> b) -> b -> [a] -> b\n",
    "\n",
    "reduce func x [] = x\n",
    "reduce func x (el : rest) =  func el ( reduce func x rest)\n",
    "\n",
    "\n",
    "```\n",
    "\n",
    "\n",
    "**Remark:** reduce is not a part of Haskell Library.  \n",
    "Instead contains some reduction functions such as: `foldr` and `foldl`"
   ]
  },
  {
   "cell_type": "code",
   "execution_count": 27,
   "id": "db8f7a68-1509-4cef-86b1-07a8b1c173fb",
   "metadata": {},
   "outputs": [
    {
     "data": {
      "text/html": [
       "<style>/* Styles used for the Hoogle display in the pager */\n",
       ".hoogle-doc {\n",
       "display: block;\n",
       "padding-bottom: 1.3em;\n",
       "padding-left: 0.4em;\n",
       "}\n",
       ".hoogle-code {\n",
       "display: block;\n",
       "font-family: monospace;\n",
       "white-space: pre;\n",
       "}\n",
       ".hoogle-text {\n",
       "display: block;\n",
       "}\n",
       ".hoogle-name {\n",
       "color: green;\n",
       "font-weight: bold;\n",
       "}\n",
       ".hoogle-head {\n",
       "font-weight: bold;\n",
       "}\n",
       ".hoogle-sub {\n",
       "display: block;\n",
       "margin-left: 0.4em;\n",
       "}\n",
       ".hoogle-package {\n",
       "font-weight: bold;\n",
       "font-style: italic;\n",
       "}\n",
       ".hoogle-module {\n",
       "font-weight: bold;\n",
       "}\n",
       ".hoogle-class {\n",
       "font-weight: bold;\n",
       "}\n",
       "\n",
       ".get-type {\n",
       "color: green;\n",
       "font-weight: bold;\n",
       "font-family: monospace;\n",
       "display: block;\n",
       "white-space: pre-wrap;\n",
       "}\n",
       ".show-type {\n",
       "color: green;\n",
       "font-weight: bold;\n",
       "font-family: monospace;\n",
       "margin-left: 1em;\n",
       "}\n",
       ".mono {\n",
       "font-family: monospace;\n",
       "display: block;\n",
       "}\n",
       ".err-msg {\n",
       "color: red;\n",
       "font-style: italic;\n",
       "font-family: monospace;\n",
       "white-space: pre;\n",
       "display: block;\n",
       "}\n",
       "#unshowable {\n",
       "color: red;\n",
       "font-weight: bold;\n",
       "}\n",
       ".err-msg.in.collapse {\n",
       "padding-top: 0.7em;\n",
       "}\n",
       "\n",
       ".highlight-code {\n",
       "white-space: pre;\n",
       "font-family: monospace;\n",
       "}\n",
       "\n",
       ".suggestion-warning { \n",
       "font-weight: bold;\n",
       "color: rgb(200, 130, 0);\n",
       "}\n",
       ".suggestion-error { \n",
       "font-weight: bold;\n",
       "color: red;\n",
       "}\n",
       ".suggestion-name {\n",
       "font-weight: bold;\n",
       "}\n",
       "\n",
       "</style><div class=\"suggestion-name\" style=\"clear:both;\">Use foldr</div><div class=\"suggestion-row\" style=\"float: left;\"><div class=\"suggestion-warning\">Found:</div><div class=\"highlight-code\" id=\"haskell\">reduce func x [] = x\n",
       "reduce func x (el : rest) = func el (reduce func x rest)</div></div><div class=\"suggestion-row\" style=\"float: left;\"><div class=\"suggestion-warning\">Why Not:</div><div class=\"highlight-code\" id=\"haskell\">reduce func x rest = foldr func x rest</div></div>"
      ],
      "text/plain": [
       "Line 2: Use foldr\n",
       "Found:\n",
       "reduce func x [] = x\n",
       "reduce func x (el : rest) = func el (reduce func x rest)\n",
       "Why not:\n",
       "reduce func x rest = foldr func x rest"
      ]
     },
     "metadata": {},
     "output_type": "display_data"
    }
   ],
   "source": [
    "reduce :: (a -> b -> b) -> b -> [a] -> b\n",
    "reduce func x [] = x\n",
    "reduce func x (el : rest) =  func el ( reduce func x rest)"
   ]
  },
  {
   "cell_type": "code",
   "execution_count": 28,
   "id": "d9c30328-1b9f-49bb-85cc-7feb30bd783e",
   "metadata": {},
   "outputs": [
    {
     "data": {
      "text/plain": [
       "55"
      ]
     },
     "metadata": {},
     "output_type": "display_data"
    },
    {
     "data": {
      "text/plain": [
       "3628800"
      ]
     },
     "metadata": {},
     "output_type": "display_data"
    }
   ],
   "source": [
    "f a b = a + b\n",
    "reduce f 0 [1..10]\n",
    "\n",
    "g a b = a * b\n",
    "reduce g 1 [1..10]\n"
   ]
  },
  {
   "cell_type": "markdown",
   "id": "70be4569-0ff9-4d0f-abe1-87ab05c46391",
   "metadata": {},
   "source": [
    "## foldr\n",
    "\n",
    "```haskell\n",
    "\n",
    "foldr f x [] = x\n",
    "foldr f x (el : rest) =  f el ( foldr f x rest)\n",
    "\n",
    "\n",
    "```"
   ]
  },
  {
   "cell_type": "code",
   "execution_count": 36,
   "id": "df4cad52-21a2-4472-9f83-9cbe6864416c",
   "metadata": {},
   "outputs": [
    {
     "data": {
      "text/plain": [
       "-5"
      ]
     },
     "metadata": {},
     "output_type": "display_data"
    }
   ],
   "source": [
    "foldr (-) 0 [1..10]"
   ]
  },
  {
   "cell_type": "markdown",
   "id": "8d18f708-58eb-4c0d-ac96-89dc35018bd6",
   "metadata": {},
   "source": [
    "## foldl\n",
    "\n",
    "```haskell\n",
    "\n",
    "foldl f x [] = x\n",
    "foldl f x (el : rest) =  foldl f ( foldr f x el) rest\n",
    "\n",
    "\n",
    "```"
   ]
  },
  {
   "cell_type": "code",
   "execution_count": 33,
   "id": "fde98a1b-88fa-4a2f-9c96-e96a334b651a",
   "metadata": {},
   "outputs": [
    {
     "data": {
      "text/plain": [
       "-55"
      ]
     },
     "metadata": {},
     "output_type": "display_data"
    }
   ],
   "source": [
    "foldl (-) 0 [1..10] "
   ]
  },
  {
   "cell_type": "code",
   "execution_count": null,
   "id": "4dafe94d-c7cf-4011-a4b8-4ed994d796c4",
   "metadata": {},
   "outputs": [],
   "source": []
  }
 ],
 "metadata": {
  "kernelspec": {
   "display_name": "Haskell",
   "language": "haskell",
   "name": "haskell"
  },
  "language_info": {
   "codemirror_mode": "ihaskell",
   "file_extension": ".hs",
   "mimetype": "text/x-haskell",
   "name": "haskell",
   "pygments_lexer": "Haskell",
   "version": "9.6.4"
  }
 },
 "nbformat": 4,
 "nbformat_minor": 5
}
