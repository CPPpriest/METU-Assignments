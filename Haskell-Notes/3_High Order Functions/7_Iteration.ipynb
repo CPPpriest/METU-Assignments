{
 "cells": [
  {
   "cell_type": "markdown",
   "id": "9ac9b94d-6691-49ea-ac38-dce30d530613",
   "metadata": {},
   "source": [
    "# iterate\n",
    "\n",
    "Apply the function n time:   \n",
    "_f_ $\\circ$ _f_ $\\circ$ ... _f_ $\\circ$ _f x_ \n",
    "\n",
    "\n",
    "```haskell\n",
    "iterate :: (t2 -> t2) -> t2 -> t1 -> t2\n",
    "iterate func s 0 = s\n",
    "iterate func s n =  func ( iterate func s (n-1) ) \n",
    "\n",
    "\n",
    "```"
   ]
  },
  {
   "cell_type": "code",
   "execution_count": 33,
   "id": "10bc5f82-e496-4dec-9137-10ee186e936e",
   "metadata": {},
   "outputs": [
    {
     "data": {
      "text/plain": [
       "1000000000000000000000000000000000000000000000000000000000000000000000000000000000"
      ]
     },
     "metadata": {},
     "output_type": "display_data"
    }
   ],
   "source": [
    "iterate func s 0 = s\n",
    "iterate func s n =  func ( iterate func s (n-1) )\n",
    "\n",
    "triple x = x*x*x\n",
    "iterate triple 10 4"
   ]
  },
  {
   "cell_type": "code",
   "execution_count": 34,
   "id": "242a5f05-9981-41fd-a291-38e3da46daad",
   "metadata": {},
   "outputs": [
    {
     "data": {
      "text/html": [
       "<style>/* Styles used for the Hoogle display in the pager */\n",
       ".hoogle-doc {\n",
       "display: block;\n",
       "padding-bottom: 1.3em;\n",
       "padding-left: 0.4em;\n",
       "}\n",
       ".hoogle-code {\n",
       "display: block;\n",
       "font-family: monospace;\n",
       "white-space: pre;\n",
       "}\n",
       ".hoogle-text {\n",
       "display: block;\n",
       "}\n",
       ".hoogle-name {\n",
       "color: green;\n",
       "font-weight: bold;\n",
       "}\n",
       ".hoogle-head {\n",
       "font-weight: bold;\n",
       "}\n",
       ".hoogle-sub {\n",
       "display: block;\n",
       "margin-left: 0.4em;\n",
       "}\n",
       ".hoogle-package {\n",
       "font-weight: bold;\n",
       "font-style: italic;\n",
       "}\n",
       ".hoogle-module {\n",
       "font-weight: bold;\n",
       "}\n",
       ".hoogle-class {\n",
       "font-weight: bold;\n",
       "}\n",
       "\n",
       ".get-type {\n",
       "color: green;\n",
       "font-weight: bold;\n",
       "font-family: monospace;\n",
       "display: block;\n",
       "white-space: pre-wrap;\n",
       "}\n",
       ".show-type {\n",
       "color: green;\n",
       "font-weight: bold;\n",
       "font-family: monospace;\n",
       "margin-left: 1em;\n",
       "}\n",
       ".mono {\n",
       "font-family: monospace;\n",
       "display: block;\n",
       "}\n",
       ".err-msg {\n",
       "color: red;\n",
       "font-style: italic;\n",
       "font-family: monospace;\n",
       "white-space: pre;\n",
       "display: block;\n",
       "}\n",
       "#unshowable {\n",
       "color: red;\n",
       "font-weight: bold;\n",
       "}\n",
       ".err-msg.in.collapse {\n",
       "padding-top: 0.7em;\n",
       "}\n",
       "\n",
       ".highlight-code {\n",
       "white-space: pre;\n",
       "font-family: monospace;\n",
       "}\n",
       "\n",
       ".suggestion-warning { \n",
       "font-weight: bold;\n",
       "color: rgb(200, 130, 0);\n",
       "}\n",
       ".suggestion-error { \n",
       "font-weight: bold;\n",
       "color: red;\n",
       "}\n",
       ".suggestion-name {\n",
       "font-weight: bold;\n",
       "}\n",
       "\n",
       "</style><span class='get-type'>iterate :: forall {t1} {t2}. (Eq t1, Num t1) => (t2 -> t2) -> t2 -> t1 -> t2</span>"
      ],
      "text/plain": [
       "iterate :: forall {t1} {t2}. (Eq t1, Num t1) => (t2 -> t2) -> t2 -> t1 -> t2"
      ]
     },
     "metadata": {},
     "output_type": "display_data"
    }
   ],
   "source": [
    ":t iterate"
   ]
  },
  {
   "cell_type": "code",
   "execution_count": null,
   "id": "6df578ff-f854-4fdb-a908-a3614db5ede4",
   "metadata": {},
   "outputs": [],
   "source": []
  }
 ],
 "metadata": {
  "kernelspec": {
   "display_name": "Haskell",
   "language": "haskell",
   "name": "haskell"
  },
  "language_info": {
   "codemirror_mode": "ihaskell",
   "file_extension": ".hs",
   "mimetype": "text/x-haskell",
   "name": "haskell",
   "pygments_lexer": "Haskell",
   "version": "9.6.4"
  }
 },
 "nbformat": 4,
 "nbformat_minor": 5
}
