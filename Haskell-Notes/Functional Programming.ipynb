{
 "cells": [
  {
   "cell_type": "markdown",
   "metadata": {
    "slideshow": {
     "slide_type": "slide"
    }
   },
   "source": [
    "# Functional Programming\n",
    "\n",
    "* Math style variables. Not assigned but **bound** to a value. No side effects.\n",
    "* Functions and recursion is key in computation\n",
    "* All values are first order.\n",
    "* Garbage collecting runtime, recursive compositions and data structures\n",
    "* Lisp is first functional language. Many followed: ML, Scheme, Ocaml, Haskell, Erlang, Closure...\n",
    "* Popular in academics and also in industrial applications requiring verifiable, fault tolerant systems.\n",
    "\n",
    "Haskell is a popular functional programming language named after Haskell Curry, a mathematician worked in combinatorial logic and had many important contributions on programming languages and theory of computation.\n",
    "\n",
    "There are two major Haskell interpreters, GHC (Glasgow Haskell Compiler) and Hugs."
   ]
  },
  {
   "cell_type": "markdown",
   "metadata": {
    "slideshow": {
     "slide_type": "slide"
    }
   },
   "source": [
    "## Functions\n",
    "\n",
    "A function definition in Haskell is very simple\n",
    "```haskell\n",
    "\n",
    "funcname par1 par2 par3 =  expression\n",
    "\n",
    "```\n",
    "There is no type required, Haskell infers types itself. However you can define type of function with a ``name::type`` syntax if you like.\n",
    "\n",
    "`:type expression` give type of the expression."
   ]
  },
  {
   "cell_type": "code",
   "execution_count": 1,
   "metadata": {
    "ExecuteTime": {
     "end_time": "2023-10-10T10:43:12.746099Z",
     "start_time": "2023-10-10T10:43:12.362Z"
    },
    "slideshow": {
     "slide_type": "subslide"
    }
   },
   "outputs": [
    {
     "data": {
      "text/html": [
       "<style>/* Styles used for the Hoogle display in the pager */\n",
       ".hoogle-doc {\n",
       "display: block;\n",
       "padding-bottom: 1.3em;\n",
       "padding-left: 0.4em;\n",
       "}\n",
       ".hoogle-code {\n",
       "display: block;\n",
       "font-family: monospace;\n",
       "white-space: pre;\n",
       "}\n",
       ".hoogle-text {\n",
       "display: block;\n",
       "}\n",
       ".hoogle-name {\n",
       "color: green;\n",
       "font-weight: bold;\n",
       "}\n",
       ".hoogle-head {\n",
       "font-weight: bold;\n",
       "}\n",
       ".hoogle-sub {\n",
       "display: block;\n",
       "margin-left: 0.4em;\n",
       "}\n",
       ".hoogle-package {\n",
       "font-weight: bold;\n",
       "font-style: italic;\n",
       "}\n",
       ".hoogle-module {\n",
       "font-weight: bold;\n",
       "}\n",
       ".hoogle-class {\n",
       "font-weight: bold;\n",
       "}\n",
       ".get-type {\n",
       "color: green;\n",
       "font-weight: bold;\n",
       "font-family: monospace;\n",
       "display: block;\n",
       "white-space: pre-wrap;\n",
       "}\n",
       ".show-type {\n",
       "color: green;\n",
       "font-weight: bold;\n",
       "font-family: monospace;\n",
       "margin-left: 1em;\n",
       "}\n",
       ".mono {\n",
       "font-family: monospace;\n",
       "display: block;\n",
       "}\n",
       ".err-msg {\n",
       "color: red;\n",
       "font-style: italic;\n",
       "font-family: monospace;\n",
       "white-space: pre;\n",
       "display: block;\n",
       "}\n",
       "#unshowable {\n",
       "color: red;\n",
       "font-weight: bold;\n",
       "}\n",
       ".err-msg.in.collapse {\n",
       "padding-top: 0.7em;\n",
       "}\n",
       ".highlight-code {\n",
       "white-space: pre;\n",
       "font-family: monospace;\n",
       "}\n",
       ".suggestion-warning { \n",
       "font-weight: bold;\n",
       "color: rgb(200, 130, 0);\n",
       "}\n",
       ".suggestion-error { \n",
       "font-weight: bold;\n",
       "color: red;\n",
       "}\n",
       ".suggestion-name {\n",
       "font-weight: bold;\n",
       "}\n",
       "</style><span class='get-type'>f :: forall {a}. Num a => a -> a -> a</span>"
      ],
      "text/plain": [
       "f :: forall {a}. Num a => a -> a -> a"
      ]
     },
     "metadata": {},
     "output_type": "display_data"
    },
    {
     "data": {
      "text/html": [
       "<style>/* Styles used for the Hoogle display in the pager */\n",
       ".hoogle-doc {\n",
       "display: block;\n",
       "padding-bottom: 1.3em;\n",
       "padding-left: 0.4em;\n",
       "}\n",
       ".hoogle-code {\n",
       "display: block;\n",
       "font-family: monospace;\n",
       "white-space: pre;\n",
       "}\n",
       ".hoogle-text {\n",
       "display: block;\n",
       "}\n",
       ".hoogle-name {\n",
       "color: green;\n",
       "font-weight: bold;\n",
       "}\n",
       ".hoogle-head {\n",
       "font-weight: bold;\n",
       "}\n",
       ".hoogle-sub {\n",
       "display: block;\n",
       "margin-left: 0.4em;\n",
       "}\n",
       ".hoogle-package {\n",
       "font-weight: bold;\n",
       "font-style: italic;\n",
       "}\n",
       ".hoogle-module {\n",
       "font-weight: bold;\n",
       "}\n",
       ".hoogle-class {\n",
       "font-weight: bold;\n",
       "}\n",
       ".get-type {\n",
       "color: green;\n",
       "font-weight: bold;\n",
       "font-family: monospace;\n",
       "display: block;\n",
       "white-space: pre-wrap;\n",
       "}\n",
       ".show-type {\n",
       "color: green;\n",
       "font-weight: bold;\n",
       "font-family: monospace;\n",
       "margin-left: 1em;\n",
       "}\n",
       ".mono {\n",
       "font-family: monospace;\n",
       "display: block;\n",
       "}\n",
       ".err-msg {\n",
       "color: red;\n",
       "font-style: italic;\n",
       "font-family: monospace;\n",
       "white-space: pre;\n",
       "display: block;\n",
       "}\n",
       "#unshowable {\n",
       "color: red;\n",
       "font-weight: bold;\n",
       "}\n",
       ".err-msg.in.collapse {\n",
       "padding-top: 0.7em;\n",
       "}\n",
       ".highlight-code {\n",
       "white-space: pre;\n",
       "font-family: monospace;\n",
       "}\n",
       ".suggestion-warning { \n",
       "font-weight: bold;\n",
       "color: rgb(200, 130, 0);\n",
       "}\n",
       ".suggestion-error { \n",
       "font-weight: bold;\n",
       "color: red;\n",
       "}\n",
       ".suggestion-name {\n",
       "font-weight: bold;\n",
       "}\n",
       "</style><span class='get-type'>square :: Integer -> Integer</span>"
      ],
      "text/plain": [
       "square :: Integer -> Integer"
      ]
     },
     "metadata": {},
     "output_type": "display_data"
    }
   ],
   "source": [
    "f x y = x*y\n",
    "\n",
    "square::Integer->Integer\n",
    "square x = x*x\n",
    "\n",
    ":type f\n",
    ":type square"
   ]
  },
  {
   "cell_type": "markdown",
   "metadata": {
    "slideshow": {
     "slide_type": "subslide"
    }
   },
   "source": [
    "`Num a => a -> a -> a` is read as. `a` is a number class type and function gets an `a` typed value, and another `a` type value and returns an `a` type value. For the beginning we can assume it is equivalent to `Integer -> Integer -> Integer`.\n",
    "\n",
    "Function applications do not require paranthesis. Parantheses are required for controlling precedence. Function application have higher precedence and left associative. `f square 4 5` gets `square` as first parameter, `4` as the second parameter to `f`. \n",
    "\n",
    "`square 4-1` is parsed as `(square 4)-1`."
   ]
  },
  {
   "cell_type": "code",
   "execution_count": 2,
   "metadata": {
    "ExecuteTime": {
     "end_time": "2023-04-17T09:07:00.229179Z",
     "start_time": "2023-04-17T09:06:59.804Z"
    },
    "slideshow": {
     "slide_type": "fragment"
    }
   },
   "outputs": [
    {
     "data": {
      "text/plain": [
       "1522756"
      ]
     },
     "metadata": {},
     "output_type": "display_data"
    },
    {
     "data": {
      "text/plain": [
       "617664770611990162081344"
      ]
     },
     "metadata": {},
     "output_type": "display_data"
    }
   ],
   "source": [
    "square 1234\n",
    "f (square 241512) (square 3254151)"
   ]
  },
  {
   "cell_type": "markdown",
   "metadata": {
    "slideshow": {
     "slide_type": "slide"
    }
   },
   "source": [
    "## Recursion\n",
    "\n",
    "In functional programming recursion is the main tool for repeated computations. There is no loop, iteration or goto.\n",
    "\n",
    "In order to solve problems with recursion, you need to think mathematically. Express your problem in `n` in terms of solution of the same problem in `n-1` or similar. Then write a minimum condition (or termination condition) that you can define without recursion.\n",
    "\n",
    "For example. Find ssum (n) = sum of values in range 1 to n."
   ]
  },
  {
   "cell_type": "code",
   "execution_count": 3,
   "metadata": {
    "ExecuteTime": {
     "end_time": "2023-04-17T09:07:01.781890Z",
     "start_time": "2023-04-17T09:07:01.550Z"
    },
    "slideshow": {
     "slide_type": "subslide"
    }
   },
   "outputs": [
    {
     "data": {
      "text/html": [
       "<style>/* Styles used for the Hoogle display in the pager */\n",
       ".hoogle-doc {\n",
       "display: block;\n",
       "padding-bottom: 1.3em;\n",
       "padding-left: 0.4em;\n",
       "}\n",
       ".hoogle-code {\n",
       "display: block;\n",
       "font-family: monospace;\n",
       "white-space: pre;\n",
       "}\n",
       ".hoogle-text {\n",
       "display: block;\n",
       "}\n",
       ".hoogle-name {\n",
       "color: green;\n",
       "font-weight: bold;\n",
       "}\n",
       ".hoogle-head {\n",
       "font-weight: bold;\n",
       "}\n",
       ".hoogle-sub {\n",
       "display: block;\n",
       "margin-left: 0.4em;\n",
       "}\n",
       ".hoogle-package {\n",
       "font-weight: bold;\n",
       "font-style: italic;\n",
       "}\n",
       ".hoogle-module {\n",
       "font-weight: bold;\n",
       "}\n",
       ".hoogle-class {\n",
       "font-weight: bold;\n",
       "}\n",
       ".get-type {\n",
       "color: green;\n",
       "font-weight: bold;\n",
       "font-family: monospace;\n",
       "display: block;\n",
       "white-space: pre-wrap;\n",
       "}\n",
       ".show-type {\n",
       "color: green;\n",
       "font-weight: bold;\n",
       "font-family: monospace;\n",
       "margin-left: 1em;\n",
       "}\n",
       ".mono {\n",
       "font-family: monospace;\n",
       "display: block;\n",
       "}\n",
       ".err-msg {\n",
       "color: red;\n",
       "font-style: italic;\n",
       "font-family: monospace;\n",
       "white-space: pre;\n",
       "display: block;\n",
       "}\n",
       "#unshowable {\n",
       "color: red;\n",
       "font-weight: bold;\n",
       "}\n",
       ".err-msg.in.collapse {\n",
       "padding-top: 0.7em;\n",
       "}\n",
       ".highlight-code {\n",
       "white-space: pre;\n",
       "font-family: monospace;\n",
       "}\n",
       ".suggestion-warning { \n",
       "font-weight: bold;\n",
       "color: rgb(200, 130, 0);\n",
       "}\n",
       ".suggestion-error { \n",
       "font-weight: bold;\n",
       "color: red;\n",
       "}\n",
       ".suggestion-name {\n",
       "font-weight: bold;\n",
       "}\n",
       "</style><span class='get-type'>ssum :: forall {t}. (Ord t, Num t) => t -> t</span>"
      ],
      "text/plain": [
       "ssum :: forall {t}. (Ord t, Num t) => t -> t"
      ]
     },
     "metadata": {},
     "output_type": "display_data"
    },
    {
     "data": {
      "text/plain": [
       "7626"
      ]
     },
     "metadata": {},
     "output_type": "display_data"
    }
   ],
   "source": [
    "ssum n = if n <= 0 then\n",
    "            0\n",
    "         else\n",
    "            n + ssum (n-1)\n",
    ":t ssum\n",
    "ssum 123"
   ]
  },
  {
   "cell_type": "markdown",
   "metadata": {
    "slideshow": {
     "slide_type": "subslide"
    }
   },
   "source": [
    "`ssum 123` is evaluated as `123 + ssum 122 = 123 + 122 + ssum 121 = 123 + 122 + ... + 1 + ssum 0 = ... + 0 = 7626`\n",
    "Instead of `if then else` syntax, you can write conditions on definition as **patterns**.\n",
    "```Haskell\n",
    "func x 0 = exp1\n",
    "func x 1 = exp2\n",
    "func x n = exp3\n",
    "```\n",
    "will match second parameter and compute the parameter accordingly. If it matches 0 `exp1` will be the result, if matches 1, `exp2` will be returned, otherwise it will be `exp3` with `n` is substituted with the value of the parameter.\n",
    "\n",
    "Also conditionals can be specified as guard clauses\n",
    "```Haskell\n",
    "\n",
    "func x n | n <= 0 = exp1\n",
    "         | n == 1 = exp2\n",
    "         | otherwise = exp3\n",
    "\n",
    "```\n"
   ]
  },
  {
   "cell_type": "code",
   "execution_count": 4,
   "metadata": {
    "ExecuteTime": {
     "end_time": "2023-04-17T09:07:02.744226Z",
     "start_time": "2023-04-17T09:07:02.620Z"
    },
    "slideshow": {
     "slide_type": "subslide"
    }
   },
   "outputs": [],
   "source": [
    "ssum n | n <= 0 = 0\n",
    "       | otherwise = n + ssum (n-1)"
   ]
  },
  {
   "cell_type": "code",
   "execution_count": 5,
   "metadata": {
    "ExecuteTime": {
     "end_time": "2023-04-17T09:07:03.334582Z",
     "start_time": "2023-04-17T09:07:03.094Z"
    },
    "slideshow": {
     "slide_type": "fragment"
    }
   },
   "outputs": [
    {
     "data": {
      "text/plain": [
       "7626"
      ]
     },
     "metadata": {},
     "output_type": "display_data"
    }
   ],
   "source": [
    "ssum' n s  | n <= 0 = s\n",
    "           | otherwise =  ssum' (n-1) (n+s)\n",
    "            \n",
    "ssum' 123 0"
   ]
  },
  {
   "cell_type": "markdown",
   "metadata": {
    "slideshow": {
     "slide_type": "fragment"
    }
   },
   "source": [
    "`ssum'` example above calculates the same sum by `ssum`. However it **accumulates** the sum in the paramater `s` as:\n",
    "`ssum' 123 0 = ssum' 122 123 = ssum' 121 145 = ssum' 120 266 = ssum' 119 386 = ... = ssum' 1 7625 = ssum' 0 7626 = 7626`.\n",
    "\n",
    "This recursion style is closer to imperative paradigm loops. The parameter keeps the current computation state, which is the current sum so far.\n",
    "\n",
    "When a recursive call does nothing but returns the value returned by the call is called **tail recursion**. Some compilers/interpreters recognize this case and implement tail recursion more efficiently, without using a stack frame per call."
   ]
  },
  {
   "cell_type": "markdown",
   "metadata": {
    "slideshow": {
     "slide_type": "slide"
    }
   },
   "source": [
    "## Efficiency\n",
    "Assume we need to find n$^{th}$ fibonacci value. It is simply $fib(n) = fib(n-1)+fib(n-2)$. The implementation below\n",
    "is this simple definition. For example `fib 5`:\n",
    "```\n",
    "fib 5 = fib 4 + fib 3 = fib 3 + fib 2 + fib 3 = fib 2 + fib 1 + fib 2 + fib 3 = \n",
    "fib 1 + fib 0 + fib 1 + fib 2 + fib 3 = 1 + 1 + 1 + fib 1 + fib 0 + fib 3 = 5 + fib 2 + fib 1 =\n",
    "5 + fib 1 + fib 0 + fib 1 = 8\n",
    "```\n",
    "Number of summations required is exponentially increasing by `n`. Our function does not remember the\n",
    "`fib (n-2)` value which is also needed in `fib (n-1)` and recomputes it. "
   ]
  },
  {
   "cell_type": "code",
   "execution_count": 6,
   "metadata": {
    "ExecuteTime": {
     "end_time": "2023-04-17T09:07:12.678810Z",
     "start_time": "2023-04-17T09:07:07.084Z"
    },
    "slideshow": {
     "slide_type": "subslide"
    }
   },
   "outputs": [
    {
     "data": {
      "text/plain": [
       "3524578"
      ]
     },
     "metadata": {},
     "output_type": "display_data"
    }
   ],
   "source": [
    "fib 0 = 1\n",
    "fib 1 = 1\n",
    "fib n = fib (n-1) + fib (n-2)\n",
    "\n",
    "fib 32\n",
    "-- This is too slow!!!\n"
   ]
  },
  {
   "cell_type": "markdown",
   "metadata": {
    "slideshow": {
     "slide_type": "slide"
    }
   },
   "source": [
    "Alternatively, we can define recursion as a growing sequence.\n",
    "`1 1 2 3 5 8 11 ...`. We can seed the current two values in sequence to get the next value. \n",
    "\n",
    "$fib (n, v_1, v_2) = \\left\\{ \n",
    "           \\begin{array}{ll} v_2 & \\mathrm{if} \\; n = 0\\\\\n",
    "                             fib (n-1, v_2, v_1+v_2) & \\mathrm{else}\\\\\n",
    "            \\end{array} \\right.$ \n",
    "\n",
    "If $n$ recursive call will find result in the last seed value.\n",
    "\n",
    "Let us write a helper function `fibh` that will get `n`, current repetition number `i` and two current fibonacci sequence values, `a`: fib(i-1) and `b`:fib(i) respectively. Then, in the next recursion step, `b` will be used as the first and `a+b` will be the second parameter. The sequence will grow as:\n",
    "`fibh .. 1 1 = fibh .. 1 2  = fibh .. 2 3 = fibh .. 3 5 = fibh .. 5 8 = fibh .. 8 13 = ...`\n",
    "We need to go `n` recursion level and return last computed sequence value as the result. We increment `i` at each recursion level and test if `i == n` for termination. The deepest level will return `b` as the value which will be propagated as the result."
   ]
  },
  {
   "cell_type": "code",
   "execution_count": 7,
   "metadata": {
    "ExecuteTime": {
     "end_time": "2023-04-17T09:07:21.103334Z",
     "start_time": "2023-04-17T09:07:20.869Z"
    },
    "slideshow": {
     "slide_type": "subslide"
    }
   },
   "outputs": [
    {
     "data": {
      "text/plain": [
       "3524578"
      ]
     },
     "metadata": {},
     "output_type": "display_data"
    }
   ],
   "source": [
    "fibh n i a b | i == n = b\n",
    "             | otherwise = fibh n (i+1) b (a+b)\n",
    "               \n",
    "fib2 n = fibh n 1 1 1   -- initial condition: i=1, a=1, b=1 \n",
    "\n",
    "fib2 32"
   ]
  },
  {
   "cell_type": "markdown",
   "metadata": {
    "slideshow": {
     "slide_type": "slide"
    }
   },
   "source": [
    "## Local definitions\n",
    "\n",
    "It is a good practice to divide long expressions to improve readability. Instead of:\n",
    "\n",
    "`(((x-3)/4) + (y-20)/3 ) * ( (y-20)/3 * 100 / (x-3)/4 )`\n",
    "\n",
    "One can write:\n",
    "```Haskell\n",
    "let newx = (x-3)/4\n",
    "    newy = (y-20)/3\n",
    "    scale = newy * 100 / newx\n",
    "in (newx+newy)*scale\n",
    "```\n",
    "This way, your code will be easier to read, and also some calculations will not be repeated, `(x-3)/4` and `(y-20)/3`\n",
    "are evaluated only once.\n",
    "\n",
    "Haskell `let ... in ...` blocks allow an expression to be evaluated in existense of a sequence of local definitions. The `let` block can contain as many definition as desired including functions and variables. The value of `let` block is the expression after the `in`. The expression in the `in` part can contain references to functions and variables in `let` block. However these definitions are local. They are not valid outside of `let...in...` block. You can use it either with indentation or ; and curly braces. See https://en.wikibooks.org/wiki/Haskell/Indentation for Haskell and indentation."
   ]
  },
  {
   "cell_type": "code",
   "execution_count": 8,
   "metadata": {
    "ExecuteTime": {
     "end_time": "2023-04-17T09:07:25.502704Z",
     "start_time": "2023-04-17T09:07:25.016Z"
    },
    "slideshow": {
     "slide_type": "subslide"
    }
   },
   "outputs": [
    {
     "data": {
      "text/plain": [
       "30"
      ]
     },
     "metadata": {},
     "output_type": "display_data"
    },
    {
     "data": {
      "text/plain": [
       "5"
      ]
     },
     "metadata": {},
     "output_type": "display_data"
    },
    {
     "data": {
      "text/plain": [
       "7"
      ]
     },
     "metadata": {},
     "output_type": "display_data"
    }
   ],
   "source": [
    "let x = 3\n",
    "    y = 4\n",
    " in x+y+23\n",
    "\n",
    "let x = 1; y = 3; f x = x +1 in f (x+y)\n",
    "\n",
    "let { x =1 ; y = 4;\n",
    " f x = x+1 ; z = f(x+y)} in f z"
   ]
  },
  {
   "cell_type": "markdown",
   "metadata": {
    "slideshow": {
     "slide_type": "slide"
    }
   },
   "source": [
    "The definitions between `let` and `in` are local definitions that are only valid for evaluation of expression following `in`, which is the actual expression. Local definitions are not accessible outside of the `let` block.\n",
    "\n",
    "Sometimes local definitions are crucial in efficiency. Assume you have the following power implementation:"
   ]
  },
  {
   "cell_type": "code",
   "execution_count": 9,
   "metadata": {
    "ExecuteTime": {
     "end_time": "2023-04-17T09:07:27.032966Z",
     "start_time": "2023-04-17T09:07:26.028Z"
    },
    "slideshow": {
     "slide_type": "fragment"
    }
   },
   "outputs": [
    {
     "data": {
      "text/plain": [
       "0.3678792572210609"
      ]
     },
     "metadata": {},
     "output_type": "display_data"
    }
   ],
   "source": [
    "pow1 x 0 = 1\n",
    "pow1 x n = x * pow1 x (n-1)\n",
    "\n",
    "pow1 0.999999 1000000"
   ]
  },
  {
   "cell_type": "markdown",
   "metadata": {
    "slideshow": {
     "slide_type": "subslide"
    }
   },
   "source": [
    "It makes `n` levels of recursive calls. However you can make it faster if you define power in terms of square function and divide `n` by two at each step as `power x n = (power x (n/2)) * (power x (n/2))`. You need to handle the `n` being odd."
   ]
  },
  {
   "cell_type": "code",
   "execution_count": 10,
   "metadata": {
    "ExecuteTime": {
     "end_time": "2023-04-17T09:07:29.672361Z",
     "start_time": "2023-04-17T09:07:27.316Z"
    },
    "slideshow": {
     "slide_type": "fragment"
    }
   },
   "outputs": [
    {
     "data": {
      "text/html": [
       "<style>/* Styles used for the Hoogle display in the pager */\n",
       ".hoogle-doc {\n",
       "display: block;\n",
       "padding-bottom: 1.3em;\n",
       "padding-left: 0.4em;\n",
       "}\n",
       ".hoogle-code {\n",
       "display: block;\n",
       "font-family: monospace;\n",
       "white-space: pre;\n",
       "}\n",
       ".hoogle-text {\n",
       "display: block;\n",
       "}\n",
       ".hoogle-name {\n",
       "color: green;\n",
       "font-weight: bold;\n",
       "}\n",
       ".hoogle-head {\n",
       "font-weight: bold;\n",
       "}\n",
       ".hoogle-sub {\n",
       "display: block;\n",
       "margin-left: 0.4em;\n",
       "}\n",
       ".hoogle-package {\n",
       "font-weight: bold;\n",
       "font-style: italic;\n",
       "}\n",
       ".hoogle-module {\n",
       "font-weight: bold;\n",
       "}\n",
       ".hoogle-class {\n",
       "font-weight: bold;\n",
       "}\n",
       ".get-type {\n",
       "color: green;\n",
       "font-weight: bold;\n",
       "font-family: monospace;\n",
       "display: block;\n",
       "white-space: pre-wrap;\n",
       "}\n",
       ".show-type {\n",
       "color: green;\n",
       "font-weight: bold;\n",
       "font-family: monospace;\n",
       "margin-left: 1em;\n",
       "}\n",
       ".mono {\n",
       "font-family: monospace;\n",
       "display: block;\n",
       "}\n",
       ".err-msg {\n",
       "color: red;\n",
       "font-style: italic;\n",
       "font-family: monospace;\n",
       "white-space: pre;\n",
       "display: block;\n",
       "}\n",
       "#unshowable {\n",
       "color: red;\n",
       "font-weight: bold;\n",
       "}\n",
       ".err-msg.in.collapse {\n",
       "padding-top: 0.7em;\n",
       "}\n",
       ".highlight-code {\n",
       "white-space: pre;\n",
       "font-family: monospace;\n",
       "}\n",
       ".suggestion-warning { \n",
       "font-weight: bold;\n",
       "color: rgb(200, 130, 0);\n",
       "}\n",
       ".suggestion-error { \n",
       "font-weight: bold;\n",
       "color: red;\n",
       "}\n",
       ".suggestion-name {\n",
       "font-weight: bold;\n",
       "}\n",
       "</style><div class=\"suggestion-name\" style=\"clear:both;\">Use even</div><div class=\"suggestion-row\" style=\"float: left;\"><div class=\"suggestion-warning\">Found:</div><div class=\"highlight-code\" id=\"haskell\">n `mod` 2 == 0</div></div><div class=\"suggestion-row\" style=\"float: left;\"><div class=\"suggestion-warning\">Why Not:</div><div class=\"highlight-code\" id=\"haskell\">even n</div></div>"
      ],
      "text/plain": [
       "Line 2: Use even\n",
       "Found:\n",
       "n `mod` 2 == 0\n",
       "Why not:\n",
       "even n"
      ]
     },
     "metadata": {},
     "output_type": "display_data"
    },
    {
     "data": {
      "text/plain": [
       "0.367879257215518"
      ]
     },
     "metadata": {},
     "output_type": "display_data"
    }
   ],
   "source": [
    "pow2 x 0 = 1\n",
    "pow2 x n | n `mod` 2 == 0 = pow2 x (div n 2) * pow2 x (n `div` 2)\n",
    "         | otherwise      = x * pow2 x (n `div` 2) * pow2 x (n `div` 2)\n",
    "pow2 0.999999 1000000"
   ]
  },
  {
   "cell_type": "markdown",
   "metadata": {
    "slideshow": {
     "slide_type": "fragment"
    }
   },
   "source": [
    "Probably it is similar or even worse because, it is repeating the same computation. \n",
    "\n",
    "`pow 2 8 = pow 2 4 * pow 2 4 = pow 2 2 * pow 2 2 * pow 2 4 = pow 2 1 * pow 2 1 * pow 2 1 * pow 2 1 * ....`\n",
    "\n",
    "If we localy define repeat computations and use previously calculated values:"
   ]
  },
  {
   "cell_type": "code",
   "execution_count": 11,
   "metadata": {
    "ExecuteTime": {
     "end_time": "2023-04-17T09:07:30.036166Z",
     "start_time": "2023-04-17T09:07:28.625Z"
    },
    "slideshow": {
     "slide_type": "subslide"
    }
   },
   "outputs": [
    {
     "data": {
      "text/html": [
       "<style>/* Styles used for the Hoogle display in the pager */\n",
       ".hoogle-doc {\n",
       "display: block;\n",
       "padding-bottom: 1.3em;\n",
       "padding-left: 0.4em;\n",
       "}\n",
       ".hoogle-code {\n",
       "display: block;\n",
       "font-family: monospace;\n",
       "white-space: pre;\n",
       "}\n",
       ".hoogle-text {\n",
       "display: block;\n",
       "}\n",
       ".hoogle-name {\n",
       "color: green;\n",
       "font-weight: bold;\n",
       "}\n",
       ".hoogle-head {\n",
       "font-weight: bold;\n",
       "}\n",
       ".hoogle-sub {\n",
       "display: block;\n",
       "margin-left: 0.4em;\n",
       "}\n",
       ".hoogle-package {\n",
       "font-weight: bold;\n",
       "font-style: italic;\n",
       "}\n",
       ".hoogle-module {\n",
       "font-weight: bold;\n",
       "}\n",
       ".hoogle-class {\n",
       "font-weight: bold;\n",
       "}\n",
       ".get-type {\n",
       "color: green;\n",
       "font-weight: bold;\n",
       "font-family: monospace;\n",
       "display: block;\n",
       "white-space: pre-wrap;\n",
       "}\n",
       ".show-type {\n",
       "color: green;\n",
       "font-weight: bold;\n",
       "font-family: monospace;\n",
       "margin-left: 1em;\n",
       "}\n",
       ".mono {\n",
       "font-family: monospace;\n",
       "display: block;\n",
       "}\n",
       ".err-msg {\n",
       "color: red;\n",
       "font-style: italic;\n",
       "font-family: monospace;\n",
       "white-space: pre;\n",
       "display: block;\n",
       "}\n",
       "#unshowable {\n",
       "color: red;\n",
       "font-weight: bold;\n",
       "}\n",
       ".err-msg.in.collapse {\n",
       "padding-top: 0.7em;\n",
       "}\n",
       ".highlight-code {\n",
       "white-space: pre;\n",
       "font-family: monospace;\n",
       "}\n",
       ".suggestion-warning { \n",
       "font-weight: bold;\n",
       "color: rgb(200, 130, 0);\n",
       "}\n",
       ".suggestion-error { \n",
       "font-weight: bold;\n",
       "color: red;\n",
       "}\n",
       ".suggestion-name {\n",
       "font-weight: bold;\n",
       "}\n",
       "</style><div class=\"suggestion-name\" style=\"clear:both;\">Use even</div><div class=\"suggestion-row\" style=\"float: left;\"><div class=\"suggestion-warning\">Found:</div><div class=\"highlight-code\" id=\"haskell\">n `mod` 2 == 0</div></div><div class=\"suggestion-row\" style=\"float: left;\"><div class=\"suggestion-warning\">Why Not:</div><div class=\"highlight-code\" id=\"haskell\">even n</div></div><div class=\"suggestion-name\" style=\"clear:both;\">Use even</div><div class=\"suggestion-row\" style=\"float: left;\"><div class=\"suggestion-warning\">Found:</div><div class=\"highlight-code\" id=\"haskell\">n `mod` 2 == 0</div></div><div class=\"suggestion-row\" style=\"float: left;\"><div class=\"suggestion-warning\">Why Not:</div><div class=\"highlight-code\" id=\"haskell\">even n</div></div>"
      ],
      "text/plain": [
       "Line 3: Use even\n",
       "Found:\n",
       "n `mod` 2 == 0\n",
       "Why not:\n",
       "even nLine 11: Use even\n",
       "Found:\n",
       "n `mod` 2 == 0\n",
       "Why not:\n",
       "even n"
      ]
     },
     "metadata": {},
     "output_type": "display_data"
    },
    {
     "data": {
      "text/plain": [
       "0.367879257215518"
      ]
     },
     "metadata": {},
     "output_type": "display_data"
    },
    {
     "data": {
      "text/plain": [
       "0.367879257215518"
      ]
     },
     "metadata": {},
     "output_type": "display_data"
    }
   ],
   "source": [
    "pow3 x 0 = 1\n",
    "pow3 x n = let pnover2 =  pow3 x (n `div` 2)\n",
    "           in if n `mod` 2 == 0 then pnover2 * pnover2\n",
    "                                else pnover2 * pnover2 * x\n",
    "pow3 0.999999 1000000\n",
    "\n",
    "-- or\n",
    "\n",
    "square x = x * x \n",
    "pow4 x 0 = 1\n",
    "pow4 x n | n `mod` 2 == 0 = square (pow4 x (n `div` 2))\n",
    "         | otherwise      = x * square (pow4 x (n `div` 2))\n",
    "pow4 0.999999 1000000"
   ]
  },
  {
   "cell_type": "markdown",
   "metadata": {
    "slideshow": {
     "slide_type": "subslide"
    }
   },
   "source": [
    "This new definition will call $\\lceil log_2 n \\rceil$ recursion levels. As `n` gets larger, the difference will be more significant. For example: \n",
    "\n",
    "$\\lceil log_2 10^{10} \\rceil = 40$ vs $10^{10}$.\n",
    "\n",
    "\n",
    "Local definitions can be arbitrarily nested. Each definition only spans its lexical scope:"
   ]
  },
  {
   "cell_type": "code",
   "execution_count": 12,
   "metadata": {
    "ExecuteTime": {
     "end_time": "2023-04-17T09:07:33.862566Z",
     "start_time": "2023-04-17T09:07:33.626Z"
    },
    "slideshow": {
     "slide_type": "slide"
    }
   },
   "outputs": [
    {
     "data": {
      "text/plain": [
       "49"
      ]
     },
     "metadata": {},
     "output_type": "display_data"
    }
   ],
   "source": [
    "let f x = x*x\n",
    "    y = 4\n",
    " in (let f x = x+1\n",
    "         z = 3\n",
    "         x = 10\n",
    "      in (let y = 2\n",
    "           in f x * y + z) + f y + z) + f y"
   ]
  },
  {
   "cell_type": "markdown",
   "metadata": {
    "slideshow": {
     "slide_type": "subslide"
    }
   },
   "source": [
    "Let us put indexes under variables to indicate the correspondence:\n",
    "```Haskell\n",
    "let f1 x = x*x\n",
    "    y1 = 4\n",
    " in (let f2 x = x+1\n",
    "         z1 = 3\n",
    "         x1 = 10\n",
    "      in (let y2 = 2\n",
    "           in f2 x * y2 + z1) + f2 y1 + z1) + f1 y1\n",
    "\n",
    "```\n",
    "        "
   ]
  },
  {
   "cell_type": "markdown",
   "metadata": {
    "slideshow": {
     "slide_type": "slide"
    }
   },
   "source": [
    "## User Defined Types\n",
    "\n",
    "In Haskell new data types can be defined by `type` and `data` keywords. `type` is used to define aliases to existing types where `data` creates new data types with **type constructor tags** and disjoint union operation."
   ]
  },
  {
   "cell_type": "code",
   "execution_count": 13,
   "metadata": {
    "ExecuteTime": {
     "end_time": "2023-04-17T09:07:39.877516Z",
     "start_time": "2023-04-17T09:07:39.636Z"
    },
    "slideshow": {
     "slide_type": "fragment"
    }
   },
   "outputs": [
    {
     "data": {
      "text/html": [
       "<style>/* Styles used for the Hoogle display in the pager */\n",
       ".hoogle-doc {\n",
       "display: block;\n",
       "padding-bottom: 1.3em;\n",
       "padding-left: 0.4em;\n",
       "}\n",
       ".hoogle-code {\n",
       "display: block;\n",
       "font-family: monospace;\n",
       "white-space: pre;\n",
       "}\n",
       ".hoogle-text {\n",
       "display: block;\n",
       "}\n",
       ".hoogle-name {\n",
       "color: green;\n",
       "font-weight: bold;\n",
       "}\n",
       ".hoogle-head {\n",
       "font-weight: bold;\n",
       "}\n",
       ".hoogle-sub {\n",
       "display: block;\n",
       "margin-left: 0.4em;\n",
       "}\n",
       ".hoogle-package {\n",
       "font-weight: bold;\n",
       "font-style: italic;\n",
       "}\n",
       ".hoogle-module {\n",
       "font-weight: bold;\n",
       "}\n",
       ".hoogle-class {\n",
       "font-weight: bold;\n",
       "}\n",
       ".get-type {\n",
       "color: green;\n",
       "font-weight: bold;\n",
       "font-family: monospace;\n",
       "display: block;\n",
       "white-space: pre-wrap;\n",
       "}\n",
       ".show-type {\n",
       "color: green;\n",
       "font-weight: bold;\n",
       "font-family: monospace;\n",
       "margin-left: 1em;\n",
       "}\n",
       ".mono {\n",
       "font-family: monospace;\n",
       "display: block;\n",
       "}\n",
       ".err-msg {\n",
       "color: red;\n",
       "font-style: italic;\n",
       "font-family: monospace;\n",
       "white-space: pre;\n",
       "display: block;\n",
       "}\n",
       "#unshowable {\n",
       "color: red;\n",
       "font-weight: bold;\n",
       "}\n",
       ".err-msg.in.collapse {\n",
       "padding-top: 0.7em;\n",
       "}\n",
       ".highlight-code {\n",
       "white-space: pre;\n",
       "font-family: monospace;\n",
       "}\n",
       ".suggestion-warning { \n",
       "font-weight: bold;\n",
       "color: rgb(200, 130, 0);\n",
       "}\n",
       ".suggestion-error { \n",
       "font-weight: bold;\n",
       "color: red;\n",
       "}\n",
       ".suggestion-name {\n",
       "font-weight: bold;\n",
       "}\n",
       "</style><span class='get-type'>today :: forall {b} {c}. (Fractional b, Num c) => (WState, b, c)</span>"
      ],
      "text/plain": [
       "today :: forall {b} {c}. (Fractional b, Num c) => (WState, b, c)"
      ]
     },
     "metadata": {},
     "output_type": "display_data"
    },
    {
     "data": {
      "text/html": [
       "<style>/* Styles used for the Hoogle display in the pager */\n",
       ".hoogle-doc {\n",
       "display: block;\n",
       "padding-bottom: 1.3em;\n",
       "padding-left: 0.4em;\n",
       "}\n",
       ".hoogle-code {\n",
       "display: block;\n",
       "font-family: monospace;\n",
       "white-space: pre;\n",
       "}\n",
       ".hoogle-text {\n",
       "display: block;\n",
       "}\n",
       ".hoogle-name {\n",
       "color: green;\n",
       "font-weight: bold;\n",
       "}\n",
       ".hoogle-head {\n",
       "font-weight: bold;\n",
       "}\n",
       ".hoogle-sub {\n",
       "display: block;\n",
       "margin-left: 0.4em;\n",
       "}\n",
       ".hoogle-package {\n",
       "font-weight: bold;\n",
       "font-style: italic;\n",
       "}\n",
       ".hoogle-module {\n",
       "font-weight: bold;\n",
       "}\n",
       ".hoogle-class {\n",
       "font-weight: bold;\n",
       "}\n",
       ".get-type {\n",
       "color: green;\n",
       "font-weight: bold;\n",
       "font-family: monospace;\n",
       "display: block;\n",
       "white-space: pre-wrap;\n",
       "}\n",
       ".show-type {\n",
       "color: green;\n",
       "font-weight: bold;\n",
       "font-family: monospace;\n",
       "margin-left: 1em;\n",
       "}\n",
       ".mono {\n",
       "font-family: monospace;\n",
       "display: block;\n",
       "}\n",
       ".err-msg {\n",
       "color: red;\n",
       "font-style: italic;\n",
       "font-family: monospace;\n",
       "white-space: pre;\n",
       "display: block;\n",
       "}\n",
       "#unshowable {\n",
       "color: red;\n",
       "font-weight: bold;\n",
       "}\n",
       ".err-msg.in.collapse {\n",
       "padding-top: 0.7em;\n",
       "}\n",
       ".highlight-code {\n",
       "white-space: pre;\n",
       "font-family: monospace;\n",
       "}\n",
       ".suggestion-warning { \n",
       "font-weight: bold;\n",
       "color: rgb(200, 130, 0);\n",
       "}\n",
       ".suggestion-error { \n",
       "font-weight: bold;\n",
       "color: red;\n",
       "}\n",
       ".suggestion-name {\n",
       "font-weight: bold;\n",
       "}\n",
       "</style><span class='get-type'>nextday :: Forecast</span>"
      ],
      "text/plain": [
       "nextday :: Forecast"
      ]
     },
     "metadata": {},
     "output_type": "display_data"
    },
    {
     "data": {
      "text/plain": [
       "False"
      ]
     },
     "metadata": {},
     "output_type": "display_data"
    }
   ],
   "source": [
    "type Person = (String, Integer, Bool)\n",
    "\n",
    "data WState = Sunny | PartClouds| Clouds | LightRain| Rain | LightSnow | Snow | IceRain    deriving (Show,Eq)  -- this part is just for Haskell to show the values, no other meaning\n",
    "\n",
    "type Forecast = (WState, Float, Float)\n",
    "\n",
    "\n",
    "today = (Rain, -1.5 , 10)\n",
    "\n",
    "nextday = (PartClouds, 0, 12)::Forecast   -- ::Forecast specifies the data type\n",
    "\n",
    ":t today\n",
    "\n",
    ":t nextday\n",
    "\n",
    "today == nextday"
   ]
  },
  {
   "cell_type": "markdown",
   "metadata": {
    "slideshow": {
     "slide_type": "subslide"
    }
   },
   "source": [
    "Even though `today` and `nextday` looks like they have different types, they have the same type. `WState` is a data type which has one of the values in `|` separated constructors list. Each name like `Sunny, Rain,...` is a value constructor or tag that creates a value of type `WState`.\n",
    "\n",
    "Constructors can also get other values as arguments, as if they are functions.\n",
    "\n",
    "`data Value = Rat (Integer,Integer) | RV Float `\n",
    "\n",
    "In this type definition a value can be either represented as division of two integer, or it is an integer or it is a floating point value. The value representation is tagged with its constructor. Pattern matching in function definitions or `case ... of .. -> ...; ... -> ...;` syntax can be used to match a tagged value. "
   ]
  },
  {
   "cell_type": "code",
   "execution_count": 14,
   "metadata": {
    "ExecuteTime": {
     "end_time": "2023-04-17T09:07:41.805541Z",
     "start_time": "2023-04-17T09:07:41.126Z"
    },
    "slideshow": {
     "slide_type": "slide"
    }
   },
   "outputs": [
    {
     "data": {
      "text/html": [
       "<style>/* Styles used for the Hoogle display in the pager */\n",
       ".hoogle-doc {\n",
       "display: block;\n",
       "padding-bottom: 1.3em;\n",
       "padding-left: 0.4em;\n",
       "}\n",
       ".hoogle-code {\n",
       "display: block;\n",
       "font-family: monospace;\n",
       "white-space: pre;\n",
       "}\n",
       ".hoogle-text {\n",
       "display: block;\n",
       "}\n",
       ".hoogle-name {\n",
       "color: green;\n",
       "font-weight: bold;\n",
       "}\n",
       ".hoogle-head {\n",
       "font-weight: bold;\n",
       "}\n",
       ".hoogle-sub {\n",
       "display: block;\n",
       "margin-left: 0.4em;\n",
       "}\n",
       ".hoogle-package {\n",
       "font-weight: bold;\n",
       "font-style: italic;\n",
       "}\n",
       ".hoogle-module {\n",
       "font-weight: bold;\n",
       "}\n",
       ".hoogle-class {\n",
       "font-weight: bold;\n",
       "}\n",
       ".get-type {\n",
       "color: green;\n",
       "font-weight: bold;\n",
       "font-family: monospace;\n",
       "display: block;\n",
       "white-space: pre-wrap;\n",
       "}\n",
       ".show-type {\n",
       "color: green;\n",
       "font-weight: bold;\n",
       "font-family: monospace;\n",
       "margin-left: 1em;\n",
       "}\n",
       ".mono {\n",
       "font-family: monospace;\n",
       "display: block;\n",
       "}\n",
       ".err-msg {\n",
       "color: red;\n",
       "font-style: italic;\n",
       "font-family: monospace;\n",
       "white-space: pre;\n",
       "display: block;\n",
       "}\n",
       "#unshowable {\n",
       "color: red;\n",
       "font-weight: bold;\n",
       "}\n",
       ".err-msg.in.collapse {\n",
       "padding-top: 0.7em;\n",
       "}\n",
       ".highlight-code {\n",
       "white-space: pre;\n",
       "font-family: monospace;\n",
       "}\n",
       ".suggestion-warning { \n",
       "font-weight: bold;\n",
       "color: rgb(200, 130, 0);\n",
       "}\n",
       ".suggestion-error { \n",
       "font-weight: bold;\n",
       "color: red;\n",
       "}\n",
       ".suggestion-name {\n",
       "font-weight: bold;\n",
       "}\n",
       "</style><div class=\"suggestion-name\" style=\"clear:both;\">Redundant bracket</div><div class=\"suggestion-row\" style=\"float: left;\"><div class=\"suggestion-warning\">Found:</div><div class=\"highlight-code\" id=\"haskell\">(fromInteger a) / fromInteger b</div></div><div class=\"suggestion-row\" style=\"float: left;\"><div class=\"suggestion-warning\">Why Not:</div><div class=\"highlight-code\" id=\"haskell\">fromInteger a / fromInteger b</div></div><div class=\"suggestion-name\" style=\"clear:both;\">Redundant bracket</div><div class=\"suggestion-row\" style=\"float: left;\"><div class=\"suggestion-warning\">Found:</div><div class=\"highlight-code\" id=\"haskell\">(fromInteger a) / fromInteger b</div></div><div class=\"suggestion-row\" style=\"float: left;\"><div class=\"suggestion-warning\">Why Not:</div><div class=\"highlight-code\" id=\"haskell\">fromInteger a / fromInteger b</div></div>"
      ],
      "text/plain": [
       "Line 4: Redundant bracket\n",
       "Found:\n",
       "(fromInteger a) / fromInteger b\n",
       "Why not:\n",
       "fromInteger a / fromInteger bLine 5: Redundant bracket\n",
       "Found:\n",
       "(fromInteger a) / fromInteger b\n",
       "Why not:\n",
       "fromInteger a / fromInteger b"
      ]
     },
     "metadata": {},
     "output_type": "display_data"
    },
    {
     "data": {
      "text/plain": [
       "Rat (13,12)"
      ]
     },
     "metadata": {},
     "output_type": "display_data"
    },
    {
     "data": {
      "text/plain": [
       "RV 5.0833335"
      ]
     },
     "metadata": {},
     "output_type": "display_data"
    },
    {
     "data": {
      "text/plain": [
       "Rat (317,60)"
      ]
     },
     "metadata": {},
     "output_type": "display_data"
    },
    {
     "data": {
      "text/plain": [
       "0.30769232"
      ]
     },
     "metadata": {},
     "output_type": "display_data"
    },
    {
     "data": {
      "text/plain": [
       "2.2"
      ]
     },
     "metadata": {},
     "output_type": "display_data"
    }
   ],
   "source": [
    "data Value = Rat (Integer,Integer) | RV Float deriving Show\n",
    "\n",
    "add (Rat (a,b)) (Rat (c,d)) = Rat (a*d+b*c, b*d)\n",
    "add (Rat (a,b)) (RV f) = RV (f + (fromInteger a)/fromInteger b)\n",
    "add (RV f) (Rat (a,b)) = RV (f + (fromInteger a)/fromInteger b)\n",
    "add (RV g) (RV f) = RV (f + g)\n",
    "\n",
    "add (Rat(3,4)) (Rat(1,3))\n",
    "add (add (Rat(3,4)) (Rat(1,3)))  (RV 4)\n",
    "add (add (Rat(3,4)) (Rat(1,3))) (Rat (21,5))\n",
    "\n",
    "toReal val = case val of\n",
    "           RV v -> v\n",
    "           Rat (a,b) -> fromInteger a/fromInteger b\n",
    "toReal (Rat (4,13))\n",
    "toReal (RV 2.2)"
   ]
  },
  {
   "cell_type": "markdown",
   "metadata": {
    "slideshow": {
     "slide_type": "subslide"
    }
   },
   "source": [
    "Function definitions can be written in terms of `case .. of` expressions. Following two definitions are equivalent:\n",
    "\n",
    "```Haskell\n",
    "f pa pb = exp1\n",
    "f pc pd = exp2\n",
    "f pe pf = exp3\n",
    "\n",
    "-- vs\n",
    "\n",
    "f a b = case a,b of\n",
    "            pa,pb -> exp1\n",
    "            pc,pd -> exp2\n",
    "            pe,pf -> exp3\n",
    "\n",
    "```"
   ]
  },
  {
   "cell_type": "markdown",
   "metadata": {
    "slideshow": {
     "slide_type": "slide"
    }
   },
   "source": [
    "## Lists\n",
    "\n",
    "Haskell lists are defined as recursive data types with a list is either empty (`[]`) or composed by a value and list of following elements (`v : otherelements`). \n",
    "\n",
    "```Haskell\n",
    "empty = []\n",
    "five = 1 : 2 : 3 : 4 : 5 : []\n",
    "five' = 1 : (2 : (3 : (4 : (5 : []))))\n",
    "five'' = [1,2,3,4,5]\n",
    "```\n",
    "\n",
    "Haskell `String` values are actually list of `Char` values as:\n",
    "`\"abc\" == ['a','b','c']`\n",
    "\n",
    "all `five, five', five''` above are equivalent. Also mathematical ranges can be defined as:\n",
    "`[1..5]` which is equivalent to `[1,2,3,4,5]`. \n",
    "\n",
    "`[a..b]` = $[a, a+1, a+2,..., b-1, b]$\n",
    "\n",
    "`[a,b..c]` = $[a, a+d, a+2 d, ..., m]$ where $d=b-a$ and $m$ is the maximum value holding $m = a+n\\;d \\le c$"
   ]
  },
  {
   "cell_type": "code",
   "execution_count": 15,
   "metadata": {
    "ExecuteTime": {
     "end_time": "2023-04-17T09:07:43.266045Z",
     "start_time": "2023-04-17T09:07:42.809Z"
    },
    "slideshow": {
     "slide_type": "subslide"
    }
   },
   "outputs": [
    {
     "data": {
      "text/plain": [
       "[1,2,3,4,5,6,7,8,9,10,11,12,13,14,15,16,17,18,19,20,21,22,23,24,25,26,27,28,29,30]"
      ]
     },
     "metadata": {},
     "output_type": "display_data"
    },
    {
     "data": {
      "text/plain": [
       "[1,6,11,16,21,26,31,36,41,46]"
      ]
     },
     "metadata": {},
     "output_type": "display_data"
    },
    {
     "data": {
      "text/plain": [
       "[30,28,26,24,22,20,18,16,14,12,10,8,6,4]"
      ]
     },
     "metadata": {},
     "output_type": "display_data"
    }
   ],
   "source": [
    "[1..30]\n",
    "[1,6..50]\n",
    "[30,28..3]"
   ]
  },
  {
   "cell_type": "markdown",
   "metadata": {
    "slideshow": {
     "slide_type": "slide"
    }
   },
   "source": [
    "List comprehension works like a mathematical set definition as:\n",
    "\n",
    "`[exp | v <- list1 ]`  it maps each value `v` from `list1` into `exp` \n",
    "`[v*v | v <- [1,2,3,4,5]` gives `[1,4,9,16,25]`\n",
    "\n",
    "it can contain conditions as:\n",
    "\n",
    "`[v*v | v <- [1,2,3,4,5], mod v 2 == 0]` gives `[4,16]`\n",
    "\n",
    "values from multiple lists can be combined as cartesian product mappings:\n",
    "\n",
    "`[a*b | a <- [1,2,3], b <- [5,6]]` will give `[5,6,10,12,15,18]`\n",
    "\n"
   ]
  },
  {
   "cell_type": "code",
   "execution_count": 16,
   "metadata": {
    "ExecuteTime": {
     "end_time": "2023-04-17T09:07:44.332417Z",
     "start_time": "2023-04-17T09:07:43.859Z"
    },
    "slideshow": {
     "slide_type": "subslide"
    }
   },
   "outputs": [
    {
     "data": {
      "text/plain": [
       "[2,6,12,20,30,42,56,72,90,110,132,156,182,210,240,272,306,342,380,420]"
      ]
     },
     "metadata": {},
     "output_type": "display_data"
    },
    {
     "data": {
      "text/plain": [
       "[64,81,100,121,144,169,196,225,256,289,324,361,400,441,484,529,576,625,676,729,784,841,900]"
      ]
     },
     "metadata": {},
     "output_type": "display_data"
    },
    {
     "data": {
      "text/plain": [
       "[(1,'A'),(1,'B'),(1,'C'),(2,'A'),(2,'B'),(2,'C'),(3,'A'),(3,'B'),(3,'C'),(4,'A'),(4,'B'),(4,'C')]"
      ]
     },
     "metadata": {},
     "output_type": "display_data"
    }
   ],
   "source": [
    "[a*a+a | a <- [1..20]]\n",
    "[a*a | a <- [1..30], a*a > 50]\n",
    "[(a,b) | a<- [1..4], b <- \"ABC\"]"
   ]
  },
  {
   "cell_type": "markdown",
   "metadata": {
    "slideshow": {
     "slide_type": "slide"
    }
   },
   "source": [
    "Lists are recursive values and processing requires recursive functions. Haskell standard library provide many functions:\n",
    "```Haskell\n",
    "(!!) :: [a] -> Int -> a                          -- select nth member of \n",
    "(++) :: [a] -> [a] -> [a]                        -- concatenate two lists into new one\n",
    "concat :: Foldable t => t [a] -> [a]             -- concatenate many lists into new one\n",
    "drop :: Int -> [a] -> [a]                        -- drop first n element of list and return rest\n",
    "dropWhile :: (a -> Bool) -> [a] -> [a]           -- drop values with a condition and return rest\n",
    "filter :: (a -> Bool) -> [a] -> [a]              -- filter values and return rest\n",
    "length :: Foldable t => t a -> Int               -- count number of elements \n",
    "map :: (a -> b) -> [a] -> [b]                    -- map apply a function to all and return new list of results\n",
    "reverse :: [a] -> [a]                            -- reverse the list \n",
    "take :: Int -> [a] -> [a]                        -- take first n elements of a list into returned list\n",
    "takeWhile :: (a -> Bool) -> [a] -> [a]           -- fake first elemtements having condition true\n",
    "```\n",
    "\n",
    "Let us implement some of them:"
   ]
  },
  {
   "cell_type": "code",
   "execution_count": 17,
   "metadata": {
    "ExecuteTime": {
     "end_time": "2023-04-17T09:07:46.221166Z",
     "start_time": "2023-04-17T09:07:44.816Z"
    }
   },
   "outputs": [
    {
     "data": {
      "text/html": [
       "<style>/* Styles used for the Hoogle display in the pager */\n",
       ".hoogle-doc {\n",
       "display: block;\n",
       "padding-bottom: 1.3em;\n",
       "padding-left: 0.4em;\n",
       "}\n",
       ".hoogle-code {\n",
       "display: block;\n",
       "font-family: monospace;\n",
       "white-space: pre;\n",
       "}\n",
       ".hoogle-text {\n",
       "display: block;\n",
       "}\n",
       ".hoogle-name {\n",
       "color: green;\n",
       "font-weight: bold;\n",
       "}\n",
       ".hoogle-head {\n",
       "font-weight: bold;\n",
       "}\n",
       ".hoogle-sub {\n",
       "display: block;\n",
       "margin-left: 0.4em;\n",
       "}\n",
       ".hoogle-package {\n",
       "font-weight: bold;\n",
       "font-style: italic;\n",
       "}\n",
       ".hoogle-module {\n",
       "font-weight: bold;\n",
       "}\n",
       ".hoogle-class {\n",
       "font-weight: bold;\n",
       "}\n",
       ".get-type {\n",
       "color: green;\n",
       "font-weight: bold;\n",
       "font-family: monospace;\n",
       "display: block;\n",
       "white-space: pre-wrap;\n",
       "}\n",
       ".show-type {\n",
       "color: green;\n",
       "font-weight: bold;\n",
       "font-family: monospace;\n",
       "margin-left: 1em;\n",
       "}\n",
       ".mono {\n",
       "font-family: monospace;\n",
       "display: block;\n",
       "}\n",
       ".err-msg {\n",
       "color: red;\n",
       "font-style: italic;\n",
       "font-family: monospace;\n",
       "white-space: pre;\n",
       "display: block;\n",
       "}\n",
       "#unshowable {\n",
       "color: red;\n",
       "font-weight: bold;\n",
       "}\n",
       ".err-msg.in.collapse {\n",
       "padding-top: 0.7em;\n",
       "}\n",
       ".highlight-code {\n",
       "white-space: pre;\n",
       "font-family: monospace;\n",
       "}\n",
       ".suggestion-warning { \n",
       "font-weight: bold;\n",
       "color: rgb(200, 130, 0);\n",
       "}\n",
       ".suggestion-error { \n",
       "font-weight: bold;\n",
       "color: red;\n",
       "}\n",
       ".suggestion-name {\n",
       "font-weight: bold;\n",
       "}\n",
       "</style><div class=\"suggestion-name\" style=\"clear:both;\">Avoid lambda using `infix`</div><div class=\"suggestion-row\" style=\"float: left;\"><div class=\"suggestion-warning\">Found:</div><div class=\"highlight-code\" id=\"haskell\">(\\ x -> x < 7)</div></div><div class=\"suggestion-row\" style=\"float: left;\"><div class=\"suggestion-warning\">Why Not:</div><div class=\"highlight-code\" id=\"haskell\">(< 7)</div></div><div class=\"suggestion-name\" style=\"clear:both;\">Avoid lambda using `infix`</div><div class=\"suggestion-row\" style=\"float: left;\"><div class=\"suggestion-warning\">Found:</div><div class=\"highlight-code\" id=\"haskell\">(\\ x -> x < 7)</div></div><div class=\"suggestion-row\" style=\"float: left;\"><div class=\"suggestion-warning\">Why Not:</div><div class=\"highlight-code\" id=\"haskell\">(< 7)</div></div><div class=\"suggestion-name\" style=\"clear:both;\">Avoid lambda using `infix`</div><div class=\"suggestion-row\" style=\"float: left;\"><div class=\"suggestion-warning\">Found:</div><div class=\"highlight-code\" id=\"haskell\">(\\ x -> x < 7)</div></div><div class=\"suggestion-row\" style=\"float: left;\"><div class=\"suggestion-warning\">Why Not:</div><div class=\"highlight-code\" id=\"haskell\">(< 7)</div></div>"
      ],
      "text/plain": [
       "Line 6: Avoid lambda using `infix`\n",
       "Found:\n",
       "(\\ x -> x < 7)\n",
       "Why not:\n",
       "(< 7)Line 7: Avoid lambda using `infix`\n",
       "Found:\n",
       "(\\ x -> x < 7)\n",
       "Why not:\n",
       "(< 7)Line 11: Avoid lambda using `infix`\n",
       "Found:\n",
       "(\\ x -> x < 7)\n",
       "Why not:\n",
       "(< 7)"
      ]
     },
     "metadata": {},
     "output_type": "display_data"
    },
    {
     "data": {
      "text/plain": [
       "3"
      ]
     },
     "metadata": {},
     "output_type": "display_data"
    },
    {
     "data": {
      "text/plain": [
       "[1,2,3,4]"
      ]
     },
     "metadata": {},
     "output_type": "display_data"
    },
    {
     "data": {
      "text/plain": [
       "[1,2,3,4,5,6,3,4,5]"
      ]
     },
     "metadata": {},
     "output_type": "display_data"
    },
    {
     "data": {
      "text/plain": [
       "\"onurtolgasehitoglu\""
      ]
     },
     "metadata": {},
     "output_type": "display_data"
    },
    {
     "data": {
      "text/plain": [
       "[5,6,7,8,9,10]"
      ]
     },
     "metadata": {},
     "output_type": "display_data"
    },
    {
     "data": {
      "text/plain": [
       "[9,2,3,1]"
      ]
     },
     "metadata": {},
     "output_type": "display_data"
    },
    {
     "data": {
      "text/plain": [
       "[1,2,3,2,1]"
      ]
     },
     "metadata": {},
     "output_type": "display_data"
    },
    {
     "data": {
      "text/plain": [
       "[1,4,25,36,9,16,36]"
      ]
     },
     "metadata": {},
     "output_type": "display_data"
    },
    {
     "data": {
      "text/plain": [
       "\"ulgotihes aglot runo\""
      ]
     },
     "metadata": {},
     "output_type": "display_data"
    },
    {
     "data": {
      "text/plain": [
       "[1,2,3,4,5,6,7,8,9,10]"
      ]
     },
     "metadata": {},
     "output_type": "display_data"
    },
    {
     "data": {
      "text/plain": [
       "[1,2,3]"
      ]
     },
     "metadata": {},
     "output_type": "display_data"
    }
   ],
   "source": [
    "[1,2,3,4] !! 2\n",
    "[1,2] ++ [3,4]\n",
    "concat [[1,2,3],[4,5,6],[3,4,5]]\n",
    "concat [\"onur\",\"tolga\",\"sehitoglu\"]\n",
    "drop 4 [1..10]\n",
    "dropWhile (\\x -> x < 7) [1,2,3,9,2,3,1]\n",
    "filter (\\x -> x < 7) [1,2,3,9,2,13,1]\n",
    "map (\\x -> x*x) [1,2,5,6,3,4,6]\n",
    "reverse \"onur tolga sehitoglu\"\n",
    "take 10 [1..1000000000]\n",
    "takeWhile (\\x -> x < 7) [1,2,3,9,2,3,1]\n"
   ]
  },
  {
   "cell_type": "code",
   "execution_count": 18,
   "metadata": {
    "ExecuteTime": {
     "end_time": "2023-04-17T09:07:47.032266Z",
     "start_time": "2023-04-17T09:07:45.372Z"
    },
    "slideshow": {
     "slide_type": "subslide"
    }
   },
   "outputs": [
    {
     "data": {
      "text/html": [
       "<style>/* Styles used for the Hoogle display in the pager */\n",
       ".hoogle-doc {\n",
       "display: block;\n",
       "padding-bottom: 1.3em;\n",
       "padding-left: 0.4em;\n",
       "}\n",
       ".hoogle-code {\n",
       "display: block;\n",
       "font-family: monospace;\n",
       "white-space: pre;\n",
       "}\n",
       ".hoogle-text {\n",
       "display: block;\n",
       "}\n",
       ".hoogle-name {\n",
       "color: green;\n",
       "font-weight: bold;\n",
       "}\n",
       ".hoogle-head {\n",
       "font-weight: bold;\n",
       "}\n",
       ".hoogle-sub {\n",
       "display: block;\n",
       "margin-left: 0.4em;\n",
       "}\n",
       ".hoogle-package {\n",
       "font-weight: bold;\n",
       "font-style: italic;\n",
       "}\n",
       ".hoogle-module {\n",
       "font-weight: bold;\n",
       "}\n",
       ".hoogle-class {\n",
       "font-weight: bold;\n",
       "}\n",
       ".get-type {\n",
       "color: green;\n",
       "font-weight: bold;\n",
       "font-family: monospace;\n",
       "display: block;\n",
       "white-space: pre-wrap;\n",
       "}\n",
       ".show-type {\n",
       "color: green;\n",
       "font-weight: bold;\n",
       "font-family: monospace;\n",
       "margin-left: 1em;\n",
       "}\n",
       ".mono {\n",
       "font-family: monospace;\n",
       "display: block;\n",
       "}\n",
       ".err-msg {\n",
       "color: red;\n",
       "font-style: italic;\n",
       "font-family: monospace;\n",
       "white-space: pre;\n",
       "display: block;\n",
       "}\n",
       "#unshowable {\n",
       "color: red;\n",
       "font-weight: bold;\n",
       "}\n",
       ".err-msg.in.collapse {\n",
       "padding-top: 0.7em;\n",
       "}\n",
       ".highlight-code {\n",
       "white-space: pre;\n",
       "font-family: monospace;\n",
       "}\n",
       ".suggestion-warning { \n",
       "font-weight: bold;\n",
       "color: rgb(200, 130, 0);\n",
       "}\n",
       ".suggestion-error { \n",
       "font-weight: bold;\n",
       "color: red;\n",
       "}\n",
       ".suggestion-name {\n",
       "font-weight: bold;\n",
       "}\n",
       "</style><div class=\"suggestion-name\" style=\"clear:both;\">Use foldr</div><div class=\"suggestion-row\" style=\"float: left;\"><div class=\"suggestion-warning\">Found:</div><div class=\"highlight-code\" id=\"haskell\">plusplus [] second = second\n",
       "plusplus (a : r) second = a : plusplus r second</div></div><div class=\"suggestion-row\" style=\"float: left;\"><div class=\"suggestion-warning\">Why Not:</div><div class=\"highlight-code\" id=\"haskell\">plusplus r second = foldr (:) second r</div></div>"
      ],
      "text/plain": [
       "Line 4: Use foldr\n",
       "Found:\n",
       "plusplus [] second = second\n",
       "plusplus (a : r) second = a : plusplus r second\n",
       "Why not:\n",
       "plusplus r second = foldr (:) second r"
      ]
     },
     "metadata": {},
     "output_type": "display_data"
    },
    {
     "data": {
      "text/plain": [
       "6"
      ]
     },
     "metadata": {},
     "output_type": "display_data"
    },
    {
     "data": {
      "text/plain": [
       "[1.0,3.4,4.2,1.2,2.3,3.1,4.1]"
      ]
     },
     "metadata": {},
     "output_type": "display_data"
    },
    {
     "data": {
      "text/plain": [
       "\"o world\""
      ]
     },
     "metadata": {},
     "output_type": "display_data"
    },
    {
     "data": {
      "text/plain": [
       "\"hell\""
      ]
     },
     "metadata": {},
     "output_type": "display_data"
    },
    {
     "data": {
      "text/plain": [
       "5"
      ]
     },
     "metadata": {},
     "output_type": "display_data"
    },
    {
     "data": {
      "text/plain": [
       "[67]"
      ]
     },
     "metadata": {},
     "output_type": "display_data"
    }
   ],
   "source": [
    "newlength [] = 0                    -- length of empty list is 0\n",
    "newlength (_:r) = 1 + newlength r   -- length of rest + 1\n",
    "\n",
    "plusplus [] second = second         -- concatenate empty list with a second list is the second\n",
    "plusplus (a:r) second = a : plusplus r second       -- concatenate rest with second and insert value \n",
    "\n",
    "newdrop _ [] = []                   -- drop anything from empty list is empty list\n",
    "newdrop n (v:rest) | n <= 0    = v : rest   -- drop 0 or less element from list is the list itself\n",
    "                   | otherwise = newdrop (n-1) rest       -- drop one less from the rest\n",
    "\n",
    "newtake _ [] = []                      -- take anything from empty list is empty list\n",
    "newtake n (v:rest) | n <= 0    = []    -- no other values required to take\n",
    "                | otherwise = v : newtake (n-1) rest    -- take one less from rest, insert to the beginning\n",
    "\n",
    "exex [] _ = error \"No more value left\"            -- raise an error, trying to get a non-existing value\n",
    "exex (v:rest) n | n == 0    = v                   -- reached the desired value, return the first\n",
    "                | otherwise = exex rest (n-1)     -- value is in remainder list, ask with one less\n",
    "                \n",
    "newfilter _ [] = []\n",
    "newfilter func (v:rest) | func v    = v : newfilter func rest\n",
    "                        | otherwise = newfilter func rest\n",
    "\n",
    "newlength [4,6,7,3,4,5]\n",
    "plusplus [1.0, 3.4, 4.2] [1.2,2.3,3.1,4.1]\n",
    "newdrop 4 \"hello world\"\n",
    "newtake 4 \"hello world\"\n",
    "exex [7,5,4,5,67,6] 3\n",
    "newfilter  (> 10) [7,5,4,5,67,6]"
   ]
  },
  {
   "cell_type": "markdown",
   "metadata": {
    "slideshow": {
     "slide_type": "subslide"
    }
   },
   "source": [
    "More examples. Find the position of an element in a list. Return -1 if not found.\n",
    "\n",
    "The empty list case is simply evaluates to -1, not found. Otherwise the element is compared against the head of the list and decided on returning new position or continue searching in the rest"
   ]
  },
  {
   "cell_type": "code",
   "execution_count": 19,
   "metadata": {
    "ExecuteTime": {
     "end_time": "2023-04-17T09:07:47.040161Z",
     "start_time": "2023-04-17T09:07:46.440Z"
    },
    "slideshow": {
     "slide_type": "fragment"
    }
   },
   "outputs": [
    {
     "ename": "",
     "evalue": "",
     "output_type": "error",
     "traceback": [
      "<interactive>:4:18: error:\n    Unexpected let expression in function application:\n        let inrest = index k rest in if inrest == - 1 then - 1 else 1 + inrest\n    You could write it with parentheses\n    Or perhaps you meant to enable BlockArguments?"
     ]
    }
   ],
   "source": [
    "index _ [] = -1\n",
    "index k (v:rest) | k == v    = 0\n",
    "                 | otherwise = index k rest + 1\n",
    "                 let inrest = index k rest\n",
    "                               in if inrest == -1 then -1            -- propagate the error\n",
    "                                  else 1 + inrest                    -- one plus position in the rest\n",
    "\n",
    ":t index\n",
    "index 'c' \"Programming Language Concepts\"\n",
    "index 'z' \"Programming Language Concepts\""
   ]
  },
  {
   "cell_type": "markdown",
   "metadata": {
    "slideshow": {
     "slide_type": "subslide"
    }
   },
   "source": [
    "Another option is to carry error information on a special data type. Haskell `Maybe a` can be used for that purpose.\n",
    "```Haskell\n",
    "-- either an a valued type or nothing\n",
    "data Maybe a = Just a | Nothing     -- Nothing is the error case, Just a is the success\n",
    "\n",
    "```\n",
    "Data constructors cannot be compared but `case` expression can match them. Case matches the data constructors (see next section) and returns the corresponding expression. Match can contain variables as in function definition."
   ]
  },
  {
   "cell_type": "code",
   "execution_count": 20,
   "metadata": {
    "ExecuteTime": {
     "end_time": "2023-04-17T09:07:47.817786Z",
     "start_time": "2023-04-17T09:07:47.473Z"
    },
    "slideshow": {
     "slide_type": "fragment"
    }
   },
   "outputs": [
    {
     "data": {
      "text/html": [
       "<style>/* Styles used for the Hoogle display in the pager */\n",
       ".hoogle-doc {\n",
       "display: block;\n",
       "padding-bottom: 1.3em;\n",
       "padding-left: 0.4em;\n",
       "}\n",
       ".hoogle-code {\n",
       "display: block;\n",
       "font-family: monospace;\n",
       "white-space: pre;\n",
       "}\n",
       ".hoogle-text {\n",
       "display: block;\n",
       "}\n",
       ".hoogle-name {\n",
       "color: green;\n",
       "font-weight: bold;\n",
       "}\n",
       ".hoogle-head {\n",
       "font-weight: bold;\n",
       "}\n",
       ".hoogle-sub {\n",
       "display: block;\n",
       "margin-left: 0.4em;\n",
       "}\n",
       ".hoogle-package {\n",
       "font-weight: bold;\n",
       "font-style: italic;\n",
       "}\n",
       ".hoogle-module {\n",
       "font-weight: bold;\n",
       "}\n",
       ".hoogle-class {\n",
       "font-weight: bold;\n",
       "}\n",
       ".get-type {\n",
       "color: green;\n",
       "font-weight: bold;\n",
       "font-family: monospace;\n",
       "display: block;\n",
       "white-space: pre-wrap;\n",
       "}\n",
       ".show-type {\n",
       "color: green;\n",
       "font-weight: bold;\n",
       "font-family: monospace;\n",
       "margin-left: 1em;\n",
       "}\n",
       ".mono {\n",
       "font-family: monospace;\n",
       "display: block;\n",
       "}\n",
       ".err-msg {\n",
       "color: red;\n",
       "font-style: italic;\n",
       "font-family: monospace;\n",
       "white-space: pre;\n",
       "display: block;\n",
       "}\n",
       "#unshowable {\n",
       "color: red;\n",
       "font-weight: bold;\n",
       "}\n",
       ".err-msg.in.collapse {\n",
       "padding-top: 0.7em;\n",
       "}\n",
       ".highlight-code {\n",
       "white-space: pre;\n",
       "font-family: monospace;\n",
       "}\n",
       ".suggestion-warning { \n",
       "font-weight: bold;\n",
       "color: rgb(200, 130, 0);\n",
       "}\n",
       ".suggestion-error { \n",
       "font-weight: bold;\n",
       "color: red;\n",
       "}\n",
       ".suggestion-name {\n",
       "font-weight: bold;\n",
       "}\n",
       "</style><span class='get-type'>index' :: forall {t} {a}. (Eq t, Num a) => t -> [t] -> Maybe a</span>"
      ],
      "text/plain": [
       "index' :: forall {t} {a}. (Eq t, Num a) => t -> [t] -> Maybe a"
      ]
     },
     "metadata": {},
     "output_type": "display_data"
    },
    {
     "data": {
      "text/plain": [
       "Just 24"
      ]
     },
     "metadata": {},
     "output_type": "display_data"
    },
    {
     "data": {
      "text/plain": [
       "Nothing"
      ]
     },
     "metadata": {},
     "output_type": "display_data"
    }
   ],
   "source": [
    "index' _ [] = Nothing\n",
    "index' k (v:rest) | k == v  = Just 0\n",
    "                  | otherwise   =  case index' k rest of\n",
    "                                    Nothing -> Nothing\n",
    "                                    Just inrest -> Just (1 + inrest)\n",
    ":t index'\n",
    "index' 'c' \"Programming Language Concepts\"\n",
    "index' 'z' \"Programming Language Concepts\""
   ]
  },
  {
   "cell_type": "markdown",
   "metadata": {
    "slideshow": {
     "slide_type": "slide"
    }
   },
   "source": [
    "Reverse definition. You can define reverse simply as:"
   ]
  },
  {
   "cell_type": "code",
   "execution_count": 21,
   "metadata": {
    "ExecuteTime": {
     "end_time": "2023-04-17T09:07:59.954902Z",
     "start_time": "2023-04-17T09:07:48.350Z"
    },
    "slideshow": {
     "slide_type": "subslide"
    }
   },
   "outputs": [
    {
     "data": {
      "text/plain": [
       "1"
      ]
     },
     "metadata": {},
     "output_type": "display_data"
    }
   ],
   "source": [
    "newreverse [] = []\n",
    "newreverse (a : rest) = newreverse rest ++ [a]\n",
    "newreverse [1..30000] !! 29999"
   ]
  },
  {
   "cell_type": "markdown",
   "metadata": {
    "ExecuteTime": {
     "end_time": "2018-02-20T17:43:12.932581",
     "start_time": "2018-02-20T14:43:12.594Z"
    },
    "slideshow": {
     "slide_type": "subslide"
    }
   },
   "source": [
    "This implementation has an efficiency problem. Each recursive steps makes a concatenation at the end which require the traversal of the whole list. It adds a value at n, n-1, n-2, n-3, ..., 2, 1 length lists resulting an inefficient calculation. However inserting a value at the beginning is much more cheaper.\n",
    "\n",
    "Solution is to start from empty list and insert each elements one by one to the head of the list. inserting 1, 2, 3 in the empty list in this order will give 3, 2, 1. So we need an **accumulator list** to calculate the reverse.  Let us write it again."
   ]
  },
  {
   "cell_type": "code",
   "execution_count": 1,
   "metadata": {
    "ExecuteTime": {
     "end_time": "2023-04-17T09:08:00.190091Z",
     "start_time": "2023-04-17T09:07:49.297Z"
    },
    "scrolled": true,
    "slideshow": {
     "slide_type": "fragment"
    }
   },
   "outputs": [
    {
     "data": {
      "text/html": [
       "<style>/* Styles used for the Hoogle display in the pager */\n",
       ".hoogle-doc {\n",
       "display: block;\n",
       "padding-bottom: 1.3em;\n",
       "padding-left: 0.4em;\n",
       "}\n",
       ".hoogle-code {\n",
       "display: block;\n",
       "font-family: monospace;\n",
       "white-space: pre;\n",
       "}\n",
       ".hoogle-text {\n",
       "display: block;\n",
       "}\n",
       ".hoogle-name {\n",
       "color: green;\n",
       "font-weight: bold;\n",
       "}\n",
       ".hoogle-head {\n",
       "font-weight: bold;\n",
       "}\n",
       ".hoogle-sub {\n",
       "display: block;\n",
       "margin-left: 0.4em;\n",
       "}\n",
       ".hoogle-package {\n",
       "font-weight: bold;\n",
       "font-style: italic;\n",
       "}\n",
       ".hoogle-module {\n",
       "font-weight: bold;\n",
       "}\n",
       ".hoogle-class {\n",
       "font-weight: bold;\n",
       "}\n",
       "\n",
       ".get-type {\n",
       "color: green;\n",
       "font-weight: bold;\n",
       "font-family: monospace;\n",
       "display: block;\n",
       "white-space: pre-wrap;\n",
       "}\n",
       ".show-type {\n",
       "color: green;\n",
       "font-weight: bold;\n",
       "font-family: monospace;\n",
       "margin-left: 1em;\n",
       "}\n",
       ".mono {\n",
       "font-family: monospace;\n",
       "display: block;\n",
       "}\n",
       ".err-msg {\n",
       "color: red;\n",
       "font-style: italic;\n",
       "font-family: monospace;\n",
       "white-space: pre;\n",
       "display: block;\n",
       "}\n",
       "#unshowable {\n",
       "color: red;\n",
       "font-weight: bold;\n",
       "}\n",
       ".err-msg.in.collapse {\n",
       "padding-top: 0.7em;\n",
       "}\n",
       "\n",
       ".highlight-code {\n",
       "white-space: pre;\n",
       "font-family: monospace;\n",
       "}\n",
       "\n",
       ".suggestion-warning { \n",
       "font-weight: bold;\n",
       "color: rgb(200, 130, 0);\n",
       "}\n",
       ".suggestion-error { \n",
       "font-weight: bold;\n",
       "color: red;\n",
       "}\n",
       ".suggestion-name {\n",
       "font-weight: bold;\n",
       "}\n",
       "\n",
       "</style><div class=\"suggestion-name\" style=\"clear:both;\">Use foldl</div><div class=\"suggestion-row\" style=\"float: left;\"><div class=\"suggestion-warning\">Found:</div><div class=\"highlight-code\" id=\"haskell\">reverse2' [] second = second\n",
       "reverse2' (v : rest) second = reverse2' rest (v : second)</div></div><div class=\"suggestion-row\" style=\"float: left;\"><div class=\"suggestion-warning\">Why Not:</div><div class=\"highlight-code\" id=\"haskell\">reverse2' rest second = foldl (flip (:)) second rest</div></div>"
      ],
      "text/plain": [
       "Line 1: Use foldl\n",
       "Found:\n",
       "reverse2' [] second = second\n",
       "reverse2' (v : rest) second = reverse2' rest (v : second)\n",
       "Why not:\n",
       "reverse2' rest second = foldl (flip (:)) second rest"
      ]
     },
     "metadata": {},
     "output_type": "display_data"
    },
    {
     "data": {
      "text/plain": [
       "1"
      ]
     },
     "metadata": {},
     "output_type": "display_data"
    }
   ],
   "source": [
    "reverse2' [] second = second                            -- insert empty list into second list is the second\n",
    "reverse2' (v:rest) second = reverse2' rest (v:second)   -- insert into second and call recursively\n",
    "\n",
    "reverse2 lst = reverse2' lst []                         -- reverse using an empty accumulator\n",
    "\n",
    "reverse2 [1..30000] !! 29999"
   ]
  },
  {
   "cell_type": "markdown",
   "metadata": {
    "slideshow": {
     "slide_type": "slide"
    }
   },
   "source": [
    "Substring search. Search for a substring within a string. To write this, let us simplify the problem. If a string starts with the second one, it is a substring of the first. Write this function use it as the minimum case. Then we can check and recursively scan the rest.\n",
    "\n",
    "**new syntax:** `v@(subpatern)` matches `v` along with pattern enclosed in parenthesis. So you do not need to repeat the `(subpatern)` in the function body."
   ]
  },
  {
   "cell_type": "code",
   "execution_count": 2,
   "metadata": {
    "ExecuteTime": {
     "end_time": "2023-03-27T09:49:18.659481Z",
     "start_time": "2023-03-27T09:49:15.304Z"
    },
    "slideshow": {
     "slide_type": "fragment"
    }
   },
   "outputs": [],
   "source": [
    "isprefix [] _ = True     -- empty list is prefix of anything\n",
    "isprefix _ [] = False    -- if above does not match, first list is not empty, empty list has no non-empty prefix\n",
    "isprefix (a:ra) (b:rb) | a == b = isprefix ra rb\n",
    "                       | otherwise = False\n",
    "                       \n",
    "substr [] [] = Just 0\n",
    "substr _ [] = Nothing\n",
    "substr sub sec@(a:rest) | isprefix sub sec = Just 0\n",
    "                        | otherwise  = case substr sub rest of\n",
    "                                        Nothing -> Nothing\n",
    "                                        Just n -> Just (1 + n)\n",
    "                                        "
   ]
  },
  {
   "cell_type": "code",
   "execution_count": 3,
   "metadata": {
    "ExecuteTime": {
     "end_time": "2023-03-27T09:54:18.394210Z",
     "start_time": "2023-03-27T09:54:14.625Z"
    },
    "slideshow": {
     "slide_type": "subslide"
    }
   },
   "outputs": [
    {
     "data": {
      "text/plain": [
       "Just 6"
      ]
     },
     "metadata": {},
     "output_type": "display_data"
    },
    {
     "data": {
      "text/plain": [
       "Just 2"
      ]
     },
     "metadata": {},
     "output_type": "display_data"
    },
    {
     "data": {
      "text/plain": [
       "Just 3"
      ]
     },
     "metadata": {},
     "output_type": "display_data"
    },
    {
     "data": {
      "text/plain": [
       "Nothing"
      ]
     },
     "metadata": {},
     "output_type": "display_data"
    }
   ],
   "source": [
    "substr \"dabra\" \"abracadabra\" \n",
    "substr \"rac\" \"abracadabra\"\n",
    "substr [4,5] [1..20]\n",
    "substr \"abo\" \"abracadabra\""
   ]
  },
  {
   "cell_type": "markdown",
   "metadata": {
    "slideshow": {
     "slide_type": "slide"
    }
   },
   "source": [
    "## Permutation and Powerset\n",
    "\n",
    "Given list (instead of set), powerset of it should return a list of lists. In order to find all such values, we need to make a recursive definition. If we take `v` out of a list and construct a powerset on remainder list, all members of this list will be natural member of powerset too. In addition, powerset will contain a version with all members also have `v` added:\n",
    "\n",
    "$P(\\{v\\} \\cup R) \\; = \\; P(R) \\; \\cup \\; \\left\\{ \\{v\\} \\cup M \\mid M \\in P(R) \\right\\}$\n"
   ]
  },
  {
   "cell_type": "code",
   "execution_count": 13,
   "metadata": {
    "ExecuteTime": {
     "end_time": "2023-03-27T10:02:53.345237Z",
     "start_time": "2023-03-27T10:02:49.922Z"
    },
    "slideshow": {
     "slide_type": "fragment"
    }
   },
   "outputs": [
    {
     "data": {
      "text/html": [
       "<style>/* Styles used for the Hoogle display in the pager */\n",
       ".hoogle-doc {\n",
       "display: block;\n",
       "padding-bottom: 1.3em;\n",
       "padding-left: 0.4em;\n",
       "}\n",
       ".hoogle-code {\n",
       "display: block;\n",
       "font-family: monospace;\n",
       "white-space: pre;\n",
       "}\n",
       ".hoogle-text {\n",
       "display: block;\n",
       "}\n",
       ".hoogle-name {\n",
       "color: green;\n",
       "font-weight: bold;\n",
       "}\n",
       ".hoogle-head {\n",
       "font-weight: bold;\n",
       "}\n",
       ".hoogle-sub {\n",
       "display: block;\n",
       "margin-left: 0.4em;\n",
       "}\n",
       ".hoogle-package {\n",
       "font-weight: bold;\n",
       "font-style: italic;\n",
       "}\n",
       ".hoogle-module {\n",
       "font-weight: bold;\n",
       "}\n",
       ".hoogle-class {\n",
       "font-weight: bold;\n",
       "}\n",
       ".get-type {\n",
       "color: green;\n",
       "font-weight: bold;\n",
       "font-family: monospace;\n",
       "display: block;\n",
       "white-space: pre-wrap;\n",
       "}\n",
       ".show-type {\n",
       "color: green;\n",
       "font-weight: bold;\n",
       "font-family: monospace;\n",
       "margin-left: 1em;\n",
       "}\n",
       ".mono {\n",
       "font-family: monospace;\n",
       "display: block;\n",
       "}\n",
       ".err-msg {\n",
       "color: red;\n",
       "font-style: italic;\n",
       "font-family: monospace;\n",
       "white-space: pre;\n",
       "display: block;\n",
       "}\n",
       "#unshowable {\n",
       "color: red;\n",
       "font-weight: bold;\n",
       "}\n",
       ".err-msg.in.collapse {\n",
       "padding-top: 0.7em;\n",
       "}\n",
       ".highlight-code {\n",
       "white-space: pre;\n",
       "font-family: monospace;\n",
       "}\n",
       ".suggestion-warning { \n",
       "font-weight: bold;\n",
       "color: rgb(200, 130, 0);\n",
       "}\n",
       ".suggestion-error { \n",
       "font-weight: bold;\n",
       "color: red;\n",
       "}\n",
       ".suggestion-name {\n",
       "font-weight: bold;\n",
       "}\n",
       "</style><span class='get-type'>pset :: forall {t}. [t] -> [[t]]</span>"
      ],
      "text/plain": [
       "pset :: forall {t}. [t] -> [[t]]"
      ]
     },
     "metadata": {},
     "output_type": "display_data"
    },
    {
     "data": {
      "text/plain": [
       "[[],[4],[3],[3,4],[2],[2,4],[2,3],[2,3,4],[1],[1,4],[1,3],[1,3,4],[1,2],[1,2,4],[1,2,3],[1,2,3,4]]"
      ]
     },
     "metadata": {},
     "output_type": "display_data"
    }
   ],
   "source": [
    "pset [] = [[]]\n",
    "pset (v:rest) = let nset = pset rest\n",
    "                    iall _ [] = []\n",
    "                    iall a (m:r) = (v:m) : iall a r\n",
    "                in nset ++ iall v nset\n",
    "                 \n",
    ":t pset\n",
    "\n",
    "pset [1,2,3,4]\n",
    "\n",
    "-- or same function shorter using list comprehension\n",
    "\n",
    "pset2 [] = [[]]\n",
    "pset2 (v:rest) = let nset = pset2 rest\n",
    "                 in nset ++ [ v : m | m <- nset]\n",
    "                "
   ]
  },
  {
   "cell_type": "code",
   "execution_count": 19,
   "metadata": {
    "ExecuteTime": {
     "end_time": "2023-03-27T10:04:18.200904Z",
     "start_time": "2023-03-27T10:04:14.789Z"
    }
   },
   "outputs": [
    {
     "data": {
      "text/plain": [
       "[\"\",\"f\",\"e\",\"ef\",\"d\",\"df\",\"de\",\"def\",\"c\",\"cf\",\"ce\",\"cef\",\"cd\",\"cdf\",\"cde\",\"cdef\",\"b\",\"bf\",\"be\",\"bef\",\"bd\",\"bdf\",\"bde\",\"bdef\",\"bc\",\"bcf\",\"bce\",\"bcef\",\"bcd\",\"bcdf\",\"bcde\",\"bcdef\",\"a\",\"af\",\"ae\",\"aef\",\"ad\",\"adf\",\"ade\",\"adef\",\"ac\",\"acf\",\"ace\",\"acef\",\"acd\",\"acdf\",\"acde\",\"acdef\",\"ab\",\"abf\",\"abe\",\"abef\",\"abd\",\"abdf\",\"abde\",\"abdef\",\"abc\",\"abcf\",\"abce\",\"abcef\",\"abcd\",\"abcdf\",\"abcde\",\"abcdef\"]"
      ]
     },
     "metadata": {},
     "output_type": "display_data"
    }
   ],
   "source": [
    "pset2 \"abcdef\""
   ]
  },
  {
   "cell_type": "markdown",
   "metadata": {
    "slideshow": {
     "slide_type": "subslide"
    }
   },
   "source": [
    "Producing all permutation of a list will be similar. We will find the permutation of the smaller. Then the missing value should be inserted all possible locations of each of the smaller permutations."
   ]
  },
  {
   "cell_type": "code",
   "execution_count": 22,
   "metadata": {
    "ExecuteTime": {
     "end_time": "2023-03-27T10:12:53.441841Z",
     "start_time": "2023-03-27T10:12:49.923Z"
    },
    "slideshow": {
     "slide_type": "subslide"
    }
   },
   "outputs": [
    {
     "data": {
      "text/html": [
       "<style>/* Styles used for the Hoogle display in the pager */\n",
       ".hoogle-doc {\n",
       "display: block;\n",
       "padding-bottom: 1.3em;\n",
       "padding-left: 0.4em;\n",
       "}\n",
       ".hoogle-code {\n",
       "display: block;\n",
       "font-family: monospace;\n",
       "white-space: pre;\n",
       "}\n",
       ".hoogle-text {\n",
       "display: block;\n",
       "}\n",
       ".hoogle-name {\n",
       "color: green;\n",
       "font-weight: bold;\n",
       "}\n",
       ".hoogle-head {\n",
       "font-weight: bold;\n",
       "}\n",
       ".hoogle-sub {\n",
       "display: block;\n",
       "margin-left: 0.4em;\n",
       "}\n",
       ".hoogle-package {\n",
       "font-weight: bold;\n",
       "font-style: italic;\n",
       "}\n",
       ".hoogle-module {\n",
       "font-weight: bold;\n",
       "}\n",
       ".hoogle-class {\n",
       "font-weight: bold;\n",
       "}\n",
       ".get-type {\n",
       "color: green;\n",
       "font-weight: bold;\n",
       "font-family: monospace;\n",
       "display: block;\n",
       "white-space: pre-wrap;\n",
       "}\n",
       ".show-type {\n",
       "color: green;\n",
       "font-weight: bold;\n",
       "font-family: monospace;\n",
       "margin-left: 1em;\n",
       "}\n",
       ".mono {\n",
       "font-family: monospace;\n",
       "display: block;\n",
       "}\n",
       ".err-msg {\n",
       "color: red;\n",
       "font-style: italic;\n",
       "font-family: monospace;\n",
       "white-space: pre;\n",
       "display: block;\n",
       "}\n",
       "#unshowable {\n",
       "color: red;\n",
       "font-weight: bold;\n",
       "}\n",
       ".err-msg.in.collapse {\n",
       "padding-top: 0.7em;\n",
       "}\n",
       ".highlight-code {\n",
       "white-space: pre;\n",
       "font-family: monospace;\n",
       "}\n",
       ".suggestion-warning { \n",
       "font-weight: bold;\n",
       "color: rgb(200, 130, 0);\n",
       "}\n",
       ".suggestion-error { \n",
       "font-weight: bold;\n",
       "color: red;\n",
       "}\n",
       ".suggestion-name {\n",
       "font-weight: bold;\n",
       "}\n",
       "</style><span class='get-type'>insertall :: forall {a}. a -> [a] -> [[a]]</span>"
      ],
      "text/plain": [
       "insertall :: forall {a}. a -> [a] -> [[a]]"
      ]
     },
     "metadata": {},
     "output_type": "display_data"
    },
    {
     "data": {
      "text/plain": [
       "[\"Abcdef\",\"bAcdef\",\"bcAdef\",\"bcdAef\",\"bcdeAf\",\"bcdefA\"]"
      ]
     },
     "metadata": {},
     "output_type": "display_data"
    },
    {
     "data": {
      "text/html": [
       "<style>/* Styles used for the Hoogle display in the pager */\n",
       ".hoogle-doc {\n",
       "display: block;\n",
       "padding-bottom: 1.3em;\n",
       "padding-left: 0.4em;\n",
       "}\n",
       ".hoogle-code {\n",
       "display: block;\n",
       "font-family: monospace;\n",
       "white-space: pre;\n",
       "}\n",
       ".hoogle-text {\n",
       "display: block;\n",
       "}\n",
       ".hoogle-name {\n",
       "color: green;\n",
       "font-weight: bold;\n",
       "}\n",
       ".hoogle-head {\n",
       "font-weight: bold;\n",
       "}\n",
       ".hoogle-sub {\n",
       "display: block;\n",
       "margin-left: 0.4em;\n",
       "}\n",
       ".hoogle-package {\n",
       "font-weight: bold;\n",
       "font-style: italic;\n",
       "}\n",
       ".hoogle-module {\n",
       "font-weight: bold;\n",
       "}\n",
       ".hoogle-class {\n",
       "font-weight: bold;\n",
       "}\n",
       ".get-type {\n",
       "color: green;\n",
       "font-weight: bold;\n",
       "font-family: monospace;\n",
       "display: block;\n",
       "white-space: pre-wrap;\n",
       "}\n",
       ".show-type {\n",
       "color: green;\n",
       "font-weight: bold;\n",
       "font-family: monospace;\n",
       "margin-left: 1em;\n",
       "}\n",
       ".mono {\n",
       "font-family: monospace;\n",
       "display: block;\n",
       "}\n",
       ".err-msg {\n",
       "color: red;\n",
       "font-style: italic;\n",
       "font-family: monospace;\n",
       "white-space: pre;\n",
       "display: block;\n",
       "}\n",
       "#unshowable {\n",
       "color: red;\n",
       "font-weight: bold;\n",
       "}\n",
       ".err-msg.in.collapse {\n",
       "padding-top: 0.7em;\n",
       "}\n",
       ".highlight-code {\n",
       "white-space: pre;\n",
       "font-family: monospace;\n",
       "}\n",
       ".suggestion-warning { \n",
       "font-weight: bold;\n",
       "color: rgb(200, 130, 0);\n",
       "}\n",
       ".suggestion-error { \n",
       "font-weight: bold;\n",
       "color: red;\n",
       "}\n",
       ".suggestion-name {\n",
       "font-weight: bold;\n",
       "}\n",
       "</style><span class='get-type'>perm :: forall {a}. [a] -> [[a]]</span>"
      ],
      "text/plain": [
       "perm :: forall {a}. [a] -> [[a]]"
      ]
     },
     "metadata": {},
     "output_type": "display_data"
    },
    {
     "data": {
      "text/plain": [
       "[[1,2,3,4],[2,1,3,4],[2,3,1,4],[2,3,4,1],[1,3,2,4],[3,1,2,4],[3,2,1,4],[3,2,4,1],[1,3,4,2],[3,1,4,2],[3,4,1,2],[3,4,2,1],[1,2,4,3],[2,1,4,3],[2,4,1,3],[2,4,3,1],[1,4,2,3],[4,1,2,3],[4,2,1,3],[4,2,3,1],[1,4,3,2],[4,1,3,2],[4,3,1,2],[4,3,2,1]]"
      ]
     },
     "metadata": {},
     "output_type": "display_data"
    }
   ],
   "source": [
    "insertall v [] = [[v]]\n",
    "insertall v (a:rest) = let restinst = insertall v rest       -- take a out, insert v  (list of lists)\n",
    "                           insertbeg = v:a:rest              -- v inserted to the beginning (list)\n",
    "                           witha = [a:m | m <- restinst]     -- insert a back to all of restinst (list of lists)\n",
    "                       in insertbeg : witha \n",
    ":t insertall\n",
    "insertall 'A' \"bcdef\"\n",
    "\n",
    "perm [] = [[]]    -- only one member, empty permutation\n",
    "perm (v:rest) = let restperm = perm rest          -- permutation of list without v (list of lists)\n",
    "                --    expandall [] = []             -- need to put v back in all positions\n",
    "                --    expandall (oneperm:others) = insertall v oneperm ++ expandall others\n",
    "                -- in expandall restperm\n",
    "                in concat [ insertall v p | p <- restperm ]\n",
    "                \n",
    ":t perm\n",
    "\n",
    "perm [1,2,3,4]\n"
   ]
  },
  {
   "cell_type": "markdown",
   "metadata": {
    "slideshow": {
     "slide_type": "slide"
    }
   },
   "source": [
    "## Trees\n",
    "\n",
    "Trees can be defined in Haskell with data definitions with disjoint union like:\n",
    "\n",
    "`data Tree a = ETree | Node a (Tree a) (Tree a)`\n",
    "\n",
    "or\n",
    "\n",
    "`data Tree a = Leaf a | Node a (Tree a) (Tree a)`\n",
    "\n",
    "The second version does not allow empty leaves (i.e. left empty, right has a value). You can add it:\n",
    "\n",
    "`data Tree a = ETree | Leaf a | Node a (Tree a) (Tree a)`\n",
    "\n",
    "In this version, `Leaf v` and `Node v ETree ETree` will be semantically equivalent, you need to repeat the pattern in your functions. So third one is not a good choice.\n",
    "\n",
    "trees of different kinds can be defined as required. For example an **n-ary** tree can be defined with combination of trees and lists as:\n",
    "\n",
    "`data NTree a = Node a [NTree a]`\n",
    "\n",
    "Tree algorithms needs to be mathematically defined as the other functions. Let us make a **binary search tree** insertion example."
   ]
  },
  {
   "cell_type": "code",
   "execution_count": 1,
   "metadata": {
    "ExecuteTime": {
     "end_time": "2023-03-30T10:46:04.425388Z",
     "start_time": "2023-03-30T10:46:02.071Z"
    },
    "scrolled": true,
    "slideshow": {
     "slide_type": "subslide"
    }
   },
   "outputs": [
    {
     "data": {
      "text/html": [
       "<style>/* Styles used for the Hoogle display in the pager */\n",
       ".hoogle-doc {\n",
       "display: block;\n",
       "padding-bottom: 1.3em;\n",
       "padding-left: 0.4em;\n",
       "}\n",
       ".hoogle-code {\n",
       "display: block;\n",
       "font-family: monospace;\n",
       "white-space: pre;\n",
       "}\n",
       ".hoogle-text {\n",
       "display: block;\n",
       "}\n",
       ".hoogle-name {\n",
       "color: green;\n",
       "font-weight: bold;\n",
       "}\n",
       ".hoogle-head {\n",
       "font-weight: bold;\n",
       "}\n",
       ".hoogle-sub {\n",
       "display: block;\n",
       "margin-left: 0.4em;\n",
       "}\n",
       ".hoogle-package {\n",
       "font-weight: bold;\n",
       "font-style: italic;\n",
       "}\n",
       ".hoogle-module {\n",
       "font-weight: bold;\n",
       "}\n",
       ".hoogle-class {\n",
       "font-weight: bold;\n",
       "}\n",
       "\n",
       ".get-type {\n",
       "color: green;\n",
       "font-weight: bold;\n",
       "font-family: monospace;\n",
       "display: block;\n",
       "white-space: pre-wrap;\n",
       "}\n",
       ".show-type {\n",
       "color: green;\n",
       "font-weight: bold;\n",
       "font-family: monospace;\n",
       "margin-left: 1em;\n",
       "}\n",
       ".mono {\n",
       "font-family: monospace;\n",
       "display: block;\n",
       "}\n",
       ".err-msg {\n",
       "color: red;\n",
       "font-style: italic;\n",
       "font-family: monospace;\n",
       "white-space: pre;\n",
       "display: block;\n",
       "}\n",
       "#unshowable {\n",
       "color: red;\n",
       "font-weight: bold;\n",
       "}\n",
       ".err-msg.in.collapse {\n",
       "padding-top: 0.7em;\n",
       "}\n",
       "\n",
       ".highlight-code {\n",
       "white-space: pre;\n",
       "font-family: monospace;\n",
       "}\n",
       "\n",
       ".suggestion-warning { \n",
       "font-weight: bold;\n",
       "color: rgb(200, 130, 0);\n",
       "}\n",
       ".suggestion-error { \n",
       "font-weight: bold;\n",
       "color: red;\n",
       "}\n",
       ".suggestion-name {\n",
       "font-weight: bold;\n",
       "}\n",
       "\n",
       "</style><span class='get-type'>insert :: forall {t}. Ord t => Tree t -> t -> Tree t</span>"
      ],
      "text/plain": [
       "insert :: forall {t}. Ord t => Tree t -> t -> Tree t"
      ]
     },
     "metadata": {},
     "output_type": "display_data"
    },
    {
     "data": {
      "text/plain": [
       "Node 3 (Node 2 ETree ETree) (Node 5 (Node 4 ETree ETree) (Node 6 ETree ETree))"
      ]
     },
     "metadata": {},
     "output_type": "display_data"
    },
    {
     "data": {
      "text/html": [
       "<style>/* Styles used for the Hoogle display in the pager */\n",
       ".hoogle-doc {\n",
       "display: block;\n",
       "padding-bottom: 1.3em;\n",
       "padding-left: 0.4em;\n",
       "}\n",
       ".hoogle-code {\n",
       "display: block;\n",
       "font-family: monospace;\n",
       "white-space: pre;\n",
       "}\n",
       ".hoogle-text {\n",
       "display: block;\n",
       "}\n",
       ".hoogle-name {\n",
       "color: green;\n",
       "font-weight: bold;\n",
       "}\n",
       ".hoogle-head {\n",
       "font-weight: bold;\n",
       "}\n",
       ".hoogle-sub {\n",
       "display: block;\n",
       "margin-left: 0.4em;\n",
       "}\n",
       ".hoogle-package {\n",
       "font-weight: bold;\n",
       "font-style: italic;\n",
       "}\n",
       ".hoogle-module {\n",
       "font-weight: bold;\n",
       "}\n",
       ".hoogle-class {\n",
       "font-weight: bold;\n",
       "}\n",
       "\n",
       ".get-type {\n",
       "color: green;\n",
       "font-weight: bold;\n",
       "font-family: monospace;\n",
       "display: block;\n",
       "white-space: pre-wrap;\n",
       "}\n",
       ".show-type {\n",
       "color: green;\n",
       "font-weight: bold;\n",
       "font-family: monospace;\n",
       "margin-left: 1em;\n",
       "}\n",
       ".mono {\n",
       "font-family: monospace;\n",
       "display: block;\n",
       "}\n",
       ".err-msg {\n",
       "color: red;\n",
       "font-style: italic;\n",
       "font-family: monospace;\n",
       "white-space: pre;\n",
       "display: block;\n",
       "}\n",
       "#unshowable {\n",
       "color: red;\n",
       "font-weight: bold;\n",
       "}\n",
       ".err-msg.in.collapse {\n",
       "padding-top: 0.7em;\n",
       "}\n",
       "\n",
       ".highlight-code {\n",
       "white-space: pre;\n",
       "font-family: monospace;\n",
       "}\n",
       "\n",
       ".suggestion-warning { \n",
       "font-weight: bold;\n",
       "color: rgb(200, 130, 0);\n",
       "}\n",
       ".suggestion-error { \n",
       "font-weight: bold;\n",
       "color: red;\n",
       "}\n",
       ".suggestion-name {\n",
       "font-weight: bold;\n",
       "}\n",
       "\n",
       "</style><span class='get-type'>traverse :: forall {a}. Tree a -> [a]</span>"
      ],
      "text/plain": [
       "traverse :: forall {a}. Tree a -> [a]"
      ]
     },
     "metadata": {},
     "output_type": "display_data"
    },
    {
     "data": {
      "text/plain": [
       "[2,3,4,5,6]"
      ]
     },
     "metadata": {},
     "output_type": "display_data"
    },
    {
     "data": {
      "text/html": [
       "<style>/* Styles used for the Hoogle display in the pager */\n",
       ".hoogle-doc {\n",
       "display: block;\n",
       "padding-bottom: 1.3em;\n",
       "padding-left: 0.4em;\n",
       "}\n",
       ".hoogle-code {\n",
       "display: block;\n",
       "font-family: monospace;\n",
       "white-space: pre;\n",
       "}\n",
       ".hoogle-text {\n",
       "display: block;\n",
       "}\n",
       ".hoogle-name {\n",
       "color: green;\n",
       "font-weight: bold;\n",
       "}\n",
       ".hoogle-head {\n",
       "font-weight: bold;\n",
       "}\n",
       ".hoogle-sub {\n",
       "display: block;\n",
       "margin-left: 0.4em;\n",
       "}\n",
       ".hoogle-package {\n",
       "font-weight: bold;\n",
       "font-style: italic;\n",
       "}\n",
       ".hoogle-module {\n",
       "font-weight: bold;\n",
       "}\n",
       ".hoogle-class {\n",
       "font-weight: bold;\n",
       "}\n",
       "\n",
       ".get-type {\n",
       "color: green;\n",
       "font-weight: bold;\n",
       "font-family: monospace;\n",
       "display: block;\n",
       "white-space: pre-wrap;\n",
       "}\n",
       ".show-type {\n",
       "color: green;\n",
       "font-weight: bold;\n",
       "font-family: monospace;\n",
       "margin-left: 1em;\n",
       "}\n",
       ".mono {\n",
       "font-family: monospace;\n",
       "display: block;\n",
       "}\n",
       ".err-msg {\n",
       "color: red;\n",
       "font-style: italic;\n",
       "font-family: monospace;\n",
       "white-space: pre;\n",
       "display: block;\n",
       "}\n",
       "#unshowable {\n",
       "color: red;\n",
       "font-weight: bold;\n",
       "}\n",
       ".err-msg.in.collapse {\n",
       "padding-top: 0.7em;\n",
       "}\n",
       "\n",
       ".highlight-code {\n",
       "white-space: pre;\n",
       "font-family: monospace;\n",
       "}\n",
       "\n",
       ".suggestion-warning { \n",
       "font-weight: bold;\n",
       "color: rgb(200, 130, 0);\n",
       "}\n",
       ".suggestion-error { \n",
       "font-weight: bold;\n",
       "color: red;\n",
       "}\n",
       ".suggestion-name {\n",
       "font-weight: bold;\n",
       "}\n",
       "\n",
       "</style><span class='get-type'>leaves :: forall {a}. Tree a -> [a]</span>"
      ],
      "text/plain": [
       "leaves :: forall {a}. Tree a -> [a]"
      ]
     },
     "metadata": {},
     "output_type": "display_data"
    },
    {
     "data": {
      "text/plain": [
       "[2,4,6]"
      ]
     },
     "metadata": {},
     "output_type": "display_data"
    }
   ],
   "source": [
    "data Tree a = ETree | Node a (Tree a) (Tree a) deriving Show\n",
    "\n",
    "insert ETree v = Node v ETree ETree       -- inserting a value to an empty tree\n",
    "insert (Node a left right) v  | a == v  = (Node v left right)\n",
    "                              | v < a  = Node a (insert left v) right\n",
    "                              | otherwise = Node a left (insert right v)\n",
    "\n",
    ":t insert\n",
    "\n",
    "insert (insert (insert (insert (insert ETree 3) 5) 2) 6) 4\n",
    "\n",
    "-- traverse the tree, convert it to a list \n",
    "traverse ETree = []\n",
    "traverse (Node a left right) = traverse left ++ a : traverse right\n",
    "\n",
    ":t traverse\n",
    "\n",
    "traverse ( insert (insert (insert (insert (insert ETree 3) 5) 2) 6) 4 )\n",
    "\n",
    "-- Get all leaves of the tree in a list\n",
    "leaves ETree = []\n",
    "leaves (Node a ETree ETree) = [a]\n",
    "leaves (Node a left right) = leaves left ++ leaves right\n",
    "\n",
    ":t leaves\n",
    "\n",
    "leaves ( insert (insert (insert (insert (insert ETree 3) 5) 2) 6) 4 )"
   ]
  },
  {
   "cell_type": "code",
   "execution_count": 7,
   "metadata": {
    "ExecuteTime": {
     "end_time": "2023-03-30T10:49:48.300127Z",
     "start_time": "2023-03-30T10:49:45.883Z"
    }
   },
   "outputs": [
    {
     "data": {
      "text/html": [
       "<style>/* Styles used for the Hoogle display in the pager */\n",
       ".hoogle-doc {\n",
       "display: block;\n",
       "padding-bottom: 1.3em;\n",
       "padding-left: 0.4em;\n",
       "}\n",
       ".hoogle-code {\n",
       "display: block;\n",
       "font-family: monospace;\n",
       "white-space: pre;\n",
       "}\n",
       ".hoogle-text {\n",
       "display: block;\n",
       "}\n",
       ".hoogle-name {\n",
       "color: green;\n",
       "font-weight: bold;\n",
       "}\n",
       ".hoogle-head {\n",
       "font-weight: bold;\n",
       "}\n",
       ".hoogle-sub {\n",
       "display: block;\n",
       "margin-left: 0.4em;\n",
       "}\n",
       ".hoogle-package {\n",
       "font-weight: bold;\n",
       "font-style: italic;\n",
       "}\n",
       ".hoogle-module {\n",
       "font-weight: bold;\n",
       "}\n",
       ".hoogle-class {\n",
       "font-weight: bold;\n",
       "}\n",
       ".get-type {\n",
       "color: green;\n",
       "font-weight: bold;\n",
       "font-family: monospace;\n",
       "display: block;\n",
       "white-space: pre-wrap;\n",
       "}\n",
       ".show-type {\n",
       "color: green;\n",
       "font-weight: bold;\n",
       "font-family: monospace;\n",
       "margin-left: 1em;\n",
       "}\n",
       ".mono {\n",
       "font-family: monospace;\n",
       "display: block;\n",
       "}\n",
       ".err-msg {\n",
       "color: red;\n",
       "font-style: italic;\n",
       "font-family: monospace;\n",
       "white-space: pre;\n",
       "display: block;\n",
       "}\n",
       "#unshowable {\n",
       "color: red;\n",
       "font-weight: bold;\n",
       "}\n",
       ".err-msg.in.collapse {\n",
       "padding-top: 0.7em;\n",
       "}\n",
       ".highlight-code {\n",
       "white-space: pre;\n",
       "font-family: monospace;\n",
       "}\n",
       ".suggestion-warning { \n",
       "font-weight: bold;\n",
       "color: rgb(200, 130, 0);\n",
       "}\n",
       ".suggestion-error { \n",
       "font-weight: bold;\n",
       "color: red;\n",
       "}\n",
       ".suggestion-name {\n",
       "font-weight: bold;\n",
       "}\n",
       "</style><span class='get-type'>($) :: forall a b. (a -> b) -> a -> b</span>"
      ],
      "text/plain": [
       "($) :: forall a b. (a -> b) -> a -> b"
      ]
     },
     "metadata": {},
     "output_type": "display_data"
    },
    {
     "data": {
      "text/html": [
       "<style>/* Styles used for the Hoogle display in the pager */\n",
       ".hoogle-doc {\n",
       "display: block;\n",
       "padding-bottom: 1.3em;\n",
       "padding-left: 0.4em;\n",
       "}\n",
       ".hoogle-code {\n",
       "display: block;\n",
       "font-family: monospace;\n",
       "white-space: pre;\n",
       "}\n",
       ".hoogle-text {\n",
       "display: block;\n",
       "}\n",
       ".hoogle-name {\n",
       "color: green;\n",
       "font-weight: bold;\n",
       "}\n",
       ".hoogle-head {\n",
       "font-weight: bold;\n",
       "}\n",
       ".hoogle-sub {\n",
       "display: block;\n",
       "margin-left: 0.4em;\n",
       "}\n",
       ".hoogle-package {\n",
       "font-weight: bold;\n",
       "font-style: italic;\n",
       "}\n",
       ".hoogle-module {\n",
       "font-weight: bold;\n",
       "}\n",
       ".hoogle-class {\n",
       "font-weight: bold;\n",
       "}\n",
       ".get-type {\n",
       "color: green;\n",
       "font-weight: bold;\n",
       "font-family: monospace;\n",
       "display: block;\n",
       "white-space: pre-wrap;\n",
       "}\n",
       ".show-type {\n",
       "color: green;\n",
       "font-weight: bold;\n",
       "font-family: monospace;\n",
       "margin-left: 1em;\n",
       "}\n",
       ".mono {\n",
       "font-family: monospace;\n",
       "display: block;\n",
       "}\n",
       ".err-msg {\n",
       "color: red;\n",
       "font-style: italic;\n",
       "font-family: monospace;\n",
       "white-space: pre;\n",
       "display: block;\n",
       "}\n",
       "#unshowable {\n",
       "color: red;\n",
       "font-weight: bold;\n",
       "}\n",
       ".err-msg.in.collapse {\n",
       "padding-top: 0.7em;\n",
       "}\n",
       ".highlight-code {\n",
       "white-space: pre;\n",
       "font-family: monospace;\n",
       "}\n",
       ".suggestion-warning { \n",
       "font-weight: bold;\n",
       "color: rgb(200, 130, 0);\n",
       "}\n",
       ".suggestion-error { \n",
       "font-weight: bold;\n",
       "color: red;\n",
       "}\n",
       ".suggestion-name {\n",
       "font-weight: bold;\n",
       "}\n",
       "</style><span class='get-type'>(.) :: forall b c a. (b -> c) -> (a -> b) -> a -> c</span>"
      ],
      "text/plain": [
       "(.) :: forall b c a. (b -> c) -> (a -> b) -> a -> c"
      ]
     },
     "metadata": {},
     "output_type": "display_data"
    },
    {
     "data": {
      "text/plain": [
       "4096"
      ]
     },
     "metadata": {},
     "output_type": "display_data"
    },
    {
     "data": {
      "text/plain": [
       "507528786056415600719754159741696356908742250191663887263627442114881"
      ]
     },
     "metadata": {},
     "output_type": "display_data"
    },
    {
     "data": {
      "text/plain": [
       "Node 10 (Node 7 (Node 5 (Node 1 ETree (Node 3 ETree ETree)) ETree) ETree) ETree"
      ]
     },
     "metadata": {},
     "output_type": "display_data"
    },
    {
     "data": {
      "text/plain": [
       "Node 10 (Node 7 (Node 5 (Node 1 ETree (Node 3 ETree ETree)) ETree) ETree) ETree"
      ]
     },
     "metadata": {},
     "output_type": "display_data"
    },
    {
     "data": {
      "text/plain": [
       "Node 10 (Node 7 (Node 5 (Node 1 ETree (Node 3 ETree ETree)) ETree) ETree) ETree"
      ]
     },
     "metadata": {},
     "output_type": "display_data"
    }
   ],
   "source": [
    ":t ($)\n",
    ":t (.)\n",
    "\n",
    "ins v ETree = Node v ETree ETree       -- inserting a value to an empty tree\n",
    "ins v (Node a left right)  | a == v  = (Node v left right)\n",
    "                           | v < a  = Node a (ins v left) right\n",
    "                           | otherwise = Node a left (ins v right)\n",
    "\n",
    "f x = x*x\n",
    "g x = x*x*x\n",
    "\n",
    "f (g 4)\n",
    "f $ g $ f $ f $ f $ g 3\n",
    "\n",
    "ins 3 (ins 1 (ins 5 (ins 7 (ins 10 ETree))))\n",
    "\n",
    "-- f ( g a)  ==  f $ g $ a\n",
    "(ins 3) $ (ins 1) $ (ins 5) $ (ins 7) $ (ins 10 ETree)\n",
    "ins 3 $ ins 1 $ ins 5 $ ins 7 $ ins 10 ETree"
   ]
  },
  {
   "cell_type": "markdown",
   "metadata": {
    "slideshow": {
     "slide_type": "slide"
    }
   },
   "source": [
    "This example can be used to keep a set of values. Let us slightly change our definitions to store a value for given key. Nodes will contain key,value pairs as tuples instead of a single value. Tree will store `v` value for given `k`. Tree is ordered by `k` values."
   ]
  },
  {
   "cell_type": "code",
   "execution_count": 9,
   "metadata": {
    "ExecuteTime": {
     "end_time": "2023-03-30T10:56:03.449297Z",
     "start_time": "2023-03-30T10:56:00.700Z"
    },
    "slideshow": {
     "slide_type": "fragment"
    }
   },
   "outputs": [
    {
     "data": {
      "text/html": [
       "<style>/* Styles used for the Hoogle display in the pager */\n",
       ".hoogle-doc {\n",
       "display: block;\n",
       "padding-bottom: 1.3em;\n",
       "padding-left: 0.4em;\n",
       "}\n",
       ".hoogle-code {\n",
       "display: block;\n",
       "font-family: monospace;\n",
       "white-space: pre;\n",
       "}\n",
       ".hoogle-text {\n",
       "display: block;\n",
       "}\n",
       ".hoogle-name {\n",
       "color: green;\n",
       "font-weight: bold;\n",
       "}\n",
       ".hoogle-head {\n",
       "font-weight: bold;\n",
       "}\n",
       ".hoogle-sub {\n",
       "display: block;\n",
       "margin-left: 0.4em;\n",
       "}\n",
       ".hoogle-package {\n",
       "font-weight: bold;\n",
       "font-style: italic;\n",
       "}\n",
       ".hoogle-module {\n",
       "font-weight: bold;\n",
       "}\n",
       ".hoogle-class {\n",
       "font-weight: bold;\n",
       "}\n",
       ".get-type {\n",
       "color: green;\n",
       "font-weight: bold;\n",
       "font-family: monospace;\n",
       "display: block;\n",
       "white-space: pre-wrap;\n",
       "}\n",
       ".show-type {\n",
       "color: green;\n",
       "font-weight: bold;\n",
       "font-family: monospace;\n",
       "margin-left: 1em;\n",
       "}\n",
       ".mono {\n",
       "font-family: monospace;\n",
       "display: block;\n",
       "}\n",
       ".err-msg {\n",
       "color: red;\n",
       "font-style: italic;\n",
       "font-family: monospace;\n",
       "white-space: pre;\n",
       "display: block;\n",
       "}\n",
       "#unshowable {\n",
       "color: red;\n",
       "font-weight: bold;\n",
       "}\n",
       ".err-msg.in.collapse {\n",
       "padding-top: 0.7em;\n",
       "}\n",
       ".highlight-code {\n",
       "white-space: pre;\n",
       "font-family: monospace;\n",
       "}\n",
       ".suggestion-warning { \n",
       "font-weight: bold;\n",
       "color: rgb(200, 130, 0);\n",
       "}\n",
       ".suggestion-error { \n",
       "font-weight: bold;\n",
       "color: red;\n",
       "}\n",
       ".suggestion-name {\n",
       "font-weight: bold;\n",
       "}\n",
       "</style><span class='get-type'>set :: forall {t1} {t2}. Ord t1 => Tree (t1, t2) -> t1 -> t2 -> Tree (t1, t2)</span>"
      ],
      "text/plain": [
       "set :: forall {t1} {t2}. Ord t1 => Tree (t1, t2) -> t1 -> t2 -> Tree (t1, t2)"
      ]
     },
     "metadata": {},
     "output_type": "display_data"
    },
    {
     "data": {
      "text/html": [
       "<style>/* Styles used for the Hoogle display in the pager */\n",
       ".hoogle-doc {\n",
       "display: block;\n",
       "padding-bottom: 1.3em;\n",
       "padding-left: 0.4em;\n",
       "}\n",
       ".hoogle-code {\n",
       "display: block;\n",
       "font-family: monospace;\n",
       "white-space: pre;\n",
       "}\n",
       ".hoogle-text {\n",
       "display: block;\n",
       "}\n",
       ".hoogle-name {\n",
       "color: green;\n",
       "font-weight: bold;\n",
       "}\n",
       ".hoogle-head {\n",
       "font-weight: bold;\n",
       "}\n",
       ".hoogle-sub {\n",
       "display: block;\n",
       "margin-left: 0.4em;\n",
       "}\n",
       ".hoogle-package {\n",
       "font-weight: bold;\n",
       "font-style: italic;\n",
       "}\n",
       ".hoogle-module {\n",
       "font-weight: bold;\n",
       "}\n",
       ".hoogle-class {\n",
       "font-weight: bold;\n",
       "}\n",
       ".get-type {\n",
       "color: green;\n",
       "font-weight: bold;\n",
       "font-family: monospace;\n",
       "display: block;\n",
       "white-space: pre-wrap;\n",
       "}\n",
       ".show-type {\n",
       "color: green;\n",
       "font-weight: bold;\n",
       "font-family: monospace;\n",
       "margin-left: 1em;\n",
       "}\n",
       ".mono {\n",
       "font-family: monospace;\n",
       "display: block;\n",
       "}\n",
       ".err-msg {\n",
       "color: red;\n",
       "font-style: italic;\n",
       "font-family: monospace;\n",
       "white-space: pre;\n",
       "display: block;\n",
       "}\n",
       "#unshowable {\n",
       "color: red;\n",
       "font-weight: bold;\n",
       "}\n",
       ".err-msg.in.collapse {\n",
       "padding-top: 0.7em;\n",
       "}\n",
       ".highlight-code {\n",
       "white-space: pre;\n",
       "font-family: monospace;\n",
       "}\n",
       ".suggestion-warning { \n",
       "font-weight: bold;\n",
       "color: rgb(200, 130, 0);\n",
       "}\n",
       ".suggestion-error { \n",
       "font-weight: bold;\n",
       "color: red;\n",
       "}\n",
       ".suggestion-name {\n",
       "font-weight: bold;\n",
       "}\n",
       "</style><span class='get-type'>get :: forall {t} {a}. Ord t => Tree (t, a) -> t -> Maybe a</span>"
      ],
      "text/plain": [
       "get :: forall {t} {a}. Ord t => Tree (t, a) -> t -> Maybe a"
      ]
     },
     "metadata": {},
     "output_type": "display_data"
    },
    {
     "data": {
      "text/plain": [
       "Node (\"martian\",3) (Node (\"daffy\",2) (Node (\"bugs\",66) ETree ETree) (Node (\"elmer\",6) ETree ETree)) (Node (\"tweety\",5) (Node (\"sylvester\",123) ETree ETree) ETree)"
      ]
     },
     "metadata": {},
     "output_type": "display_data"
    },
    {
     "data": {
      "text/plain": [
       "Just 66"
      ]
     },
     "metadata": {},
     "output_type": "display_data"
    },
    {
     "data": {
      "text/plain": [
       "Nothing"
      ]
     },
     "metadata": {},
     "output_type": "display_data"
    },
    {
     "data": {
      "text/plain": [
       "[(\"bugs\",66),(\"daffy\",2),(\"elmer\",6),(\"martian\",3),(\"sylvester\",123),(\"tweety\",5)]"
      ]
     },
     "metadata": {},
     "output_type": "display_data"
    },
    {
     "data": {
      "text/plain": [
       "[(\"bugs\",66),(\"elmer\",6),(\"sylvester\",123)]"
      ]
     },
     "metadata": {},
     "output_type": "display_data"
    },
    {
     "data": {
      "text/plain": [
       "[(\"martian\",3),(\"daffy\",2),(\"bugs\",66)]"
      ]
     },
     "metadata": {},
     "output_type": "display_data"
    },
    {
     "data": {
      "text/plain": [
       "[(\"martian\",3),(\"tweety\",5),(\"sylvester\",123)]"
      ]
     },
     "metadata": {},
     "output_type": "display_data"
    },
    {
     "data": {
      "text/plain": [
       "[(\"martian\",3)]"
      ]
     },
     "metadata": {},
     "output_type": "display_data"
    }
   ],
   "source": [
    "-- set :: Tree (a,b) -> a -> b -> Tree (a,b)\n",
    "-- return the new tree with k,v added to a BST \n",
    "set ETree k v = Node (k,v) ETree ETree       -- inserting a (k,v) pair to an empty tree\n",
    "set (Node (ak,av) left right) k v  | ak == k  = Node (k,v) left right\n",
    "                                   | k < ak   = Node (ak,av) (set left k v) right\n",
    "                                   | otherwise = Node (ak,av) left (set right k v)\n",
    "\n",
    "-- set :: Tree (a,b) -> a -> Maybe b\n",
    "-- search key in BST and return value if found, else Nothing\n",
    "get ETree _ = Nothing\n",
    "get (Node (k,v) left right) sk  | sk == k = Just v\n",
    "                                | sk < k  = get left sk\n",
    "                                | otherwise = get right sk\n",
    "                                \n",
    ":t set\n",
    ":t get\n",
    "\n",
    "\n",
    "x = set (set (set (set (set (set (set ETree \"martian\" 3) \"tweety\" 5) \"daffy\" 2) \"elmer\" 6) \"bugs\" 4) \n",
    "          \"sylvester\" 123) \"bugs\" 66\n",
    "x\n",
    "\n",
    "get x \"bugs\"\n",
    "get x \"onur\"\n",
    "\n",
    "-- path :: Node (a,b) -> a -> [(a,b)]\n",
    "-- like get but returns all intermediate values in the path\n",
    "\n",
    "path ETree _ = []\n",
    "path (Node (k,v) left right) sk  | sk == k = [(k,v)]\n",
    "                                | sk < k  = (k,v) : path left sk \n",
    "                                | otherwise = (k,v) : path right sk\n",
    "\n",
    "\n",
    "\n",
    "traverse x\n",
    "leaves x\n",
    "\n",
    "path x \"bugs\"\n",
    "path x \"sylvester\"\n",
    "path x \"martian\""
   ]
  },
  {
   "cell_type": "markdown",
   "metadata": {
    "slideshow": {
     "slide_type": "slide"
    }
   },
   "source": [
    "Make a range query. Given two values, find all values matching their keys in $[a,b]$ closed interval, $a \\le b$. Gets a tree and two key values, returns a list of values. This will be an example of merging results from recursion. Queries repeated for left and right will be merged into the result. There are following cases, assuming current node key is $k$:\n",
    "\n",
    "* $a > k$ : In this case, there is no value in left or current node, result of right query is returned\n",
    "* $b < k$ : Similarly no value from right or current node, left query is returned.\n",
    "* $a = k$ or $b = k$ are special cases of above two.\n",
    "* $a < k < b$ : in this case query is sent to left as $[a,k]$ and to right as $[k,b]$ and results merged with current node values."
   ]
  },
  {
   "cell_type": "code",
   "execution_count": 10,
   "metadata": {
    "ExecuteTime": {
     "end_time": "2023-03-30T10:56:06.822252Z",
     "start_time": "2023-03-30T10:56:04.284Z"
    },
    "slideshow": {
     "slide_type": "fragment"
    }
   },
   "outputs": [
    {
     "data": {
      "text/html": [
       "<style>/* Styles used for the Hoogle display in the pager */\n",
       ".hoogle-doc {\n",
       "display: block;\n",
       "padding-bottom: 1.3em;\n",
       "padding-left: 0.4em;\n",
       "}\n",
       ".hoogle-code {\n",
       "display: block;\n",
       "font-family: monospace;\n",
       "white-space: pre;\n",
       "}\n",
       ".hoogle-text {\n",
       "display: block;\n",
       "}\n",
       ".hoogle-name {\n",
       "color: green;\n",
       "font-weight: bold;\n",
       "}\n",
       ".hoogle-head {\n",
       "font-weight: bold;\n",
       "}\n",
       ".hoogle-sub {\n",
       "display: block;\n",
       "margin-left: 0.4em;\n",
       "}\n",
       ".hoogle-package {\n",
       "font-weight: bold;\n",
       "font-style: italic;\n",
       "}\n",
       ".hoogle-module {\n",
       "font-weight: bold;\n",
       "}\n",
       ".hoogle-class {\n",
       "font-weight: bold;\n",
       "}\n",
       ".get-type {\n",
       "color: green;\n",
       "font-weight: bold;\n",
       "font-family: monospace;\n",
       "display: block;\n",
       "white-space: pre-wrap;\n",
       "}\n",
       ".show-type {\n",
       "color: green;\n",
       "font-weight: bold;\n",
       "font-family: monospace;\n",
       "margin-left: 1em;\n",
       "}\n",
       ".mono {\n",
       "font-family: monospace;\n",
       "display: block;\n",
       "}\n",
       ".err-msg {\n",
       "color: red;\n",
       "font-style: italic;\n",
       "font-family: monospace;\n",
       "white-space: pre;\n",
       "display: block;\n",
       "}\n",
       "#unshowable {\n",
       "color: red;\n",
       "font-weight: bold;\n",
       "}\n",
       ".err-msg.in.collapse {\n",
       "padding-top: 0.7em;\n",
       "}\n",
       ".highlight-code {\n",
       "white-space: pre;\n",
       "font-family: monospace;\n",
       "}\n",
       ".suggestion-warning { \n",
       "font-weight: bold;\n",
       "color: rgb(200, 130, 0);\n",
       "}\n",
       ".suggestion-error { \n",
       "font-weight: bold;\n",
       "color: red;\n",
       "}\n",
       ".suggestion-name {\n",
       "font-weight: bold;\n",
       "}\n",
       "</style><span class='get-type'>inrange :: forall {a1} {a2}. Ord a1 => Tree (a1, a2) -> a1 -> a1 -> [a2]</span>"
      ],
      "text/plain": [
       "inrange :: forall {a1} {a2}. Ord a1 => Tree (a1, a2) -> a1 -> a1 -> [a2]"
      ]
     },
     "metadata": {},
     "output_type": "display_data"
    },
    {
     "data": {
      "text/plain": [
       "[2,6]"
      ]
     },
     "metadata": {},
     "output_type": "display_data"
    },
    {
     "data": {
      "text/plain": [
       "[3,123,5]"
      ]
     },
     "metadata": {},
     "output_type": "display_data"
    },
    {
     "data": {
      "text/plain": [
       "[66,2,6,3,123,5]"
      ]
     },
     "metadata": {},
     "output_type": "display_data"
    },
    {
     "data": {
      "text/plain": [
       "[66,2,6,3]"
      ]
     },
     "metadata": {},
     "output_type": "display_data"
    },
    {
     "data": {
      "text/plain": [
       "[]"
      ]
     },
     "metadata": {},
     "output_type": "display_data"
    },
    {
     "data": {
      "text/plain": [
       "[6]"
      ]
     },
     "metadata": {},
     "output_type": "display_data"
    }
   ],
   "source": [
    "inrange ETree _ _ = []           -- empty tree, empty result\n",
    "inrange (Node (k,v) left right) a b  | a > k = inrange right a b\n",
    "                                     | a == k = v : inrange right a b\n",
    "                                     | b < k = inrange left a b\n",
    "                                     | b == k =  inrange left a b ++ [v]    -- append end to keep the ordering\n",
    "                                     | otherwise = let lq = inrange left a k\n",
    "                                                       rq = inrange right k b\n",
    "                                                    in lq ++ v : rq\n",
    "                                                    \n",
    ":t inrange\n",
    "\n",
    "inrange x \"c\" \"h\"\n",
    "inrange x \"martian\" \"tweety\"\n",
    "inrange x \"a\" \"z\"\n",
    "inrange x \"\" \"martian\"\n",
    "inrange x \"z\" \"z\"\n",
    "inrange x \"elmer\" \"elmer\""
   ]
  },
  {
   "cell_type": "markdown",
   "metadata": {
    "slideshow": {
     "slide_type": "slide"
    }
   },
   "source": [
    "Let us try a more complex traversal of the tree. Find all possible paths from root to all leaves. Gets a BST and returns a list of lists. Each member will be a path. For example `[\"elmer\",\"tweety\",\"martian\"]` is a path from root to `\"martian\"` node.\n",
    "\n",
    "In this example we need to find all paths for left and right children, then insert current node to the beginning."
   ]
  },
  {
   "cell_type": "code",
   "execution_count": 21,
   "metadata": {
    "ExecuteTime": {
     "end_time": "2023-03-30T11:06:34.462899Z",
     "start_time": "2023-03-30T11:06:32.259Z"
    },
    "slideshow": {
     "slide_type": "fragment"
    }
   },
   "outputs": [
    {
     "data": {
      "text/html": [
       "<style>/* Styles used for the Hoogle display in the pager */\n",
       ".hoogle-doc {\n",
       "display: block;\n",
       "padding-bottom: 1.3em;\n",
       "padding-left: 0.4em;\n",
       "}\n",
       ".hoogle-code {\n",
       "display: block;\n",
       "font-family: monospace;\n",
       "white-space: pre;\n",
       "}\n",
       ".hoogle-text {\n",
       "display: block;\n",
       "}\n",
       ".hoogle-name {\n",
       "color: green;\n",
       "font-weight: bold;\n",
       "}\n",
       ".hoogle-head {\n",
       "font-weight: bold;\n",
       "}\n",
       ".hoogle-sub {\n",
       "display: block;\n",
       "margin-left: 0.4em;\n",
       "}\n",
       ".hoogle-package {\n",
       "font-weight: bold;\n",
       "font-style: italic;\n",
       "}\n",
       ".hoogle-module {\n",
       "font-weight: bold;\n",
       "}\n",
       ".hoogle-class {\n",
       "font-weight: bold;\n",
       "}\n",
       ".get-type {\n",
       "color: green;\n",
       "font-weight: bold;\n",
       "font-family: monospace;\n",
       "display: block;\n",
       "white-space: pre-wrap;\n",
       "}\n",
       ".show-type {\n",
       "color: green;\n",
       "font-weight: bold;\n",
       "font-family: monospace;\n",
       "margin-left: 1em;\n",
       "}\n",
       ".mono {\n",
       "font-family: monospace;\n",
       "display: block;\n",
       "}\n",
       ".err-msg {\n",
       "color: red;\n",
       "font-style: italic;\n",
       "font-family: monospace;\n",
       "white-space: pre;\n",
       "display: block;\n",
       "}\n",
       "#unshowable {\n",
       "color: red;\n",
       "font-weight: bold;\n",
       "}\n",
       ".err-msg.in.collapse {\n",
       "padding-top: 0.7em;\n",
       "}\n",
       ".highlight-code {\n",
       "white-space: pre;\n",
       "font-family: monospace;\n",
       "}\n",
       ".suggestion-warning { \n",
       "font-weight: bold;\n",
       "color: rgb(200, 130, 0);\n",
       "}\n",
       ".suggestion-error { \n",
       "font-weight: bold;\n",
       "color: red;\n",
       "}\n",
       ".suggestion-name {\n",
       "font-weight: bold;\n",
       "}\n",
       "</style><span class='get-type'>allpaths :: forall {a} {b}. Tree (a, b) -> [[a]]</span>"
      ],
      "text/plain": [
       "allpaths :: forall {a} {b}. Tree (a, b) -> [[a]]"
      ]
     },
     "metadata": {},
     "output_type": "display_data"
    },
    {
     "data": {
      "text/plain": [
       "[[\"martian\",\"daffy\",\"bugs\"],[\"martian\",\"daffy\",\"elmer\"],[\"martian\",\"tweety\",\"sylvester\"]]"
      ]
     },
     "metadata": {},
     "output_type": "display_data"
    },
    {
     "data": {
      "text/plain": [
       "[[(\"martian\",3),(\"daffy\",2),(\"bugs\",66)],[(\"martian\",3),(\"daffy\",2),(\"elmer\",6)],[(\"martian\",3),(\"tweety\",5),(\"sylvester\",123)]]"
      ]
     },
     "metadata": {},
     "output_type": "display_data"
    },
    {
     "data": {
      "text/plain": [
       "[(\"martian\",3),(\"daffy\",2),(\"bugs\",66)]"
      ]
     },
     "metadata": {},
     "output_type": "display_data"
    }
   ],
   "source": [
    "allpaths ETree = []               -- no path. try also returning [[]] here\n",
    "allpaths (Node (k,_) ETree ETree) = [[k]]                   -- leaf node\n",
    "allpaths (Node (k,_) left right) = \n",
    "        let apl = allpaths left\n",
    "            apr = allpaths right\n",
    "           -- insertall _ [] = []   -- insert v to beginning  of all list members of the list\n",
    "           -- insertall v (lh:lrest) = (v:lh) : insertall v lrest\n",
    "        -- in insertall k apl ++ insertall k apr\n",
    "        in [k:lst | lst <- apl ++ apr ] -- ++ [ k:lst | lst <- apr]\n",
    "\n",
    ":t allpaths\n",
    "\n",
    "allpaths x\n",
    "\n",
    "-- what is this? We will talk about higher order functions later\n",
    "map (path x . fst) (leaves x)\n",
    "-- Higher order functions. Functions that gets functions as arguments \"map\"                      "
   ]
  },
  {
   "cell_type": "code",
   "execution_count": 25,
   "metadata": {
    "ExecuteTime": {
     "end_time": "2023-03-30T11:30:58.170026Z",
     "start_time": "2023-03-30T11:30:55.792Z"
    }
   },
   "outputs": [
    {
     "data": {
      "text/html": [
       "<style>/* Styles used for the Hoogle display in the pager */\n",
       ".hoogle-doc {\n",
       "display: block;\n",
       "padding-bottom: 1.3em;\n",
       "padding-left: 0.4em;\n",
       "}\n",
       ".hoogle-code {\n",
       "display: block;\n",
       "font-family: monospace;\n",
       "white-space: pre;\n",
       "}\n",
       ".hoogle-text {\n",
       "display: block;\n",
       "}\n",
       ".hoogle-name {\n",
       "color: green;\n",
       "font-weight: bold;\n",
       "}\n",
       ".hoogle-head {\n",
       "font-weight: bold;\n",
       "}\n",
       ".hoogle-sub {\n",
       "display: block;\n",
       "margin-left: 0.4em;\n",
       "}\n",
       ".hoogle-package {\n",
       "font-weight: bold;\n",
       "font-style: italic;\n",
       "}\n",
       ".hoogle-module {\n",
       "font-weight: bold;\n",
       "}\n",
       ".hoogle-class {\n",
       "font-weight: bold;\n",
       "}\n",
       ".get-type {\n",
       "color: green;\n",
       "font-weight: bold;\n",
       "font-family: monospace;\n",
       "display: block;\n",
       "white-space: pre-wrap;\n",
       "}\n",
       ".show-type {\n",
       "color: green;\n",
       "font-weight: bold;\n",
       "font-family: monospace;\n",
       "margin-left: 1em;\n",
       "}\n",
       ".mono {\n",
       "font-family: monospace;\n",
       "display: block;\n",
       "}\n",
       ".err-msg {\n",
       "color: red;\n",
       "font-style: italic;\n",
       "font-family: monospace;\n",
       "white-space: pre;\n",
       "display: block;\n",
       "}\n",
       "#unshowable {\n",
       "color: red;\n",
       "font-weight: bold;\n",
       "}\n",
       ".err-msg.in.collapse {\n",
       "padding-top: 0.7em;\n",
       "}\n",
       ".highlight-code {\n",
       "white-space: pre;\n",
       "font-family: monospace;\n",
       "}\n",
       ".suggestion-warning { \n",
       "font-weight: bold;\n",
       "color: rgb(200, 130, 0);\n",
       "}\n",
       ".suggestion-error { \n",
       "font-weight: bold;\n",
       "color: red;\n",
       "}\n",
       ".suggestion-name {\n",
       "font-weight: bold;\n",
       "}\n",
       "</style><span class='get-type'>(.) :: forall b c a. (b -> c) -> (a -> b) -> a -> c</span>"
      ],
      "text/plain": [
       "(.) :: forall b c a. (b -> c) -> (a -> b) -> a -> c"
      ]
     },
     "metadata": {},
     "output_type": "display_data"
    },
    {
     "data": {
      "text/plain": [
       "81"
      ]
     },
     "metadata": {},
     "output_type": "display_data"
    },
    {
     "data": {
      "text/plain": [
       "21"
      ]
     },
     "metadata": {},
     "output_type": "display_data"
    }
   ],
   "source": [
    ":t (.)\n",
    "\n",
    "f x = x*x\n",
    "g x = x+5\n",
    "\n",
    "(f . g) 4\n",
    "(g . f ) 4"
   ]
  },
  {
   "cell_type": "code",
   "execution_count": 37,
   "metadata": {
    "ExecuteTime": {
     "end_time": "2023-03-30T11:56:40.464159Z",
     "start_time": "2023-03-30T11:56:38.221Z"
    }
   },
   "outputs": [
    {
     "data": {
      "text/html": [
       "<style>/* Styles used for the Hoogle display in the pager */\n",
       ".hoogle-doc {\n",
       "display: block;\n",
       "padding-bottom: 1.3em;\n",
       "padding-left: 0.4em;\n",
       "}\n",
       ".hoogle-code {\n",
       "display: block;\n",
       "font-family: monospace;\n",
       "white-space: pre;\n",
       "}\n",
       ".hoogle-text {\n",
       "display: block;\n",
       "}\n",
       ".hoogle-name {\n",
       "color: green;\n",
       "font-weight: bold;\n",
       "}\n",
       ".hoogle-head {\n",
       "font-weight: bold;\n",
       "}\n",
       ".hoogle-sub {\n",
       "display: block;\n",
       "margin-left: 0.4em;\n",
       "}\n",
       ".hoogle-package {\n",
       "font-weight: bold;\n",
       "font-style: italic;\n",
       "}\n",
       ".hoogle-module {\n",
       "font-weight: bold;\n",
       "}\n",
       ".hoogle-class {\n",
       "font-weight: bold;\n",
       "}\n",
       ".get-type {\n",
       "color: green;\n",
       "font-weight: bold;\n",
       "font-family: monospace;\n",
       "display: block;\n",
       "white-space: pre-wrap;\n",
       "}\n",
       ".show-type {\n",
       "color: green;\n",
       "font-weight: bold;\n",
       "font-family: monospace;\n",
       "margin-left: 1em;\n",
       "}\n",
       ".mono {\n",
       "font-family: monospace;\n",
       "display: block;\n",
       "}\n",
       ".err-msg {\n",
       "color: red;\n",
       "font-style: italic;\n",
       "font-family: monospace;\n",
       "white-space: pre;\n",
       "display: block;\n",
       "}\n",
       "#unshowable {\n",
       "color: red;\n",
       "font-weight: bold;\n",
       "}\n",
       ".err-msg.in.collapse {\n",
       "padding-top: 0.7em;\n",
       "}\n",
       ".highlight-code {\n",
       "white-space: pre;\n",
       "font-family: monospace;\n",
       "}\n",
       ".suggestion-warning { \n",
       "font-weight: bold;\n",
       "color: rgb(200, 130, 0);\n",
       "}\n",
       ".suggestion-error { \n",
       "font-weight: bold;\n",
       "color: red;\n",
       "}\n",
       ".suggestion-name {\n",
       "font-weight: bold;\n",
       "}\n",
       "</style><div class=\"suggestion-name\" style=\"clear:both;\">Evaluate</div><div class=\"suggestion-row\" style=\"float: left;\"><div class=\"suggestion-warning\">Found:</div><div class=\"highlight-code\" id=\"haskell\">fst (\"sylvester\", 66)</div></div><div class=\"suggestion-row\" style=\"float: left;\"><div class=\"suggestion-warning\">Why Not:</div><div class=\"highlight-code\" id=\"haskell\">\"sylvester\"</div></div>"
      ],
      "text/plain": [
       "Line 1: Evaluate\n",
       "Found:\n",
       "fst (\"sylvester\", 66)\n",
       "Why not:\n",
       "\"sylvester\""
      ]
     },
     "metadata": {},
     "output_type": "display_data"
    },
    {
     "data": {
      "text/plain": [
       "[(\"martian\",3),(\"tweety\",5),(\"sylvester\",123)]"
      ]
     },
     "metadata": {},
     "output_type": "display_data"
    }
   ],
   "source": [
    "path  x (fst (\"sylvester\",66))"
   ]
  },
  {
   "cell_type": "code",
   "execution_count": 34,
   "metadata": {
    "ExecuteTime": {
     "end_time": "2023-03-30T11:56:16.580495Z",
     "start_time": "2023-03-30T11:56:14.337Z"
    }
   },
   "outputs": [
    {
     "data": {
      "text/plain": [
       "[(\"bugs\",66),(\"elmer\",6),(\"sylvester\",123)]"
      ]
     },
     "metadata": {},
     "output_type": "display_data"
    }
   ],
   "source": [
    "leaves x"
   ]
  },
  {
   "cell_type": "code",
   "execution_count": 41,
   "metadata": {
    "ExecuteTime": {
     "end_time": "2023-03-30T12:08:01.449063Z",
     "start_time": "2023-03-30T12:07:59.084Z"
    }
   },
   "outputs": [
    {
     "data": {
      "text/html": [
       "<style>/* Styles used for the Hoogle display in the pager */\n",
       ".hoogle-doc {\n",
       "display: block;\n",
       "padding-bottom: 1.3em;\n",
       "padding-left: 0.4em;\n",
       "}\n",
       ".hoogle-code {\n",
       "display: block;\n",
       "font-family: monospace;\n",
       "white-space: pre;\n",
       "}\n",
       ".hoogle-text {\n",
       "display: block;\n",
       "}\n",
       ".hoogle-name {\n",
       "color: green;\n",
       "font-weight: bold;\n",
       "}\n",
       ".hoogle-head {\n",
       "font-weight: bold;\n",
       "}\n",
       ".hoogle-sub {\n",
       "display: block;\n",
       "margin-left: 0.4em;\n",
       "}\n",
       ".hoogle-package {\n",
       "font-weight: bold;\n",
       "font-style: italic;\n",
       "}\n",
       ".hoogle-module {\n",
       "font-weight: bold;\n",
       "}\n",
       ".hoogle-class {\n",
       "font-weight: bold;\n",
       "}\n",
       ".get-type {\n",
       "color: green;\n",
       "font-weight: bold;\n",
       "font-family: monospace;\n",
       "display: block;\n",
       "white-space: pre-wrap;\n",
       "}\n",
       ".show-type {\n",
       "color: green;\n",
       "font-weight: bold;\n",
       "font-family: monospace;\n",
       "margin-left: 1em;\n",
       "}\n",
       ".mono {\n",
       "font-family: monospace;\n",
       "display: block;\n",
       "}\n",
       ".err-msg {\n",
       "color: red;\n",
       "font-style: italic;\n",
       "font-family: monospace;\n",
       "white-space: pre;\n",
       "display: block;\n",
       "}\n",
       "#unshowable {\n",
       "color: red;\n",
       "font-weight: bold;\n",
       "}\n",
       ".err-msg.in.collapse {\n",
       "padding-top: 0.7em;\n",
       "}\n",
       ".highlight-code {\n",
       "white-space: pre;\n",
       "font-family: monospace;\n",
       "}\n",
       ".suggestion-warning { \n",
       "font-weight: bold;\n",
       "color: rgb(200, 130, 0);\n",
       "}\n",
       ".suggestion-error { \n",
       "font-weight: bold;\n",
       "color: red;\n",
       "}\n",
       ".suggestion-name {\n",
       "font-weight: bold;\n",
       "}\n",
       "</style><div class=\"suggestion-name\" style=\"clear:both;\">Use sum</div><div class=\"suggestion-row\" style=\"float: left;\"><div class=\"suggestion-warning\">Found:</div><div class=\"highlight-code\" id=\"haskell\">foldr (+) 0</div></div><div class=\"suggestion-row\" style=\"float: left;\"><div class=\"suggestion-warning\">Why Not:</div><div class=\"highlight-code\" id=\"haskell\">sum</div></div><div class=\"suggestion-name\" style=\"clear:both;\">Use foldr</div><div class=\"suggestion-row\" style=\"float: left;\"><div class=\"suggestion-warning\">Found:</div><div class=\"highlight-code\" id=\"haskell\">reduce func s [] = s\n",
       "reduce func s (el : rest) = func el (reduce func s rest)</div></div><div class=\"suggestion-row\" style=\"float: left;\"><div class=\"suggestion-warning\">Why Not:</div><div class=\"highlight-code\" id=\"haskell\">reduce func s rest = foldr func s rest</div></div>"
      ],
      "text/plain": [
       "Line 1: Use sum\n",
       "Found:\n",
       "foldr (+) 0\n",
       "Why not:\n",
       "sumLine 2: Use foldr\n",
       "Found:\n",
       "reduce func s [] = s\n",
       "reduce func s (el : rest) = func el (reduce func s rest)\n",
       "Why not:\n",
       "reduce func s rest = foldr func s rest"
      ]
     },
     "metadata": {},
     "output_type": "display_data"
    },
    {
     "data": {
      "text/plain": [
       "28"
      ]
     },
     "metadata": {},
     "output_type": "display_data"
    },
    {
     "data": {
      "text/plain": [
       "5040"
      ]
     },
     "metadata": {},
     "output_type": "display_data"
    }
   ],
   "source": [
    "foldr (+) 0 [1,4,5,7,8,3]\n",
    "reduce func s [] = s\n",
    "reduce func s (el:rest) = func el (reduce func s rest)\n",
    "reduce (*) 1 [1..7]"
   ]
  },
  {
   "cell_type": "code",
   "execution_count": 45,
   "metadata": {
    "ExecuteTime": {
     "end_time": "2023-03-30T12:08:47.739832Z",
     "start_time": "2023-03-30T12:08:45.379Z"
    }
   },
   "outputs": [
    {
     "data": {
      "text/plain": [
       "-28"
      ]
     },
     "metadata": {},
     "output_type": "display_data"
    },
    {
     "data": {
      "text/plain": [
       "-64"
      ]
     },
     "metadata": {},
     "output_type": "display_data"
    }
   ],
   "source": [
    "foldl (-) 0 [1,4,5,7,8,3]\n",
    "foldr (-) 0 [1,4,5,71,8,3]\n"
   ]
  },
  {
   "cell_type": "code",
   "execution_count": 46,
   "metadata": {
    "ExecuteTime": {
     "end_time": "2023-03-30T12:14:06.433135Z",
     "start_time": "2023-03-30T12:14:04.298Z"
    }
   },
   "outputs": [],
   "source": [
    "iter f s 0 = s\n",
    "iter f s n = f (iter f s (n-1))"
   ]
  },
  {
   "cell_type": "code",
   "execution_count": 52,
   "metadata": {
    "ExecuteTime": {
     "end_time": "2023-03-30T12:15:04.633207Z",
     "start_time": "2023-03-30T12:15:02.384Z"
    }
   },
   "outputs": [
    {
     "data": {
      "text/plain": [
       "256"
      ]
     },
     "metadata": {},
     "output_type": "display_data"
    }
   ],
   "source": [
    "power2 = iter (* 2) 1 \n",
    "\n",
    "power2 8"
   ]
  },
  {
   "cell_type": "code",
   "execution_count": 57,
   "metadata": {
    "ExecuteTime": {
     "end_time": "2023-03-30T12:20:10.573603Z",
     "start_time": "2023-03-30T12:20:08.450Z"
    }
   },
   "outputs": [
    {
     "data": {
      "text/html": [
       "<style>/* Styles used for the Hoogle display in the pager */\n",
       ".hoogle-doc {\n",
       "display: block;\n",
       "padding-bottom: 1.3em;\n",
       "padding-left: 0.4em;\n",
       "}\n",
       ".hoogle-code {\n",
       "display: block;\n",
       "font-family: monospace;\n",
       "white-space: pre;\n",
       "}\n",
       ".hoogle-text {\n",
       "display: block;\n",
       "}\n",
       ".hoogle-name {\n",
       "color: green;\n",
       "font-weight: bold;\n",
       "}\n",
       ".hoogle-head {\n",
       "font-weight: bold;\n",
       "}\n",
       ".hoogle-sub {\n",
       "display: block;\n",
       "margin-left: 0.4em;\n",
       "}\n",
       ".hoogle-package {\n",
       "font-weight: bold;\n",
       "font-style: italic;\n",
       "}\n",
       ".hoogle-module {\n",
       "font-weight: bold;\n",
       "}\n",
       ".hoogle-class {\n",
       "font-weight: bold;\n",
       "}\n",
       ".get-type {\n",
       "color: green;\n",
       "font-weight: bold;\n",
       "font-family: monospace;\n",
       "display: block;\n",
       "white-space: pre-wrap;\n",
       "}\n",
       ".show-type {\n",
       "color: green;\n",
       "font-weight: bold;\n",
       "font-family: monospace;\n",
       "margin-left: 1em;\n",
       "}\n",
       ".mono {\n",
       "font-family: monospace;\n",
       "display: block;\n",
       "}\n",
       ".err-msg {\n",
       "color: red;\n",
       "font-style: italic;\n",
       "font-family: monospace;\n",
       "white-space: pre;\n",
       "display: block;\n",
       "}\n",
       "#unshowable {\n",
       "color: red;\n",
       "font-weight: bold;\n",
       "}\n",
       ".err-msg.in.collapse {\n",
       "padding-top: 0.7em;\n",
       "}\n",
       ".highlight-code {\n",
       "white-space: pre;\n",
       "font-family: monospace;\n",
       "}\n",
       ".suggestion-warning { \n",
       "font-weight: bold;\n",
       "color: rgb(200, 130, 0);\n",
       "}\n",
       ".suggestion-error { \n",
       "font-weight: bold;\n",
       "color: red;\n",
       "}\n",
       ".suggestion-name {\n",
       "font-weight: bold;\n",
       "}\n",
       "</style><span class='get-type'>filter :: forall a. (a -> Bool) -> [a] -> [a]</span>"
      ],
      "text/plain": [
       "filter :: forall a. (a -> Bool) -> [a] -> [a]"
      ]
     },
     "metadata": {},
     "output_type": "display_data"
    }
   ],
   "source": [
    ":t filter"
   ]
  },
  {
   "cell_type": "code",
   "execution_count": 62,
   "metadata": {
    "ExecuteTime": {
     "end_time": "2023-03-30T12:22:59.238086Z",
     "start_time": "2023-03-30T12:22:57.009Z"
    }
   },
   "outputs": [
    {
     "data": {
      "text/html": [
       "<style>/* Styles used for the Hoogle display in the pager */\n",
       ".hoogle-doc {\n",
       "display: block;\n",
       "padding-bottom: 1.3em;\n",
       "padding-left: 0.4em;\n",
       "}\n",
       ".hoogle-code {\n",
       "display: block;\n",
       "font-family: monospace;\n",
       "white-space: pre;\n",
       "}\n",
       ".hoogle-text {\n",
       "display: block;\n",
       "}\n",
       ".hoogle-name {\n",
       "color: green;\n",
       "font-weight: bold;\n",
       "}\n",
       ".hoogle-head {\n",
       "font-weight: bold;\n",
       "}\n",
       ".hoogle-sub {\n",
       "display: block;\n",
       "margin-left: 0.4em;\n",
       "}\n",
       ".hoogle-package {\n",
       "font-weight: bold;\n",
       "font-style: italic;\n",
       "}\n",
       ".hoogle-module {\n",
       "font-weight: bold;\n",
       "}\n",
       ".hoogle-class {\n",
       "font-weight: bold;\n",
       "}\n",
       ".get-type {\n",
       "color: green;\n",
       "font-weight: bold;\n",
       "font-family: monospace;\n",
       "display: block;\n",
       "white-space: pre-wrap;\n",
       "}\n",
       ".show-type {\n",
       "color: green;\n",
       "font-weight: bold;\n",
       "font-family: monospace;\n",
       "margin-left: 1em;\n",
       "}\n",
       ".mono {\n",
       "font-family: monospace;\n",
       "display: block;\n",
       "}\n",
       ".err-msg {\n",
       "color: red;\n",
       "font-style: italic;\n",
       "font-family: monospace;\n",
       "white-space: pre;\n",
       "display: block;\n",
       "}\n",
       "#unshowable {\n",
       "color: red;\n",
       "font-weight: bold;\n",
       "}\n",
       ".err-msg.in.collapse {\n",
       "padding-top: 0.7em;\n",
       "}\n",
       ".highlight-code {\n",
       "white-space: pre;\n",
       "font-family: monospace;\n",
       "}\n",
       ".suggestion-warning { \n",
       "font-weight: bold;\n",
       "color: rgb(200, 130, 0);\n",
       "}\n",
       ".suggestion-error { \n",
       "font-weight: bold;\n",
       "color: red;\n",
       "}\n",
       ".suggestion-name {\n",
       "font-weight: bold;\n",
       "}\n",
       "</style><span class='get-type'>mult :: forall {t1} {t2}. (Eq t1, Num t1, Num t2) => t2 -> t1 -> t2</span>"
      ],
      "text/plain": [
       "mult :: forall {t1} {t2}. (Eq t1, Num t1, Num t2) => t2 -> t1 -> t2"
      ]
     },
     "metadata": {},
     "output_type": "display_data"
    },
    {
     "data": {
      "text/plain": [
       "15"
      ]
     },
     "metadata": {},
     "output_type": "display_data"
    }
   ],
   "source": [
    "mult x = iter (+ x) 0\n",
    ":t mult\n",
    "mult 3 5"
   ]
  },
  {
   "cell_type": "code",
   "execution_count": 63,
   "metadata": {
    "ExecuteTime": {
     "end_time": "2023-03-30T12:27:25.404147Z",
     "start_time": "2023-03-30T12:27:23.287Z"
    }
   },
   "outputs": [],
   "source": [
    "ifib n = let f (x,y) = (y, x+y)\n",
    "             (a,b) = iter f (0,1) n\n",
    "         in b"
   ]
  },
  {
   "cell_type": "code",
   "execution_count": 69,
   "metadata": {
    "ExecuteTime": {
     "end_time": "2023-03-30T12:27:52.407789Z",
     "start_time": "2023-03-30T12:27:50.188Z"
    }
   },
   "outputs": [
    {
     "data": {
      "text/plain": [
       "573147844013817084101"
      ]
     },
     "metadata": {},
     "output_type": "display_data"
    }
   ],
   "source": [
    "ifib 100"
   ]
  },
  {
   "cell_type": "code",
   "execution_count": 73,
   "metadata": {
    "ExecuteTime": {
     "end_time": "2023-03-30T12:32:23.160153Z",
     "start_time": "2023-03-30T12:32:21.043Z"
    }
   },
   "outputs": [
    {
     "data": {
      "text/html": [
       "<style>/* Styles used for the Hoogle display in the pager */\n",
       ".hoogle-doc {\n",
       "display: block;\n",
       "padding-bottom: 1.3em;\n",
       "padding-left: 0.4em;\n",
       "}\n",
       ".hoogle-code {\n",
       "display: block;\n",
       "font-family: monospace;\n",
       "white-space: pre;\n",
       "}\n",
       ".hoogle-text {\n",
       "display: block;\n",
       "}\n",
       ".hoogle-name {\n",
       "color: green;\n",
       "font-weight: bold;\n",
       "}\n",
       ".hoogle-head {\n",
       "font-weight: bold;\n",
       "}\n",
       ".hoogle-sub {\n",
       "display: block;\n",
       "margin-left: 0.4em;\n",
       "}\n",
       ".hoogle-package {\n",
       "font-weight: bold;\n",
       "font-style: italic;\n",
       "}\n",
       ".hoogle-module {\n",
       "font-weight: bold;\n",
       "}\n",
       ".hoogle-class {\n",
       "font-weight: bold;\n",
       "}\n",
       ".get-type {\n",
       "color: green;\n",
       "font-weight: bold;\n",
       "font-family: monospace;\n",
       "display: block;\n",
       "white-space: pre-wrap;\n",
       "}\n",
       ".show-type {\n",
       "color: green;\n",
       "font-weight: bold;\n",
       "font-family: monospace;\n",
       "margin-left: 1em;\n",
       "}\n",
       ".mono {\n",
       "font-family: monospace;\n",
       "display: block;\n",
       "}\n",
       ".err-msg {\n",
       "color: red;\n",
       "font-style: italic;\n",
       "font-family: monospace;\n",
       "white-space: pre;\n",
       "display: block;\n",
       "}\n",
       "#unshowable {\n",
       "color: red;\n",
       "font-weight: bold;\n",
       "}\n",
       ".err-msg.in.collapse {\n",
       "padding-top: 0.7em;\n",
       "}\n",
       ".highlight-code {\n",
       "white-space: pre;\n",
       "font-family: monospace;\n",
       "}\n",
       ".suggestion-warning { \n",
       "font-weight: bold;\n",
       "color: rgb(200, 130, 0);\n",
       "}\n",
       ".suggestion-error { \n",
       "font-weight: bold;\n",
       "color: red;\n",
       "}\n",
       ".suggestion-name {\n",
       "font-weight: bold;\n",
       "}\n",
       "</style><div class=\"suggestion-name\" style=\"clear:both;\">Avoid lambda</div><div class=\"suggestion-row\" style=\"float: left;\"><div class=\"suggestion-warning\">Found:</div><div class=\"highlight-code\" id=\"haskell\">\\ y -> (not (comp x y))</div></div><div class=\"suggestion-row\" style=\"float: left;\"><div class=\"suggestion-warning\">Why Not:</div><div class=\"highlight-code\" id=\"haskell\">not . comp x</div></div><div class=\"suggestion-name\" style=\"clear:both;\">Redundant bracket</div><div class=\"suggestion-row\" style=\"float: left;\"><div class=\"suggestion-warning\">Found:</div><div class=\"highlight-code\" id=\"haskell\">\\ y -> (not (comp x y))</div></div><div class=\"suggestion-row\" style=\"float: left;\"><div class=\"suggestion-warning\">Why Not:</div><div class=\"highlight-code\" id=\"haskell\">\\ y -> not (comp x y)</div></div>"
      ],
      "text/plain": [
       "Line 2: Avoid lambda\n",
       "Found:\n",
       "\\ y -> (not (comp x y))\n",
       "Why not:\n",
       "not . comp xLine 2: Redundant bracket\n",
       "Found:\n",
       "\\ y -> (not (comp x y))\n",
       "Why not:\n",
       "\\ y -> not (comp x y)"
      ]
     },
     "metadata": {},
     "output_type": "display_data"
    }
   ],
   "source": [
    "qsort _ [] = []\n",
    "qsort comp (x:rest) = qsort comp (filter (comp x) rest) ++ x : qsort comp (filter (\\y->(not (comp x y))) rest)"
   ]
  },
  {
   "cell_type": "code",
   "execution_count": 74,
   "metadata": {
    "ExecuteTime": {
     "end_time": "2023-03-30T12:32:38.046315Z",
     "start_time": "2023-03-30T12:32:35.801Z"
    }
   },
   "outputs": [
    {
     "data": {
      "text/plain": [
       "[90,9,8,8,7,7,6,5,5,5,4,1]"
      ]
     },
     "metadata": {},
     "output_type": "display_data"
    }
   ],
   "source": [
    "qsort (<) [1,7,5,6,8,90,5,4,5,7,8,9]"
   ]
  },
  {
   "cell_type": "code",
   "execution_count": 75,
   "metadata": {
    "ExecuteTime": {
     "end_time": "2023-03-30T12:32:47.893502Z",
     "start_time": "2023-03-30T12:32:45.667Z"
    }
   },
   "outputs": [
    {
     "data": {
      "text/plain": [
       "[1,4,5,5,5,6,7,7,8,8,9,90]"
      ]
     },
     "metadata": {},
     "output_type": "display_data"
    }
   ],
   "source": [
    "qsort (>) [1,7,5,6,8,90,5,4,5,7,8,9]"
   ]
  },
  {
   "cell_type": "code",
   "execution_count": null,
   "metadata": {},
   "outputs": [],
   "source": []
  }
 ],
 "metadata": {
  "celltoolbar": "Slideshow",
  "kernelspec": {
   "display_name": "Haskell",
   "language": "haskell",
   "name": "haskell"
  },
  "language_info": {
   "codemirror_mode": "ihaskell",
   "file_extension": ".hs",
   "mimetype": "text/x-haskell",
   "name": "haskell",
   "pygments_lexer": "Haskell",
   "version": "9.6.4"
  },
  "toc": {
   "base_numbering": 1,
   "nav_menu": {},
   "number_sections": true,
   "sideBar": true,
   "skip_h1_title": false,
   "title_cell": "Table of Contents",
   "title_sidebar": "Contents",
   "toc_cell": false,
   "toc_position": {
    "height": "calc(100% - 180px)",
    "left": "10px",
    "top": "150px",
    "width": "165px"
   },
   "toc_section_display": "block",
   "toc_window_display": false
  }
 },
 "nbformat": 4,
 "nbformat_minor": 4
}
